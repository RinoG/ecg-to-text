{
 "cells": [
  {
   "cell_type": "markdown",
   "source": [
    "# ISIBrnoAIMT Encoder with Attention Decoder\n",
    "\n",
    "Encoder was taken from the winner of the [Will Two Do?](https://physionet.org/content/challenge-2021/1.0.3/sources/) challenge [ISIBrnoAIMT](https://www.cinc.org/archives/2021/pdf/CinC2021-014.pdf)\n",
    "Decoder was taken from the [sequence to sequence tutorial](https://pytorch.org/tutorials/intermediate/seq2seq_translation_tutorial.html) from Pytorch."
   ],
   "metadata": {
    "collapsed": false
   },
   "id": "a195e52a52decb2a"
  },
  {
   "cell_type": "code",
   "outputs": [],
   "source": [
    "import pickle\n",
    "import os\n",
    "import sys\n",
    "import torch\n",
    "import pandas as pd\n",
    "from sklearn.metrics import f1_score, jaccard_score, confusion_matrix, precision_score, recall_score, accuracy_score\n",
    "\n",
    "from models.m04_EcgToText_ISIBrnoAIMT.dataset import *\n",
    "from models.m04_EcgToText_ISIBrnoAIMT.model import *\n",
    "from models.m04_EcgToText_ISIBrnoAIMT.train import *"
   ],
   "metadata": {
    "collapsed": true,
    "ExecuteTime": {
     "end_time": "2024-05-15T08:56:42.475575Z",
     "start_time": "2024-05-15T08:56:39.034389Z"
    }
   },
   "id": "initial_id",
   "execution_count": 1
  },
  {
   "cell_type": "code",
   "outputs": [],
   "source": [
    "os.chdir('..')"
   ],
   "metadata": {
    "collapsed": false,
    "ExecuteTime": {
     "end_time": "2024-05-15T08:56:42.490525Z",
     "start_time": "2024-05-15T08:56:42.476575Z"
    }
   },
   "id": "5b78b990737513dc",
   "execution_count": 2
  },
  {
   "cell_type": "markdown",
   "source": [
    "### Train"
   ],
   "metadata": {
    "collapsed": false
   },
   "id": "e9d10629ccf53312"
  },
  {
   "cell_type": "code",
   "outputs": [
    {
     "data": {
      "text/plain": "(NN(\n   (conv): Conv2d(12, 256, kernel_size=(1, 15), stride=(1, 2), padding=(0, 7), bias=False)\n   (bn): BatchNorm2d(256, eps=1e-05, momentum=0.1, affine=True, track_running_stats=True)\n   (rb_0): MyResidualBlock(\n     (conv1): Conv2d(256, 256, kernel_size=(1, 9), stride=(1, 2), padding=(0, 4), bias=False)\n     (bn1): BatchNorm2d(256, eps=1e-05, momentum=0.1, affine=True, track_running_stats=True)\n     (conv2): Conv2d(256, 256, kernel_size=(1, 9), stride=(1, 1), padding=(0, 4), bias=False)\n     (bn2): BatchNorm2d(256, eps=1e-05, momentum=0.1, affine=True, track_running_stats=True)\n     (idfunc_0): AvgPool2d(kernel_size=(1, 2), stride=(1, 2), padding=0)\n     (idfunc_1): Conv2d(256, 256, kernel_size=(1, 1), stride=(1, 1), bias=False)\n   )\n   (rb_1): MyResidualBlock(\n     (conv1): Conv2d(256, 256, kernel_size=(1, 9), stride=(1, 2), padding=(0, 4), bias=False)\n     (bn1): BatchNorm2d(256, eps=1e-05, momentum=0.1, affine=True, track_running_stats=True)\n     (conv2): Conv2d(256, 256, kernel_size=(1, 9), stride=(1, 1), padding=(0, 4), bias=False)\n     (bn2): BatchNorm2d(256, eps=1e-05, momentum=0.1, affine=True, track_running_stats=True)\n     (idfunc_0): AvgPool2d(kernel_size=(1, 2), stride=(1, 2), padding=0)\n     (idfunc_1): Conv2d(256, 256, kernel_size=(1, 1), stride=(1, 1), bias=False)\n   )\n   (rb_2): MyResidualBlock(\n     (conv1): Conv2d(256, 256, kernel_size=(1, 9), stride=(1, 2), padding=(0, 4), bias=False)\n     (bn1): BatchNorm2d(256, eps=1e-05, momentum=0.1, affine=True, track_running_stats=True)\n     (conv2): Conv2d(256, 256, kernel_size=(1, 9), stride=(1, 1), padding=(0, 4), bias=False)\n     (bn2): BatchNorm2d(256, eps=1e-05, momentum=0.1, affine=True, track_running_stats=True)\n     (idfunc_0): AvgPool2d(kernel_size=(1, 2), stride=(1, 2), padding=0)\n     (idfunc_1): Conv2d(256, 256, kernel_size=(1, 1), stride=(1, 1), bias=False)\n   )\n   (rb_3): MyResidualBlock(\n     (conv1): Conv2d(256, 256, kernel_size=(1, 9), stride=(1, 2), padding=(0, 4), bias=False)\n     (bn1): BatchNorm2d(256, eps=1e-05, momentum=0.1, affine=True, track_running_stats=True)\n     (conv2): Conv2d(256, 256, kernel_size=(1, 9), stride=(1, 1), padding=(0, 4), bias=False)\n     (bn2): BatchNorm2d(256, eps=1e-05, momentum=0.1, affine=True, track_running_stats=True)\n     (idfunc_0): AvgPool2d(kernel_size=(1, 2), stride=(1, 2), padding=0)\n     (idfunc_1): Conv2d(256, 256, kernel_size=(1, 1), stride=(1, 1), bias=False)\n   )\n   (rb_4): MyResidualBlock(\n     (conv1): Conv2d(256, 256, kernel_size=(1, 9), stride=(1, 2), padding=(0, 4), bias=False)\n     (bn1): BatchNorm2d(256, eps=1e-05, momentum=0.1, affine=True, track_running_stats=True)\n     (conv2): Conv2d(256, 256, kernel_size=(1, 9), stride=(1, 1), padding=(0, 4), bias=False)\n     (bn2): BatchNorm2d(256, eps=1e-05, momentum=0.1, affine=True, track_running_stats=True)\n     (idfunc_0): AvgPool2d(kernel_size=(1, 2), stride=(1, 2), padding=0)\n     (idfunc_1): Conv2d(256, 256, kernel_size=(1, 1), stride=(1, 1), bias=False)\n   )\n   (mha): MultiheadAttention(\n     (out_proj): NonDynamicallyQuantizableLinear(in_features=256, out_features=256, bias=True)\n   )\n   (hidden_transform): Linear(in_features=16, out_features=256, bias=True)\n ),\n AttnDecoderRNN(\n   (embedding): Embedding(2788, 256)\n   (attention): BahdanauAttention(\n     (Wa): Linear(in_features=256, out_features=256, bias=True)\n     (Ua): Linear(in_features=256, out_features=256, bias=True)\n     (Va): Linear(in_features=256, out_features=1, bias=True)\n   )\n   (gru): GRU(512, 256, batch_first=True)\n   (out): Linear(in_features=256, out_features=2788, bias=True)\n   (dropout): Dropout(p=0.1, inplace=False)\n ))"
     },
     "execution_count": 3,
     "metadata": {},
     "output_type": "execute_result"
    }
   ],
   "source": [
    "torch.manual_seed(42)\n",
    "\n",
    "device = torch.device(\"cuda\" if torch.cuda.is_available() else \"cpu\")\n",
    "\n",
    "language, dataloader = get_dataloader(file_path='./data_ptb-xl', batch_size=64, mode='train', device=device)\n",
    "_, val_dataloader = get_dataloader(file_path='./data_ptb-xl', batch_size=64, mode='val', device=device, _lang=language)\n",
    "\n",
    "n_epochs=50\n",
    "hidden_size = 256\n",
    "criterion = nn.NLLLoss()\n",
    "\n",
    "encoder = NN(num_leads=12, hidden_size=hidden_size).to(device)\n",
    "decoder = AttnDecoderRNN(hidden_size=hidden_size, output_size=language.n_words, max_len=language.max_len).to(device)\n",
    "\n",
    "encoder, decoder"
   ],
   "metadata": {
    "collapsed": false,
    "ExecuteTime": {
     "end_time": "2024-05-15T08:57:26.092193Z",
     "start_time": "2024-05-15T08:56:42.491520Z"
    }
   },
   "id": "7b8bfda8657afe70",
   "execution_count": 3
  },
  {
   "cell_type": "code",
   "outputs": [
    {
     "name": "stdout",
     "output_type": "stream",
     "text": [
      "0m 29s (- 24m 17s) (1 2.0%) | Train Loss: 0.8271 | Val Loss: 1.9763 | Jaccard: 0.0018 | F1: 0.0025 | \n",
      "\tRouge-1 (p): 0.4161 | Rouge-1 (r): 0.5798 | Rouge-1 (f1): 0.4451\n",
      "\tRouge-2 (p): 0.29 | Rouge-2 (r): 0.3708 | Rouge-2 (f1): 0.2938\n",
      "\tRouge-L (p): 0.4156 | Rouge-L (r): 0.5788 | Rouge-L (f1): 0.4445\n",
      "\tMETEOR: 0.3096\n",
      "0m 57s (- 22m 52s) (2 4.0%) | Train Loss: 0.3249 | Val Loss: 2.109 | Jaccard: 0.0044 | F1: 0.0069 | \n",
      "\tRouge-1 (p): 0.4966 | Rouge-1 (r): 0.5372 | Rouge-1 (f1): 0.4875\n",
      "\tRouge-2 (p): 0.3512 | Rouge-2 (r): 0.3601 | Rouge-2 (f1): 0.3326\n",
      "\tRouge-L (p): 0.4942 | Rouge-L (r): 0.5342 | Rouge-L (f1): 0.4849\n",
      "\tMETEOR: 0.3879\n",
      "1m 24s (- 22m 8s) (3 6.0%) | Train Loss: 0.2533 | Val Loss: 2.3466 | Jaccard: 0.0057 | F1: 0.0091 | \n",
      "\tRouge-1 (p): 0.4881 | Rouge-1 (r): 0.544 | Rouge-1 (f1): 0.4856\n",
      "\tRouge-2 (p): 0.3427 | Rouge-2 (r): 0.3757 | Rouge-2 (f1): 0.3359\n",
      "\tRouge-L (p): 0.4861 | Rouge-L (r): 0.5416 | Rouge-L (f1): 0.4835\n",
      "\tMETEOR: 0.3711\n",
      "1m 52s (- 21m 31s) (4 8.0%) | Train Loss: 0.2213 | Val Loss: 2.4413 | Jaccard: 0.0066 | F1: 0.0104 | \n",
      "\tRouge-1 (p): 0.4855 | Rouge-1 (r): 0.6193 | Rouge-1 (f1): 0.5158\n",
      "\tRouge-2 (p): 0.3503 | Rouge-2 (r): 0.4423 | Rouge-2 (f1): 0.368\n",
      "\tRouge-L (p): 0.4824 | Rouge-L (r): 0.6158 | Rouge-L (f1): 0.5128\n",
      "\tMETEOR: 0.387\n",
      "2m 19s (- 20m 59s) (5 10.0%) | Train Loss: 0.1994 | Val Loss: 2.5467 | Jaccard: 0.0077 | F1: 0.0123 | \n",
      "\tRouge-1 (p): 0.5037 | Rouge-1 (r): 0.6065 | Rouge-1 (f1): 0.5204\n",
      "\tRouge-2 (p): 0.3637 | Rouge-2 (r): 0.4321 | Rouge-2 (f1): 0.3704\n",
      "\tRouge-L (p): 0.5012 | Rouge-L (r): 0.6037 | Rouge-L (f1): 0.5179\n",
      "\tMETEOR: 0.3925\n",
      "2m 47s (- 20m 29s) (6 12.0%) | Train Loss: 0.1831 | Val Loss: 2.6042 | Jaccard: 0.0083 | F1: 0.0132 | \n",
      "\tRouge-1 (p): 0.5511 | Rouge-1 (r): 0.5487 | Rouge-1 (f1): 0.5204\n",
      "\tRouge-2 (p): 0.4048 | Rouge-2 (r): 0.3946 | Rouge-2 (f1): 0.3758\n",
      "\tRouge-L (p): 0.5473 | Rouge-L (r): 0.5453 | Rouge-L (f1): 0.517\n",
      "\tMETEOR: 0.445\n",
      "3m 15s (- 19m 59s) (7 14.0%) | Train Loss: 0.1703 | Val Loss: 2.6936 | Jaccard: 0.009 | F1: 0.014 | \n",
      "\tRouge-1 (p): 0.54 | Rouge-1 (r): 0.591 | Rouge-1 (f1): 0.5379\n",
      "\tRouge-2 (p): 0.3915 | Rouge-2 (r): 0.4251 | Rouge-2 (f1): 0.3869\n",
      "\tRouge-L (p): 0.5367 | Rouge-L (r): 0.5876 | Rouge-L (f1): 0.5347\n",
      "\tMETEOR: 0.433\n",
      "3m 43s (- 19m 30s) (8 16.0%) | Train Loss: 0.1616 | Val Loss: 2.843 | Jaccard: 0.0099 | F1: 0.0157 | \n",
      "\tRouge-1 (p): 0.5329 | Rouge-1 (r): 0.5619 | Rouge-1 (f1): 0.5196\n",
      "\tRouge-2 (p): 0.3822 | Rouge-2 (r): 0.4021 | Rouge-2 (f1): 0.3697\n",
      "\tRouge-L (p): 0.5294 | Rouge-L (r): 0.5583 | Rouge-L (f1): 0.5162\n",
      "\tMETEOR: 0.4141\n",
      "4m 10s (- 19m 2s) (9 18.0%) | Train Loss: 0.1529 | Val Loss: 3.0357 | Jaccard: 0.0098 | F1: 0.0158 | \n",
      "\tRouge-1 (p): 0.5059 | Rouge-1 (r): 0.5059 | Rouge-1 (f1): 0.4752\n",
      "\tRouge-2 (p): 0.3447 | Rouge-2 (r): 0.3507 | Rouge-2 (f1): 0.3242\n",
      "\tRouge-L (p): 0.5033 | Rouge-L (r): 0.5034 | Rouge-L (f1): 0.4728\n",
      "\tMETEOR: 0.348\n",
      "4m 38s (- 18m 33s) (10 20.0%) | Train Loss: 0.1449 | Val Loss: 2.8084 | Jaccard: 0.0088 | F1: 0.014 | \n",
      "\tRouge-1 (p): 0.5469 | Rouge-1 (r): 0.4908 | Rouge-1 (f1): 0.4922\n",
      "\tRouge-2 (p): 0.3766 | Rouge-2 (r): 0.3404 | Rouge-2 (f1): 0.3384\n",
      "\tRouge-L (p): 0.5422 | Rouge-L (r): 0.4859 | Rouge-L (f1): 0.4877\n",
      "\tMETEOR: 0.4292\n",
      "5m 5s (- 18m 4s) (11 22.0%) | Train Loss: 0.1392 | Val Loss: 2.6095 | Jaccard: 0.0129 | F1: 0.0199 | \n",
      "\tRouge-1 (p): 0.5527 | Rouge-1 (r): 0.6149 | Rouge-1 (f1): 0.5558\n",
      "\tRouge-2 (p): 0.4094 | Rouge-2 (r): 0.449 | Rouge-2 (f1): 0.4064\n",
      "\tRouge-L (p): 0.5497 | Rouge-L (r): 0.6114 | Rouge-L (f1): 0.5528\n",
      "\tMETEOR: 0.4539\n",
      "5m 33s (- 17m 36s) (12 24.0%) | Train Loss: 0.1334 | Val Loss: 2.867 | Jaccard: 0.0113 | F1: 0.0175 | \n",
      "\tRouge-1 (p): 0.5665 | Rouge-1 (r): 0.5987 | Rouge-1 (f1): 0.5555\n",
      "\tRouge-2 (p): 0.4251 | Rouge-2 (r): 0.443 | Rouge-2 (f1): 0.4125\n",
      "\tRouge-L (p): 0.5623 | Rouge-L (r): 0.5945 | Rouge-L (f1): 0.5516\n",
      "\tMETEOR: 0.4682\n",
      "6m 1s (- 17m 8s) (13 26.0%) | Train Loss: 0.1287 | Val Loss: 2.9789 | Jaccard: 0.0112 | F1: 0.0174 | \n",
      "\tRouge-1 (p): 0.577 | Rouge-1 (r): 0.5854 | Rouge-1 (f1): 0.5541\n",
      "\tRouge-2 (p): 0.4263 | Rouge-2 (r): 0.4244 | Rouge-2 (f1): 0.4037\n",
      "\tRouge-L (p): 0.5724 | Rouge-L (r): 0.5809 | Rouge-L (f1): 0.5498\n",
      "\tMETEOR: 0.4706\n",
      "6m 29s (- 16m 40s) (14 28.0%) | Train Loss: 0.1241 | Val Loss: 2.9883 | Jaccard: 0.0104 | F1: 0.0165 | \n",
      "\tRouge-1 (p): 0.5682 | Rouge-1 (r): 0.5651 | Rouge-1 (f1): 0.5397\n",
      "\tRouge-2 (p): 0.4163 | Rouge-2 (r): 0.4077 | Rouge-2 (f1): 0.3901\n",
      "\tRouge-L (p): 0.564 | Rouge-L (r): 0.5611 | Rouge-L (f1): 0.5358\n",
      "\tMETEOR: 0.4567\n",
      "6m 56s (- 16m 12s) (15 30.0%) | Train Loss: 0.1199 | Val Loss: 2.874 | Jaccard: 0.0122 | F1: 0.0192 | \n",
      "\tRouge-1 (p): 0.5468 | Rouge-1 (r): 0.6294 | Rouge-1 (f1): 0.557\n",
      "\tRouge-2 (p): 0.413 | Rouge-2 (r): 0.4615 | Rouge-2 (f1): 0.412\n",
      "\tRouge-L (p): 0.544 | Rouge-L (r): 0.6264 | Rouge-L (f1): 0.5543\n",
      "\tMETEOR: 0.4559\n",
      "7m 24s (- 15m 44s) (16 32.0%) | Train Loss: 0.1155 | Val Loss: 2.9461 | Jaccard: 0.0125 | F1: 0.0196 | \n",
      "\tRouge-1 (p): 0.5735 | Rouge-1 (r): 0.594 | Rouge-1 (f1): 0.5588\n",
      "\tRouge-2 (p): 0.4251 | Rouge-2 (r): 0.4393 | Rouge-2 (f1): 0.4128\n",
      "\tRouge-L (p): 0.5698 | Rouge-L (r): 0.5901 | Rouge-L (f1): 0.5553\n",
      "\tMETEOR: 0.4739\n",
      "7m 51s (- 15m 16s) (17 34.0%) | Train Loss: 0.1133 | Val Loss: 2.9675 | Jaccard: 0.0125 | F1: 0.0193 | \n",
      "\tRouge-1 (p): 0.5622 | Rouge-1 (r): 0.6108 | Rouge-1 (f1): 0.559\n",
      "\tRouge-2 (p): 0.4207 | Rouge-2 (r): 0.4518 | Rouge-2 (f1): 0.4139\n",
      "\tRouge-L (p): 0.558 | Rouge-L (r): 0.6065 | Rouge-L (f1): 0.555\n",
      "\tMETEOR: 0.4612\n",
      "8m 19s (- 14m 47s) (18 36.0%) | Train Loss: 0.1106 | Val Loss: 2.9915 | Jaccard: 0.0141 | F1: 0.022 | \n",
      "\tRouge-1 (p): 0.5736 | Rouge-1 (r): 0.6168 | Rouge-1 (f1): 0.567\n",
      "\tRouge-2 (p): 0.4343 | Rouge-2 (r): 0.4586 | Rouge-2 (f1): 0.4239\n",
      "\tRouge-L (p): 0.5698 | Rouge-L (r): 0.6129 | Rouge-L (f1): 0.5633\n",
      "\tMETEOR: 0.4786\n",
      "8m 47s (- 14m 19s) (19 38.0%) | Train Loss: 0.1067 | Val Loss: 3.0979 | Jaccard: 0.014 | F1: 0.0218 | \n",
      "\tRouge-1 (p): 0.5428 | Rouge-1 (r): 0.621 | Rouge-1 (f1): 0.5534\n",
      "\tRouge-2 (p): 0.4032 | Rouge-2 (r): 0.4638 | Rouge-2 (f1): 0.4106\n",
      "\tRouge-L (p): 0.5395 | Rouge-L (r): 0.6173 | Rouge-L (f1): 0.5502\n",
      "\tMETEOR: 0.4284\n",
      "9m 14s (- 13m 51s) (20 40.0%) | Train Loss: 0.104 | Val Loss: 2.9816 | Jaccard: 0.012 | F1: 0.0187 | \n",
      "\tRouge-1 (p): 0.5431 | Rouge-1 (r): 0.6407 | Rouge-1 (f1): 0.5626\n",
      "\tRouge-2 (p): 0.4101 | Rouge-2 (r): 0.4749 | Rouge-2 (f1): 0.4189\n",
      "\tRouge-L (p): 0.54 | Rouge-L (r): 0.6371 | Rouge-L (f1): 0.5594\n",
      "\tMETEOR: 0.4528\n",
      "9m 42s (- 13m 23s) (21 42.0%) | Train Loss: 0.1013 | Val Loss: 3.1604 | Jaccard: 0.0142 | F1: 0.0223 | \n",
      "\tRouge-1 (p): 0.581 | Rouge-1 (r): 0.6078 | Rouge-1 (f1): 0.5688\n",
      "\tRouge-2 (p): 0.4399 | Rouge-2 (r): 0.4575 | Rouge-2 (f1): 0.4283\n",
      "\tRouge-L (p): 0.5769 | Rouge-L (r): 0.6039 | Rouge-L (f1): 0.565\n",
      "\tMETEOR: 0.4848\n",
      "10m 9s (- 12m 55s) (22 44.0%) | Train Loss: 0.0988 | Val Loss: 3.1029 | Jaccard: 0.0134 | F1: 0.0209 | \n",
      "\tRouge-1 (p): 0.5458 | Rouge-1 (r): 0.6323 | Rouge-1 (f1): 0.5592\n",
      "\tRouge-2 (p): 0.4091 | Rouge-2 (r): 0.475 | Rouge-2 (f1): 0.4183\n",
      "\tRouge-L (p): 0.5427 | Rouge-L (r): 0.629 | Rouge-L (f1): 0.5561\n",
      "\tMETEOR: 0.452\n",
      "10m 37s (- 12m 28s) (23 46.0%) | Train Loss: 0.0975 | Val Loss: 3.1262 | Jaccard: 0.0138 | F1: 0.0214 | \n",
      "\tRouge-1 (p): 0.5595 | Rouge-1 (r): 0.6316 | Rouge-1 (f1): 0.5685\n",
      "\tRouge-2 (p): 0.4188 | Rouge-2 (r): 0.4688 | Rouge-2 (f1): 0.4224\n",
      "\tRouge-L (p): 0.5556 | Rouge-L (r): 0.6274 | Rouge-L (f1): 0.5647\n",
      "\tMETEOR: 0.4516\n",
      "11m 4s (- 12m 0s) (24 48.0%) | Train Loss: 0.095 | Val Loss: 3.202 | Jaccard: 0.0144 | F1: 0.0226 | \n",
      "\tRouge-1 (p): 0.5583 | Rouge-1 (r): 0.6173 | Rouge-1 (f1): 0.5596\n",
      "\tRouge-2 (p): 0.418 | Rouge-2 (r): 0.4616 | Rouge-2 (f1): 0.4175\n",
      "\tRouge-L (p): 0.5554 | Rouge-L (r): 0.6144 | Rouge-L (f1): 0.5569\n",
      "\tMETEOR: 0.4619\n",
      "11m 32s (- 11m 32s) (25 50.0%) | Train Loss: 0.093 | Val Loss: 3.1256 | Jaccard: 0.014 | F1: 0.0215 | \n",
      "\tRouge-1 (p): 0.5753 | Rouge-1 (r): 0.6208 | Rouge-1 (f1): 0.5713\n",
      "\tRouge-2 (p): 0.4372 | Rouge-2 (r): 0.4661 | Rouge-2 (f1): 0.4304\n",
      "\tRouge-L (p): 0.5717 | Rouge-L (r): 0.6168 | Rouge-L (f1): 0.5678\n",
      "\tMETEOR: 0.4867\n",
      "11m 59s (- 11m 4s) (26 52.0%) | Train Loss: 0.0902 | Val Loss: 3.1719 | Jaccard: 0.0138 | F1: 0.0215 | \n",
      "\tRouge-1 (p): 0.5629 | Rouge-1 (r): 0.6343 | Rouge-1 (f1): 0.5697\n",
      "\tRouge-2 (p): 0.4277 | Rouge-2 (r): 0.4737 | Rouge-2 (f1): 0.4276\n",
      "\tRouge-L (p): 0.5596 | Rouge-L (r): 0.6307 | Rouge-L (f1): 0.5665\n",
      "\tMETEOR: 0.4731\n",
      "12m 27s (- 10m 36s) (27 54.0%) | Train Loss: 0.0886 | Val Loss: 3.2882 | Jaccard: 0.0137 | F1: 0.0212 | \n",
      "\tRouge-1 (p): 0.5925 | Rouge-1 (r): 0.5807 | Rouge-1 (f1): 0.5615\n",
      "\tRouge-2 (p): 0.4444 | Rouge-2 (r): 0.4314 | Rouge-2 (f1): 0.4179\n",
      "\tRouge-L (p): 0.5881 | Rouge-L (r): 0.5762 | Rouge-L (f1): 0.5572\n",
      "\tMETEOR: 0.4959\n",
      "12m 55s (- 10m 9s) (28 56.0%) | Train Loss: 0.0874 | Val Loss: 3.6093 | Jaccard: 0.0155 | F1: 0.0239 | \n",
      "\tRouge-1 (p): 0.5859 | Rouge-1 (r): 0.5782 | Rouge-1 (f1): 0.5561\n",
      "\tRouge-2 (p): 0.4385 | Rouge-2 (r): 0.4351 | Rouge-2 (f1): 0.4163\n",
      "\tRouge-L (p): 0.582 | Rouge-L (r): 0.5749 | Rouge-L (f1): 0.5527\n",
      "\tMETEOR: 0.4914\n",
      "13m 22s (- 9m 41s) (29 58.0%) | Train Loss: 0.085 | Val Loss: 3.3475 | Jaccard: 0.0156 | F1: 0.0241 | \n",
      "\tRouge-1 (p): 0.572 | Rouge-1 (r): 0.6267 | Rouge-1 (f1): 0.5737\n",
      "\tRouge-2 (p): 0.4315 | Rouge-2 (r): 0.4748 | Rouge-2 (f1): 0.4328\n",
      "\tRouge-L (p): 0.5685 | Rouge-L (r): 0.6232 | Rouge-L (f1): 0.5703\n",
      "\tMETEOR: 0.4801\n",
      "13m 50s (- 9m 13s) (30 60.0%) | Train Loss: 0.0843 | Val Loss: 3.2624 | Jaccard: 0.015 | F1: 0.0232 | \n",
      "\tRouge-1 (p): 0.5653 | Rouge-1 (r): 0.6351 | Rouge-1 (f1): 0.5729\n",
      "\tRouge-2 (p): 0.4269 | Rouge-2 (r): 0.4801 | Rouge-2 (f1): 0.432\n",
      "\tRouge-L (p): 0.5617 | Rouge-L (r): 0.6312 | Rouge-L (f1): 0.5693\n",
      "\tMETEOR: 0.4724\n",
      "14m 18s (- 8m 45s) (31 62.0%) | Train Loss: 0.0821 | Val Loss: 3.5035 | Jaccard: 0.0143 | F1: 0.0224 | \n",
      "\tRouge-1 (p): 0.5696 | Rouge-1 (r): 0.605 | Rouge-1 (f1): 0.5605\n",
      "\tRouge-2 (p): 0.4301 | Rouge-2 (r): 0.4563 | Rouge-2 (f1): 0.4219\n",
      "\tRouge-L (p): 0.5664 | Rouge-L (r): 0.6016 | Rouge-L (f1): 0.5574\n",
      "\tMETEOR: 0.4724\n",
      "14m 45s (- 8m 18s) (32 64.0%) | Train Loss: 0.0806 | Val Loss: 3.3501 | Jaccard: 0.0146 | F1: 0.0229 | \n",
      "\tRouge-1 (p): 0.5751 | Rouge-1 (r): 0.6264 | Rouge-1 (f1): 0.5743\n",
      "\tRouge-2 (p): 0.4392 | Rouge-2 (r): 0.474 | Rouge-2 (f1): 0.4347\n",
      "\tRouge-L (p): 0.571 | Rouge-L (r): 0.6223 | Rouge-L (f1): 0.5704\n",
      "\tMETEOR: 0.49\n",
      "No improvement in bleu score for 5 consecutive epochs. Stopping early.\n"
     ]
    }
   ],
   "source": [
    "torch.manual_seed(42)\n",
    "\n",
    "train(dataloader, val_dataloader, encoder, decoder, criterion, language, n_epochs)"
   ],
   "metadata": {
    "collapsed": false,
    "ExecuteTime": {
     "end_time": "2024-05-15T09:12:11.492592Z",
     "start_time": "2024-05-15T08:57:26.093137Z"
    }
   },
   "id": "6f2c429e46a162ef",
   "execution_count": 4
  },
  {
   "cell_type": "code",
   "outputs": [],
   "source": [
    "# save parameters\n",
    "# torch.save(encoder.state_dict(), './models/m04_EcgToText_ISIBrnoAIMT/saved_models/Encoder.pth')\n",
    "# torch.save(decoder.state_dict(), './models/m04_EcgToText_ISIBrnoAIMT/saved_models/Decoder.pth')"
   ],
   "metadata": {
    "collapsed": false,
    "ExecuteTime": {
     "end_time": "2024-05-15T09:12:11.508539Z",
     "start_time": "2024-05-15T09:12:11.493585Z"
    }
   },
   "id": "c86b66276e81e7ef",
   "execution_count": 5
  },
  {
   "cell_type": "code",
   "outputs": [
    {
     "data": {
      "text/plain": "<All keys matched successfully>"
     },
     "execution_count": 6,
     "metadata": {},
     "output_type": "execute_result"
    }
   ],
   "source": [
    "# load parameters\n",
    "hidden_size = 256\n",
    "\n",
    "encoder = NN(num_leads=12, hidden_size=hidden_size).to(device)\n",
    "decoder = AttnDecoderRNN(hidden_size=hidden_size, output_size=language.n_words, max_len=language.max_len).to(device)\n",
    "\n",
    "encoder.load_state_dict(torch.load('./models/m04_EcgToText_ISIBrnoAIMT/saved_models/Encoder.pth'))\n",
    "decoder.load_state_dict(torch.load('./models/m04_EcgToText_ISIBrnoAIMT/saved_models/Decoder.pth'))"
   ],
   "metadata": {
    "collapsed": false,
    "ExecuteTime": {
     "end_time": "2024-05-15T09:12:11.817717Z",
     "start_time": "2024-05-15T09:12:11.509532Z"
    }
   },
   "id": "60dbbbcfc31e7246",
   "execution_count": 6
  },
  {
   "cell_type": "markdown",
   "source": [
    "### Test"
   ],
   "metadata": {
    "collapsed": false
   },
   "id": "13d46327f50a1c27"
  },
  {
   "cell_type": "code",
   "outputs": [
    {
     "name": "stdout",
     "output_type": "stream",
     "text": [
      "Test Loss:    2.7337\n",
      "F1:           0.045\n",
      "Jaccard:      0.0312\n",
      "Rouge-1 (p):  0.705\n",
      "Rouge-1 (r):  0.695\n",
      "Rouge-1 (f1): 0.681\n",
      "Rouge-2 (p):  0.58\n",
      "Rouge-2 (r):  0.568\n",
      "Rouge-2 (f1): 0.557\n",
      "Rouge-L (p):  0.702\n",
      "Rouge-L (r):  0.692\n",
      "Rouge-L (f1): 0.678\n",
      "METEOR:       0.6263\n"
     ]
    }
   ],
   "source": [
    "_, test_dataloader = get_dataloader(file_path='./data_ptb-xl', batch_size=64, mode='test', device=device, _lang=language)\n",
    "\n",
    "total_loss, f1, jaccard, rouge, meteor = validate_epoch(dataloader, encoder, decoder, criterion, language)\n",
    "\n",
    "print(f'Test Loss:    {round(total_loss, 4)}')\n",
    "print(f'F1:           {round(f1, 4)}')\n",
    "print(f'Jaccard:      {round(jaccard, 4)}')\n",
    "print(f'Rouge-1 (p):  {round(rouge[\"rouge-1\"][\"p\"], 3)}')\n",
    "print(f'Rouge-1 (r):  {round(rouge[\"rouge-1\"][\"r\"], 3)}')\n",
    "print(f'Rouge-1 (f1): {round(rouge[\"rouge-1\"][\"f\"], 3)}')\n",
    "print(f'Rouge-2 (p):  {round(rouge[\"rouge-2\"][\"p\"], 3)}')\n",
    "print(f'Rouge-2 (r):  {round(rouge[\"rouge-2\"][\"r\"], 3)}')\n",
    "print(f'Rouge-2 (f1): {round(rouge[\"rouge-2\"][\"f\"], 3)}')\n",
    "print(f'Rouge-L (p):  {round(rouge[\"rouge-l\"][\"p\"], 3)}')\n",
    "print(f'Rouge-L (r):  {round(rouge[\"rouge-l\"][\"r\"], 3)}')\n",
    "print(f'Rouge-L (f1): {round(rouge[\"rouge-l\"][\"f\"], 3)}')\n",
    "print(f'METEOR:       {round(meteor, 4)}')"
   ],
   "metadata": {
    "collapsed": false,
    "ExecuteTime": {
     "end_time": "2024-05-15T09:12:42.734925Z",
     "start_time": "2024-05-15T09:12:11.818714Z"
    }
   },
   "id": "ed2cc96a1ba41a5",
   "execution_count": 7
  },
  {
   "cell_type": "code",
   "outputs": [
    {
     "name": "stdout",
     "output_type": "stream",
     "text": [
      "= sinus tachycardia left type qrs(t) abnormal lateral myocardial damage cannot be excluded\n",
      "< sinus tachycardia position type normal st &amp; t abnormal, probably anterolateral ischemia or left strain\n",
      "\n",
      "= sinus bradycardia <unk> pacemaker left type left bundle branch block ventricular hypertrophy pathological\n",
      "< sinus bradycardia left type complete left bundle branch block st elevation in v1-4 t neg in ii,iii,avf,v5,6 pathological ecg\n",
      "\n",
      "= sinus rhythm. left axis deviation. left anterior fascicular block. st segments are elevated in v2,3. t waves are inverted in i, ii, v4,5,6 with terminal inversion in v3. findings are likely to be due to ischaemic heart  disease and may represent <unk> edit: injas, injal, lafb, (injal 100, lafb)\n",
      "< sinus rhythm. left axis deviation. left anterior fascicular block. t waves are inverted in i, avl, v3,4,5 and flat in v6. findings are likely to be due to ischaemic heart    disease. the age of the changes is uncertain.\n",
      "\n",
      "= sinus rhythm position type normal amplitude criteria for left hypertrophy\n",
      "< sinus rhythm position type normal normal ecg\n",
      "\n",
      "= sinus rhythm left type qrs(t) abnormal anterior infarction age undetermined 4.46 unconfirmed report\n",
      "< sinus arrhythmia hyperrotated left type qrs(t) abnormal anterior infarction old undetermined inferior infarction probable old t abnormal in lateral leads 4.46 unconfirmed report\n",
      "\n",
      "= sinus rhythm left electrical axis <unk> leads rs transition shifted right st decrease, possibly caused by high lateral subendocardial myocardial affection qt prolonged\n",
      "< sinus rhythm. left ventricular hypertrophy. st segments are depressed and t waves inverted in i,    avl, v4,5,6. this may be due to lv strain or ischaemia.\n",
      "\n",
      "= sinus rhythm left type otherwise normal ecg\n",
      "< sinus rhythm left type otherwise normal ecg\n",
      "\n",
      "= sinus rhythm. qs complexes in v2,3,4. q waves in i, avl, v5,6. st segments are elevated in v2-5. consistent with anterior and lateral myocardial  infarction, probably old. persistent st segment elevation may indicate a ventricular aneurysm.\n",
      "< sinus rhythm left type qrs(t) abnormal anterior infarction age undetermined inferior infarction probable old t abnormal in high lateral leads\n",
      "\n",
      "= sinus rhythm left type qrs(t) abnormal inferior infarction probably old\n",
      "< sinus rhythm left type qrs(t) abnormal inferior infarction probable old\n",
      "\n",
      "= sinus rhythm. no definite pathology.\n",
      "< sinus rhythm position type normal qrs(t) abnormal inferior infarction probable old\n",
      "\n",
      "= sinus rhythm. borderline left axis deviation. normal ecg.\n",
      "< sinus rhythm left type otherwise normal ecg\n",
      "\n",
      "= sinus rhythm suspected p-sinistrocardiale hyperrotated left type\n",
      "< sinus rhythm left type qrs(t) abnormal inferior infarction probably old\n",
      "\n",
      "= trace only requested.\n",
      "< sinus rhythm left type qrs(t) abnormal inferior infarction age undetermined\n",
      "\n",
      "= sinus rhythm. normal ecg.\n",
      "< sinus rhythm. normal ecg.\n",
      "\n",
      "= mlt sr normal ecg <unk> from <unk> atrial flutter 2:1 to 4:1 pathological ecg\n",
      "< sinus rhythm position type normal normal ecg\n",
      "\n",
      "= sinus rhythm overrotated left type 4.46 unconfirmed report\n",
      "< sinus rhythm hyperexcited left type peripheral low voltage qrs(t) abnormal anteroseptal myocardial damage possible inferior infarction probable old 4.46 unconfirmed report\n",
      "\n",
      "= sinus rhythm. normal ecg.\n",
      "< sinus rhythm position type normal normal ecg\n",
      "\n",
      "= sinus rhythm pr interval is slightly prolonged. otherwise normal ecg.\n",
      "< sinus rhythm. normal ecg.\n",
      "\n",
      "= sinus rhythm flat t-waves anterolaterally somewhat prolonged qt time\n",
      "< sinus rhythm position type normal t abnormal in anterior leads qt prolongation\n",
      "\n",
      "= sinus rhythm. t waves are flat in ii, v6 and inverted in iii, avf. non-specific but consistent with inferolateral myocardial ischaemia. the age of the changes is uncertain.\n",
      "< sinus rhythm left type qrs(t) abnormal inferior infarction probably old\n",
      "\n",
      "= sinus rhythm. normal ecg.\n",
      "< sinus bradycardia position type normal intraventricular conduction disturbance iii, v3 poor r- progression v1 -v3 t- changes neg. t in v1, high in v1, high lateral infarction ecg pathological\n",
      "\n",
      "= pacemaker spikes noted. a regular paced rhythm is present. apparently normal pacemaker function. abnormal nature of complexes obscures further    interpretation.\n",
      "< pacemaker spikes noted. a regular paced rhythm is present. apparently normal pacemaker function. abnormal nature of complexes obscures further    interpretation.\n",
      "\n",
      "= sinus rhythm qrs(t) abnormal septal infarction cannot be excluded\n",
      "< sinus rhythm position type normal normal ecg\n",
      "\n",
      "= sinus rhythm of block in layer type normal\n",
      "< sinus rhythm of block in the left electrical axis nonspecific t-change\n",
      "\n",
      "= sinus rhythm position type normal normal ecg\n",
      "< sinus rhythm position type normal normal ecg\n",
      "\n",
      "= premature atrial contraction(s). sinus rhythm. left axis deviation. left anterior fascicular block. non-specific intraventricular delay. left ventricular hypertrophy. q waves in v2,3 suggesting old anteroseptal infarct. st segments are depressed in i, avl\n",
      "< premature atrial contraction(s). sinus rhythm. left axis deviation. left anterior fascicular block. voltages are high in limb leads suggesting lvh. st segments are depressed in i, avl. t waves are inverted in i, avl and flat in v4,5,6. this may be due to lv strain or ischaemia.\n",
      "\n",
      "= sinus rhythm respiratory arrhythmia chronic anteroseptal infarction certain t negative in <unk> t terminal negative in v6 q in v1-v3\n",
      "< sinus rhythm position type normal qrs(t) abnormal anterior infarction age undetermined high lateral infarction possible t abnormal in anterior leads lateral leads inferolateral leads\n",
      "\n",
      "= sinus rhythm position type normal normal ecg\n",
      "< sinus rhythm position type normal normal ecg\n",
      "\n",
      "= trace only requested.\n",
      "< sinus rhythm. q waves in ii, iii, avf consistent with old inferior    myocardial infarction.\n",
      "\n",
      "= sinus rhythm. normal ecg.\n",
      "< sinus rhythm. normal ecg.\n",
      "\n",
      "= sinus rhythm old anteroseptal infarction discordant t-wave in avl, as in high lateral myocardial affection.\n",
      "< sinus rhythm. st segments are depressed in i, avl. t waves are flat in i and inverted in avl. this may be due to lv strain or ischaemia.\n",
      "\n",
      "= sinus rhythm position type normal normal ecg\n",
      "< sinus rhythm position type normal normal ecg\n",
      "\n",
      "= sinus rhythm. normal ecg.\n",
      "< sinus rhythm. normal ecg.\n",
      "\n",
      "= sinus rhythm. normal ecg.\n",
      "< sinus rhythm left type otherwise normal ecg\n",
      "\n",
      "= sinus arrhythmia nonspecific t-change\n",
      "< sinus arrhythmia position type normal nonspecific abnormal t\n",
      "\n",
      "= sinus rhythm normal ecg\n",
      "< sinus rhythm position type normal normal ecg\n",
      "\n",
      "= sinus arrhythmia. normal ecg.\n",
      "< sinus arrhythmia position type normal otherwise normal ecg\n",
      "\n",
      "= sinus rhythm p-widening left type st &amp; t abnormal, probably high lateral ischemia or left strain\n",
      "< sinus rhythm left type qrs(t) abnormal anteroseptal myocardial damage possible st &amp; t abnormal, probably high lateral ischemia or left strain\n",
      "\n",
      "= sinus rhythm. left axis deviation. low limb lead voltage. no definite pathology.\n",
      "< sinus rhythm. left axis deviation. left anterior fascicular block.\n",
      "\n",
      "= sinus rhythm position type normal normal ecg\n",
      "< sinus rhythm position type normal normal ecg\n",
      "\n",
      "= sinus rhythm position type normal normal ecg\n",
      "< sinus rhythm position type normal normal ecg\n",
      "\n",
      "= sinus rhythm normal ecg\n",
      "< sinus rhythm position type normal normal ecg\n",
      "\n",
      "= atrial fibrillation. st segments are depressed in v4,5,6. t waves are low or flat in limb leads and v4,5,6. findings are likely to be due to ischaemic heart  disease and digitalis effect. possible old inferior myocardial infarction.\n",
      "< atrial fibrillation. st segments are depressed in i, ii, avl, avf, v2-6. t waves are low or flat throughout. findings are likely to be due to ischaemic heart  disease and digitalis effect. suggest exclude hypokalaemia.\n",
      "\n",
      "= pacemaker <unk> label derived from: <unk> <unk> 100.0, <unk> 15.0, <unk> 100.0, <unk> 100.0, <unk> 0.0}\n",
      "< premature ventricular contraction(s). sinus rhythm. left axis deviation. left anterior fascicular block. qs complexes in v2,3 consistent with old anteroseptal    myocardial infarction. st segments are depressed in i, avl, v6. t waves are inverted in i, avl and flat in i\n",
      "\n",
      "= sinus rhythm normal ecg\n",
      "< sinus rhythm position type normal normal ecg\n",
      "\n",
      "= premature atrial contraction(s). sinus rhythm. minor non-specific st segment depression in v4,5,6.\n",
      "< premature atrial contraction(s). sinus rhythm. otherwise normal ecg.\n",
      "\n",
      "= ventricular extrasystole(s) sinus rhythm p-sinistrocardiale position type normal incomplete right bundle branch block\n",
      "< premature ventricular contraction(s). sinus rhythm. incomplete right bundle branch block.\n",
      "\n",
      "= sinus rhythm position type normal ventricular hypertrophy rvh t neg in <unk> <unk> prolonged <unk> path. ecg\n",
      "< atrial fibrillation with rapid ventricular response. right bundle branch block.\n",
      "\n",
      "= premature atrial contraction(s). sinus rhythm. voltages are high in chest leads suggesting lvh.\n",
      "< premature atrial contraction(s). sinus rhythm. otherwise normal ecg.\n",
      "\n",
      "= sinus rhythm normal ecg\n",
      "< sinus rhythm position type normal normal ecg\n",
      "\n",
      "= atrial <unk> with fast ventricular response. <unk> heart query respiratory disease. no ecg evidence of ischaemia.\n",
      "< atrial fibrillation with rapid ventricular response. st segments are depressed in i, ii, avl, v4,5,6. t waves are inverted in i, ii, avl, v4,5,6. findings are likely to be due to ischaemic heart    disease. the age of the changes is uncertain.\n",
      "\n",
      "= pacemaker ecg 4.46 unconfirmed report\n",
      "< atrial fibrillation/flutter left type nonspecific intraventricular block qrs(t) abnormal anteroseptal infarction possible acute 4.46 unconfirmed report\n",
      "\n",
      "= sinus bradycardia. otherwise normal ecg. the bradycardia may be physiological.\n",
      "< sinus bradycardia position type normal otherwise normal ecg\n",
      "\n",
      "= sinus rhythm. voltages in limb leads are at upper limit. st segments are slightly depressed in i, avl, v5,6. this may be due to lv strain or ischaemia.\n",
      "< sinus rhythm. q waves in ii, iii, avf. st segments are depressed in i, ii, avl, v5,6. t waves are low or flat in limb leads and v5,6. consistent with ischaemic heart disease with old inferior myocardial infarction.\n",
      "\n",
      "= sinus rhythm left type otherwise normal ecg\n",
      "< sinus rhythm left type otherwise normal ecg\n",
      "\n",
      "= sinus rhythm left type st elevation in v1-2 st depression in i,avl t neg in v4-6\n",
      "< sinus rhythm left type st &amp; t abnormal, probably anterolateral ischemia or left strain\n",
      "\n",
      "= sinus rhythm position type normal moderate amplitude criteria for left hypertrophy st &amp; t abnormal, probably anterolateral ischemia or left strain inferolateral ischemia or left strain\n",
      "< sinus rhythm position type normal qrs(t) abnormal anteroseptal infarction probable old st &amp; t abnormal, probable anterolateral ischemia or left strain inferolateral ischemia or left strain\n",
      "\n",
      "= sinus rhythm normal ecg\n",
      "< sinus rhythm position type normal normal ecg\n",
      "\n",
      "= sinus rhythm. left atrial enlargement. left ventricular hypertrophy. st segments are depressed in i, ii, avl, v5,6. this may be due to lv strain or ischaemia.\n",
      "< sinus rhythm. voltages are high in chest leads suggesting lvh. st segments are depressed in i, ii, avl, v4,5,6. this may be due to lv strain or ischaemia.\n",
      "\n",
      "= sinus rhythm. left axis deviation. left anterior fascicular block. t waves are inverted in ii, iii, avf, v2-5 and low or    flat in i, avl, v6. findings are likely to be due to ischaemic heart    disease. the age of the changes is uncertain. prolonged qt,\n",
      "< sinus rhythm. left axis deviation. left anterior fascicular block. t waves are inverted in i, avl, v3,4,5 and flat in i, avl. findings are likely to be due to ischaemic heart    disease. the age of the changes is uncertain.\n",
      "\n",
      "= sinus rhythm suspected p-sinistrocardiale overrotated left type rs transition in v leads shifted to the right incomplete right bundle branch block qrs(t) abnormal anteroseptal myocardial damage possible\n",
      "< sinus rhythm hyperexcited left type left anterior hemiblock incomplete right bundle branch block qrs(t) abnormal anteroseptal myocardial damage possible\n",
      "\n",
      "= sinus rhythm left type otherwise normal ecg\n",
      "< sinus rhythm left type peripheral low voltage\n",
      "\n",
      "= sinus rhythm. voltages are high in limb leads suggesting lvh. minor non-specific t wave flattening in v2,3.\n",
      "< sinus rhythm. normal ecg.\n",
      "\n",
      "= sinus rhythm position type normal normal ecg\n",
      "< sinus rhythm position type normal qrs(t) abnormal anteroseptal infarction probable old\n"
     ]
    }
   ],
   "source": [
    "encoder.eval()\n",
    "decoder.eval()\n",
    "print_first_n_target_prediction(test_dataloader, encoder, decoder, language)"
   ],
   "metadata": {
    "collapsed": false,
    "ExecuteTime": {
     "end_time": "2024-05-15T09:12:43.104732Z",
     "start_time": "2024-05-15T09:12:42.735923Z"
    }
   },
   "id": "c750b26df2dcd005",
   "execution_count": 8
  },
  {
   "cell_type": "code",
   "outputs": [],
   "source": [],
   "metadata": {
    "collapsed": false,
    "ExecuteTime": {
     "start_time": "2024-05-15T08:55:42.437865Z"
    }
   },
   "id": "db8d0fe68802ee3c",
   "execution_count": null
  }
 ],
 "metadata": {
  "kernelspec": {
   "display_name": "Python 3",
   "language": "python",
   "name": "python3"
  },
  "language_info": {
   "codemirror_mode": {
    "name": "ipython",
    "version": 2
   },
   "file_extension": ".py",
   "mimetype": "text/x-python",
   "name": "python",
   "nbconvert_exporter": "python",
   "pygments_lexer": "ipython2",
   "version": "2.7.6"
  }
 },
 "nbformat": 4,
 "nbformat_minor": 5
}
