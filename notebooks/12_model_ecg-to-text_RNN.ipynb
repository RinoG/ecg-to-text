{
 "cells": [
  {
   "cell_type": "markdown",
   "source": [
    "# RNN Encoder with Attention Decoder\n",
    "Encoder and Decoder was taken from the [sequence to sequence tutorial](https://pytorch.org/tutorials/intermediate/seq2seq_translation_tutorial.html) from Pytorch."
   ],
   "metadata": {
    "collapsed": false
   },
   "id": "a195e52a52decb2a"
  },
  {
   "cell_type": "code",
   "outputs": [],
   "source": [
    "import pickle\n",
    "import os\n",
    "import sys\n",
    "import torch\n",
    "import pandas as pd\n",
    "from sklearn.metrics import f1_score, jaccard_score, confusion_matrix, precision_score, recall_score, accuracy_score\n",
    "\n",
    "from models.m03_EcgToText_RNN.dataset import *\n",
    "from models.m03_EcgToText_RNN.model import *\n",
    "from models.m03_EcgToText_RNN.train import *"
   ],
   "metadata": {
    "collapsed": true,
    "ExecuteTime": {
     "end_time": "2024-05-15T07:26:44.298354Z",
     "start_time": "2024-05-15T07:26:40.812779Z"
    }
   },
   "id": "initial_id",
   "execution_count": 1
  },
  {
   "cell_type": "code",
   "outputs": [],
   "source": [
    "os.chdir('..')"
   ],
   "metadata": {
    "collapsed": false,
    "ExecuteTime": {
     "end_time": "2024-05-15T07:26:44.313589Z",
     "start_time": "2024-05-15T07:26:44.299353Z"
    }
   },
   "id": "5b78b990737513dc",
   "execution_count": 2
  },
  {
   "cell_type": "markdown",
   "source": [
    "## Simple RNN Encoder\n",
    "\n",
    "### Train"
   ],
   "metadata": {
    "collapsed": false
   },
   "id": "e9d10629ccf53312"
  },
  {
   "cell_type": "code",
   "outputs": [
    {
     "data": {
      "text/plain": "(SimpleEncoderRNN(\n   (gru): GRU(12, 256, batch_first=True)\n   (dropout): Dropout(p=0.1, inplace=False)\n ),\n AttnDecoderRNN(\n   (embedding): Embedding(2787, 256)\n   (attention): BahdanauAttention(\n     (Wa): Linear(in_features=256, out_features=256, bias=True)\n     (Ua): Linear(in_features=256, out_features=256, bias=True)\n     (Va): Linear(in_features=256, out_features=1, bias=True)\n   )\n   (gru): GRU(512, 256, batch_first=True)\n   (out): Linear(in_features=256, out_features=2787, bias=True)\n   (dropout): Dropout(p=0.1, inplace=False)\n ))"
     },
     "execution_count": 3,
     "metadata": {},
     "output_type": "execute_result"
    }
   ],
   "source": [
    "torch.manual_seed(42)\n",
    "\n",
    "device = torch.device(\"cuda\" if torch.cuda.is_available() else \"cpu\")\n",
    "\n",
    "language, dataloader = get_dataloader(file_path='./data_ptb-xl', batch_size=64, mode='train', device=device)\n",
    "_, val_dataloader = get_dataloader(file_path='./data_ptb-xl', batch_size=64, mode='val', device=device, _lang=language)\n",
    "\n",
    "n_epochs=50\n",
    "hidden_size = 256\n",
    "criterion = nn.NLLLoss()\n",
    "\n",
    "encoder = SimpleEncoderRNN(input_size=12, hidden_size=hidden_size).to(device)\n",
    "decoder = AttnDecoderRNN(hidden_size=hidden_size, output_size=language.n_words, max_len=language.max_len).to(device)\n",
    "\n",
    "encoder, decoder"
   ],
   "metadata": {
    "collapsed": false,
    "ExecuteTime": {
     "end_time": "2024-05-15T07:29:17.661414Z",
     "start_time": "2024-05-15T07:26:44.314586Z"
    }
   },
   "id": "7b8bfda8657afe70",
   "execution_count": 3
  },
  {
   "cell_type": "code",
   "outputs": [
    {
     "name": "stdout",
     "output_type": "stream",
     "text": [
      "2m 30s (- 122m 43s) (1 2.0%) | Train Loss: 0.6629 | Val Loss: 2.0492 | Jaccard: 0.1379 | F1: 0.1698 | \n",
      "\tRouge-1 (p): 0.4138 | Rouge-1 (r): 0.5537 | Rouge-1 (f1): 0.4404\n",
      "\tRouge-2 (p): 0.2808 | Rouge-2 (r): 0.3325 | Rouge-2 (f1): 0.2805\n",
      "\tRouge-L (p): 0.4133 | Rouge-L (r): 0.5528 | Rouge-L (f1): 0.4398\n",
      "\tMETEOR: 0.3039\n",
      "5m 0s (- 120m 3s) (2 4.0%) | Train Loss: 0.2866 | Val Loss: 2.3245 | Jaccard: 0.1735 | F1: 0.2245 | \n",
      "\tRouge-1 (p): 0.4599 | Rouge-1 (r): 0.3804 | Rouge-1 (f1): 0.3882\n",
      "\tRouge-2 (p): 0.3212 | Rouge-2 (r): 0.2418 | Rouge-2 (f1): 0.2549\n",
      "\tRouge-L (p): 0.4584 | Rouge-L (r): 0.3784 | Rouge-L (f1): 0.3866\n",
      "\tMETEOR: 0.333\n",
      "7m 28s (- 116m 59s) (3 6.0%) | Train Loss: 0.2448 | Val Loss: 2.3634 | Jaccard: 0.1887 | F1: 0.2445 | \n",
      "\tRouge-1 (p): 0.4644 | Rouge-1 (r): 0.496 | Rouge-1 (f1): 0.4481\n",
      "\tRouge-2 (p): 0.3323 | Rouge-2 (r): 0.3322 | Rouge-2 (f1): 0.3077\n",
      "\tRouge-L (p): 0.4629 | Rouge-L (r): 0.4938 | Rouge-L (f1): 0.4464\n",
      "\tMETEOR: 0.3527\n",
      "9m 56s (- 114m 17s) (4 8.0%) | Train Loss: 0.2185 | Val Loss: 2.4502 | Jaccard: 0.2186 | F1: 0.2926 | \n",
      "\tRouge-1 (p): 0.4915 | Rouge-1 (r): 0.5221 | Rouge-1 (f1): 0.4701\n",
      "\tRouge-2 (p): 0.3624 | Rouge-2 (r): 0.3632 | Rouge-2 (f1): 0.3333\n",
      "\tRouge-L (p): 0.4902 | Rouge-L (r): 0.5205 | Rouge-L (f1): 0.4687\n",
      "\tMETEOR: 0.3826\n",
      "12m 26s (- 112m 1s) (5 10.0%) | Train Loss: 0.1976 | Val Loss: 2.4971 | Jaccard: 0.2283 | F1: 0.3125 | \n",
      "\tRouge-1 (p): 0.4739 | Rouge-1 (r): 0.6113 | Rouge-1 (f1): 0.4995\n",
      "\tRouge-2 (p): 0.344 | Rouge-2 (r): 0.4259 | Rouge-2 (f1): 0.3519\n",
      "\tRouge-L (p): 0.4722 | Rouge-L (r): 0.6094 | Rouge-L (f1): 0.4978\n",
      "\tMETEOR: 0.3588\n",
      "14m 55s (- 109m 28s) (6 12.0%) | Train Loss: 0.1809 | Val Loss: 2.5598 | Jaccard: 0.2573 | F1: 0.3518 | \n",
      "\tRouge-1 (p): 0.5242 | Rouge-1 (r): 0.5661 | Rouge-1 (f1): 0.5127\n",
      "\tRouge-2 (p): 0.3854 | Rouge-2 (r): 0.4005 | Rouge-2 (f1): 0.3673\n",
      "\tRouge-L (p): 0.5216 | Rouge-L (r): 0.5638 | Rouge-L (f1): 0.5104\n",
      "\tMETEOR: 0.4138\n",
      "17m 24s (- 106m 59s) (7 14.0%) | Train Loss: 0.1676 | Val Loss: 2.5408 | Jaccard: 0.2731 | F1: 0.3738 | \n",
      "\tRouge-1 (p): 0.5289 | Rouge-1 (r): 0.5875 | Rouge-1 (f1): 0.5272\n",
      "\tRouge-2 (p): 0.3883 | Rouge-2 (r): 0.4217 | Rouge-2 (f1): 0.38\n",
      "\tRouge-L (p): 0.5258 | Rouge-L (r): 0.5843 | Rouge-L (f1): 0.5243\n",
      "\tMETEOR: 0.4204\n",
      "19m 53s (- 104m 24s) (8 16.0%) | Train Loss: 0.1563 | Val Loss: 2.6072 | Jaccard: 0.2847 | F1: 0.3886 | \n",
      "\tRouge-1 (p): 0.5473 | Rouge-1 (r): 0.5777 | Rouge-1 (f1): 0.534\n",
      "\tRouge-2 (p): 0.4034 | Rouge-2 (r): 0.4127 | Rouge-2 (f1): 0.3846\n",
      "\tRouge-L (p): 0.5446 | Rouge-L (r): 0.5748 | Rouge-L (f1): 0.5314\n",
      "\tMETEOR: 0.4348\n",
      "22m 21s (- 101m 52s) (9 18.0%) | Train Loss: 0.1459 | Val Loss: 2.9363 | Jaccard: 0.2748 | F1: 0.3808 | \n",
      "\tRouge-1 (p): 0.5199 | Rouge-1 (r): 0.5671 | Rouge-1 (f1): 0.511\n",
      "\tRouge-2 (p): 0.3688 | Rouge-2 (r): 0.4038 | Rouge-2 (f1): 0.361\n",
      "\tRouge-L (p): 0.5168 | Rouge-L (r): 0.5644 | Rouge-L (f1): 0.5083\n",
      "\tMETEOR: 0.3886\n",
      "24m 50s (- 99m 22s) (10 20.0%) | Train Loss: 0.1362 | Val Loss: 2.7368 | Jaccard: 0.2933 | F1: 0.4029 | \n",
      "\tRouge-1 (p): 0.5406 | Rouge-1 (r): 0.5894 | Rouge-1 (f1): 0.5362\n",
      "\tRouge-2 (p): 0.3951 | Rouge-2 (r): 0.4251 | Rouge-2 (f1): 0.3867\n",
      "\tRouge-L (p): 0.5371 | Rouge-L (r): 0.5857 | Rouge-L (f1): 0.5328\n",
      "\tMETEOR: 0.427\n",
      "27m 19s (- 96m 53s) (11 22.0%) | Train Loss: 0.1284 | Val Loss: 2.7422 | Jaccard: 0.3028 | F1: 0.4145 | \n",
      "\tRouge-1 (p): 0.5532 | Rouge-1 (r): 0.593 | Rouge-1 (f1): 0.5441\n",
      "\tRouge-2 (p): 0.4071 | Rouge-2 (r): 0.4296 | Rouge-2 (f1): 0.3945\n",
      "\tRouge-L (p): 0.5496 | Rouge-L (r): 0.5898 | Rouge-L (f1): 0.5409\n",
      "\tMETEOR: 0.4387\n",
      "29m 48s (- 94m 25s) (12 24.0%) | Train Loss: 0.1215 | Val Loss: 2.8791 | Jaccard: 0.3016 | F1: 0.413 | \n",
      "\tRouge-1 (p): 0.5477 | Rouge-1 (r): 0.6155 | Rouge-1 (f1): 0.5492\n",
      "\tRouge-2 (p): 0.4006 | Rouge-2 (r): 0.447 | Rouge-2 (f1): 0.3982\n",
      "\tRouge-L (p): 0.5444 | Rouge-L (r): 0.6126 | Rouge-L (f1): 0.5463\n",
      "\tMETEOR: 0.427\n",
      "32m 17s (- 91m 53s) (13 26.0%) | Train Loss: 0.115 | Val Loss: 2.8756 | Jaccard: 0.309 | F1: 0.4224 | \n",
      "\tRouge-1 (p): 0.5575 | Rouge-1 (r): 0.5951 | Rouge-1 (f1): 0.5488\n",
      "\tRouge-2 (p): 0.4097 | Rouge-2 (r): 0.4343 | Rouge-2 (f1): 0.4004\n",
      "\tRouge-L (p): 0.5535 | Rouge-L (r): 0.5915 | Rouge-L (f1): 0.5452\n",
      "\tMETEOR: 0.4427\n",
      "34m 44s (- 89m 20s) (14 28.0%) | Train Loss: 0.1092 | Val Loss: 2.7575 | Jaccard: 0.316 | F1: 0.4276 | \n",
      "\tRouge-1 (p): 0.5637 | Rouge-1 (r): 0.6084 | Rouge-1 (f1): 0.5592\n",
      "\tRouge-2 (p): 0.4208 | Rouge-2 (r): 0.4499 | Rouge-2 (f1): 0.4138\n",
      "\tRouge-L (p): 0.5602 | Rouge-L (r): 0.6052 | Rouge-L (f1): 0.556\n",
      "\tMETEOR: 0.4521\n",
      "37m 11s (- 86m 47s) (15 30.0%) | Train Loss: 0.1039 | Val Loss: 2.9768 | Jaccard: 0.3109 | F1: 0.4251 | \n",
      "\tRouge-1 (p): 0.5611 | Rouge-1 (r): 0.5964 | Rouge-1 (f1): 0.5516\n",
      "\tRouge-2 (p): 0.4116 | Rouge-2 (r): 0.4324 | Rouge-2 (f1): 0.4004\n",
      "\tRouge-L (p): 0.5576 | Rouge-L (r): 0.5932 | Rouge-L (f1): 0.5484\n",
      "\tMETEOR: 0.4436\n",
      "39m 39s (- 84m 15s) (16 32.0%) | Train Loss: 0.0989 | Val Loss: 2.8809 | Jaccard: 0.3159 | F1: 0.4316 | \n",
      "\tRouge-1 (p): 0.5657 | Rouge-1 (r): 0.5952 | Rouge-1 (f1): 0.5535\n",
      "\tRouge-2 (p): 0.4154 | Rouge-2 (r): 0.4377 | Rouge-2 (f1): 0.405\n",
      "\tRouge-L (p): 0.5616 | Rouge-L (r): 0.5913 | Rouge-L (f1): 0.5497\n",
      "\tMETEOR: 0.4465\n",
      "42m 6s (- 81m 43s) (17 34.0%) | Train Loss: 0.095 | Val Loss: 3.0441 | Jaccard: 0.311 | F1: 0.4249 | \n",
      "\tRouge-1 (p): 0.5576 | Rouge-1 (r): 0.5942 | Rouge-1 (f1): 0.5495\n",
      "\tRouge-2 (p): 0.4065 | Rouge-2 (r): 0.4339 | Rouge-2 (f1): 0.3991\n",
      "\tRouge-L (p): 0.554 | Rouge-L (r): 0.5909 | Rouge-L (f1): 0.5462\n",
      "\tMETEOR: 0.4405\n",
      "44m 33s (- 79m 12s) (18 36.0%) | Train Loss: 0.0908 | Val Loss: 3.1026 | Jaccard: 0.3143 | F1: 0.4303 | \n",
      "\tRouge-1 (p): 0.5618 | Rouge-1 (r): 0.5854 | Rouge-1 (f1): 0.5473\n",
      "\tRouge-2 (p): 0.4131 | Rouge-2 (r): 0.4328 | Rouge-2 (f1): 0.4021\n",
      "\tRouge-L (p): 0.558 | Rouge-L (r): 0.5819 | Rouge-L (f1): 0.5439\n",
      "\tMETEOR: 0.4452\n",
      "47m 0s (- 76m 41s) (19 38.0%) | Train Loss: 0.0869 | Val Loss: 3.0334 | Jaccard: 0.3219 | F1: 0.4387 | \n",
      "\tRouge-1 (p): 0.5622 | Rouge-1 (r): 0.6064 | Rouge-1 (f1): 0.5581\n",
      "\tRouge-2 (p): 0.416 | Rouge-2 (r): 0.4493 | Rouge-2 (f1): 0.4117\n",
      "\tRouge-L (p): 0.5584 | Rouge-L (r): 0.6027 | Rouge-L (f1): 0.5546\n",
      "\tMETEOR: 0.4505\n",
      "No improvement in meteor score for 5 consecutive epochs. Stopping early.\n"
     ]
    }
   ],
   "source": [
    "torch.manual_seed(42)\n",
    "\n",
    "train(dataloader, val_dataloader, encoder, decoder, criterion, language, n_epochs)"
   ],
   "metadata": {
    "collapsed": false,
    "ExecuteTime": {
     "end_time": "2024-05-15T08:16:18.191630Z",
     "start_time": "2024-05-15T07:29:17.663403Z"
    }
   },
   "id": "3e527f54998f2e5",
   "execution_count": 4
  },
  {
   "cell_type": "code",
   "outputs": [],
   "source": [
    "# save parameters\n",
    "# torch.save(encoder.state_dict(), './models/m03_EcgToText_RNN/saved_models/SimpleEncoderRNN.pth')\n",
    "# torch.save(decoder.state_dict(), './models/m03_EcgToText_RNN/saved_models/SimpleDecoderRNN.pth')"
   ],
   "metadata": {
    "collapsed": false,
    "ExecuteTime": {
     "end_time": "2024-05-15T08:16:18.207577Z",
     "start_time": "2024-05-15T08:16:18.192626Z"
    }
   },
   "id": "c86b66276e81e7ef",
   "execution_count": 5
  },
  {
   "cell_type": "code",
   "outputs": [
    {
     "data": {
      "text/plain": "<All keys matched successfully>"
     },
     "execution_count": 7,
     "metadata": {},
     "output_type": "execute_result"
    }
   ],
   "source": [
    "# load parameters\n",
    "hidden_size = 256\n",
    "\n",
    "encoder = SimpleEncoderRNN(input_size=12, hidden_size=hidden_size).to(device)\n",
    "decoder = AttnDecoderRNN(hidden_size=hidden_size, output_size=language.n_words, max_len=language.max_len).to(device)\n",
    "\n",
    "encoder.load_state_dict(torch.load('./models/m03_EcgToText_RNN/saved_models/SimpleEncoderRNN.pth'))\n",
    "decoder.load_state_dict(torch.load('./models/m03_EcgToText_RNN/saved_models/SimpleDecoderRNN.pth'))"
   ],
   "metadata": {
    "collapsed": false,
    "ExecuteTime": {
     "end_time": "2024-05-15T08:27:10.713550Z",
     "start_time": "2024-05-15T08:27:10.629827Z"
    }
   },
   "id": "60dbbbcfc31e7246",
   "execution_count": 7
  },
  {
   "cell_type": "markdown",
   "source": [
    "### Test"
   ],
   "metadata": {
    "collapsed": false
   },
   "id": "13d46327f50a1c27"
  },
  {
   "cell_type": "code",
   "outputs": [
    {
     "name": "stdout",
     "output_type": "stream",
     "text": [
      "Test Loss:    2.37621\n",
      "F1:           0.57021\n",
      "Jaccard:      0.45567\n",
      "Rouge-1 (p):  0.677\n",
      "Rouge-1 (r):  0.718\n",
      "Rouge-1 (f1): 0.677\n",
      "Rouge-2 (p):  0.556\n",
      "Rouge-2 (r):  0.583\n",
      "Rouge-2 (f1): 0.552\n",
      "Rouge-L (p):  0.674\n",
      "Rouge-L (r):  0.715\n",
      "Rouge-L (f1): 0.674\n",
      "METEOR:       0.5851\n"
     ]
    }
   ],
   "source": [
    "_, test_dataloader = get_dataloader(file_path='./data_ptb-xl', batch_size=64, mode='test', device=device, _lang=language)\n",
    "\n",
    "total_loss, f1, jaccard, rouge, meteor = validate_epoch(dataloader, encoder, decoder, criterion, language)\n",
    "\n",
    "print(f'Test Loss:    {round(total_loss, 5)}')\n",
    "print(f'F1:           {round(f1, 5)}')\n",
    "print(f'Jaccard:      {round(jaccard, 5)}')\n",
    "print(f'Rouge-1 (p):  {round(rouge[\"rouge-1\"][\"p\"], 3)}')\n",
    "print(f'Rouge-1 (r):  {round(rouge[\"rouge-1\"][\"r\"], 3)}')\n",
    "print(f'Rouge-1 (f1): {round(rouge[\"rouge-1\"][\"f\"], 3)}')\n",
    "print(f'Rouge-2 (p):  {round(rouge[\"rouge-2\"][\"p\"], 3)}')\n",
    "print(f'Rouge-2 (r):  {round(rouge[\"rouge-2\"][\"r\"], 3)}')\n",
    "print(f'Rouge-2 (f1): {round(rouge[\"rouge-2\"][\"f\"], 3)}')\n",
    "print(f'Rouge-L (p):  {round(rouge[\"rouge-l\"][\"p\"], 3)}')\n",
    "print(f'Rouge-L (r):  {round(rouge[\"rouge-l\"][\"r\"], 3)}')\n",
    "print(f'Rouge-L (f1): {round(rouge[\"rouge-l\"][\"f\"], 3)}')\n",
    "print(f'METEOR:       {round(meteor, 4)}')"
   ],
   "metadata": {
    "collapsed": false,
    "ExecuteTime": {
     "end_time": "2024-05-15T08:28:46.945546Z",
     "start_time": "2024-05-15T08:27:26.337098Z"
    }
   },
   "id": "ed2cc96a1ba41a5",
   "execution_count": 8
  },
  {
   "cell_type": "code",
   "outputs": [
    {
     "name": "stdout",
     "output_type": "stream",
     "text": [
      "= sinus rhythm suspected p-sinistrocardiale position type normal qrs(t) abnormal inferior myocardial damage possible t abnormal in anterior leads lateral leads\n",
      "< sinus rhythm position type normal st &amp; t abnormal, probably anterolateral ischemia or left strain\n",
      "\n",
      "= sinus rhythm. incomplete right bundle branch block. otherwise normal ecg.\n",
      "< sinus rhythm. normal ecg.\n",
      "\n",
      "= sinus rhythm. normal ecg. edit: norm 100, (norm 100)\n",
      "< sinus rhythm position type normal normal ecg\n",
      "\n",
      "= sinus rhythm position type normal normal ecg\n",
      "< sinus rhythm position type normal normal ecg\n",
      "\n",
      "= sinus rhythm. prolonged pr interval. non-specific intraventricular delay. st segments are depressed in i, ii, iii, avf, v4,5,6. t waves are slightly inverted in these leads. this may be due to lv strain or ischaemia.\n",
      "< sinus rhythm av block i position type normal st &amp; t abnormal, probably anterolateral ischemia or left strain inferolateral ischemia or left strain\n",
      "\n",
      "= sinus rhythm position type normal normal ecg 4.46 unconfirmed report\n",
      "< sinus rhythm position type normal normal ecg 4.46 unconfirmed report\n",
      "\n",
      "= sinus rhythm. normal ecg.\n",
      "< sinus rhythm normal ecg\n",
      "\n",
      "= sinus rhythm. normal ecg.\n",
      "< sinus rhythm. normal ecg.\n",
      "\n",
      "= sinus rhythm. qs complexes in v2 suggesting old anteroseptal    myocardial infarction. otherwise normal ecg.\n",
      "< sinus rhythm left type qrs(t) abnormal anteroseptal infarction probably old\n",
      "\n",
      "= sinus rhythm right type otherwise normal ecg\n",
      "< sinus rhythm. normal ecg.\n",
      "\n",
      "= supraventricular extrasystole(s) sinus rhythm hyperrotated left type left anterior hemiblock right bundle branch block bifascicular block\n",
      "< sinus rhythm. left axis deviation. left anterior fascicular block. right bundle branch block. bifascicular block. pr interval is normal.\n",
      "\n",
      "= sinus rhythm. normal ecg.\n",
      "< sinus rhythm. normal ecg.\n",
      "\n",
      "= sinus rhythm normal ecg\n",
      "< sinus rhythm normal ecg\n",
      "\n",
      "= supraventricular tachycardia, left-handed type, complete right bundle branch block, t neg in v1-v3 path. ecg\n",
      "< sinus tachycardia hyperexcited left type left anterior hemiblock right bundle branch block bifascicular block qrs(t) abnormal inferior infarction age undetermined\n",
      "\n",
      "= tachycardic atrial fibrillation left type qrs(t) abnormal anteroseptal infarction age undetermined inferior infarction probable old\n",
      "< premature ventricular contraction(s). atrial fibrillation. low limb lead voltage. incomplete right bundle branch block. non-specific t wave flattening in i and inversion in    avl.\n",
      "\n",
      "= sinus rhythm position type normal normal ecg\n",
      "< sinus rhythm position type normal normal ecg\n",
      "\n",
      "= sinus rhythm position type normal qrs(t) abnormal inferior infarction probable old\n",
      "< sinus rhythm position type normal normal ecg\n",
      "\n",
      "= sinus rhythm right-sided leg block abnormal qrs(t) course inferior myocardial damage should be considered\n",
      "< sinus rhythm. st segments are depressed and t waves inverted in i,    ii, iii, avf, v3-6. this may be due to lv strain or ischaemia.\n",
      "\n",
      "= sinus rhythm difficult to determine qrs-axis t abnormal in anterior leads\n",
      "< sinus rhythm position type normal normal ecg\n",
      "\n",
      "= sinus rhythm. normal ecg.\n",
      "< sinus rhythm normal ecg\n",
      "\n",
      "= sinusrhythmus p-sinistrocardiale lagetyp normal\n",
      "< sinus rhythm position type normal normal ecg\n",
      "\n",
      "= sinus rhythm position type normal normal ecg\n",
      "< sinus rhythm normal ecg\n",
      "\n",
      "= sinus rhythm position type normal normal ecg\n",
      "< sinus rhythm position type normal normal ecg\n",
      "\n",
      "= sinus rhythm left type otherwise normal ecg\n",
      "< sinus rhythm left type otherwise normal ecg\n",
      "\n",
      "= sinusrhythmus lagetyp normal st & t abnormal,  normal\n",
      "< sinus rhythm position type normal st &amp; t abnormal, probably anterolateral ischemia or left strain\n",
      "\n",
      "= ventricular extrasystole(s) sinus rhythm position type normal qrs(t) abnormal inferior infarction possible\n",
      "< premature ventricular contraction(s). sinus rhythm. prolonged pr interval. possible left atrial enlargement. q waves in ii, iii, avf are probably normal. no definite pathology.\n",
      "\n",
      "= sinus rhythm normal ecg\n",
      "< sinus rhythm. normal ecg.\n",
      "\n",
      "= sinus rhythm. normal ecg.\n",
      "< sinus rhythm normal ecg\n",
      "\n",
      "= sinus rhythm llt high r in v2 probably normal ecg\n",
      "< sinus rhythm position type normal normal ecg\n",
      "\n",
      "= sinus rhythm. incomplete right bundle branch block.\n",
      "< sinus rhythm. normal ecg.\n",
      "\n",
      "= sinus rhythm position type normal normal ecg\n",
      "< sinus rhythm position type normal normal ecg\n",
      "\n",
      "= sinus rhythm position type normal normal ecg\n",
      "< sinus rhythm normal ecg\n",
      "\n",
      "= sinus rhythm difficult to determine qrs axis\n",
      "< sinus rhythm overrotated left type rs #transition in v leads shifted to the left left anterior hemiblock\n",
      "\n",
      "= sinus rhythm left type otherwise normal ecg\n",
      "< sinus rhythm position type normal normal ecg\n",
      "\n",
      "= sinus rhythm position type normal normal ecg\n",
      "< sinus rhythm. normal ecg.\n",
      "\n",
      "= sinus rhythm normal ecg\n",
      "< sinus rhythm normal ecg\n",
      "\n",
      "= sinus rhythm. normal ecg. edit: norm 100, (norm 100)\n",
      "< sinus rhythm left type otherwise normal ecg\n",
      "\n",
      "= pacemaker ecg\n",
      "< sinus rhythm hyperrotated left type left bundle branch block 4.46 unconfirmed report\n",
      "\n",
      "= supraventricular extrasystole(s) sinus rhythm position type normal nonspecific intraventricular conduction disturbance left hypertrophy possible qrs(t) abnormal anteroseptal myocardial damage possible\n",
      "< atrial fibrillation with rapid ventricular response. non-specific st-t wave changes.\n",
      "\n",
      "= sinus bradycardia left type intraventricular conduction disturbance iii, l, f t- changes flat in ii ecg probably normal\n",
      "< sinus rhythm left type otherwise normal ecg\n",
      "\n",
      "= sinus rhythm. qs complexes in v2 and tiny r waves in v3 suggesting  old anteroseptal infarct.\n",
      "< sinus rhythm. normal ecg.\n",
      "\n",
      "= premature ventricular contraction(s). sinus rhythm. st segments are depressed in i, v4,5,6. t waves are inverted in i, avl, v5,6. this may be due to lv strain or ischaemia.\n",
      "< premature ventricular contraction(s). sinus rhythm. st segments are depressed in i, ii, avl, avf, v3-6. t waves are inverted in i, avl, v4,5,6. this may be due to lv strain or ischaemia.\n",
      "\n",
      "= sinus rhythm normal ecg\n",
      "< sinus rhythm position type normal incomplete right bundle branch block otherwise normal ecg\n",
      "\n",
      "= supraventricular extrasystole(s), atrial sinus rhythm left type t-changes v1 pathological ecg\n",
      "< premature atrial contraction(s). sinus rhythm. incomplete right bundle branch block. otherwise normal ecg.\n",
      "\n",
      "= sinus rhythm. r-s transition zone in v leads displaced to the right. incomplete right bundle branch block. pr interval is rather short and delta waves are  evident. patient probably has wolff-parkinson-white syndrome. such patients may be prone to bouts o\n",
      "< sinus rhythm left type incomplete right bundle branch block nonspecific abnormal t\n",
      "\n",
      "= sinus tachycardia. otherwise normal ecg.\n",
      "< sinus tachycardia position type normal otherwise normal ecg\n",
      "\n",
      "= atrial fibrillation/flutter incomplete right-sided leg block aberrant qrs(t) course anteroseptal myocardial damage cannot be ruled out st-t lowering, such as in anterior ischemia or left-sided load t-change, such as in inferior myocardial affection\n",
      "< atrial fibrillation. right bundle branch block.\n",
      "\n",
      "= sinus rhythm. qs complexes in v2,3 consistent with old anteroseptal    myocardial infarction. st segments are depressed in i, avl, v6. t waves are flat in i, v6 and inverted in avl. this may be due to lv strain or ischaemia.\n",
      "< sinus rhythm. qs complexes in v2 and tiny r waves in v3 suggesting old anteroseptal myocardial infarction. st segments are depressed in v5,6. t waves are flat in i and inverted in avl. this may be due to lv strain or ischaemia.\n",
      "\n",
      "= sinus arrhythmia. normal ecg.\n",
      "< sinus rhythm normal ecg\n",
      "\n",
      "= atrial fibrillation/flutter hyperrotated left type qrs(t) abnormal anteroseptal infarction probably old inferior infarction probably old st &amp; t abnormal, probably high lateral ischemia or left strain\n",
      "< atrial fibrillation. left axis deviation. qs complexes in v2 and tiny r waves in v3 consistent    with old anteroseptal myocardial infarction. st segments are depressed in i, avl, v6. t waves are low or flat in limb leads and v5,6. findings are likely to be due to ischaemic heart  disease and digitalis effect.\n",
      "\n",
      "= sinus rhythm nonspecific intraventricular conduction disturbance\n",
      "< sinus rhythm normal ecg\n",
      "\n",
      "= sinus rhythm position type normal qrs(t) abnormal inferior myocardial damage cannot be excluded\n",
      "< sinus rhythm position type normal normal ecg\n",
      "\n",
      "= sinus rhythm position type normal qrs(t) abnormal inferior myocardial damage cannot be excluded\n",
      "< sinus rhythm. q waves in ii, iii, avf are probably normal. no definite pathology.\n",
      "\n",
      "= sinus rhythm position type normal bundle branch block partial right st elevation v2 + v3 borderline finding\n",
      "< sinus rhythm position type normal incomplete right bundle branch block otherwise normal ecg\n",
      "\n",
      "= sinus rhythm left type st &amp; t abnormal, probably high lateral ischemia or left strain 4.46 unconfirmed report\n",
      "< sinus rhythm left type qrs(t) abnormal inferior infarction probable old st &amp; t abnormal, probable anterior ischemia or left strain 4.46 unconfirmed report\n",
      "\n",
      "= sinus bradycardia. otherwise normal ecg. the bradycardia may be physiological.\n",
      "< sinus bradycardia position type normal otherwise normal ecg\n",
      "\n",
      "= sinus rhythm voltage criteria for lvh\n",
      "< sinus rhythm. normal ecg.\n",
      "\n",
      "= supraventricular arrhythmia hypertonic left type t abnormal in anterolateral leads inferior leads 4.46 unconfirmed report\n",
      "< sinus rhythm hyperexcited left type nonspecific abnormal t 4.46 unconfirmed report\n",
      "\n",
      "= atrial fibrillation/flutter left type qrs(t) abnormal inferior infarction probable old 4.46 unconfirmed report\n",
      "< premature atrial contraction(s). sinus rhythm. otherwise normal ecg.\n",
      "\n",
      "= ventricular extrasystole(s) sinus rhythm position type normal qrs(t) abnormal high lateral infarction possible\n",
      "< premature ventricular contraction(s). sinus rhythm. otherwise normal ecg.\n",
      "\n",
      "= sinus rhythm position type normal nonspecific abnormal st depression\n",
      "< sinus rhythm position type normal normal ecg\n",
      "\n",
      "= sinus rhythm. no definite pathology.\n",
      "< sinus rhythm position type normal normal ecg\n",
      "\n",
      "= sinus rhythm. non-specific st segment depression in ii, iii, avf, v4,5,6. myocardial ischaemia cannot be excluded.\n",
      "< sinus rhythm position type normal normal ecg\n",
      "\n",
      "= sinus rhythm. normal ecg.\n",
      "< sinus rhythm normal ecg\n"
     ]
    }
   ],
   "source": [
    "encoder.eval()\n",
    "decoder.eval()\n",
    "print_first_n_target_prediction(test_dataloader, encoder, decoder, language)"
   ],
   "metadata": {
    "collapsed": false,
    "ExecuteTime": {
     "end_time": "2024-05-15T08:28:47.886915Z",
     "start_time": "2024-05-15T08:28:46.947540Z"
    }
   },
   "id": "c750b26df2dcd005",
   "execution_count": 9
  },
  {
   "cell_type": "markdown",
   "source": [
    "## RNN Encoder\n",
    "\n",
    "### Train"
   ],
   "metadata": {
    "collapsed": false
   },
   "id": "2e063956f12e2c48"
  },
  {
   "cell_type": "code",
   "outputs": [
    {
     "data": {
      "text/plain": "(EncoderRNN(\n   (conv1): Conv1d(12, 24, kernel_size=(5,), stride=(1,), padding=(2,))\n   (pool1): MaxPool1d(kernel_size=4, stride=4, padding=0, dilation=1, ceil_mode=False)\n   (conv2): Conv1d(24, 48, kernel_size=(5,), stride=(1,), padding=(2,))\n   (pool2): MaxPool1d(kernel_size=4, stride=4, padding=0, dilation=1, ceil_mode=False)\n   (dropout): Dropout(p=0.1, inplace=False)\n   (gru): GRU(48, 256, batch_first=True)\n ),\n AttnDecoderRNN(\n   (embedding): Embedding(2787, 256)\n   (attention): BahdanauAttention(\n     (Wa): Linear(in_features=256, out_features=256, bias=True)\n     (Ua): Linear(in_features=256, out_features=256, bias=True)\n     (Va): Linear(in_features=256, out_features=1, bias=True)\n   )\n   (gru): GRU(512, 256, batch_first=True)\n   (out): Linear(in_features=256, out_features=2787, bias=True)\n   (dropout): Dropout(p=0.1, inplace=False)\n ))"
     },
     "execution_count": 10,
     "metadata": {},
     "output_type": "execute_result"
    }
   ],
   "source": [
    "torch.manual_seed(42)\n",
    "\n",
    "device = torch.device(\"cuda\" if torch.cuda.is_available() else \"cpu\")\n",
    "\n",
    "_lang, dataloader = get_dataloader(file_path='./data_ptb-xl', batch_size=64, mode='train', device=device)\n",
    "_, val_dataloader = get_dataloader(file_path='./data_ptb-xl', batch_size=64, mode='val', device=device, _lang=_lang)\n",
    "\n",
    "n_epochs=50\n",
    "hidden_size = 256\n",
    "criterion = nn.NLLLoss()\n",
    "\n",
    "encoder = EncoderRNN(num_leads=12, hidden_size=hidden_size).to(device)\n",
    "decoder = AttnDecoderRNN(hidden_size=hidden_size, output_size=language.n_words, max_len=language.max_len).to(device)\n",
    "\n",
    "encoder, decoder"
   ],
   "metadata": {
    "collapsed": false,
    "ExecuteTime": {
     "end_time": "2024-05-15T08:31:14.922939Z",
     "start_time": "2024-05-15T08:28:47.887910Z"
    }
   },
   "id": "3e014e24b0476607",
   "execution_count": 10
  },
  {
   "cell_type": "code",
   "outputs": [
    {
     "name": "stdout",
     "output_type": "stream",
     "text": [
      "0m 27s (- 22m 45s) (1 2.0%) | Train Loss: 0.6671 | Val Loss: 2.1255 | Jaccard: 0.1402 | F1: 0.1741 | \n",
      "\tRouge-1 (p): 0.442 | Rouge-1 (r): 0.3723 | Rouge-1 (f1): 0.3742\n",
      "\tRouge-2 (p): 0.3055 | Rouge-2 (r): 0.232 | Rouge-2 (f1): 0.2422\n",
      "\tRouge-L (p): 0.4415 | Rouge-L (r): 0.3718 | Rouge-L (f1): 0.3737\n",
      "\tMETEOR: 0.3147\n",
      "0m 55s (- 22m 9s) (2 4.0%) | Train Loss: 0.2876 | Val Loss: 2.3191 | Jaccard: 0.1676 | F1: 0.2125 | \n",
      "\tRouge-1 (p): 0.4672 | Rouge-1 (r): 0.3889 | Rouge-1 (f1): 0.3958\n",
      "\tRouge-2 (p): 0.3323 | Rouge-2 (r): 0.2528 | Rouge-2 (f1): 0.2653\n",
      "\tRouge-L (p): 0.4657 | Rouge-L (r): 0.3869 | Rouge-L (f1): 0.3942\n",
      "\tMETEOR: 0.3402\n",
      "1m 23s (- 21m 41s) (3 6.0%) | Train Loss: 0.2437 | Val Loss: 2.4262 | Jaccard: 0.1907 | F1: 0.2478 | \n",
      "\tRouge-1 (p): 0.4764 | Rouge-1 (r): 0.4396 | Rouge-1 (f1): 0.4265\n",
      "\tRouge-2 (p): 0.34 | Rouge-2 (r): 0.2965 | Rouge-2 (f1): 0.2929\n",
      "\tRouge-L (p): 0.4749 | Rouge-L (r): 0.4379 | Rouge-L (f1): 0.425\n",
      "\tMETEOR: 0.3583\n",
      "1m 50s (- 21m 14s) (4 8.0%) | Train Loss: 0.2177 | Val Loss: 2.4891 | Jaccard: 0.2213 | F1: 0.3017 | \n",
      "\tRouge-1 (p): 0.4784 | Rouge-1 (r): 0.5636 | Rouge-1 (f1): 0.4804\n",
      "\tRouge-2 (p): 0.3421 | Rouge-2 (r): 0.3856 | Rouge-2 (f1): 0.3328\n",
      "\tRouge-L (p): 0.477 | Rouge-L (r): 0.562 | Rouge-L (f1): 0.479\n",
      "\tMETEOR: 0.3539\n",
      "2m 18s (- 20m 47s) (5 10.0%) | Train Loss: 0.1932 | Val Loss: 2.4643 | Jaccard: 0.2605 | F1: 0.357 | \n",
      "\tRouge-1 (p): 0.5162 | Rouge-1 (r): 0.5853 | Rouge-1 (f1): 0.5139\n",
      "\tRouge-2 (p): 0.3733 | Rouge-2 (r): 0.409 | Rouge-2 (f1): 0.3611\n",
      "\tRouge-L (p): 0.5136 | Rouge-L (r): 0.5828 | Rouge-L (f1): 0.5114\n",
      "\tMETEOR: 0.3938\n",
      "2m 46s (- 20m 21s) (6 12.0%) | Train Loss: 0.1751 | Val Loss: 2.4928 | Jaccard: 0.271 | F1: 0.3685 | \n",
      "\tRouge-1 (p): 0.5356 | Rouge-1 (r): 0.5685 | Rouge-1 (f1): 0.5228\n",
      "\tRouge-2 (p): 0.3889 | Rouge-2 (r): 0.3994 | Rouge-2 (f1): 0.3704\n",
      "\tRouge-L (p): 0.5327 | Rouge-L (r): 0.5659 | Rouge-L (f1): 0.5201\n",
      "\tMETEOR: 0.4159\n",
      "3m 14s (- 19m 54s) (7 14.0%) | Train Loss: 0.1624 | Val Loss: 2.6466 | Jaccard: 0.2845 | F1: 0.3879 | \n",
      "\tRouge-1 (p): 0.5399 | Rouge-1 (r): 0.5767 | Rouge-1 (f1): 0.5279\n",
      "\tRouge-2 (p): 0.3893 | Rouge-2 (r): 0.415 | Rouge-2 (f1): 0.3774\n",
      "\tRouge-L (p): 0.5369 | Rouge-L (r): 0.5737 | Rouge-L (f1): 0.5251\n",
      "\tMETEOR: 0.417\n",
      "3m 42s (- 19m 27s) (8 16.0%) | Train Loss: 0.153 | Val Loss: 2.6281 | Jaccard: 0.2875 | F1: 0.3898 | \n",
      "\tRouge-1 (p): 0.5557 | Rouge-1 (r): 0.566 | Rouge-1 (f1): 0.5331\n",
      "\tRouge-2 (p): 0.406 | Rouge-2 (r): 0.4041 | Rouge-2 (f1): 0.3821\n",
      "\tRouge-L (p): 0.5528 | Rouge-L (r): 0.5631 | Rouge-L (f1): 0.5304\n",
      "\tMETEOR: 0.4342\n",
      "4m 10s (- 19m 0s) (9 18.0%) | Train Loss: 0.1436 | Val Loss: 3.0969 | Jaccard: 0.2795 | F1: 0.3863 | \n",
      "\tRouge-1 (p): 0.5353 | Rouge-1 (r): 0.5381 | Rouge-1 (f1): 0.5062\n",
      "\tRouge-2 (p): 0.3783 | Rouge-2 (r): 0.3875 | Rouge-2 (f1): 0.3595\n",
      "\tRouge-L (p): 0.5318 | Rouge-L (r): 0.5352 | Rouge-L (f1): 0.5032\n",
      "\tMETEOR: 0.4017\n",
      "4m 38s (- 18m 33s) (10 20.0%) | Train Loss: 0.1356 | Val Loss: 2.7338 | Jaccard: 0.2964 | F1: 0.4043 | \n",
      "\tRouge-1 (p): 0.5563 | Rouge-1 (r): 0.5875 | Rouge-1 (f1): 0.5433\n",
      "\tRouge-2 (p): 0.4074 | Rouge-2 (r): 0.4257 | Rouge-2 (f1): 0.3931\n",
      "\tRouge-L (p): 0.5529 | Rouge-L (r): 0.5846 | Rouge-L (f1): 0.5404\n",
      "\tMETEOR: 0.4364\n",
      "5m 6s (- 18m 6s) (11 22.0%) | Train Loss: 0.1289 | Val Loss: 2.904 | Jaccard: 0.2901 | F1: 0.3988 | \n",
      "\tRouge-1 (p): 0.5384 | Rouge-1 (r): 0.5753 | Rouge-1 (f1): 0.5273\n",
      "\tRouge-2 (p): 0.3879 | Rouge-2 (r): 0.4187 | Rouge-2 (f1): 0.3796\n",
      "\tRouge-L (p): 0.5354 | Rouge-L (r): 0.5726 | Rouge-L (f1): 0.5246\n",
      "\tMETEOR: 0.4112\n",
      "5m 34s (- 17m 38s) (12 24.0%) | Train Loss: 0.1227 | Val Loss: 2.8204 | Jaccard: 0.2944 | F1: 0.4022 | \n",
      "\tRouge-1 (p): 0.5356 | Rouge-1 (r): 0.616 | Rouge-1 (f1): 0.544\n",
      "\tRouge-2 (p): 0.3878 | Rouge-2 (r): 0.4479 | Rouge-2 (f1): 0.3933\n",
      "\tRouge-L (p): 0.5325 | Rouge-L (r): 0.6126 | Rouge-L (f1): 0.541\n",
      "\tMETEOR: 0.4108\n",
      "6m 2s (- 17m 10s) (13 26.0%) | Train Loss: 0.1168 | Val Loss: 2.8656 | Jaccard: 0.3055 | F1: 0.4167 | \n",
      "\tRouge-1 (p): 0.5567 | Rouge-1 (r): 0.5906 | Rouge-1 (f1): 0.5465\n",
      "\tRouge-2 (p): 0.4051 | Rouge-2 (r): 0.4312 | Rouge-2 (f1): 0.3971\n",
      "\tRouge-L (p): 0.5533 | Rouge-L (r): 0.5873 | Rouge-L (f1): 0.5432\n",
      "\tMETEOR: 0.4386\n",
      "6m 29s (- 16m 42s) (14 28.0%) | Train Loss: 0.1114 | Val Loss: 2.8535 | Jaccard: 0.3082 | F1: 0.4184 | \n",
      "\tRouge-1 (p): 0.5635 | Rouge-1 (r): 0.5934 | Rouge-1 (f1): 0.5509\n",
      "\tRouge-2 (p): 0.4134 | Rouge-2 (r): 0.4311 | Rouge-2 (f1): 0.4003\n",
      "\tRouge-L (p): 0.5603 | Rouge-L (r): 0.5901 | Rouge-L (f1): 0.5478\n",
      "\tMETEOR: 0.4445\n",
      "6m 57s (- 16m 15s) (15 30.0%) | Train Loss: 0.1067 | Val Loss: 2.9482 | Jaccard: 0.3059 | F1: 0.4164 | \n",
      "\tRouge-1 (p): 0.5569 | Rouge-1 (r): 0.5931 | Rouge-1 (f1): 0.5485\n",
      "\tRouge-2 (p): 0.4078 | Rouge-2 (r): 0.4308 | Rouge-2 (f1): 0.3979\n",
      "\tRouge-L (p): 0.5539 | Rouge-L (r): 0.5899 | Rouge-L (f1): 0.5456\n",
      "\tMETEOR: 0.4401\n",
      "7m 25s (- 15m 47s) (16 32.0%) | Train Loss: 0.1021 | Val Loss: 2.9452 | Jaccard: 0.3042 | F1: 0.4183 | \n",
      "\tRouge-1 (p): 0.5548 | Rouge-1 (r): 0.5954 | Rouge-1 (f1): 0.5472\n",
      "\tRouge-2 (p): 0.4032 | Rouge-2 (r): 0.4381 | Rouge-2 (f1): 0.3992\n",
      "\tRouge-L (p): 0.5517 | Rouge-L (r): 0.5924 | Rouge-L (f1): 0.5443\n",
      "\tMETEOR: 0.4224\n",
      "7m 53s (- 15m 19s) (17 34.0%) | Train Loss: 0.0981 | Val Loss: 2.9776 | Jaccard: 0.3063 | F1: 0.4176 | \n",
      "\tRouge-1 (p): 0.5529 | Rouge-1 (r): 0.5934 | Rouge-1 (f1): 0.5459\n",
      "\tRouge-2 (p): 0.4047 | Rouge-2 (r): 0.4358 | Rouge-2 (f1): 0.3986\n",
      "\tRouge-L (p): 0.5497 | Rouge-L (r): 0.5901 | Rouge-L (f1): 0.5428\n",
      "\tMETEOR: 0.4342\n",
      "8m 21s (- 14m 51s) (18 36.0%) | Train Loss: 0.0945 | Val Loss: 3.0841 | Jaccard: 0.3086 | F1: 0.4219 | \n",
      "\tRouge-1 (p): 0.561 | Rouge-1 (r): 0.5835 | Rouge-1 (f1): 0.5451\n",
      "\tRouge-2 (p): 0.4101 | Rouge-2 (r): 0.4266 | Rouge-2 (f1): 0.3972\n",
      "\tRouge-L (p): 0.558 | Rouge-L (r): 0.5802 | Rouge-L (f1): 0.5421\n",
      "\tMETEOR: 0.441\n",
      "8m 49s (- 14m 23s) (19 38.0%) | Train Loss: 0.0907 | Val Loss: 2.9613 | Jaccard: 0.3119 | F1: 0.4235 | \n",
      "\tRouge-1 (p): 0.5542 | Rouge-1 (r): 0.6056 | Rouge-1 (f1): 0.5535\n",
      "\tRouge-2 (p): 0.4099 | Rouge-2 (r): 0.4473 | Rouge-2 (f1): 0.4073\n",
      "\tRouge-L (p): 0.5512 | Rouge-L (r): 0.6021 | Rouge-L (f1): 0.5505\n",
      "\tMETEOR: 0.4432\n",
      "No improvement in meteor score for 5 consecutive epochs. Stopping early.\n"
     ]
    }
   ],
   "source": [
    "torch.manual_seed(42)\n",
    "\n",
    "train(dataloader, val_dataloader, encoder, decoder, criterion, language, n_epochs)"
   ],
   "metadata": {
    "collapsed": false,
    "ExecuteTime": {
     "end_time": "2024-05-15T08:40:04.390095Z",
     "start_time": "2024-05-15T08:31:14.923936Z"
    }
   },
   "id": "16b2e304eb3e7c63",
   "execution_count": 11
  },
  {
   "cell_type": "code",
   "outputs": [],
   "source": [
    "# save parameters\n",
    "# torch.save(encoder.state_dict(), './models/m03_EcgToText_RNN/saved_models/EncoderRNN.pth')\n",
    "# torch.save(decoder.state_dict(), './models/m03_EcgToText_RNN/saved_models/DecoderRNN.pth')"
   ],
   "metadata": {
    "collapsed": false,
    "ExecuteTime": {
     "end_time": "2024-05-15T08:40:04.405349Z",
     "start_time": "2024-05-15T08:40:04.391088Z"
    }
   },
   "id": "9463eb23706e7b15",
   "execution_count": 12
  },
  {
   "cell_type": "code",
   "outputs": [
    {
     "data": {
      "text/plain": "<All keys matched successfully>"
     },
     "execution_count": 13,
     "metadata": {},
     "output_type": "execute_result"
    }
   ],
   "source": [
    "# load parameters\n",
    "hidden_size = 256\n",
    "\n",
    "encoder = EncoderRNN(num_leads=12, hidden_size=hidden_size).to(device)\n",
    "decoder = AttnDecoderRNN(hidden_size=hidden_size, output_size=language.n_words, max_len=language.max_len).to(device)\n",
    "\n",
    "encoder.load_state_dict(torch.load('./models/m03_EcgToText_RNN/saved_models/EncoderRNN.pth'))\n",
    "decoder.load_state_dict(torch.load('./models/m03_EcgToText_RNN/saved_models/DecoderRNN.pth'))"
   ],
   "metadata": {
    "collapsed": false,
    "ExecuteTime": {
     "end_time": "2024-05-15T08:40:04.451194Z",
     "start_time": "2024-05-15T08:40:04.406341Z"
    }
   },
   "id": "f630ec023e6bcf8c",
   "execution_count": 13
  },
  {
   "cell_type": "markdown",
   "source": [
    "### Test"
   ],
   "metadata": {
    "collapsed": false
   },
   "id": "dedde6e9c9552452"
  },
  {
   "cell_type": "code",
   "outputs": [
    {
     "name": "stdout",
     "output_type": "stream",
     "text": [
      "Test Loss:    2.41486\n",
      "F1:           0.56926\n",
      "Jaccard:      0.45522\n",
      "Rouge-1 (p):  0.683\n",
      "Rouge-1 (r):  0.709\n",
      "Rouge-1 (f1): 0.675\n",
      "Rouge-2 (p):  0.559\n",
      "Rouge-2 (r):  0.573\n",
      "Rouge-2 (f1): 0.548\n",
      "Rouge-L (p):  0.68\n",
      "Rouge-L (r):  0.706\n",
      "Rouge-L (f1): 0.672\n",
      "METEOR:       0.5891\n"
     ]
    }
   ],
   "source": [
    "_, test_dataloader = get_dataloader(file_path='./data_ptb-xl', batch_size=64, mode='test', device=device, _lang=language)\n",
    "\n",
    "total_loss, f1, jaccard, rouge, meteor = validate_epoch(dataloader, encoder, decoder, criterion, language)\n",
    "\n",
    "print(f'Test Loss:    {round(total_loss, 5)}')\n",
    "print(f'F1:           {round(f1, 5)}')\n",
    "print(f'Jaccard:      {round(jaccard, 5)}')\n",
    "print(f'Rouge-1 (p):  {round(rouge[\"rouge-1\"][\"p\"], 3)}')\n",
    "print(f'Rouge-1 (r):  {round(rouge[\"rouge-1\"][\"r\"], 3)}')\n",
    "print(f'Rouge-1 (f1): {round(rouge[\"rouge-1\"][\"f\"], 3)}')\n",
    "print(f'Rouge-2 (p):  {round(rouge[\"rouge-2\"][\"p\"], 3)}')\n",
    "print(f'Rouge-2 (r):  {round(rouge[\"rouge-2\"][\"r\"], 3)}')\n",
    "print(f'Rouge-2 (f1): {round(rouge[\"rouge-2\"][\"f\"], 3)}')\n",
    "print(f'Rouge-L (p):  {round(rouge[\"rouge-l\"][\"p\"], 3)}')\n",
    "print(f'Rouge-L (r):  {round(rouge[\"rouge-l\"][\"r\"], 3)}')\n",
    "print(f'Rouge-L (f1): {round(rouge[\"rouge-l\"][\"f\"], 3)}')\n",
    "print(f'METEOR:       {round(meteor, 4)}')"
   ],
   "metadata": {
    "collapsed": false,
    "ExecuteTime": {
     "end_time": "2024-05-15T08:40:39.502889Z",
     "start_time": "2024-05-15T08:40:04.452188Z"
    }
   },
   "id": "885bf0f23b08b6e8",
   "execution_count": 14
  },
  {
   "cell_type": "code",
   "outputs": [
    {
     "name": "stdout",
     "output_type": "stream",
     "text": [
      "= regular rhythm, no p-wave detected, left-sided nonspecific intraventricular block, left hypertrophy, qrs(t) abnormal, anteroseptal infarction, possible acute inferior infarction, age undetermined.\n",
      "< sinus tachycardia hyperexcited left type left bundle branch block left hypertrophy possible 4.46 unconfirmed report\n",
      "\n",
      "= sinus rhythm position type normal t abnormal in high lateral leads pathological\n",
      "< sinus rhythm position type normal normal ecg\n",
      "\n",
      "= supraventricular extrasystole(s) sinus rhythm av block i hyperrotated left type qrs(t) abnormal anterior myocardial damage inferior myocardial damage st &amp; t abnormal, probably high lateral ischemia or left strain\n",
      "< sinus rhythm hyperexcited left type left anterior hemiblock right bundle branch block bifascicular block qrs(t) abnormal anteroseptal myocardial damage possible\n",
      "\n",
      "= sinus rhythm p-widening position type normal 4.46 unconfirmed report\n",
      "< sinus rhythm position type normal normal ecg 4.46 unconfirmed report\n",
      "\n",
      "= sinus rhythm av block i overrotated left type left bundle branch block\n",
      "< sinus rhythm. left axis deviation. left bundle branch block, this is most commonly due to    ischaemic heart disease.\n",
      "\n",
      "= sinus rhythm position type normal normal ecg\n",
      "< sinus rhythm. normal ecg.\n",
      "\n",
      "= tachycardic atrial fibrillation left type left bundle branch block 4.46 unconfirmed report\n",
      "< tachycardic atrial fibrillation hyperexcited left type left anterior hemiblock qrs(t) abnormal anteroseptal infarction probable old st &amp; t abnormal, probable anterolateral ischemia or left strain 4.46 unconfirmed report\n",
      "\n",
      "= sinus rhythm position type normal qrs(t) abnormal inferior infarction probable old 4.46 unconfirmed report\n",
      "< sinus rhythm position type normal qrs(t) abnormal inferior infarction probable old 4.46 unconfirmed report\n",
      "\n",
      "= sinus rhythm position type normal incomplete right bundle branch block qrs(t) abnormal pathological\n",
      "< sinus rhythm. normal ecg.\n",
      "\n",
      "= sinus rhythm normal ecg\n",
      "< sinus rhythm position type normal normal ecg\n",
      "\n",
      "= sinus rhythm. normal ecg. edit: norm, (norm 100, ivcb)\n",
      "< sinus rhythm. normal ecg.\n",
      "\n",
      "= sinus rhythm suspected p-sinistrocardiale position type normal qrs(t) abnormal inferior infarction age undetermined 4.46 unconfirmed report\n",
      "< sinus rhythm position type normal qrs(t) abnormal inferior infarction age undetermined 4.46 unconfirmed report\n",
      "\n",
      "= sinus rhythm position type normal normal ecg\n",
      "< sinus rhythm position type normal normal ecg\n",
      "\n",
      "= sinus rhythm left type nonspecific abnormal t\n",
      "< sinus rhythm left type qrs(t) abnormal anteroseptal myocardial damage cannot be excluded t abnormal in anterior leads\n",
      "\n",
      "= sinus rhythm. normal ecg.\n",
      "< sinus rhythm position type normal normal ecg\n",
      "\n",
      "= sinus rhythm. normal ecg.\n",
      "< sinus rhythm position type normal normal ecg\n",
      "\n",
      "= sinus rhythm. q waves in ii, iii, avf. t waves are flat in i, avl and in ii, iii, avf v4,5,6. consistent with ischaemic heart disease with old inferior myocardial infarction.\n",
      "< sinus rhythm av block i position type normal qrs(t) abnormal inferior infarction age undetermined st &amp; t abnormal, probably anterolateral ischemia or left strain\n",
      "\n",
      "= sinus rhythm. st segments are depressed in i, ii, avl, v3-6. t waves are low or flat in these leads. non-specific but consistent with myocardial ischaemia.\n",
      "< sinus rhythm. t waves are flat or slightly inverted in limb leads and v5,6. findings are likely to be due to ischaemic heart    disease. the age of the changes is uncertain.\n",
      "\n",
      "= sinus rhythm left type left bundle branch block left hypertrophy possible\n",
      "< sinus rhythm. left bundle branch block, this is most commonly due to    ischaemic heart disease.\n",
      "\n",
      "= sinus rhythm position type normal nonspecific abnormal t\n",
      "< sinus rhythm. normal ecg.\n",
      "\n",
      "= partial atrial flutter tachycardic atrial fibrillation position type normal qrs(t) abnormal pathological\n",
      "< tachycardic atrial fibrillation left type qrs(t) abnormal high lateral infarction possible st &amp; t abnormal, probably anterior ischemia or left strain\n",
      "\n",
      "= sinus rhythm. left axis deviation. non-specific intraventricular block.\n",
      "< sinus tachycardia. left axis deviation. left bundle branch block, this is most commonly due to    ischaemic heart disease.\n",
      "\n",
      "= atrial fibrillation/flutter left type left bundle branch block 4.46 unconfirmed report\n",
      "< tachycardic atrial fibrillation extreme left electrical axis aberrant qrs(t) course anteroseptal myocardial damage cannot be ruled out\n",
      "\n",
      "= sinus rhythm. left ventricular hypertrophy. possible left atrial enlargement. widespread st segment depression and t wave inversion. this may be due to lv strain or ischaemia.\n",
      "< sinus rhythm. voltages are high in chest leads suggesting lvh. st segments are depressed in i, ii, avl, v5,6. t waves are inverted in i, avl, v5,6. this may be due to lv strain or ischaemia.\n",
      "\n",
      "= trace only requested.\n",
      "< premature ventricular contraction(s). sinus rhythm. non-specific t wave flattening in limb leads and    v4,5,6. myocardial ischaemia is likely.\n",
      "\n",
      "= atrial fibrillation/flutter difficult to determine qrs axis peripheral low voltage qrs(t) abnormal anteroseptal infarction probably old st &amp; t abnormal, probably anterolateral ischemia or left strain inferolateral ischemia or l\n",
      "< atrial fibrillation/flutter location type normal st &amp; t abnormal, probable anterolateral ischemia or left strain inferolateral ischemia or left strain 4.46 unconfirmed report\n",
      "\n",
      "= sinus arrhythmia hyperexcited left type left anterior hemiblock right bundle branch block bifascicular block qrs(t) abnormal lateral myocardial damage possible\n",
      "< sinus rhythm. left axis deviation. left anterior fascicular block. right bundle branch block. bifascicular block. pr interval is normal.\n",
      "\n",
      "= sinus rhythm. normal ecg.\n",
      "< sinus rhythm. normal ecg.\n",
      "\n",
      "= sinus arrhythmia. normal ecg.\n",
      "< sinus rhythm. normal ecg.\n",
      "\n",
      "= premature ventricular contraction(s). sinus rhythm. grossly prolonged pr interval. st segments are depressed in v3,4. t waves are inverted in i, avl, v5,6. findings are likely to be due to ischaemic heart    disease.\n",
      "< premature ventricular contraction(s). atrial fibrillation with slow ventricular response. st segments are depressed in i, ii, avl, v2-6. t waves are inverted in i, avl, v2-6. findings are likely to be due to ischaemic heart    disease. they may represent subendocardial infarction of uncertain age. edit: injal, (injas 100, injal 100)\n",
      "\n",
      "= sinus rhythm. q waves in ii, iii, avf are probably normal. normal ecg.\n",
      "< sinus rhythm position type normal normal ecg\n",
      "\n",
      "= sinus rhythm position type normal normal ecg\n",
      "< sinus rhythm position type normal normal ecg\n",
      "\n",
      "= sinus rhythm st & t abnormality, consider    anterolateral ischemia or left ventricular strain\n",
      "< sinus rhythm position type normal st &amp; t abnormal, probably anterolateral ischemia or left strain inferolateral ischemia or left strain\n",
      "\n",
      "= sinus rhythm position type normal normal ecg\n",
      "< sinus rhythm. normal ecg.\n",
      "\n",
      "= sinus rhythm hyperexcited left type left anterior hemiblock path. ecg\n",
      "< sinus rhythm. left axis deviation. left anterior fascicular block.\n",
      "\n",
      "= sinus rhythm moderate amplitude criteria for left hypertrophy\n",
      "< sinus rhythm position type normal normal ecg\n",
      "\n",
      "= premature ventricular contraction(s). sinus rhythm. st segments are depressed in i, v4,5,6. t waves are inverted in i, avl, v5,6. this may be due to lv strain or ischaemia.\n",
      "< premature ventricular contraction(s). sinus rhythm. st segments are depressed in i, ii, avl, v5,6. t waves are inverted in i, avl, v5,6. this may be due to lv strain or ischaemia.\n",
      "\n",
      "= sinus rhythm left type otherwise normal ecg\n",
      "< sinus rhythm left type otherwise normal ecg\n",
      "\n",
      "= premature atrial contraction(s). sinus rhythm. low limb lead voltage. st segments are depressed in i, avl. t waves are flat in i and inverted in avl. non-specific but consistent with myocardial ischaemia. edit: iscan,  isc ivcb)\n",
      "< atrial fibrillation/flutter left type qrs(t) abnormal inferior infarction probable old t abnormal in high lateral leads 4.46 unconfirmed report\n",
      "\n",
      "= premature ventricular contraction(s). sinus rhythm. no definite pathology.\n",
      "< premature ventricular contraction(s). sinus rhythm. otherwise normal ecg.\n",
      "\n",
      "= sinus rhythm av block i right type non-specific intraventricular conduction disturbance left hypertrophy possible qrs(t) abnormal anteroseptal myocardial damage cannot be excluded high lateral infarction possible\n",
      "< sinus tachycardia. st segments are depressed in i, ii, iii, avf, v5,6. t waves are inverted in i, ii, avl, v4,5,6. this may be due to lv strain or ischaemia.\n",
      "\n",
      "= sinus rhythm. normal ecg.\n",
      "< sinus rhythm position type normal normal ecg\n",
      "\n",
      "= sinus rhythm position type normal nonspecific abnormal t\n",
      "< sinus rhythm position type normal normal ecg\n",
      "\n",
      "= sinus rhythm position type normal normal ecg\n",
      "< sinus rhythm position type normal normal ecg\n",
      "\n",
      "= sinus tachycardia. t waves are low throughout and slightly inverted in v2-5. myocardial ischaemia is likely. suggest exclude hypokalaemia. the age of the changes is uncertain.\n",
      "< sinus tachycardia position type normal st &amp; t abnormal, probably anterior ischemia or left strain\n",
      "\n",
      "= sinus rhythm position type normal nonspecific abnormal st depression nonspecific abnormal t 4.46 unconfirmed report edit: norm 100,\n",
      "< sinus rhythm position type normal st &amp; t abnormal, probably anterior ischemia or left strain 4.46 unconfirmed report\n",
      "\n",
      "= sinus rhythm normal ecg\n",
      "< sinus rhythm normal ecg\n",
      "\n",
      "= tachycardic atrial fibrillation rlt complete right bundle branch block st depression via\n",
      "< tachycardic atrial fibrillation position type normal right bundle branch block 4.46 unconfirmed report\n",
      "\n",
      "= sinus rhythm position type normal qrs(t) abnormal inferior myocardial damage possible 4.46 unconfirmed report\n",
      "< sinus rhythm position type normal normal ecg 4.46 unconfirmed report\n",
      "\n",
      "= sinus rhythm position type normal qrs(t) abnormal anteroseptal infarction age undetermined\n",
      "< sinus rhythm position type normal qrs(t) abnormal anteroseptal infarction probable old high lateral infarction possible\n",
      "\n",
      "= sinus rhythm left electrical axis st-t lowering, as in case of high lateral ischemia or left load\n",
      "< sinus rhythm. normal ecg.\n",
      "\n",
      "= sinus rhythm flat t-waves anterolaterally\n",
      "< sinus rhythm. non-specific t wave flattening in i, avl, v6.\n",
      "\n",
      "= sinus rhythm difficult to determine qrs axis peripheral low voltage qrs(t) abnormal high lateral infarction possible inferior infarction possible\n",
      "< sinus rhythm difficult to determine qrs axis peripheral low voltage qrs(t) abnormal inferior infarction age undetermined\n",
      "\n",
      "= sinus rhythm left type peripheral low voltage qrs(t) abnormal inferior infarction probable old\n",
      "< sinus rhythm left type otherwise normal ecg\n",
      "\n",
      "= sinus rhythm. voltages are high in limb leads suggesting lvh. minor non-specific t wave flattening in v2,3.\n",
      "< sinus rhythm. normal ecg.\n",
      "\n",
      "= atrial fibrillation/flutter left type qrs(t) abnormal inferior infarction probable old 4.46 unconfirmed report\n",
      "< supraventricular extrasystole(s) sinus rhythm left type otherwise normal ecg 4.46 unconfirmed report\n",
      "\n",
      "= premature ventricular contraction(s), trigeminy. prolonged pr interval. qs complexes in v2 suggesting old anteroseptal infarct. non-specific t wave flattening in i and inversion in    avl.\n",
      "< premature ventricular contraction(s). sinus rhythm. otherwise normal ecg.\n",
      "\n",
      "= sinus rhythm. normal ecg.\n",
      "< sinus rhythm. normal ecg.\n",
      "\n",
      "= sinus rhythm position type normal qrs(t) abnormal inferior myocardial damage cannot be excluded\n",
      "< sinus rhythm. normal ecg.\n",
      "\n",
      "= sinus rhythm. left axis deviation. left bundle branch block, this is most commonly due to    ischaemic heart disease.\n",
      "< sinus rhythm. left axis deviation. left bundle branch block, this is most commonly due to    ischaemic heart disease.\n",
      "\n",
      "= sinus rhythm position type normal right bundle branch block\n",
      "< sinus rhythm. right bundle branch block.\n",
      "\n",
      "= premature atrial contraction(s). sinus rhythm. st segments are elevated in v2-6, this is probably a  normal variant. otherwise normal ecg.\n",
      "< premature atrial contraction(s). sinus rhythm. otherwise normal ecg.\n",
      "\n",
      "= sinus bradycardia suspected left ventricular hypertrophy\n",
      "< sinus rhythm. left ventricular hypertrophy. st segments are depressed and t waves inverted in i,    ii, avl, avf, this may be due to lv strain or ischaemia.\n",
      "\n",
      "= sinus rhythm. t waves are flat in ii, v6 and inverted in iii, avf. non-specific but consistent with inferolateral myocardial ischaemia. the age of the changes is uncertain.\n",
      "< sinus rhythm. t waves are low or flat in limb leads and v5,6. myocardial ischaemia is likely.\n"
     ]
    }
   ],
   "source": [
    "encoder.eval()\n",
    "decoder.eval()\n",
    "print_first_n_target_prediction(test_dataloader, encoder, decoder, language)"
   ],
   "metadata": {
    "collapsed": false,
    "ExecuteTime": {
     "end_time": "2024-05-15T08:40:39.947439Z",
     "start_time": "2024-05-15T08:40:39.503883Z"
    }
   },
   "id": "50b1175929c43682",
   "execution_count": 15
  },
  {
   "cell_type": "code",
   "outputs": [],
   "source": [],
   "metadata": {
    "collapsed": false,
    "ExecuteTime": {
     "end_time": "2024-05-15T08:40:39.963385Z",
     "start_time": "2024-05-15T08:40:39.948432Z"
    }
   },
   "id": "db8d0fe68802ee3c",
   "execution_count": 15
  }
 ],
 "metadata": {
  "kernelspec": {
   "display_name": "Python 3",
   "language": "python",
   "name": "python3"
  },
  "language_info": {
   "codemirror_mode": {
    "name": "ipython",
    "version": 2
   },
   "file_extension": ".py",
   "mimetype": "text/x-python",
   "name": "python",
   "nbconvert_exporter": "python",
   "pygments_lexer": "ipython2",
   "version": "2.7.6"
  }
 },
 "nbformat": 4,
 "nbformat_minor": 5
}
