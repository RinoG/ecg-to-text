{
 "cells": [
  {
   "cell_type": "markdown",
   "source": [
    "# ISIBrno-AIMT\n",
    "ISIBrno-AIMT is the winner of the [Will Two Do?](https://physionet.org/content/challenge-2021/1.0.3/sources/) challenge from [physionet.org](https://physionet.org/) \n",
    "\n",
    "[Source Code](https://physionet.org/static/published-projects/challenge-2021/1.0.3/sources/ISIBrnoAIMT.zip)\n",
    "[Paper](https://www.cinc.org/archives/2021/pdf/CinC2021-014.pdf)\n",
    "[leaderboard](https://moody-challenge.physionet.org/2021/results/)"
   ],
   "metadata": {
    "collapsed": false
   },
   "id": "a195e52a52decb2a"
  },
  {
   "cell_type": "markdown",
   "source": [
    "## Metrics"
   ],
   "metadata": {
    "collapsed": false
   },
   "id": "482c853e9bb0bfb4"
  },
  {
   "cell_type": "code",
   "outputs": [],
   "source": [
    "import pickle\n",
    "import os\n",
    "import pandas as pd\n",
    "from sklearn.metrics import f1_score, jaccard_score, confusion_matrix, precision_score, recall_score, accuracy_score"
   ],
   "metadata": {
    "collapsed": true,
    "ExecuteTime": {
     "end_time": "2024-05-15T14:53:17.402760Z",
     "start_time": "2024-05-15T14:53:16.153671Z"
    }
   },
   "id": "initial_id",
   "execution_count": 1
  },
  {
   "cell_type": "code",
   "outputs": [],
   "source": [
    "os.chdir('../models/m01_classification_ISIBrnoAIMT')"
   ],
   "metadata": {
    "collapsed": false,
    "ExecuteTime": {
     "end_time": "2024-05-15T14:53:17.418818Z",
     "start_time": "2024-05-15T14:53:17.403756Z"
    }
   },
   "id": "5b78b990737513dc",
   "execution_count": 2
  },
  {
   "cell_type": "code",
   "outputs": [
    {
     "name": "stdout",
     "output_type": "stream",
     "text": [
      "F1: 0.733\n",
      "IOU: 0.622\n"
     ]
    }
   ],
   "source": [
    "with open('model_output/PROGRESS_0.pickle', 'rb') as file:\n",
    "    model_data = pickle.load(file)   \n",
    "\n",
    "pred = (model_data[-1]['valid_outputs'] >= 0.5).astype(int)\n",
    "y = model_data[-1]['valid_targets']\n",
    "\n",
    "f1 = f1_score(y, pred, average='weighted', zero_division=0)\n",
    "iou = jaccard_score(y, pred, average='weighted', zero_division=0)\n",
    "\n",
    "print(f'F1: {round(f1, 3)}\\nIOU: {round(iou, 3)}')"
   ],
   "metadata": {
    "collapsed": false,
    "ExecuteTime": {
     "end_time": "2024-05-15T14:53:19.986197Z",
     "start_time": "2024-05-15T14:53:17.419811Z"
    }
   },
   "id": "fc8b855ec2004446",
   "execution_count": 3
  },
  {
   "cell_type": "code",
   "outputs": [
    {
     "data": {
      "text/plain": "                                               Label        f1  precision  \\\n0                                atrial fibrillation  0.841339   0.752604   \n1                                     atrial flutter  0.000000   0.000000   \n2                                bundle branch block  0.000000   0.000000   \n3                                        bradycardia  0.000000   0.000000   \n4                  complete left bundle branch block  0.820312   0.709459   \n5                 complete right bundle branch block  0.774648   0.647059   \n6                                1st degree av block  0.496994   0.367953   \n7               incomplete right bundle branch block  0.548536   0.418824   \n8                                left axis deviation  0.673412   0.525313   \n9                     left anterior fascicular block  0.688995   0.563601   \n10                             prolonged pr interval  0.357143   0.234742   \n11                                  low qrs voltages  0.000000   0.000000   \n12                             prolonged qt interval  0.000000   0.000000   \n13  nonspecific intraventricular conduction disorder  0.253521   0.185841   \n14                                      sinus rhythm  0.906086   0.828297   \n15                      premature atrial contraction  0.375000   0.252336   \n16                                     pacing rhythm  0.839286   0.886792   \n17                           poor R wave Progression  0.000000   0.000000   \n18                premature ventricular contractions  0.000000   0.000000   \n19                                    qwave abnormal  0.066298   0.086957   \n20                              right axis deviation  0.576087   0.464912   \n21                                  sinus arrhythmia  0.419530   0.290727   \n22                                 sinus bradycardia  0.609929   0.554839   \n23                                 sinus tachycardia  0.835979   0.741784   \n24                                   t wave abnormal  0.413068   0.278983   \n25                                  t wave inversion  0.000000   0.000000   \n\n      recall  accuracy  \n0   0.953795  0.975046  \n1   0.000000  0.996566  \n2   0.000000  1.000000  \n3   0.000000  1.000000  \n4   0.972222  0.989469  \n5   0.964912  0.985348  \n6   0.765432  0.942537  \n7   0.794643  0.932921  \n8   0.937804  0.785714  \n9   0.886154  0.940476  \n10  0.746269  0.958791  \n11  0.000000  0.991758  \n12  0.000000  0.994505  \n13  0.398734  0.915064  \n14  1.000000  0.828297  \n15  0.729730  0.938187  \n16  0.796610  0.995879  \n17  0.000000  1.000000  \n18  0.000000  1.000000  \n19  0.053571  0.961310  \n20  0.757143  0.982143  \n21  0.753247  0.926511  \n22  0.677165  0.974817  \n23  0.957576  0.985806  \n24  0.795309  0.757326  \n25  0.000000  0.986264  ",
      "text/html": "<div>\n<style scoped>\n    .dataframe tbody tr th:only-of-type {\n        vertical-align: middle;\n    }\n\n    .dataframe tbody tr th {\n        vertical-align: top;\n    }\n\n    .dataframe thead th {\n        text-align: right;\n    }\n</style>\n<table border=\"1\" class=\"dataframe\">\n  <thead>\n    <tr style=\"text-align: right;\">\n      <th></th>\n      <th>Label</th>\n      <th>f1</th>\n      <th>precision</th>\n      <th>recall</th>\n      <th>accuracy</th>\n    </tr>\n  </thead>\n  <tbody>\n    <tr>\n      <th>0</th>\n      <td>atrial fibrillation</td>\n      <td>0.841339</td>\n      <td>0.752604</td>\n      <td>0.953795</td>\n      <td>0.975046</td>\n    </tr>\n    <tr>\n      <th>1</th>\n      <td>atrial flutter</td>\n      <td>0.000000</td>\n      <td>0.000000</td>\n      <td>0.000000</td>\n      <td>0.996566</td>\n    </tr>\n    <tr>\n      <th>2</th>\n      <td>bundle branch block</td>\n      <td>0.000000</td>\n      <td>0.000000</td>\n      <td>0.000000</td>\n      <td>1.000000</td>\n    </tr>\n    <tr>\n      <th>3</th>\n      <td>bradycardia</td>\n      <td>0.000000</td>\n      <td>0.000000</td>\n      <td>0.000000</td>\n      <td>1.000000</td>\n    </tr>\n    <tr>\n      <th>4</th>\n      <td>complete left bundle branch block</td>\n      <td>0.820312</td>\n      <td>0.709459</td>\n      <td>0.972222</td>\n      <td>0.989469</td>\n    </tr>\n    <tr>\n      <th>5</th>\n      <td>complete right bundle branch block</td>\n      <td>0.774648</td>\n      <td>0.647059</td>\n      <td>0.964912</td>\n      <td>0.985348</td>\n    </tr>\n    <tr>\n      <th>6</th>\n      <td>1st degree av block</td>\n      <td>0.496994</td>\n      <td>0.367953</td>\n      <td>0.765432</td>\n      <td>0.942537</td>\n    </tr>\n    <tr>\n      <th>7</th>\n      <td>incomplete right bundle branch block</td>\n      <td>0.548536</td>\n      <td>0.418824</td>\n      <td>0.794643</td>\n      <td>0.932921</td>\n    </tr>\n    <tr>\n      <th>8</th>\n      <td>left axis deviation</td>\n      <td>0.673412</td>\n      <td>0.525313</td>\n      <td>0.937804</td>\n      <td>0.785714</td>\n    </tr>\n    <tr>\n      <th>9</th>\n      <td>left anterior fascicular block</td>\n      <td>0.688995</td>\n      <td>0.563601</td>\n      <td>0.886154</td>\n      <td>0.940476</td>\n    </tr>\n    <tr>\n      <th>10</th>\n      <td>prolonged pr interval</td>\n      <td>0.357143</td>\n      <td>0.234742</td>\n      <td>0.746269</td>\n      <td>0.958791</td>\n    </tr>\n    <tr>\n      <th>11</th>\n      <td>low qrs voltages</td>\n      <td>0.000000</td>\n      <td>0.000000</td>\n      <td>0.000000</td>\n      <td>0.991758</td>\n    </tr>\n    <tr>\n      <th>12</th>\n      <td>prolonged qt interval</td>\n      <td>0.000000</td>\n      <td>0.000000</td>\n      <td>0.000000</td>\n      <td>0.994505</td>\n    </tr>\n    <tr>\n      <th>13</th>\n      <td>nonspecific intraventricular conduction disorder</td>\n      <td>0.253521</td>\n      <td>0.185841</td>\n      <td>0.398734</td>\n      <td>0.915064</td>\n    </tr>\n    <tr>\n      <th>14</th>\n      <td>sinus rhythm</td>\n      <td>0.906086</td>\n      <td>0.828297</td>\n      <td>1.000000</td>\n      <td>0.828297</td>\n    </tr>\n    <tr>\n      <th>15</th>\n      <td>premature atrial contraction</td>\n      <td>0.375000</td>\n      <td>0.252336</td>\n      <td>0.729730</td>\n      <td>0.938187</td>\n    </tr>\n    <tr>\n      <th>16</th>\n      <td>pacing rhythm</td>\n      <td>0.839286</td>\n      <td>0.886792</td>\n      <td>0.796610</td>\n      <td>0.995879</td>\n    </tr>\n    <tr>\n      <th>17</th>\n      <td>poor R wave Progression</td>\n      <td>0.000000</td>\n      <td>0.000000</td>\n      <td>0.000000</td>\n      <td>1.000000</td>\n    </tr>\n    <tr>\n      <th>18</th>\n      <td>premature ventricular contractions</td>\n      <td>0.000000</td>\n      <td>0.000000</td>\n      <td>0.000000</td>\n      <td>1.000000</td>\n    </tr>\n    <tr>\n      <th>19</th>\n      <td>qwave abnormal</td>\n      <td>0.066298</td>\n      <td>0.086957</td>\n      <td>0.053571</td>\n      <td>0.961310</td>\n    </tr>\n    <tr>\n      <th>20</th>\n      <td>right axis deviation</td>\n      <td>0.576087</td>\n      <td>0.464912</td>\n      <td>0.757143</td>\n      <td>0.982143</td>\n    </tr>\n    <tr>\n      <th>21</th>\n      <td>sinus arrhythmia</td>\n      <td>0.419530</td>\n      <td>0.290727</td>\n      <td>0.753247</td>\n      <td>0.926511</td>\n    </tr>\n    <tr>\n      <th>22</th>\n      <td>sinus bradycardia</td>\n      <td>0.609929</td>\n      <td>0.554839</td>\n      <td>0.677165</td>\n      <td>0.974817</td>\n    </tr>\n    <tr>\n      <th>23</th>\n      <td>sinus tachycardia</td>\n      <td>0.835979</td>\n      <td>0.741784</td>\n      <td>0.957576</td>\n      <td>0.985806</td>\n    </tr>\n    <tr>\n      <th>24</th>\n      <td>t wave abnormal</td>\n      <td>0.413068</td>\n      <td>0.278983</td>\n      <td>0.795309</td>\n      <td>0.757326</td>\n    </tr>\n    <tr>\n      <th>25</th>\n      <td>t wave inversion</td>\n      <td>0.000000</td>\n      <td>0.000000</td>\n      <td>0.000000</td>\n      <td>0.986264</td>\n    </tr>\n  </tbody>\n</table>\n</div>"
     },
     "execution_count": 4,
     "metadata": {},
     "output_type": "execute_result"
    }
   ],
   "source": [
    "f1_scores_per_label = [f1_score(y[:, i], pred[:, i], zero_division=0) for i in range(y.shape[1])]\n",
    "\n",
    "classes = ['164889003','164890007','6374002','426627000','733534002',\n",
    "               '713427006','270492004','713426002','39732003','445118002',\n",
    "               '164947007','251146004','111975006','698252002','426783006',\n",
    "               '284470004','10370003','365413008','427172004','164917005',\n",
    "               '47665007','427393009','426177001','427084000','164934002',\n",
    "               '59931005']\n",
    "\n",
    "dx_mapping_df = pd.read_csv('dx_mapping_scored.csv')\n",
    "class_to_dx_mapping = dict(zip(dx_mapping_df['SNOMEDCTCode'], dx_mapping_df['Dx']))\n",
    "dx_names_ordered = [class_to_dx_mapping[int(cls)] for cls in classes if int(cls) in class_to_dx_mapping]\n",
    "\n",
    "performance_data = []\n",
    "for i in range(y.shape[1]):\n",
    "    f1 = f1_score(y[:, i], pred[:, i], zero_division=0)\n",
    "    precision = precision_score(y[:, i], pred[:, i], zero_division=0)\n",
    "    recall = recall_score(y[:, i], pred[:, i], zero_division=0)\n",
    "    accuracy = accuracy_score(y[:, i], pred[:, i])\n",
    "    \n",
    "    # Append the results to the list\n",
    "    performance_data.append({'Label': dx_names_ordered[i], 'f1': f1, 'precision': precision, 'recall': recall, 'accuracy': accuracy})\n",
    "\n",
    "# Convert the list of dicts into a DataFrame\n",
    "performance_summary = pd.DataFrame(performance_data)\n",
    "\n",
    "performance_summary"
   ],
   "metadata": {
    "collapsed": false,
    "ExecuteTime": {
     "end_time": "2024-05-15T14:53:20.137684Z",
     "start_time": "2024-05-15T14:53:19.987189Z"
    }
   },
   "id": "1486e539de9a65a9",
   "execution_count": 4
  },
  {
   "cell_type": "code",
   "outputs": [
    {
     "name": "stdout",
     "output_type": "stream",
     "text": [
      "F1: 0.318\n",
      "IOU: 0.212\n"
     ]
    }
   ],
   "source": [
    "with open('model_output/PROGRESS_0_loss.pickle', 'rb') as file:\n",
    "    model_data = pickle.load(file)   \n",
    "\n",
    "pred = (model_data[-1]['valid_outputs'] >= 0.5).astype(int)\n",
    "y = model_data[-1]['valid_targets']\n",
    "\n",
    "f1 = f1_score(y, pred, average='weighted', zero_division=0)\n",
    "iou = jaccard_score(y, pred, average='weighted', zero_division=0)\n",
    "\n",
    "print(f'F1: {round(f1, 3)}\\nIOU: {round(iou, 3)}')"
   ],
   "metadata": {
    "collapsed": false,
    "ExecuteTime": {
     "end_time": "2024-05-15T14:53:21.228854Z",
     "start_time": "2024-05-15T14:53:20.139678Z"
    }
   },
   "id": "7a2bf4b5a8ae9ae2",
   "execution_count": 5
  },
  {
   "cell_type": "code",
   "outputs": [
    {
     "name": "stdout",
     "output_type": "stream",
     "text": [
      "F1: 0.719\n",
      "IOU: 0.611\n"
     ]
    }
   ],
   "source": [
    "with open('model_output/PROGRESS_0_loss_chloss.pickle', 'rb') as file:\n",
    "    model_data = pickle.load(file)   \n",
    "\n",
    "pred = (model_data[-1]['valid_outputs'] >= 0.5).astype(int)\n",
    "y = model_data[-1]['valid_targets']\n",
    "\n",
    "f1 = f1_score(y, pred, average='weighted', zero_division=0)\n",
    "iou = jaccard_score(y, pred, average='weighted', zero_division=0)\n",
    "\n",
    "print(f'F1: {round(f1, 3)}\\nIOU: {round(iou, 3)}')"
   ],
   "metadata": {
    "collapsed": false,
    "ExecuteTime": {
     "end_time": "2024-05-15T14:53:22.043846Z",
     "start_time": "2024-05-15T14:53:21.229851Z"
    }
   },
   "id": "3811e3f57bfd7152",
   "execution_count": 6
  },
  {
   "cell_type": "code",
   "outputs": [
    {
     "name": "stdout",
     "output_type": "stream",
     "text": [
      "F1: 0.446\n",
      "IOU: 0.339\n"
     ]
    }
   ],
   "source": [
    "with open('model_output/PROGRESS_0_loss_gradNorm.pickle', 'rb') as file:\n",
    "    model_data = pickle.load(file)   \n",
    "\n",
    "pred = (model_data[-1]['valid_outputs'] >= 0.5).astype(int)\n",
    "y = model_data[-1]['valid_targets']\n",
    "\n",
    "f1 = f1_score(y, pred, average='weighted', zero_division=0)\n",
    "iou = jaccard_score(y, pred, average='weighted', zero_division=0)\n",
    "\n",
    "print(f'F1: {round(f1, 3)}\\nIOU: {round(iou, 3)}')"
   ],
   "metadata": {
    "collapsed": false,
    "ExecuteTime": {
     "end_time": "2024-05-15T14:53:22.830942Z",
     "start_time": "2024-05-15T14:53:22.044839Z"
    }
   },
   "id": "5e5ceaf3c7ae5d2a",
   "execution_count": 7
  },
  {
   "cell_type": "code",
   "outputs": [
    {
     "name": "stdout",
     "output_type": "stream",
     "text": [
      "F1: 0.52\n",
      "IOU: 0.448\n"
     ]
    }
   ],
   "source": [
    "with open('model_output/PROGRESS_0_loss_sparcityLoss.pickle', 'rb') as file:\n",
    "    model_data = pickle.load(file)   \n",
    "\n",
    "pred = (model_data[-1]['valid_outputs'] >= 0.5).astype(int)\n",
    "y = model_data[-1]['valid_targets']\n",
    "\n",
    "f1 = f1_score(y, pred, average='weighted', zero_division=0)\n",
    "iou = jaccard_score(y, pred, average='weighted', zero_division=0)\n",
    "\n",
    "print(f'F1: {round(f1, 3)}\\nIOU: {round(iou, 3)}')"
   ],
   "metadata": {
    "collapsed": false,
    "ExecuteTime": {
     "end_time": "2024-05-15T14:53:23.632149Z",
     "start_time": "2024-05-15T14:53:22.831935Z"
    }
   },
   "id": "d82951a8a7ac403b",
   "execution_count": 8
  },
  {
   "cell_type": "code",
   "outputs": [],
   "source": [],
   "metadata": {
    "collapsed": false,
    "ExecuteTime": {
     "end_time": "2024-04-02T15:31:54.551751Z",
     "start_time": "2024-04-02T15:31:54.537799Z"
    }
   },
   "id": "5ae67691b1ac0f42",
   "execution_count": 7
  }
 ],
 "metadata": {
  "kernelspec": {
   "display_name": "Python 3",
   "language": "python",
   "name": "python3"
  },
  "language_info": {
   "codemirror_mode": {
    "name": "ipython",
    "version": 2
   },
   "file_extension": ".py",
   "mimetype": "text/x-python",
   "name": "python",
   "nbconvert_exporter": "python",
   "pygments_lexer": "ipython2",
   "version": "2.7.6"
  }
 },
 "nbformat": 4,
 "nbformat_minor": 5
}
