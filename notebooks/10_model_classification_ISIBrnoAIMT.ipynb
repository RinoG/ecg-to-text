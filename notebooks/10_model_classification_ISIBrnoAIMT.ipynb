{
 "cells": [
  {
   "cell_type": "markdown",
   "source": [
    "# ISIBrno-AIMT\n",
    "ISIBrno-AIMT is the winner of the [Will Two Do?](https://physionet.org/content/challenge-2021/1.0.3/sources/) challenge from [physionet.org](https://physionet.org/) \n",
    "\n",
    "[Source Code](https://physionet.org/static/published-projects/challenge-2021/1.0.3/sources/ISIBrnoAIMT.zip)\n",
    "[Paper](https://www.cinc.org/archives/2021/pdf/CinC2021-014.pdf)\n",
    "[leaderboard](https://moody-challenge.physionet.org/2021/results/)"
   ],
   "metadata": {
    "collapsed": false
   },
   "id": "a195e52a52decb2a"
  },
  {
   "cell_type": "markdown",
   "source": [
    "## training metrics"
   ],
   "metadata": {
    "collapsed": false
   },
   "id": "482c853e9bb0bfb4"
  },
  {
   "cell_type": "code",
   "outputs": [],
   "source": [
    "import pickle\n",
    "import os\n",
    "import pandas as pd\n",
    "from sklearn.metrics import f1_score, jaccard_score, confusion_matrix, precision_score, recall_score, accuracy_score"
   ],
   "metadata": {
    "collapsed": true,
    "ExecuteTime": {
     "end_time": "2024-04-12T09:26:15.695206Z",
     "start_time": "2024-04-12T09:26:15.691206Z"
    }
   },
   "id": "initial_id",
   "execution_count": 7
  },
  {
   "cell_type": "code",
   "outputs": [],
   "source": [
    "os.chdir('../../models/m01_ISIBrnoAIMT')"
   ],
   "metadata": {
    "collapsed": false,
    "ExecuteTime": {
     "end_time": "2024-04-12T09:19:47.542333Z",
     "start_time": "2024-04-12T09:19:47.528328Z"
    }
   },
   "id": "5b78b990737513dc",
   "execution_count": 2
  },
  {
   "cell_type": "code",
   "outputs": [
    {
     "name": "stdout",
     "output_type": "stream",
     "text": [
      "Train AUPRC: 0.4164318571099548\n",
      "Valid AUPRC: 0.3952427512410171\n"
     ]
    }
   ],
   "source": [
    "with open('model_output/PROGRESS_0_loss_chloss.pickle', 'rb') as file:\n",
    "    model_data = pickle.load(file)   \n",
    "print(f\"Train AUPRC: {model_data[-1]['train_auprc']}\")\n",
    "print(f\"Valid AUPRC: {model_data[-1]['valid_auprc']}\")"
   ],
   "metadata": {
    "collapsed": false,
    "ExecuteTime": {
     "end_time": "2024-04-12T09:20:15.335831Z",
     "start_time": "2024-04-12T09:20:08.643870Z"
    }
   },
   "id": "fc8b855ec2004446",
   "execution_count": 4
  },
  {
   "cell_type": "code",
   "outputs": [
    {
     "name": "stdout",
     "output_type": "stream",
     "text": [
      "F1: 0.719\n",
      "IOU: 0.611\n"
     ]
    },
    {
     "name": "stderr",
     "output_type": "stream",
     "text": [
      "C:\\Users\\rino001\\PycharmProjects\\ecg-to-text\\venv\\lib\\site-packages\\sklearn\\metrics\\_classification.py:1760: UndefinedMetricWarning: F-score is ill-defined and being set to 0.0 in labels with no true nor predicted samples. Use `zero_division` parameter to control this behavior.\n",
      "  _warn_prf(average, \"true nor predicted\", \"F-score is\", len(true_sum))\n",
      "C:\\Users\\rino001\\PycharmProjects\\ecg-to-text\\venv\\lib\\site-packages\\sklearn\\metrics\\_classification.py:1471: UndefinedMetricWarning: Jaccard is ill-defined and being set to 0.0 in labels with no true or predicted samples. Use `zero_division` parameter to control this behavior.\n",
      "  _warn_prf(average, modifier, msg_start, len(result))\n"
     ]
    }
   ],
   "source": [
    "pred = (model_data[-1]['valid_outputs'] >= 0.5).astype(int)\n",
    "y = model_data[-1]['valid_targets']\n",
    "\n",
    "f1 = f1_score(y, pred, average='weighted')\n",
    "iou = jaccard_score(y, pred, average='weighted')\n",
    "\n",
    "print(f'F1: {round(f1, 3)}\\nIOU: {round(iou, 3)}')"
   ],
   "metadata": {
    "collapsed": false,
    "ExecuteTime": {
     "end_time": "2024-04-12T09:20:15.381835Z",
     "start_time": "2024-04-12T09:20:15.338832Z"
    }
   },
   "id": "d33f89aa3f2bdcd",
   "execution_count": 5
  },
  {
   "cell_type": "code",
   "outputs": [
    {
     "name": "stderr",
     "output_type": "stream",
     "text": [
      "C:\\Users\\rino001\\PycharmProjects\\ecg-to-text\\venv\\lib\\site-packages\\sklearn\\metrics\\_classification.py:1760: UndefinedMetricWarning: F-score is ill-defined and being set to 0.0 due to no true nor predicted samples. Use `zero_division` parameter to control this behavior.\n",
      "  _warn_prf(average, \"true nor predicted\", \"F-score is\", len(true_sum))\n",
      "C:\\Users\\rino001\\PycharmProjects\\ecg-to-text\\venv\\lib\\site-packages\\sklearn\\metrics\\_classification.py:1760: UndefinedMetricWarning: F-score is ill-defined and being set to 0.0 due to no true nor predicted samples. Use `zero_division` parameter to control this behavior.\n",
      "  _warn_prf(average, \"true nor predicted\", \"F-score is\", len(true_sum))\n",
      "C:\\Users\\rino001\\PycharmProjects\\ecg-to-text\\venv\\lib\\site-packages\\sklearn\\metrics\\_classification.py:1760: UndefinedMetricWarning: F-score is ill-defined and being set to 0.0 due to no true nor predicted samples. Use `zero_division` parameter to control this behavior.\n",
      "  _warn_prf(average, \"true nor predicted\", \"F-score is\", len(true_sum))\n",
      "C:\\Users\\rino001\\PycharmProjects\\ecg-to-text\\venv\\lib\\site-packages\\sklearn\\metrics\\_classification.py:1760: UndefinedMetricWarning: F-score is ill-defined and being set to 0.0 due to no true nor predicted samples. Use `zero_division` parameter to control this behavior.\n",
      "  _warn_prf(average, \"true nor predicted\", \"F-score is\", len(true_sum))\n"
     ]
    },
    {
     "data": {
      "text/plain": "                                               Label        f1  precision  \\\n0                                atrial fibrillation  0.830946   0.734177   \n1                                     atrial flutter  0.000000   0.000000   \n2                                bundle branch block  0.000000   0.000000   \n3                                        bradycardia  0.000000   0.000000   \n4                  complete left bundle branch block  0.838710   0.742857   \n5                 complete right bundle branch block  0.743243   0.604396   \n6                                1st degree av block  0.512727   0.363402   \n7               incomplete right bundle branch block  0.511955   0.373717   \n8                                left axis deviation  0.666441   0.511713   \n9                     left anterior fascicular block  0.680365   0.540835   \n10                             prolonged pr interval  0.355263   0.227848   \n11                                  low qrs voltages  0.000000   0.000000   \n12                             prolonged qt interval  0.000000   0.000000   \n13  nonspecific intraventricular conduction disorder  0.220561   0.156499   \n14                                      sinus rhythm  0.906086   0.828297   \n15                      premature atrial contraction  0.382775   0.260586   \n16                                     pacing rhythm  0.817391   0.839286   \n17                           poor R wave Progression  0.000000   0.000000   \n18                premature ventricular contractions  0.000000   0.000000   \n19                                    qwave abnormal  0.063927   0.065421   \n20                              right axis deviation  0.537313   0.412214   \n21                                  sinus arrhythmia  0.000000   0.000000   \n22                                 sinus bradycardia  0.591065   0.524390   \n23                                 sinus tachycardia  0.801020   0.691630   \n24                                   t wave abnormal  0.407873   0.274265   \n25                                  t wave inversion  0.000000   0.000000   \n\n      recall  accuracy  \n0   0.957096  0.972985  \n1   0.000000  0.996566  \n2   0.000000  1.000000  \n3   0.000000  1.000000  \n4   0.962963  0.990842  \n5   0.964912  0.982601  \n6   0.870370  0.938645  \n7   0.812500  0.920559  \n8   0.955296  0.774725  \n9   0.916923  0.935897  \n10  0.805970  0.955128  \n11  0.000000  0.991758  \n12  0.000000  0.994505  \n13  0.373418  0.904533  \n14  1.000000  0.828297  \n15  0.720721  0.940934  \n16  0.796610  0.995192  \n17  0.000000  1.000000  \n18  0.000000  1.000000  \n19  0.062500  0.953068  \n20  0.771429  0.978709  \n21  0.000000  0.964744  \n22  0.677165  0.972756  \n23  0.951515  0.982143  \n24  0.795309  0.752060  \n25  0.000000  0.986264  ",
      "text/html": "<div>\n<style scoped>\n    .dataframe tbody tr th:only-of-type {\n        vertical-align: middle;\n    }\n\n    .dataframe tbody tr th {\n        vertical-align: top;\n    }\n\n    .dataframe thead th {\n        text-align: right;\n    }\n</style>\n<table border=\"1\" class=\"dataframe\">\n  <thead>\n    <tr style=\"text-align: right;\">\n      <th></th>\n      <th>Label</th>\n      <th>f1</th>\n      <th>precision</th>\n      <th>recall</th>\n      <th>accuracy</th>\n    </tr>\n  </thead>\n  <tbody>\n    <tr>\n      <th>0</th>\n      <td>atrial fibrillation</td>\n      <td>0.830946</td>\n      <td>0.734177</td>\n      <td>0.957096</td>\n      <td>0.972985</td>\n    </tr>\n    <tr>\n      <th>1</th>\n      <td>atrial flutter</td>\n      <td>0.000000</td>\n      <td>0.000000</td>\n      <td>0.000000</td>\n      <td>0.996566</td>\n    </tr>\n    <tr>\n      <th>2</th>\n      <td>bundle branch block</td>\n      <td>0.000000</td>\n      <td>0.000000</td>\n      <td>0.000000</td>\n      <td>1.000000</td>\n    </tr>\n    <tr>\n      <th>3</th>\n      <td>bradycardia</td>\n      <td>0.000000</td>\n      <td>0.000000</td>\n      <td>0.000000</td>\n      <td>1.000000</td>\n    </tr>\n    <tr>\n      <th>4</th>\n      <td>complete left bundle branch block</td>\n      <td>0.838710</td>\n      <td>0.742857</td>\n      <td>0.962963</td>\n      <td>0.990842</td>\n    </tr>\n    <tr>\n      <th>5</th>\n      <td>complete right bundle branch block</td>\n      <td>0.743243</td>\n      <td>0.604396</td>\n      <td>0.964912</td>\n      <td>0.982601</td>\n    </tr>\n    <tr>\n      <th>6</th>\n      <td>1st degree av block</td>\n      <td>0.512727</td>\n      <td>0.363402</td>\n      <td>0.870370</td>\n      <td>0.938645</td>\n    </tr>\n    <tr>\n      <th>7</th>\n      <td>incomplete right bundle branch block</td>\n      <td>0.511955</td>\n      <td>0.373717</td>\n      <td>0.812500</td>\n      <td>0.920559</td>\n    </tr>\n    <tr>\n      <th>8</th>\n      <td>left axis deviation</td>\n      <td>0.666441</td>\n      <td>0.511713</td>\n      <td>0.955296</td>\n      <td>0.774725</td>\n    </tr>\n    <tr>\n      <th>9</th>\n      <td>left anterior fascicular block</td>\n      <td>0.680365</td>\n      <td>0.540835</td>\n      <td>0.916923</td>\n      <td>0.935897</td>\n    </tr>\n    <tr>\n      <th>10</th>\n      <td>prolonged pr interval</td>\n      <td>0.355263</td>\n      <td>0.227848</td>\n      <td>0.805970</td>\n      <td>0.955128</td>\n    </tr>\n    <tr>\n      <th>11</th>\n      <td>low qrs voltages</td>\n      <td>0.000000</td>\n      <td>0.000000</td>\n      <td>0.000000</td>\n      <td>0.991758</td>\n    </tr>\n    <tr>\n      <th>12</th>\n      <td>prolonged qt interval</td>\n      <td>0.000000</td>\n      <td>0.000000</td>\n      <td>0.000000</td>\n      <td>0.994505</td>\n    </tr>\n    <tr>\n      <th>13</th>\n      <td>nonspecific intraventricular conduction disorder</td>\n      <td>0.220561</td>\n      <td>0.156499</td>\n      <td>0.373418</td>\n      <td>0.904533</td>\n    </tr>\n    <tr>\n      <th>14</th>\n      <td>sinus rhythm</td>\n      <td>0.906086</td>\n      <td>0.828297</td>\n      <td>1.000000</td>\n      <td>0.828297</td>\n    </tr>\n    <tr>\n      <th>15</th>\n      <td>premature atrial contraction</td>\n      <td>0.382775</td>\n      <td>0.260586</td>\n      <td>0.720721</td>\n      <td>0.940934</td>\n    </tr>\n    <tr>\n      <th>16</th>\n      <td>pacing rhythm</td>\n      <td>0.817391</td>\n      <td>0.839286</td>\n      <td>0.796610</td>\n      <td>0.995192</td>\n    </tr>\n    <tr>\n      <th>17</th>\n      <td>poor R wave Progression</td>\n      <td>0.000000</td>\n      <td>0.000000</td>\n      <td>0.000000</td>\n      <td>1.000000</td>\n    </tr>\n    <tr>\n      <th>18</th>\n      <td>premature ventricular contractions</td>\n      <td>0.000000</td>\n      <td>0.000000</td>\n      <td>0.000000</td>\n      <td>1.000000</td>\n    </tr>\n    <tr>\n      <th>19</th>\n      <td>qwave abnormal</td>\n      <td>0.063927</td>\n      <td>0.065421</td>\n      <td>0.062500</td>\n      <td>0.953068</td>\n    </tr>\n    <tr>\n      <th>20</th>\n      <td>right axis deviation</td>\n      <td>0.537313</td>\n      <td>0.412214</td>\n      <td>0.771429</td>\n      <td>0.978709</td>\n    </tr>\n    <tr>\n      <th>21</th>\n      <td>sinus arrhythmia</td>\n      <td>0.000000</td>\n      <td>0.000000</td>\n      <td>0.000000</td>\n      <td>0.964744</td>\n    </tr>\n    <tr>\n      <th>22</th>\n      <td>sinus bradycardia</td>\n      <td>0.591065</td>\n      <td>0.524390</td>\n      <td>0.677165</td>\n      <td>0.972756</td>\n    </tr>\n    <tr>\n      <th>23</th>\n      <td>sinus tachycardia</td>\n      <td>0.801020</td>\n      <td>0.691630</td>\n      <td>0.951515</td>\n      <td>0.982143</td>\n    </tr>\n    <tr>\n      <th>24</th>\n      <td>t wave abnormal</td>\n      <td>0.407873</td>\n      <td>0.274265</td>\n      <td>0.795309</td>\n      <td>0.752060</td>\n    </tr>\n    <tr>\n      <th>25</th>\n      <td>t wave inversion</td>\n      <td>0.000000</td>\n      <td>0.000000</td>\n      <td>0.000000</td>\n      <td>0.986264</td>\n    </tr>\n  </tbody>\n</table>\n</div>"
     },
     "execution_count": 13,
     "metadata": {},
     "output_type": "execute_result"
    }
   ],
   "source": [
    "f1_scores_per_label = [f1_score(y[:, i], pred[:, i]) for i in range(y.shape[1])]\n",
    "\n",
    "classes = ['164889003','164890007','6374002','426627000','733534002',\n",
    "               '713427006','270492004','713426002','39732003','445118002',\n",
    "               '164947007','251146004','111975006','698252002','426783006',\n",
    "               '284470004','10370003','365413008','427172004','164917005',\n",
    "               '47665007','427393009','426177001','427084000','164934002',\n",
    "               '59931005']\n",
    "\n",
    "dx_mapping_df = pd.read_csv('dx_mapping_scored.csv')\n",
    "class_to_dx_mapping = dict(zip(dx_mapping_df['SNOMEDCTCode'], dx_mapping_df['Dx']))\n",
    "dx_names_ordered = [class_to_dx_mapping[int(cls)] for cls in classes if int(cls) in class_to_dx_mapping]\n",
    "\n",
    "performance_data = []\n",
    "for i in range(y.shape[1]):\n",
    "    f1 = f1_score(y[:, i], pred[:, i], zero_division=0)\n",
    "    precision = precision_score(y[:, i], pred[:, i], zero_division=0)\n",
    "    recall = recall_score(y[:, i], pred[:, i], zero_division=0)\n",
    "    accuracy = accuracy_score(y[:, i], pred[:, i])\n",
    "    \n",
    "    # Append the results to the list\n",
    "    performance_data.append({'Label': dx_names_ordered[i], 'f1': f1, 'precision': precision, 'recall': recall, 'accuracy': accuracy})\n",
    "\n",
    "# Convert the list of dicts into a DataFrame\n",
    "performance_summary = pd.DataFrame(performance_data)\n",
    "\n",
    "performance_summary"
   ],
   "metadata": {
    "collapsed": false,
    "ExecuteTime": {
     "end_time": "2024-04-12T09:28:40.783382Z",
     "start_time": "2024-04-12T09:28:40.634379Z"
    }
   },
   "id": "1486e539de9a65a9",
   "execution_count": 13
  },
  {
   "cell_type": "code",
   "outputs": [
    {
     "name": "stdout",
     "output_type": "stream",
     "text": [
      "Train AUPRC: 0.07767938243977235\n",
      "Valid AUPRC: 0.08222211673495658\n"
     ]
    }
   ],
   "source": [
    "with open('model_output/PROGRESS_1.pickle', 'rb') as file:\n",
    "    model_data = pickle.load(file)\n",
    "\n",
    "print(f\"Train AUPRC: {model_data[-1]['train_auprc']}\")\n",
    "print(f\"Valid AUPRC: {model_data[-1]['valid_auprc']}\")"
   ],
   "metadata": {
    "collapsed": false,
    "ExecuteTime": {
     "end_time": "2024-04-08T17:50:00.742178Z",
     "start_time": "2024-04-08T17:49:59.562127Z"
    }
   },
   "id": "3811e3f57bfd7152",
   "execution_count": 7
  },
  {
   "cell_type": "code",
   "outputs": [
    {
     "name": "stdout",
     "output_type": "stream",
     "text": [
      "Train AUPRC: 0.5211336385361489\n",
      "Valid AUPRC: 0.48489778804205924\n"
     ]
    }
   ],
   "source": [
    "with open('model_output/PROGRESS_2.pickle', 'rb') as file:\n",
    "    model_data = pickle.load(file)\n",
    "\n",
    "print(f\"Train AUPRC: {model_data[-1]['train_auprc']}\")\n",
    "print(f\"Valid AUPRC: {model_data[-1]['valid_auprc']}\")"
   ],
   "metadata": {
    "collapsed": false,
    "ExecuteTime": {
     "end_time": "2024-04-02T15:31:54.520855Z",
     "start_time": "2024-04-02T15:31:53.829258Z"
    }
   },
   "id": "5e5ceaf3c7ae5d2a",
   "execution_count": 7
  },
  {
   "cell_type": "code",
   "outputs": [],
   "source": [],
   "metadata": {
    "collapsed": false,
    "ExecuteTime": {
     "end_time": "2024-04-02T15:31:54.536802Z",
     "start_time": "2024-04-02T15:31:54.521852Z"
    }
   },
   "id": "d82951a8a7ac403b",
   "execution_count": 7
  },
  {
   "cell_type": "code",
   "outputs": [],
   "source": [],
   "metadata": {
    "collapsed": false,
    "ExecuteTime": {
     "end_time": "2024-04-02T15:31:54.551751Z",
     "start_time": "2024-04-02T15:31:54.537799Z"
    }
   },
   "id": "5ae67691b1ac0f42",
   "execution_count": 7
  }
 ],
 "metadata": {
  "kernelspec": {
   "display_name": "Python 3",
   "language": "python",
   "name": "python3"
  },
  "language_info": {
   "codemirror_mode": {
    "name": "ipython",
    "version": 2
   },
   "file_extension": ".py",
   "mimetype": "text/x-python",
   "name": "python",
   "nbconvert_exporter": "python",
   "pygments_lexer": "ipython2",
   "version": "2.7.6"
  }
 },
 "nbformat": 4,
 "nbformat_minor": 5
}
