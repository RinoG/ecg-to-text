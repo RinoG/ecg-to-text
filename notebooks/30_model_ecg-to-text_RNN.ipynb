{
 "cells": [
  {
   "cell_type": "markdown",
   "source": [
    "# RNN Encoder with Attention Decoder\n",
    "Encoder and Decoder was taken from the [sequence to sequence tutorial](https://pytorch.org/tutorials/intermediate/seq2seq_translation_tutorial.html) from Pytorch."
   ],
   "metadata": {
    "collapsed": false
   },
   "id": "a195e52a52decb2a"
  },
  {
   "cell_type": "code",
   "outputs": [],
   "source": [
    "import pickle\n",
    "import os\n",
    "import sys\n",
    "import torch\n",
    "import pandas as pd\n",
    "from sklearn.metrics import f1_score, jaccard_score, confusion_matrix, precision_score, recall_score, accuracy_score\n",
    "\n",
    "from models.m03_EcgToText_RNN.dataset import *\n",
    "from models.m03_EcgToText_RNN.model import *\n",
    "from models.m03_EcgToText_RNN.train import *"
   ],
   "metadata": {
    "collapsed": true,
    "ExecuteTime": {
     "end_time": "2024-05-23T12:29:44.795254Z",
     "start_time": "2024-05-23T12:29:41.416459Z"
    }
   },
   "id": "initial_id",
   "execution_count": 1
  },
  {
   "cell_type": "code",
   "outputs": [],
   "source": [
    "os.chdir('..')"
   ],
   "metadata": {
    "collapsed": false,
    "ExecuteTime": {
     "end_time": "2024-05-23T12:29:44.810238Z",
     "start_time": "2024-05-23T12:29:44.796251Z"
    }
   },
   "id": "5b78b990737513dc",
   "execution_count": 2
  },
  {
   "cell_type": "markdown",
   "source": [
    "## Setup Model"
   ],
   "metadata": {
    "collapsed": false
   },
   "id": "2e063956f12e2c48"
  },
  {
   "cell_type": "code",
   "outputs": [],
   "source": [
    "torch.manual_seed(42)\n",
    "\n",
    "device = torch.device(\"cuda\" if torch.cuda.is_available() else \"cpu\")\n",
    "\n",
    "language, dataloader = get_dataloader(file_path='./data_ptb-xl', batch_size=64, mode='train', device=device)\n",
    "_, val_dataloader = get_dataloader(file_path='./data_ptb-xl', batch_size=64, mode='val', device=device, _lang=language)\n",
    "\n",
    "n_epochs=50\n",
    "hidden_size = 256\n",
    "criterion = nn.NLLLoss()\n",
    "\n",
    "encoder = EncoderRNN(num_leads=12,\n",
    "                     hidden_size=hidden_size).to(device)\n",
    "decoder = AttnDecoderRNN(hidden_size=hidden_size,\n",
    "                         encoder_hidden_size=hidden_size,\n",
    "                         output_size=language.n_words,\n",
    "                         max_len=language.max_len).to(device)"
   ],
   "metadata": {
    "collapsed": false,
    "ExecuteTime": {
     "end_time": "2024-05-23T12:30:54.577006Z",
     "start_time": "2024-05-23T12:29:44.811234Z"
    }
   },
   "id": "3e014e24b0476607",
   "execution_count": 3
  },
  {
   "cell_type": "code",
   "outputs": [],
   "source": [
    "def count_parameters(model):\n",
    "    return sum(p.numel() for p in model.parameters() if p.requires_grad)"
   ],
   "metadata": {
    "collapsed": false,
    "ExecuteTime": {
     "end_time": "2024-05-23T12:30:54.592971Z",
     "start_time": "2024-05-23T12:30:54.578002Z"
    }
   },
   "id": "2d7890b865384133",
   "execution_count": 4
  },
  {
   "cell_type": "code",
   "outputs": [
    {
     "name": "stdout",
     "output_type": "stream",
     "text": [
      "Number of parameters in Encoder: 242280\n"
     ]
    },
    {
     "data": {
      "text/plain": "EncoderRNN(\n  (conv1): Conv1d(12, 24, kernel_size=(5,), stride=(1,), padding=(2,))\n  (pool1): MaxPool1d(kernel_size=4, stride=4, padding=0, dilation=1, ceil_mode=False)\n  (conv2): Conv1d(24, 48, kernel_size=(5,), stride=(1,), padding=(2,))\n  (pool2): MaxPool1d(kernel_size=4, stride=4, padding=0, dilation=1, ceil_mode=False)\n  (dropout): Dropout(p=0.1, inplace=False)\n  (gru): GRU(48, 256, batch_first=True)\n)"
     },
     "execution_count": 5,
     "metadata": {},
     "output_type": "execute_result"
    }
   ],
   "source": [
    "n_param = count_parameters(encoder)\n",
    "print(f\"Number of parameters in Encoder: {n_param}\")\n",
    "encoder"
   ],
   "metadata": {
    "collapsed": false,
    "ExecuteTime": {
     "end_time": "2024-05-23T12:30:54.654844Z",
     "start_time": "2024-05-23T12:30:54.595965Z"
    }
   },
   "id": "8e7cde996a9ba9df",
   "execution_count": 5
  },
  {
   "cell_type": "code",
   "outputs": [
    {
     "name": "stdout",
     "output_type": "stream",
     "text": [
      "Number of parameters in Decoder: 2218724\n"
     ]
    },
    {
     "data": {
      "text/plain": "AttnDecoderRNN(\n  (hidden_transform): Linear(in_features=256, out_features=256, bias=True)\n  (embedding): Embedding(2787, 256)\n  (attention): BahdanauAttention(\n    (Wa): Linear(in_features=256, out_features=256, bias=True)\n    (Ua): Linear(in_features=256, out_features=256, bias=True)\n    (Va): Linear(in_features=256, out_features=1, bias=True)\n  )\n  (gru): GRU(512, 256, batch_first=True)\n  (out): Linear(in_features=256, out_features=2787, bias=True)\n  (dropout): Dropout(p=0.1, inplace=False)\n)"
     },
     "execution_count": 6,
     "metadata": {},
     "output_type": "execute_result"
    }
   ],
   "source": [
    "n_param = count_parameters(decoder)\n",
    "print(f\"Number of parameters in Decoder: {n_param}\")\n",
    "decoder "
   ],
   "metadata": {
    "collapsed": false,
    "ExecuteTime": {
     "end_time": "2024-05-23T12:30:54.669814Z",
     "start_time": "2024-05-23T12:30:54.655842Z"
    }
   },
   "id": "16a99556050d5ca7",
   "execution_count": 6
  },
  {
   "cell_type": "markdown",
   "source": [
    "## Train"
   ],
   "metadata": {
    "collapsed": false
   },
   "id": "5f2221ec54fc9490"
  },
  {
   "cell_type": "code",
   "outputs": [
    {
     "name": "stdout",
     "output_type": "stream",
     "text": [
      "1m 4s (- 52m 46s) (1 2.0%) | Train Loss: 0.5825 | Val METEOR: 0.3122\n",
      "2m 6s (- 50m 33s) (2 4.0%) | Train Loss: 0.266 | Val METEOR: 0.3364\n",
      "3m 6s (- 48m 46s) (3 6.0%) | Train Loss: 0.2304 | Val METEOR: 0.3507\n",
      "4m 10s (- 47m 55s) (4 8.0%) | Train Loss: 0.2077 | Val METEOR: 0.3676\n",
      "5m 13s (- 47m 2s) (5 10.0%) | Train Loss: 0.1883 | Val METEOR: 0.3728\n",
      "6m 14s (- 45m 47s) (6 12.0%) | Train Loss: 0.1719 | Val METEOR: 0.4039\n",
      "7m 17s (- 44m 45s) (7 14.0%) | Train Loss: 0.1586 | Val METEOR: 0.4032\n",
      "8m 19s (- 43m 41s) (8 16.0%) | Train Loss: 0.1484 | Val METEOR: 0.443\n",
      "9m 20s (- 42m 33s) (9 18.0%) | Train Loss: 0.1393 | Val METEOR: 0.4168\n",
      "10m 24s (- 41m 36s) (10 20.0%) | Train Loss: 0.1315 | Val METEOR: 0.4289\n",
      "11m 26s (- 40m 33s) (11 22.0%) | Train Loss: 0.1255 | Val METEOR: 0.4491\n",
      "12m 27s (- 39m 25s) (12 24.0%) | Train Loss: 0.1191 | Val METEOR: 0.4282\n",
      "13m 29s (- 38m 25s) (13 26.0%) | Train Loss: 0.1141 | Val METEOR: 0.4398\n",
      "14m 32s (- 37m 23s) (14 28.0%) | Train Loss: 0.109 | Val METEOR: 0.4538\n",
      "15m 33s (- 36m 17s) (15 30.0%) | Train Loss: 0.1042 | Val METEOR: 0.4583\n",
      "16m 36s (- 35m 16s) (16 32.0%) | Train Loss: 0.0996 | Val METEOR: 0.4194\n",
      "17m 38s (- 34m 15s) (17 34.0%) | Train Loss: 0.0959 | Val METEOR: 0.4472\n",
      "18m 39s (- 33m 10s) (18 36.0%) | Train Loss: 0.092 | Val METEOR: 0.4649\n",
      "19m 42s (- 32m 9s) (19 38.0%) | Train Loss: 0.0882 | Val METEOR: 0.4427\n",
      "20m 44s (- 31m 7s) (20 40.0%) | Train Loss: 0.0847 | Val METEOR: 0.4673\n",
      "21m 47s (- 30m 5s) (21 42.0%) | Train Loss: 0.0818 | Val METEOR: 0.4575\n",
      "22m 49s (- 29m 3s) (22 44.0%) | Train Loss: 0.0779 | Val METEOR: 0.4446\n",
      "23m 50s (- 27m 59s) (23 46.0%) | Train Loss: 0.0755 | Val METEOR: 0.455\n",
      "24m 53s (- 26m 57s) (24 48.0%) | Train Loss: 0.0724 | Val METEOR: 0.4577\n",
      "25m 55s (- 25m 55s) (25 50.0%) | Train Loss: 0.0692 | Val METEOR: 0.4494\n",
      "26m 56s (- 24m 52s) (26 52.0%) | Train Loss: 0.0666 | Val METEOR: 0.4389\n",
      "27m 59s (- 23m 50s) (27 54.0%) | Train Loss: 0.0643 | Val METEOR: 0.4532\n",
      "29m 2s (- 22m 48s) (28 56.0%) | Train Loss: 0.0622 | Val METEOR: 0.4584\n",
      "30m 3s (- 21m 45s) (29 58.0%) | Train Loss: 0.0594 | Val METEOR: 0.4449\n",
      "31m 6s (- 20m 44s) (30 60.0%) | Train Loss: 0.0582 | Val METEOR: 0.4664\n",
      "No improvement in meteor score for 10 consecutive epochs. Stopping early.\n"
     ]
    }
   ],
   "source": [
    "torch.manual_seed(42)\n",
    "\n",
    "train(dataloader, val_dataloader, encoder, decoder, criterion, language, n_epochs)"
   ],
   "metadata": {
    "collapsed": false,
    "ExecuteTime": {
     "end_time": "2024-05-23T13:02:00.793161Z",
     "start_time": "2024-05-23T12:30:54.670812Z"
    }
   },
   "id": "16b2e304eb3e7c63",
   "execution_count": 7
  },
  {
   "cell_type": "code",
   "outputs": [],
   "source": [
    "# save parameters\n",
    "# torch.save(encoder.state_dict(), './models/m03_EcgToText_RNN/saved_models/EncoderRNN.pth')\n",
    "# torch.save(decoder.state_dict(), './models/m03_EcgToText_RNN/saved_models/DecoderRNN.pth')"
   ],
   "metadata": {
    "collapsed": false,
    "ExecuteTime": {
     "end_time": "2024-05-23T13:02:00.809136Z",
     "start_time": "2024-05-23T13:02:00.794157Z"
    }
   },
   "id": "9463eb23706e7b15",
   "execution_count": 8
  },
  {
   "cell_type": "code",
   "outputs": [
    {
     "data": {
      "text/plain": "<All keys matched successfully>"
     },
     "execution_count": 9,
     "metadata": {},
     "output_type": "execute_result"
    }
   ],
   "source": [
    "# load parameters\n",
    "hidden_size = 256\n",
    "\n",
    "encoder = EncoderRNN(num_leads=12,\n",
    "                     hidden_size=hidden_size).to(device)\n",
    "decoder = AttnDecoderRNN(hidden_size=hidden_size,\n",
    "                         encoder_hidden_size=hidden_size,\n",
    "                         output_size=language.n_words,\n",
    "                         max_len=language.max_len).to(device)\n",
    "\n",
    "encoder.load_state_dict(torch.load('./models/m03_EcgToText_RNN/saved_models/EncoderRNN.pth'))\n",
    "decoder.load_state_dict(torch.load('./models/m03_EcgToText_RNN/saved_models/DecoderRNN.pth'))"
   ],
   "metadata": {
    "collapsed": false,
    "ExecuteTime": {
     "end_time": "2024-05-23T13:02:00.886466Z",
     "start_time": "2024-05-23T13:02:00.811129Z"
    }
   },
   "id": "f630ec023e6bcf8c",
   "execution_count": 9
  },
  {
   "cell_type": "markdown",
   "source": [
    "## Test"
   ],
   "metadata": {
    "collapsed": false
   },
   "id": "dedde6e9c9552452"
  },
  {
   "cell_type": "code",
   "outputs": [
    {
     "name": "stdout",
     "output_type": "stream",
     "text": [
      "Test Loss:    3.18871\n",
      "F1:           0.43462\n",
      "Jaccard:      0.32197\n",
      "Rouge-1 (p):  0.566\n",
      "Rouge-1 (r):  0.606\n",
      "Rouge-1 (f1): 0.561\n",
      "Rouge-2 (p):  0.424\n",
      "Rouge-2 (r):  0.451\n",
      "Rouge-2 (f1): 0.416\n",
      "Rouge-L (p):  0.562\n",
      "Rouge-L (r):  0.602\n",
      "Rouge-L (f1): 0.556\n",
      "METEOR:       0.464\n"
     ]
    }
   ],
   "source": [
    "_, test_dataloader = get_dataloader(file_path='./data_ptb-xl', batch_size=64, mode='test', device=device, _lang=language)\n",
    "\n",
    "total_loss, f1, jaccard, rouge, meteor = validate_epoch(test_dataloader, encoder, decoder, criterion, language)\n",
    "\n",
    "print(f'Test Loss:    {round(total_loss, 5)}')\n",
    "print(f'F1:           {round(f1, 5)}')\n",
    "print(f'Jaccard:      {round(jaccard, 5)}')\n",
    "print(f'Rouge-1 (p):  {round(rouge[\"rouge-1\"][\"p\"], 3)}')\n",
    "print(f'Rouge-1 (r):  {round(rouge[\"rouge-1\"][\"r\"], 3)}')\n",
    "print(f'Rouge-1 (f1): {round(rouge[\"rouge-1\"][\"f\"], 3)}')\n",
    "print(f'Rouge-2 (p):  {round(rouge[\"rouge-2\"][\"p\"], 3)}')\n",
    "print(f'Rouge-2 (r):  {round(rouge[\"rouge-2\"][\"r\"], 3)}')\n",
    "print(f'Rouge-2 (f1): {round(rouge[\"rouge-2\"][\"f\"], 3)}')\n",
    "print(f'Rouge-L (p):  {round(rouge[\"rouge-l\"][\"p\"], 3)}')\n",
    "print(f'Rouge-L (r):  {round(rouge[\"rouge-l\"][\"r\"], 3)}')\n",
    "print(f'Rouge-L (f1): {round(rouge[\"rouge-l\"][\"f\"], 3)}')\n",
    "print(f'METEOR:       {round(meteor, 3)}')"
   ],
   "metadata": {
    "collapsed": false,
    "ExecuteTime": {
     "end_time": "2024-05-23T13:02:24.464051Z",
     "start_time": "2024-05-23T13:02:00.887460Z"
    }
   },
   "id": "885bf0f23b08b6e8",
   "execution_count": 10
  },
  {
   "cell_type": "code",
   "outputs": [
    {
     "name": "stdout",
     "output_type": "stream",
     "text": [
      "= sinus rhythm. incomplete right bundle branch block.\n",
      "< sinus rhythm. normal ecg.\n",
      "\n",
      "= sinus rhythm. normal ecg.\n",
      "< sinus rhythm position type normal normal ecg\n",
      "\n",
      "= sinus rhythm. normal ecg.\n",
      "< sinus rhythm position type normal incomplete right bundle branch block otherwise normal ecg\n",
      "\n",
      "= sinus rhythm. q waves in ii, iii, avf consistent with old inferior    myocardial infarction. otherwise no definite pathology.\n",
      "< sinus rhythm. q waves in ii, iii, avf consistent with old inferior    myocardial infarction.\n",
      "\n",
      "= sinus rhythm. normal ecg.\n",
      "< sinus rhythm position type normal normal ecg\n",
      "\n",
      "= sinus rhythm qrs(t) abnormal inferior infarction probably old\n",
      "< sinus rhythm position type normal normal ecg\n",
      "\n",
      "= sinus rhythm av block i left type chronic inferior infarction possible intraventricular conduction disturbance path. ecg\n",
      "< sinus rhythm left type qrs(t) abnormal anteroseptal myocardial damage cannot be excluded inferior infarction probable old 4.46 unconfirmed report\n",
      "\n",
      "= sinus rhythm. q waves in ii, iii, avf. st segments are depressed in i, avl, v5,6. t waves are inverted in i, ii, avl, v2-6. consistent with ischaemic heart disease with old inferior myocardial infarction.\n",
      "< sinus rhythm. st segments are depressed in i, ii, avl, v4,5,6. t waves are low or flat in limb leads and v4,5,6. this may be due to lv strain or ischaemia.\n",
      "\n",
      "= sinus rhythm. normal ecg.\n",
      "< sinus rhythm normal ecg\n",
      "\n",
      "= sinus rhythm position type normal normal ecg\n",
      "< sinus rhythm position type normal normal ecg\n",
      "\n",
      "= trace only requested.\n",
      "< sinus rhythm. left bundle branch block, this is most commonly due to    ischaemic heart disease.\n",
      "\n",
      "= sinus rhythm position type normal normal ecg\n",
      "< sinus rhythm position type normal normal ecg\n",
      "\n",
      "= sinus rhythm position type normal normal ecg\n",
      "< sinus rhythm position type normal normal ecg\n",
      "\n",
      "= sinus rhythm. q waves in ii, iii, avf are probably normal. normal ecg.\n",
      "< sinus rhythm position type normal normal ecg\n",
      "\n",
      "= sinus rhythm left type qrs(t) abnormal\n",
      "< sinus rhythm left type otherwise normal ecg\n",
      "\n",
      "= sinus rhythm position type normal normal ecg\n",
      "< sinus rhythm position type normal normal ecg\n",
      "\n",
      "= sinus bradycardia. small lateral q waves noted. early r-s transition in chest leads. otherwise ecg.\n",
      "< sinus bradycardia. the bradycardia may be physiological. st segments are elevated in v2-6, this is probably a    normal variant. otherwise normal ecg.\n",
      "\n",
      "= sinus rhythm position type normal normal ecg\n",
      "< sinus rhythm position type normal normal ecg\n",
      "\n",
      "= tachycardic atrial fibrillation position type normal qrs(t) abnormal anteroseptal infarction probable alt t abnormal in inferior leads\n",
      "< atrial fibrillation with rapid ventricular response. st segments are depressed in i, ii, iii, avf, v4,5,6. t waves are low or flat in limb leads and v4,5,6. findings are likely to be due to ischaemic heart  disease and digitalis effect.\n",
      "\n",
      "= sinus rhythm left type left hypertrophy possible qrs(t) abnormal inferior myocardial damage cannot be excluded 4.46 unconfirmed report\n",
      "< sinus rhythm left type moderate amplitude criteria for left hypertrophy st &amp; t abnormal, probably anterolateral ischemia or left strain inferolateral ischemia or left strain 4.46 unconfirmed report\n",
      "\n",
      "= ventricular extrasystole(s) sinus rhythm suspected p-sinistrocardiale over-rotated left type rs transition in v leads shifted to the right qrs(t) abnormal anterolateral myocardial damage possible inferior infarction possible 4.46\n",
      "< ventricular extrasystole(s) sinus rhythm hyperrotated left type qrs(t) abnormal inferior infarction probable old 4.46 unconfirmed report\n",
      "\n",
      "= sinus rhythm difficult to determine qrs axis\n",
      "< sinus rhythm left type otherwise normal ecg\n",
      "\n",
      "= pacemaker ecg\n",
      "< sinus rhythm. left axis deviation. left bundle branch block, this is most commonly due to    ischaemic heart disease.\n",
      "\n",
      "= tachycardic atrial fibrillation hyperrotated left type left anterior hemiblock qrs(t) abnormal anteroseptal infarction age undetermined st &amp; t abnormal, probably anterior ischemia or left strain lateral ischemia or left strain in\n",
      "< atrial fibrillation with rapid ventricular response. left axis deviation. low limb lead voltage. st segments are depressed in i, ii, avl, v3-6. t waves are low or flat throughout. findings are likely to be due to ischaemic heart  disease and digitalis effect. suggest exclude hypokalaemia.\n",
      "\n",
      "= sinus rhythm position type normal peripheral low voltage av block 1st degree subacute anterior infarction ischemia lateral t neg in persistent st elevation over anterior wall\n",
      "< sinus rhythm position type normal peripheral low voltage qrs(t) abnormal anterior infarction age inconfirmed t abnormal in lateral leads\n",
      "\n",
      "= sinus rhythm normal ecg\n",
      "< sinus rhythm normal ecg\n",
      "\n",
      "= sinus rhythm left type right bundle branch block wpw, type a\n",
      "< sinus rhythm position type normal normal ecg\n",
      "\n",
      "= trace only requested.\n",
      "< sinus rhythm position type normal nonspecific abnormal st depression nonspecific abnormal t\n",
      "\n",
      "= sinus rhythm. prolonged pr interval. non-specific t wave flattening in i, avl. there is a of 2 without an  p it may be due to sinus node dysfunction. holter monitor may be helpful.\n",
      "< atrial fibrillation with rapid ventricular response. otherwise no definite pathology.\n",
      "\n",
      "= sinus rhythm left type nonspecific intraventricular block\n",
      "< sinus rhythm left type peripheral low voltage\n",
      "\n",
      "= atrial fibrillation. st segments are depressed in i, ii, v4,5,6. t waves are low or flat in limb leads and v4. t waves are inverted in v5,6. findings are likely to be due to ischaemic heart    disease.\n",
      "< atrial fibrillation with rapid ventricular response. st segments are depressed in i, ii, avl, avf, v3-6. t waves are low or flat in these leads. findings are likely to be due to ischaemic heart  disease and digitalis effect.\n",
      "\n",
      "= sinus rhythm left type peripheral low voltage normal ecg\n",
      "< sinus rhythm difficult to determine qrs axis low voltage ecg left posterior hemiblock qrs(t) abnormal inferior infarction probably old\n",
      "\n",
      "= sinus rhythm position type normal normal ecg\n",
      "< sinus rhythm normal ecg\n",
      "\n",
      "= sinus rhythm normal ecg\n",
      "< sinus rhythm normal ecg\n",
      "\n",
      "= atrial fibrillation. st segments are depressed in ii, iii, avf, v4,5,6. t waves are low throughout and inverted in v4,5,6. findings are likely to be due to ischaemic heart  disease and digitalis effect.\n",
      "< atrial fibrillation. st segments are depressed in i, ii, iii, avf, v3-6. t waves are low or flat in limb leads and v4,5,6. findings are likely to be due to ischaemic heart  disease and digitalis effect.\n",
      "\n",
      "= sinus rhythm. possible left ventricular hypertrophy. probable old inferior myocardial infarct.\n",
      "< sinus rhythm. voltages are high in chest leads suggesting lvh.\n",
      "\n",
      "= sinus rhythm hyperexcited left type left anterior hemiblock right bundle branch block bifascicular block path. ecg\n",
      "< sinus rhythm. left axis deviation. left anterior fascicular block. right bundle branch block. bifascicular block. pr interval is normal.\n",
      "\n",
      "= rhythm is atrial flutter with 2:1 av block. the flutter rate is slower than this arrhythmia is usually associated with organic heart disease. non-specific st-t wave changes.\n",
      "< a rapid regular supraventricular tachycardia is present non-specific st-t wave changes.\n",
      "\n",
      "= sinus rhythm position type normal normal ecg 4.46 unconfirmed report\n",
      "< sinus rhythm position type normal normal ecg 4.46 unconfirmed report\n",
      "\n",
      "= sinus rhythm normal ecg\n",
      "< sinus rhythm position type normal normal ecg\n",
      "\n",
      "= sinus bradycardia. otherwise normal ecg. the cause of the bradycardia is not evident.\n",
      "< sinus bradycardia. otherwise normal ecg. the cause of the bradycardia is not evident.\n",
      "\n",
      "= sinus rhythm normal ecg\n",
      "< sinus rhythm normal ecg\n",
      "\n",
      "= sinus tachycardia left type qrs(t) abnormal inferior infarction probably old\n",
      "< sinus tachycardia hyperexcited left type left anterior hemiblock qrs(t) abnormal inferior infarction probable alt t abnormal in high lateral leads\n",
      "\n",
      "= sinus rhythm position type normal nonspecific abnormal t\n",
      "< sinus rhythm position type normal nonspecific abnormal t\n",
      "\n",
      "= ventricular extrasystole(s) sinus bradycardia position type normal left hypertrophy possible qrs(t) abnormal anteroseptal myocardial damage cannot be excluded\n",
      "< ventricular extrasystole(s) sinus arrhythmia left type qrs(t) abnormal anteroseptal infarction probable old 4.46 unconfirmed report\n",
      "\n",
      "= sinus rhythm position type normal normal ecg\n",
      "< sinus rhythm normal ecg\n",
      "\n",
      "= supraventricular extrasystole(s) sinus rhythm left electrical axis aberrant qrs(t) course inferior infarction age not determinable\n",
      "< sinus rhythm llt right atrial overload left t-changes in iii pathological ecg\n",
      "\n",
      "= sinus rhythm left type right bundle branch block t neg in iii\n",
      "< sinus rhythm position type normal right bundle branch block pathological ecg\n",
      "\n",
      "= resting ecg for ergometry: chronic inferior myocardial infarction. sinus arrhythmia ecg under stress normal\n",
      "< premature atrial contraction(s). sinus rhythm. left axis deviation. t waves are inverted in ii, iii, avf, v2-6. consistent with ischaemic heart disease with old inferior myocardial infarction.\n",
      "\n",
      "= sinus rhythm left type qrs(t) abnormal inferior myocardial damage cannot be excluded st &amp; t abnormal, probably high lateral ischemia or left strain\n",
      "< sinus rhythm left type qrs(t) abnormal septal infarction cannot be excluded t abnormal in high lateral leads 4.46 unconfirmed report\n",
      "\n",
      "= sinus rhythm. low limb lead voltage. q waves in ii, iii, avf are probably normal. no definite pathology.\n",
      "< sinus rhythm. normal ecg.\n",
      "\n",
      "= sinus rhythm normal ecg\n",
      "< sinus rhythm. normal ecg.\n",
      "\n",
      "= sinus rhythm position type normal intermittent lsb\n",
      "< sinus rhythm. normal ecg.\n",
      "\n",
      "= sinus rhythm position type normal moderate amplitude criteria for left hypertrophy qrs(t) abnormal high lateral infarction possible\n",
      "< sinus rhythm normal ecg\n",
      "\n",
      "= sinus rhythm position type normal normal ecg\n",
      "< sinus rhythm. normal ecg.\n",
      "\n",
      "= atrial fibrillation/flutter hyperrotated left type incomplete right bundle branch block qrs(t) abnormal anteroseptal myocardial damage possible inferior infarction probable old 4.46 unconfirmed report\n",
      "< atrial fibrillation/flutter hyperrotated left type left anterior hemiblock qrs(t) abnormal anteroseptal myocardial damage possible inferior infarction probable old 4.46 unconfirmed report\n",
      "\n",
      "= sinus arrhythmia (questionable left type qrs(t) abnormal inferior infarction probable old st elevation in v2\n",
      "< sinus arrhythmia left type qrs(t) abnormal inferior infarction probable old 4.46 unconfirmed report\n",
      "\n",
      "= sinusrhythmus lagetyp normal qrs(t) abnormal\n",
      "< sinus rhythm position type normal normal ecg\n",
      "\n",
      "= sinus rhythm mlt right normal ecg\n",
      "< sinus rhythm position type normal normal ecg\n",
      "\n",
      "= sinus rhythm normal ecg\n",
      "< sinus rhythm position type normal normal ecg\n",
      "\n",
      "= pacemaker ecg\n",
      "< pacemaker ecg 4.46 unconfirmed report\n",
      "\n",
      "= supraventricular extrasystole(s) sinus tachycardia mlt left ventricular hypertrophy definitely pathological ecg\n",
      "< sinus tachycardia. left atrial enlargement. voltages are high in chest leads suggesting lvh. st segments are depressed and t waves inverted in i,    ii, avl, v4,5,6. this may be due to lv strain or ischaemia.\n",
      "\n",
      "= sinus rhythm overrotated left type complete right bundle branch block chronic inferior infarction possible st depression t neg in v1-v4 t flat in v5,v6 path. ecg\n",
      "< sinus rhythm hyperexcited left type left anterior hemiblock qrs(t) abnormal inferior infarction age undetermined st &amp; t abnormal, probably anterior ischemia or left strain\n",
      "\n",
      "= premature ventricular contraction(s). sinus rhythm. possible left atrial enlargement. non-specific intraventricular block.\n",
      "< premature atrial contraction(s). sinus rhythm. left axis deviation. left anterior fascicular block. right bundle branch block. bifascicular block. pr interval is normal.\n"
     ]
    }
   ],
   "source": [
    "encoder.eval()\n",
    "decoder.eval()\n",
    "print_first_n_target_prediction(test_dataloader, encoder, decoder, language)"
   ],
   "metadata": {
    "collapsed": false,
    "ExecuteTime": {
     "end_time": "2024-05-23T13:02:24.617893Z",
     "start_time": "2024-05-23T13:02:24.465047Z"
    }
   },
   "id": "50b1175929c43682",
   "execution_count": 11
  },
  {
   "cell_type": "code",
   "outputs": [],
   "source": [],
   "metadata": {
    "collapsed": false,
    "ExecuteTime": {
     "end_time": "2024-05-23T13:02:24.632843Z",
     "start_time": "2024-05-23T13:02:24.618890Z"
    }
   },
   "id": "db8d0fe68802ee3c",
   "execution_count": 11
  }
 ],
 "metadata": {
  "kernelspec": {
   "display_name": "Python 3",
   "language": "python",
   "name": "python3"
  },
  "language_info": {
   "codemirror_mode": {
    "name": "ipython",
    "version": 2
   },
   "file_extension": ".py",
   "mimetype": "text/x-python",
   "name": "python",
   "nbconvert_exporter": "python",
   "pygments_lexer": "ipython2",
   "version": "2.7.6"
  }
 },
 "nbformat": 4,
 "nbformat_minor": 5
}
