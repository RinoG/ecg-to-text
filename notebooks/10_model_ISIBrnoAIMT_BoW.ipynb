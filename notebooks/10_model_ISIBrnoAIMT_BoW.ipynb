{
 "cells": [
  {
   "cell_type": "markdown",
   "source": [
    "# ISIBrno-AIMT\n",
    "ISIBrno-AIMT is the winner of the [Will Two Do?](https://physionet.org/content/challenge-2021/1.0.3/sources/) challenge from [physionet.org](https://physionet.org/) \n",
    "\n",
    "[Source Code](https://physionet.org/static/published-projects/challenge-2021/1.0.3/sources/ISIBrnoAIMT.zip)\n",
    "[Paper](https://www.cinc.org/archives/2021/pdf/CinC2021-014.pdf)\n",
    "[leaderboard](https://moody-challenge.physionet.org/2021/results/)"
   ],
   "metadata": {
    "collapsed": false
   },
   "id": "a195e52a52decb2a"
  },
  {
   "cell_type": "code",
   "outputs": [],
   "source": [
    "import pickle\n",
    "import os\n",
    "import sys\n",
    "import torch\n",
    "import pandas as pd\n",
    "from torch.utils.data import DataLoader\n",
    "from sklearn.metrics import f1_score, jaccard_score, confusion_matrix, precision_score, recall_score, accuracy_score\n",
    "\n",
    "from models.m02_ISIBrnoAIMT_BagOfWords.train import *\n",
    "from models.m02_ISIBrnoAIMT_BagOfWords.model import NN\n",
    "from models.m02_ISIBrnoAIMT_BagOfWords.dataset import PtbXlDataset"
   ],
   "metadata": {
    "collapsed": true,
    "ExecuteTime": {
     "end_time": "2024-03-26T07:45:42.372932100Z",
     "start_time": "2024-03-26T07:45:31.078248200Z"
    }
   },
   "id": "initial_id",
   "execution_count": 1
  },
  {
   "cell_type": "code",
   "outputs": [],
   "source": [
    "os.chdir('..')"
   ],
   "metadata": {
    "collapsed": false,
    "ExecuteTime": {
     "end_time": "2024-03-26T07:45:42.387914900Z",
     "start_time": "2024-03-26T07:45:42.374925Z"
    }
   },
   "id": "5b78b990737513dc",
   "execution_count": 2
  },
  {
   "cell_type": "markdown",
   "source": [
    "### Bag of Words with 50 Words"
   ],
   "metadata": {
    "collapsed": false
   },
   "id": "e9d10629ccf53312"
  },
  {
   "cell_type": "code",
   "outputs": [
    {
     "data": {
      "text/plain": "<All keys matched successfully>"
     },
     "execution_count": 8,
     "metadata": {},
     "output_type": "execute_result"
    }
   ],
   "source": [
    "device = 'cuda:0' if torch.cuda.is_available() else 'cpu'\n",
    "\n",
    "n_BoW = 50\n",
    "dataset = PtbXlDataset('data_ptb-xl/', 'test', n_BoW)\n",
    "dataloader = DataLoader(dataset, batch_size=64, shuffle=True)\n",
    "\n",
    "model = NN(n_BoW).to(device)\n",
    "model.load_state_dict(torch.load(f'models/m02_ISIBrnoAIMT_BagOfWords/model_{n_BoW}_BoW.pt'))"
   ],
   "metadata": {
    "collapsed": false,
    "ExecuteTime": {
     "end_time": "2024-03-26T10:05:23.667336700Z",
     "start_time": "2024-03-26T10:05:23.088144500Z"
    }
   },
   "id": "15e41fd6e2ed0392",
   "execution_count": 8
  },
  {
   "cell_type": "code",
   "outputs": [],
   "source": [
    "y, pred = get_predictions(model, dataloader)\n",
    "bow_columns = pd.read_csv('data_ptb-xl/bag_of_words/train_50_BoW.csv').columns[1:]"
   ],
   "metadata": {
    "collapsed": false,
    "ExecuteTime": {
     "end_time": "2024-03-26T10:05:54.357494Z",
     "start_time": "2024-03-26T10:05:24.224619900Z"
    }
   },
   "id": "e89623c903d4a552",
   "execution_count": 9
  },
  {
   "cell_type": "code",
   "outputs": [],
   "source": [
    "y = pd.DataFrame(y, columns=bow_columns)\n",
    "pred = pd.DataFrame(pred, columns=bow_columns)"
   ],
   "metadata": {
    "collapsed": false,
    "ExecuteTime": {
     "end_time": "2024-03-26T10:05:54.373947200Z",
     "start_time": "2024-03-26T10:05:54.360483400Z"
    }
   },
   "id": "71973b30baa4b452",
   "execution_count": 10
  },
  {
   "cell_type": "code",
   "outputs": [
    {
     "name": "stdout",
     "output_type": "stream",
     "text": [
      "F1: 0.23093855881219758\n",
      "IOU: 0.1354810696408539\n"
     ]
    }
   ],
   "source": [
    "f1 = f1_score(y, pred, average='samples')\n",
    "iou = jaccard_score(y, pred, average='samples')\n",
    "\n",
    "print(f'F1: {f1}\\nIOU: {iou}')"
   ],
   "metadata": {
    "collapsed": false,
    "ExecuteTime": {
     "end_time": "2024-03-26T10:05:54.434743500Z",
     "start_time": "2024-03-26T10:05:54.374944400Z"
    }
   },
   "id": "3f688d204ac688cb",
   "execution_count": 11
  },
  {
   "cell_type": "code",
   "outputs": [
    {
     "data": {
      "text/plain": "               Label        f1  precision    recall  accuracy    TP    TN  \\\n0                 46  0.432674   0.403571  0.466300  0.590794   678  1889   \n1           abnormal  0.325033   0.340659  0.310777  0.644419   372  2428   \n2           anterior  0.095783   0.066866  0.168766  0.708861    67  3013   \n3      anterolateral  0.079127   0.042336  0.604167  0.223245   145   825   \n4       anteroseptal  0.072289   0.045215  0.180180  0.645570    60  2745   \n5             atrial  0.112676   0.085393  0.165577  0.724511    76  3072   \n6                avl  0.080864   0.043375  0.595918  0.236133   146   880   \n7               axis  0.202851   0.116646  0.777311  0.665362   185  2706   \n8              block  0.306185   0.181335  0.982962  0.217722   750   196   \n9             branch  0.202683   0.113306  0.959677  0.138090   476   124   \n10            bundle  0.204128   0.125403  0.548387  0.511853   272  1952   \n11            damage  0.152117   0.084478  0.763158  0.479171   203  1879   \n12               ecg  0.152499   0.141956  0.164735  0.309321   270  1074   \n13         excessive  0.138678   0.095380  0.253968  0.817031    64  3486   \n14      extrasystole  0.075738   0.045245  0.232283  0.668585    59  2846   \n15      fibrillation  0.000000   0.000000  0.000000  0.900575     0  3913   \n16              high  0.124868   0.067544  0.825175  0.238665   236   801   \n17       hypertrophy  0.145266   0.090762  0.363636  0.696663   112  2915   \n18                ii  0.055127   0.029386  0.444444  0.211047   100   817   \n19        infarction  0.254010   0.161599  0.593272  0.475489   388  1678   \n20          inferior  0.263415   0.158824  0.771429  0.443959   432  1497   \n21  intraventricular  0.086703   0.046048  0.740331  0.350288   134  1388   \n22         ischaemia  0.068564   0.036653  0.530000  0.337169   106  1359   \n23          ischemia  0.081288   0.045619  0.372694  0.474568   101  1961   \n24           lateral  0.006369   0.100000  0.003289  0.928193     1  4032   \n25              lead  0.148492   0.207792  0.115523  0.831070    64  3547   \n26              left  0.311662   0.323803  0.300398  0.539471   453  1891   \n27               low  0.045262   0.025306  0.214047  0.378596    64  1581   \n28        myocardial  0.101788   0.064311  0.243956  0.549137   111  2275   \n29               non  0.052301   0.053079  0.051546  0.791484    25  3414   \n30            normal  0.070770   0.405063  0.038772  0.419793    96  1728   \n31               old  0.074786   0.074468  0.075107  0.800690    35  3444   \n32         otherwise  0.130024   0.078125  0.387324  0.491830   165  1972   \n33          position  0.530206   0.369716  0.936904  0.479171  1277   805   \n34          possible  0.139535   0.080990  0.503497  0.386881   216  1465   \n35          probably  0.212716   0.120032  0.933610  0.233372   450   564   \n36               qrs  0.321649   0.217270  0.619048  0.545685   468  1903   \n37            report  0.010303   0.026471  0.006397  0.602071     9  2607   \n38            rhythm  0.747910   0.772059  0.725225  0.625316  2415   302   \n39             right  0.056259   0.074627  0.045147  0.845570    20  3654   \n40           segment  0.079501   0.049419  0.203187  0.728193    51  3113   \n41             sinus  0.644137   0.898144  0.502129  0.520138  1887   373   \n42          specific  0.139578   0.082087  0.465839  0.361565   225  1346   \n43                st  0.008969   0.022099  0.005626  0.796548     4  3457   \n44            strain  0.186631   0.105737  0.794366  0.434292   282  1605   \n45              type  0.659605   0.577792  0.768408  0.556272  1868   549   \n46       unconfirmed  0.277528   0.199754  0.454482  0.222325   649   317   \n47       ventricular  0.134140   0.073126  0.809942  0.176985   277   492   \n48           voltage  0.078773   0.045433  0.295950  0.488608    95  2028   \n49              wave  0.173680   0.098480  0.734694  0.290449   324   938   \n\n      FP    FN  \n0   1002   776  \n1    720   825  \n2    935   330  \n3   3280    95  \n4   1267   273  \n5    814   383  \n6   3220    99  \n7   1401    53  \n8   3386    13  \n9   3725    20  \n10  1897   224  \n11  2200    63  \n12  1632  1369  \n13   607   188  \n14  1245   195  \n15   119   313  \n16  3258    50  \n17  1122   196  \n18  3303   125  \n19  2013   266  \n20  2288   128  \n21  2776    47  \n22  2786    94  \n23  2113   170  \n24     9   303  \n25   244   490  \n26   946  1055  \n27  2465   235  \n28  1615   344  \n29   446   460  \n30   141  2380  \n31   435   431  \n32  1947   261  \n33  2177    86  \n34  2451   213  \n35  3299    32  \n36  1686   288  \n37   331  1398  \n38   713   915  \n39   248   423  \n40   981   200  \n41   214  1871  \n42  2516   258  \n43   177   707  \n44  2385    73  \n45  1365   563  \n46  2600   779  \n47  3511    65  \n48  1996   226  \n49  2966   117  ",
      "text/html": "<div>\n<style scoped>\n    .dataframe tbody tr th:only-of-type {\n        vertical-align: middle;\n    }\n\n    .dataframe tbody tr th {\n        vertical-align: top;\n    }\n\n    .dataframe thead th {\n        text-align: right;\n    }\n</style>\n<table border=\"1\" class=\"dataframe\">\n  <thead>\n    <tr style=\"text-align: right;\">\n      <th></th>\n      <th>Label</th>\n      <th>f1</th>\n      <th>precision</th>\n      <th>recall</th>\n      <th>accuracy</th>\n      <th>TP</th>\n      <th>TN</th>\n      <th>FP</th>\n      <th>FN</th>\n    </tr>\n  </thead>\n  <tbody>\n    <tr>\n      <th>0</th>\n      <td>46</td>\n      <td>0.432674</td>\n      <td>0.403571</td>\n      <td>0.466300</td>\n      <td>0.590794</td>\n      <td>678</td>\n      <td>1889</td>\n      <td>1002</td>\n      <td>776</td>\n    </tr>\n    <tr>\n      <th>1</th>\n      <td>abnormal</td>\n      <td>0.325033</td>\n      <td>0.340659</td>\n      <td>0.310777</td>\n      <td>0.644419</td>\n      <td>372</td>\n      <td>2428</td>\n      <td>720</td>\n      <td>825</td>\n    </tr>\n    <tr>\n      <th>2</th>\n      <td>anterior</td>\n      <td>0.095783</td>\n      <td>0.066866</td>\n      <td>0.168766</td>\n      <td>0.708861</td>\n      <td>67</td>\n      <td>3013</td>\n      <td>935</td>\n      <td>330</td>\n    </tr>\n    <tr>\n      <th>3</th>\n      <td>anterolateral</td>\n      <td>0.079127</td>\n      <td>0.042336</td>\n      <td>0.604167</td>\n      <td>0.223245</td>\n      <td>145</td>\n      <td>825</td>\n      <td>3280</td>\n      <td>95</td>\n    </tr>\n    <tr>\n      <th>4</th>\n      <td>anteroseptal</td>\n      <td>0.072289</td>\n      <td>0.045215</td>\n      <td>0.180180</td>\n      <td>0.645570</td>\n      <td>60</td>\n      <td>2745</td>\n      <td>1267</td>\n      <td>273</td>\n    </tr>\n    <tr>\n      <th>5</th>\n      <td>atrial</td>\n      <td>0.112676</td>\n      <td>0.085393</td>\n      <td>0.165577</td>\n      <td>0.724511</td>\n      <td>76</td>\n      <td>3072</td>\n      <td>814</td>\n      <td>383</td>\n    </tr>\n    <tr>\n      <th>6</th>\n      <td>avl</td>\n      <td>0.080864</td>\n      <td>0.043375</td>\n      <td>0.595918</td>\n      <td>0.236133</td>\n      <td>146</td>\n      <td>880</td>\n      <td>3220</td>\n      <td>99</td>\n    </tr>\n    <tr>\n      <th>7</th>\n      <td>axis</td>\n      <td>0.202851</td>\n      <td>0.116646</td>\n      <td>0.777311</td>\n      <td>0.665362</td>\n      <td>185</td>\n      <td>2706</td>\n      <td>1401</td>\n      <td>53</td>\n    </tr>\n    <tr>\n      <th>8</th>\n      <td>block</td>\n      <td>0.306185</td>\n      <td>0.181335</td>\n      <td>0.982962</td>\n      <td>0.217722</td>\n      <td>750</td>\n      <td>196</td>\n      <td>3386</td>\n      <td>13</td>\n    </tr>\n    <tr>\n      <th>9</th>\n      <td>branch</td>\n      <td>0.202683</td>\n      <td>0.113306</td>\n      <td>0.959677</td>\n      <td>0.138090</td>\n      <td>476</td>\n      <td>124</td>\n      <td>3725</td>\n      <td>20</td>\n    </tr>\n    <tr>\n      <th>10</th>\n      <td>bundle</td>\n      <td>0.204128</td>\n      <td>0.125403</td>\n      <td>0.548387</td>\n      <td>0.511853</td>\n      <td>272</td>\n      <td>1952</td>\n      <td>1897</td>\n      <td>224</td>\n    </tr>\n    <tr>\n      <th>11</th>\n      <td>damage</td>\n      <td>0.152117</td>\n      <td>0.084478</td>\n      <td>0.763158</td>\n      <td>0.479171</td>\n      <td>203</td>\n      <td>1879</td>\n      <td>2200</td>\n      <td>63</td>\n    </tr>\n    <tr>\n      <th>12</th>\n      <td>ecg</td>\n      <td>0.152499</td>\n      <td>0.141956</td>\n      <td>0.164735</td>\n      <td>0.309321</td>\n      <td>270</td>\n      <td>1074</td>\n      <td>1632</td>\n      <td>1369</td>\n    </tr>\n    <tr>\n      <th>13</th>\n      <td>excessive</td>\n      <td>0.138678</td>\n      <td>0.095380</td>\n      <td>0.253968</td>\n      <td>0.817031</td>\n      <td>64</td>\n      <td>3486</td>\n      <td>607</td>\n      <td>188</td>\n    </tr>\n    <tr>\n      <th>14</th>\n      <td>extrasystole</td>\n      <td>0.075738</td>\n      <td>0.045245</td>\n      <td>0.232283</td>\n      <td>0.668585</td>\n      <td>59</td>\n      <td>2846</td>\n      <td>1245</td>\n      <td>195</td>\n    </tr>\n    <tr>\n      <th>15</th>\n      <td>fibrillation</td>\n      <td>0.000000</td>\n      <td>0.000000</td>\n      <td>0.000000</td>\n      <td>0.900575</td>\n      <td>0</td>\n      <td>3913</td>\n      <td>119</td>\n      <td>313</td>\n    </tr>\n    <tr>\n      <th>16</th>\n      <td>high</td>\n      <td>0.124868</td>\n      <td>0.067544</td>\n      <td>0.825175</td>\n      <td>0.238665</td>\n      <td>236</td>\n      <td>801</td>\n      <td>3258</td>\n      <td>50</td>\n    </tr>\n    <tr>\n      <th>17</th>\n      <td>hypertrophy</td>\n      <td>0.145266</td>\n      <td>0.090762</td>\n      <td>0.363636</td>\n      <td>0.696663</td>\n      <td>112</td>\n      <td>2915</td>\n      <td>1122</td>\n      <td>196</td>\n    </tr>\n    <tr>\n      <th>18</th>\n      <td>ii</td>\n      <td>0.055127</td>\n      <td>0.029386</td>\n      <td>0.444444</td>\n      <td>0.211047</td>\n      <td>100</td>\n      <td>817</td>\n      <td>3303</td>\n      <td>125</td>\n    </tr>\n    <tr>\n      <th>19</th>\n      <td>infarction</td>\n      <td>0.254010</td>\n      <td>0.161599</td>\n      <td>0.593272</td>\n      <td>0.475489</td>\n      <td>388</td>\n      <td>1678</td>\n      <td>2013</td>\n      <td>266</td>\n    </tr>\n    <tr>\n      <th>20</th>\n      <td>inferior</td>\n      <td>0.263415</td>\n      <td>0.158824</td>\n      <td>0.771429</td>\n      <td>0.443959</td>\n      <td>432</td>\n      <td>1497</td>\n      <td>2288</td>\n      <td>128</td>\n    </tr>\n    <tr>\n      <th>21</th>\n      <td>intraventricular</td>\n      <td>0.086703</td>\n      <td>0.046048</td>\n      <td>0.740331</td>\n      <td>0.350288</td>\n      <td>134</td>\n      <td>1388</td>\n      <td>2776</td>\n      <td>47</td>\n    </tr>\n    <tr>\n      <th>22</th>\n      <td>ischaemia</td>\n      <td>0.068564</td>\n      <td>0.036653</td>\n      <td>0.530000</td>\n      <td>0.337169</td>\n      <td>106</td>\n      <td>1359</td>\n      <td>2786</td>\n      <td>94</td>\n    </tr>\n    <tr>\n      <th>23</th>\n      <td>ischemia</td>\n      <td>0.081288</td>\n      <td>0.045619</td>\n      <td>0.372694</td>\n      <td>0.474568</td>\n      <td>101</td>\n      <td>1961</td>\n      <td>2113</td>\n      <td>170</td>\n    </tr>\n    <tr>\n      <th>24</th>\n      <td>lateral</td>\n      <td>0.006369</td>\n      <td>0.100000</td>\n      <td>0.003289</td>\n      <td>0.928193</td>\n      <td>1</td>\n      <td>4032</td>\n      <td>9</td>\n      <td>303</td>\n    </tr>\n    <tr>\n      <th>25</th>\n      <td>lead</td>\n      <td>0.148492</td>\n      <td>0.207792</td>\n      <td>0.115523</td>\n      <td>0.831070</td>\n      <td>64</td>\n      <td>3547</td>\n      <td>244</td>\n      <td>490</td>\n    </tr>\n    <tr>\n      <th>26</th>\n      <td>left</td>\n      <td>0.311662</td>\n      <td>0.323803</td>\n      <td>0.300398</td>\n      <td>0.539471</td>\n      <td>453</td>\n      <td>1891</td>\n      <td>946</td>\n      <td>1055</td>\n    </tr>\n    <tr>\n      <th>27</th>\n      <td>low</td>\n      <td>0.045262</td>\n      <td>0.025306</td>\n      <td>0.214047</td>\n      <td>0.378596</td>\n      <td>64</td>\n      <td>1581</td>\n      <td>2465</td>\n      <td>235</td>\n    </tr>\n    <tr>\n      <th>28</th>\n      <td>myocardial</td>\n      <td>0.101788</td>\n      <td>0.064311</td>\n      <td>0.243956</td>\n      <td>0.549137</td>\n      <td>111</td>\n      <td>2275</td>\n      <td>1615</td>\n      <td>344</td>\n    </tr>\n    <tr>\n      <th>29</th>\n      <td>non</td>\n      <td>0.052301</td>\n      <td>0.053079</td>\n      <td>0.051546</td>\n      <td>0.791484</td>\n      <td>25</td>\n      <td>3414</td>\n      <td>446</td>\n      <td>460</td>\n    </tr>\n    <tr>\n      <th>30</th>\n      <td>normal</td>\n      <td>0.070770</td>\n      <td>0.405063</td>\n      <td>0.038772</td>\n      <td>0.419793</td>\n      <td>96</td>\n      <td>1728</td>\n      <td>141</td>\n      <td>2380</td>\n    </tr>\n    <tr>\n      <th>31</th>\n      <td>old</td>\n      <td>0.074786</td>\n      <td>0.074468</td>\n      <td>0.075107</td>\n      <td>0.800690</td>\n      <td>35</td>\n      <td>3444</td>\n      <td>435</td>\n      <td>431</td>\n    </tr>\n    <tr>\n      <th>32</th>\n      <td>otherwise</td>\n      <td>0.130024</td>\n      <td>0.078125</td>\n      <td>0.387324</td>\n      <td>0.491830</td>\n      <td>165</td>\n      <td>1972</td>\n      <td>1947</td>\n      <td>261</td>\n    </tr>\n    <tr>\n      <th>33</th>\n      <td>position</td>\n      <td>0.530206</td>\n      <td>0.369716</td>\n      <td>0.936904</td>\n      <td>0.479171</td>\n      <td>1277</td>\n      <td>805</td>\n      <td>2177</td>\n      <td>86</td>\n    </tr>\n    <tr>\n      <th>34</th>\n      <td>possible</td>\n      <td>0.139535</td>\n      <td>0.080990</td>\n      <td>0.503497</td>\n      <td>0.386881</td>\n      <td>216</td>\n      <td>1465</td>\n      <td>2451</td>\n      <td>213</td>\n    </tr>\n    <tr>\n      <th>35</th>\n      <td>probably</td>\n      <td>0.212716</td>\n      <td>0.120032</td>\n      <td>0.933610</td>\n      <td>0.233372</td>\n      <td>450</td>\n      <td>564</td>\n      <td>3299</td>\n      <td>32</td>\n    </tr>\n    <tr>\n      <th>36</th>\n      <td>qrs</td>\n      <td>0.321649</td>\n      <td>0.217270</td>\n      <td>0.619048</td>\n      <td>0.545685</td>\n      <td>468</td>\n      <td>1903</td>\n      <td>1686</td>\n      <td>288</td>\n    </tr>\n    <tr>\n      <th>37</th>\n      <td>report</td>\n      <td>0.010303</td>\n      <td>0.026471</td>\n      <td>0.006397</td>\n      <td>0.602071</td>\n      <td>9</td>\n      <td>2607</td>\n      <td>331</td>\n      <td>1398</td>\n    </tr>\n    <tr>\n      <th>38</th>\n      <td>rhythm</td>\n      <td>0.747910</td>\n      <td>0.772059</td>\n      <td>0.725225</td>\n      <td>0.625316</td>\n      <td>2415</td>\n      <td>302</td>\n      <td>713</td>\n      <td>915</td>\n    </tr>\n    <tr>\n      <th>39</th>\n      <td>right</td>\n      <td>0.056259</td>\n      <td>0.074627</td>\n      <td>0.045147</td>\n      <td>0.845570</td>\n      <td>20</td>\n      <td>3654</td>\n      <td>248</td>\n      <td>423</td>\n    </tr>\n    <tr>\n      <th>40</th>\n      <td>segment</td>\n      <td>0.079501</td>\n      <td>0.049419</td>\n      <td>0.203187</td>\n      <td>0.728193</td>\n      <td>51</td>\n      <td>3113</td>\n      <td>981</td>\n      <td>200</td>\n    </tr>\n    <tr>\n      <th>41</th>\n      <td>sinus</td>\n      <td>0.644137</td>\n      <td>0.898144</td>\n      <td>0.502129</td>\n      <td>0.520138</td>\n      <td>1887</td>\n      <td>373</td>\n      <td>214</td>\n      <td>1871</td>\n    </tr>\n    <tr>\n      <th>42</th>\n      <td>specific</td>\n      <td>0.139578</td>\n      <td>0.082087</td>\n      <td>0.465839</td>\n      <td>0.361565</td>\n      <td>225</td>\n      <td>1346</td>\n      <td>2516</td>\n      <td>258</td>\n    </tr>\n    <tr>\n      <th>43</th>\n      <td>st</td>\n      <td>0.008969</td>\n      <td>0.022099</td>\n      <td>0.005626</td>\n      <td>0.796548</td>\n      <td>4</td>\n      <td>3457</td>\n      <td>177</td>\n      <td>707</td>\n    </tr>\n    <tr>\n      <th>44</th>\n      <td>strain</td>\n      <td>0.186631</td>\n      <td>0.105737</td>\n      <td>0.794366</td>\n      <td>0.434292</td>\n      <td>282</td>\n      <td>1605</td>\n      <td>2385</td>\n      <td>73</td>\n    </tr>\n    <tr>\n      <th>45</th>\n      <td>type</td>\n      <td>0.659605</td>\n      <td>0.577792</td>\n      <td>0.768408</td>\n      <td>0.556272</td>\n      <td>1868</td>\n      <td>549</td>\n      <td>1365</td>\n      <td>563</td>\n    </tr>\n    <tr>\n      <th>46</th>\n      <td>unconfirmed</td>\n      <td>0.277528</td>\n      <td>0.199754</td>\n      <td>0.454482</td>\n      <td>0.222325</td>\n      <td>649</td>\n      <td>317</td>\n      <td>2600</td>\n      <td>779</td>\n    </tr>\n    <tr>\n      <th>47</th>\n      <td>ventricular</td>\n      <td>0.134140</td>\n      <td>0.073126</td>\n      <td>0.809942</td>\n      <td>0.176985</td>\n      <td>277</td>\n      <td>492</td>\n      <td>3511</td>\n      <td>65</td>\n    </tr>\n    <tr>\n      <th>48</th>\n      <td>voltage</td>\n      <td>0.078773</td>\n      <td>0.045433</td>\n      <td>0.295950</td>\n      <td>0.488608</td>\n      <td>95</td>\n      <td>2028</td>\n      <td>1996</td>\n      <td>226</td>\n    </tr>\n    <tr>\n      <th>49</th>\n      <td>wave</td>\n      <td>0.173680</td>\n      <td>0.098480</td>\n      <td>0.734694</td>\n      <td>0.290449</td>\n      <td>324</td>\n      <td>938</td>\n      <td>2966</td>\n      <td>117</td>\n    </tr>\n  </tbody>\n</table>\n</div>"
     },
     "execution_count": 12,
     "metadata": {},
     "output_type": "execute_result"
    }
   ],
   "source": [
    "performance_data = []\n",
    "\n",
    "# Iterate over each label in the DataFrame\n",
    "for label in y.columns:\n",
    "    # Compute confusion matrix for the current label\n",
    "    tn, fp, fn, tp = confusion_matrix(y[label], pred[label]).ravel()\n",
    "    f1 = f1_score(y[label], pred[label])\n",
    "    precision = precision_score(y[label], pred[label], zero_division=0)\n",
    "    recall = recall_score(y[label], pred[label])\n",
    "    accuracy = accuracy_score(y[label], pred[label])\n",
    "    \n",
    "    # Append the results to the list\n",
    "    performance_data.append({'Label': label, 'f1': f1, 'precision': precision, 'recall': recall, 'accuracy': accuracy, 'TP': tp, 'TN': tn, 'FP': fp, 'FN': fn})\n",
    "\n",
    "# Convert the list of dicts into a DataFrame\n",
    "performance_summary = pd.DataFrame(performance_data)\n",
    "\n",
    "performance_summary"
   ],
   "metadata": {
    "collapsed": false,
    "ExecuteTime": {
     "end_time": "2024-03-26T10:05:54.958990Z",
     "start_time": "2024-03-26T10:05:54.435740400Z"
    }
   },
   "id": "7f5fdef539fd4acf",
   "execution_count": 12
  },
  {
   "cell_type": "markdown",
   "source": [
    "### Bag of Words with 20 Words"
   ],
   "metadata": {
    "collapsed": false
   },
   "id": "9398034992b157f5"
  },
  {
   "cell_type": "code",
   "outputs": [
    {
     "data": {
      "text/plain": "<All keys matched successfully>"
     },
     "execution_count": 3,
     "metadata": {},
     "output_type": "execute_result"
    }
   ],
   "source": [
    "device = 'cuda:0' if torch.cuda.is_available() else 'cpu'\n",
    "\n",
    "n_BoW = 20\n",
    "dataset = PtbXlDataset('data_ptb-xl/', 'test', n_BoW)\n",
    "dataloader = DataLoader(dataset, batch_size=64, shuffle=True)\n",
    "\n",
    "model = NN(n_BoW).to(device)\n",
    "model.load_state_dict(torch.load(f'models/m02_ISIBrnoAIMT_BagOfWords/model_{n_BoW}_BoW.pt'))"
   ],
   "metadata": {
    "collapsed": false,
    "ExecuteTime": {
     "end_time": "2024-03-26T07:45:42.893228900Z",
     "start_time": "2024-03-26T07:45:42.390905700Z"
    }
   },
   "id": "7c08469864e0ff2b",
   "execution_count": 3
  },
  {
   "cell_type": "code",
   "outputs": [],
   "source": [
    "y, pred = get_predictions(model, dataloader)\n",
    "bow_columns = pd.read_csv('data_ptb-xl/bag_of_words/train_20_BoW.csv').columns[1:]"
   ],
   "metadata": {
    "collapsed": false,
    "ExecuteTime": {
     "end_time": "2024-03-26T07:46:12.919681600Z",
     "start_time": "2024-03-26T07:45:42.895217300Z"
    }
   },
   "id": "ef97540909934669",
   "execution_count": 4
  },
  {
   "cell_type": "code",
   "outputs": [],
   "source": [
    "y = pd.DataFrame(y, columns=bow_columns)\n",
    "pred = pd.DataFrame(pred, columns=bow_columns)"
   ],
   "metadata": {
    "collapsed": false,
    "ExecuteTime": {
     "end_time": "2024-03-26T07:46:12.934163Z",
     "start_time": "2024-03-26T07:46:12.920677500Z"
    }
   },
   "id": "a81622f659d08922",
   "execution_count": 5
  },
  {
   "cell_type": "code",
   "outputs": [
    {
     "name": "stdout",
     "output_type": "stream",
     "text": [
      "F1: 0.35301590569169544\n",
      "IOU: 0.22702074991139856\n"
     ]
    }
   ],
   "source": [
    "f1 = f1_score(y, pred, average='samples')\n",
    "iou = jaccard_score(y, pred, average='samples')\n",
    "\n",
    "print(f'F1: {f1}\\nIOU: {iou}')"
   ],
   "metadata": {
    "collapsed": false,
    "ExecuteTime": {
     "end_time": "2024-03-26T07:46:12.981006100Z",
     "start_time": "2024-03-26T07:46:12.935163200Z"
    }
   },
   "id": "8054c6878410f82a",
   "execution_count": 6
  },
  {
   "cell_type": "code",
   "outputs": [
    {
     "data": {
      "text/plain": "          Label        f1  precision    recall  accuracy    TP    TN    FP  \\\n0            46  0.478036   0.326690  0.890646  0.349137  1295   222  2669   \n1      abnormal  0.290736   0.225926  0.407686  0.452014   488  1476  1672   \n2         block  0.343750   0.242343  0.591088  0.603682   451  2172  1410   \n3           ecg  0.312191   0.254420  0.403905  0.328654   662   766  1940   \n4    infarction  0.050465   0.035514  0.087156  0.506329    57  2143  1548   \n5      inferior  0.242637   0.139591  0.926786  0.254315   519   586  3199   \n6          lead  0.237918   0.160200  0.462094  0.622555   256  2449  1342   \n7          left  0.451314   0.318430  0.774536  0.346375  1168   337  2500   \n8           non  0.200084   0.111371  0.983505  0.122209   477    54  3806   \n9        normal  0.680831   0.832458  0.575929  0.692290  1426  1582   287   \n10     position  0.511131   0.370188  0.825385  0.504718  1125  1068  1914   \n11     probably  0.053333   0.052738  0.053942  0.787572    26  3396   467   \n12          qrs  0.000000   0.000000  0.000000  0.811047     0  3524    65   \n13       report  0.005834   0.016287  0.003554  0.607825     5  2636   302   \n14       rhythm  0.595861   0.753444  0.492793  0.487687  1641   478   537   \n15        sinus  0.217904   0.833628  0.125333  0.221864   471   493    94   \n16     specific  0.127412   0.074766  0.430642  0.344304   208  1288  2574   \n17           st  0.340320   0.211664  0.867792  0.449482   617  1336  2298   \n18         type  0.751412   0.618100  0.958042  0.645339  2329   475  1439   \n19  unconfirmed  0.337079   0.470514  0.262605  0.660529   375  2495   422   \n\n      FN  \n0    159  \n1    709  \n2    312  \n3    977  \n4    597  \n5     41  \n6    298  \n7    340  \n8      8  \n9   1050  \n10   238  \n11   456  \n12   756  \n13  1402  \n14  1689  \n15  3287  \n16   275  \n17    94  \n18   102  \n19  1053  ",
      "text/html": "<div>\n<style scoped>\n    .dataframe tbody tr th:only-of-type {\n        vertical-align: middle;\n    }\n\n    .dataframe tbody tr th {\n        vertical-align: top;\n    }\n\n    .dataframe thead th {\n        text-align: right;\n    }\n</style>\n<table border=\"1\" class=\"dataframe\">\n  <thead>\n    <tr style=\"text-align: right;\">\n      <th></th>\n      <th>Label</th>\n      <th>f1</th>\n      <th>precision</th>\n      <th>recall</th>\n      <th>accuracy</th>\n      <th>TP</th>\n      <th>TN</th>\n      <th>FP</th>\n      <th>FN</th>\n    </tr>\n  </thead>\n  <tbody>\n    <tr>\n      <th>0</th>\n      <td>46</td>\n      <td>0.478036</td>\n      <td>0.326690</td>\n      <td>0.890646</td>\n      <td>0.349137</td>\n      <td>1295</td>\n      <td>222</td>\n      <td>2669</td>\n      <td>159</td>\n    </tr>\n    <tr>\n      <th>1</th>\n      <td>abnormal</td>\n      <td>0.290736</td>\n      <td>0.225926</td>\n      <td>0.407686</td>\n      <td>0.452014</td>\n      <td>488</td>\n      <td>1476</td>\n      <td>1672</td>\n      <td>709</td>\n    </tr>\n    <tr>\n      <th>2</th>\n      <td>block</td>\n      <td>0.343750</td>\n      <td>0.242343</td>\n      <td>0.591088</td>\n      <td>0.603682</td>\n      <td>451</td>\n      <td>2172</td>\n      <td>1410</td>\n      <td>312</td>\n    </tr>\n    <tr>\n      <th>3</th>\n      <td>ecg</td>\n      <td>0.312191</td>\n      <td>0.254420</td>\n      <td>0.403905</td>\n      <td>0.328654</td>\n      <td>662</td>\n      <td>766</td>\n      <td>1940</td>\n      <td>977</td>\n    </tr>\n    <tr>\n      <th>4</th>\n      <td>infarction</td>\n      <td>0.050465</td>\n      <td>0.035514</td>\n      <td>0.087156</td>\n      <td>0.506329</td>\n      <td>57</td>\n      <td>2143</td>\n      <td>1548</td>\n      <td>597</td>\n    </tr>\n    <tr>\n      <th>5</th>\n      <td>inferior</td>\n      <td>0.242637</td>\n      <td>0.139591</td>\n      <td>0.926786</td>\n      <td>0.254315</td>\n      <td>519</td>\n      <td>586</td>\n      <td>3199</td>\n      <td>41</td>\n    </tr>\n    <tr>\n      <th>6</th>\n      <td>lead</td>\n      <td>0.237918</td>\n      <td>0.160200</td>\n      <td>0.462094</td>\n      <td>0.622555</td>\n      <td>256</td>\n      <td>2449</td>\n      <td>1342</td>\n      <td>298</td>\n    </tr>\n    <tr>\n      <th>7</th>\n      <td>left</td>\n      <td>0.451314</td>\n      <td>0.318430</td>\n      <td>0.774536</td>\n      <td>0.346375</td>\n      <td>1168</td>\n      <td>337</td>\n      <td>2500</td>\n      <td>340</td>\n    </tr>\n    <tr>\n      <th>8</th>\n      <td>non</td>\n      <td>0.200084</td>\n      <td>0.111371</td>\n      <td>0.983505</td>\n      <td>0.122209</td>\n      <td>477</td>\n      <td>54</td>\n      <td>3806</td>\n      <td>8</td>\n    </tr>\n    <tr>\n      <th>9</th>\n      <td>normal</td>\n      <td>0.680831</td>\n      <td>0.832458</td>\n      <td>0.575929</td>\n      <td>0.692290</td>\n      <td>1426</td>\n      <td>1582</td>\n      <td>287</td>\n      <td>1050</td>\n    </tr>\n    <tr>\n      <th>10</th>\n      <td>position</td>\n      <td>0.511131</td>\n      <td>0.370188</td>\n      <td>0.825385</td>\n      <td>0.504718</td>\n      <td>1125</td>\n      <td>1068</td>\n      <td>1914</td>\n      <td>238</td>\n    </tr>\n    <tr>\n      <th>11</th>\n      <td>probably</td>\n      <td>0.053333</td>\n      <td>0.052738</td>\n      <td>0.053942</td>\n      <td>0.787572</td>\n      <td>26</td>\n      <td>3396</td>\n      <td>467</td>\n      <td>456</td>\n    </tr>\n    <tr>\n      <th>12</th>\n      <td>qrs</td>\n      <td>0.000000</td>\n      <td>0.000000</td>\n      <td>0.000000</td>\n      <td>0.811047</td>\n      <td>0</td>\n      <td>3524</td>\n      <td>65</td>\n      <td>756</td>\n    </tr>\n    <tr>\n      <th>13</th>\n      <td>report</td>\n      <td>0.005834</td>\n      <td>0.016287</td>\n      <td>0.003554</td>\n      <td>0.607825</td>\n      <td>5</td>\n      <td>2636</td>\n      <td>302</td>\n      <td>1402</td>\n    </tr>\n    <tr>\n      <th>14</th>\n      <td>rhythm</td>\n      <td>0.595861</td>\n      <td>0.753444</td>\n      <td>0.492793</td>\n      <td>0.487687</td>\n      <td>1641</td>\n      <td>478</td>\n      <td>537</td>\n      <td>1689</td>\n    </tr>\n    <tr>\n      <th>15</th>\n      <td>sinus</td>\n      <td>0.217904</td>\n      <td>0.833628</td>\n      <td>0.125333</td>\n      <td>0.221864</td>\n      <td>471</td>\n      <td>493</td>\n      <td>94</td>\n      <td>3287</td>\n    </tr>\n    <tr>\n      <th>16</th>\n      <td>specific</td>\n      <td>0.127412</td>\n      <td>0.074766</td>\n      <td>0.430642</td>\n      <td>0.344304</td>\n      <td>208</td>\n      <td>1288</td>\n      <td>2574</td>\n      <td>275</td>\n    </tr>\n    <tr>\n      <th>17</th>\n      <td>st</td>\n      <td>0.340320</td>\n      <td>0.211664</td>\n      <td>0.867792</td>\n      <td>0.449482</td>\n      <td>617</td>\n      <td>1336</td>\n      <td>2298</td>\n      <td>94</td>\n    </tr>\n    <tr>\n      <th>18</th>\n      <td>type</td>\n      <td>0.751412</td>\n      <td>0.618100</td>\n      <td>0.958042</td>\n      <td>0.645339</td>\n      <td>2329</td>\n      <td>475</td>\n      <td>1439</td>\n      <td>102</td>\n    </tr>\n    <tr>\n      <th>19</th>\n      <td>unconfirmed</td>\n      <td>0.337079</td>\n      <td>0.470514</td>\n      <td>0.262605</td>\n      <td>0.660529</td>\n      <td>375</td>\n      <td>2495</td>\n      <td>422</td>\n      <td>1053</td>\n    </tr>\n  </tbody>\n</table>\n</div>"
     },
     "execution_count": 7,
     "metadata": {},
     "output_type": "execute_result"
    }
   ],
   "source": [
    "performance_data = []\n",
    "\n",
    "# Iterate over each label in the DataFrame\n",
    "for label in y.columns:\n",
    "    # Compute confusion matrix for the current label\n",
    "    tn, fp, fn, tp = confusion_matrix(y[label], pred[label]).ravel()\n",
    "    f1 = f1_score(y[label], pred[label])\n",
    "    precision = precision_score(y[label], pred[label], zero_division=0)\n",
    "    recall = recall_score(y[label], pred[label])\n",
    "    accuracy = accuracy_score(y[label], pred[label])\n",
    "    \n",
    "    # Append the results to the list\n",
    "    performance_data.append({'Label': label, 'f1': f1, 'precision': precision, 'recall': recall, 'accuracy': accuracy, 'TP': tp, 'TN': tn, 'FP': fp, 'FN': fn})\n",
    "\n",
    "# Convert the list of dicts into a DataFrame\n",
    "performance_summary = pd.DataFrame(performance_data)\n",
    "\n",
    "performance_summary"
   ],
   "metadata": {
    "collapsed": false,
    "ExecuteTime": {
     "end_time": "2024-03-26T07:46:13.212232600Z",
     "start_time": "2024-03-26T07:46:12.982006Z"
    }
   },
   "id": "3947abab709c38ea",
   "execution_count": 7
  },
  {
   "cell_type": "code",
   "outputs": [],
   "source": [],
   "metadata": {
    "collapsed": false
   },
   "id": "366d08d920317dd7"
  }
 ],
 "metadata": {
  "kernelspec": {
   "display_name": "Python 3",
   "language": "python",
   "name": "python3"
  },
  "language_info": {
   "codemirror_mode": {
    "name": "ipython",
    "version": 2
   },
   "file_extension": ".py",
   "mimetype": "text/x-python",
   "name": "python",
   "nbconvert_exporter": "python",
   "pygments_lexer": "ipython2",
   "version": "2.7.6"
  }
 },
 "nbformat": 4,
 "nbformat_minor": 5
}
