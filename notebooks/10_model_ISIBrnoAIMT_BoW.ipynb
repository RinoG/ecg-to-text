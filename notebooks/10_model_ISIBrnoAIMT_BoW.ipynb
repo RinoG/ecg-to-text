{
 "cells": [
  {
   "cell_type": "markdown",
   "source": [
    "# ISIBrno-AIMT\n",
    "ISIBrno-AIMT is the winner of the [Will Two Do?](https://physionet.org/content/challenge-2021/1.0.3/sources/) challenge from [physionet.org](https://physionet.org/) \n",
    "\n",
    "[Source Code](https://physionet.org/static/published-projects/challenge-2021/1.0.3/sources/ISIBrnoAIMT.zip)\n",
    "[Paper](https://www.cinc.org/archives/2021/pdf/CinC2021-014.pdf)\n",
    "[leaderboard](https://moody-challenge.physionet.org/2021/results/)"
   ],
   "metadata": {
    "collapsed": false
   },
   "id": "a195e52a52decb2a"
  },
  {
   "cell_type": "code",
   "outputs": [],
   "source": [
    "import pickle\n",
    "import os\n",
    "import sys\n",
    "import torch\n",
    "import pandas as pd\n",
    "from torch.utils.data import DataLoader\n",
    "from sklearn.metrics import f1_score, jaccard_score, confusion_matrix, precision_score, recall_score, accuracy_score\n",
    "\n",
    "from models.m02_ISIBrnoAIMT_BagOfWords.train import *\n",
    "from models.m02_ISIBrnoAIMT_BagOfWords.model import NN\n",
    "from models.m02_ISIBrnoAIMT_BagOfWords.dataset import PtbXlDataset"
   ],
   "metadata": {
    "collapsed": true,
    "ExecuteTime": {
     "end_time": "2024-03-27T14:46:40.376148Z",
     "start_time": "2024-03-27T14:46:26.774670Z"
    }
   },
   "id": "initial_id",
   "execution_count": 1
  },
  {
   "cell_type": "code",
   "outputs": [],
   "source": [
    "os.chdir('..')"
   ],
   "metadata": {
    "collapsed": false,
    "ExecuteTime": {
     "end_time": "2024-03-27T14:46:40.390105500Z",
     "start_time": "2024-03-27T14:46:40.377144100Z"
    }
   },
   "id": "5b78b990737513dc",
   "execution_count": 2
  },
  {
   "cell_type": "markdown",
   "source": [
    "### Bag of Words with 50 Words"
   ],
   "metadata": {
    "collapsed": false
   },
   "id": "e9d10629ccf53312"
  },
  {
   "cell_type": "code",
   "outputs": [
    {
     "data": {
      "text/plain": "<All keys matched successfully>"
     },
     "execution_count": 3,
     "metadata": {},
     "output_type": "execute_result"
    }
   ],
   "source": [
    "device = 'cuda:0' if torch.cuda.is_available() else 'cpu'\n",
    "\n",
    "n_BoW = 50\n",
    "dataset = PtbXlDataset('data_ptb-xl/', 'test', n_BoW)\n",
    "dataloader = DataLoader(dataset, batch_size=64, shuffle=True)\n",
    "\n",
    "model = NN(n_BoW).to(device)\n",
    "model.load_state_dict(torch.load(f'models/m02_ISIBrnoAIMT_BagOfWords/model_{n_BoW}_BoW.pt'))"
   ],
   "metadata": {
    "collapsed": false,
    "ExecuteTime": {
     "end_time": "2024-03-27T14:46:40.914358400Z",
     "start_time": "2024-03-27T14:46:40.392095200Z"
    }
   },
   "id": "15e41fd6e2ed0392",
   "execution_count": 3
  },
  {
   "cell_type": "code",
   "outputs": [],
   "source": [
    "y, pred = get_predictions(model, dataloader)\n",
    "bow_columns = pd.read_csv('data_ptb-xl/bag_of_words/train_50_BoW.csv').columns[1:]"
   ],
   "metadata": {
    "collapsed": false,
    "ExecuteTime": {
     "end_time": "2024-03-27T14:47:20.077503700Z",
     "start_time": "2024-03-27T14:46:40.915354800Z"
    }
   },
   "id": "e89623c903d4a552",
   "execution_count": 4
  },
  {
   "cell_type": "code",
   "outputs": [],
   "source": [
    "y = pd.DataFrame(y, columns=bow_columns)\n",
    "pred = pd.DataFrame(pred, columns=bow_columns)"
   ],
   "metadata": {
    "collapsed": false,
    "ExecuteTime": {
     "end_time": "2024-03-27T14:47:20.093453900Z",
     "start_time": "2024-03-27T14:47:20.079497300Z"
    }
   },
   "id": "71973b30baa4b452",
   "execution_count": 5
  },
  {
   "cell_type": "code",
   "outputs": [
    {
     "name": "stdout",
     "output_type": "stream",
     "text": [
      "F1: 0.23093855881219758\n",
      "IOU: 0.13548106964085388\n"
     ]
    }
   ],
   "source": [
    "f1 = f1_score(y, pred, average='samples')\n",
    "iou = jaccard_score(y, pred, average='samples')\n",
    "\n",
    "print(f'F1: {f1}\\nIOU: {iou}')"
   ],
   "metadata": {
    "collapsed": false,
    "ExecuteTime": {
     "end_time": "2024-03-27T14:47:20.157865800Z",
     "start_time": "2024-03-27T14:47:20.094446800Z"
    }
   },
   "id": "3f688d204ac688cb",
   "execution_count": 6
  },
  {
   "cell_type": "code",
   "outputs": [
    {
     "data": {
      "text/plain": "               Label        f1  precision    recall  accuracy    TP    TN  \\\n0                 46  0.432674   0.403571  0.466300  0.590794   678  1889   \n1           abnormal  0.325033   0.340659  0.310777  0.644419   372  2428   \n2           anterior  0.095783   0.066866  0.168766  0.708861    67  3013   \n3      anterolateral  0.079127   0.042336  0.604167  0.223245   145   825   \n4       anteroseptal  0.072289   0.045215  0.180180  0.645570    60  2745   \n5             atrial  0.112676   0.085393  0.165577  0.724511    76  3072   \n6                avl  0.080864   0.043375  0.595918  0.236133   146   880   \n7               axis  0.202851   0.116646  0.777311  0.665362   185  2706   \n8              block  0.306185   0.181335  0.982962  0.217722   750   196   \n9             branch  0.202683   0.113306  0.959677  0.138090   476   124   \n10            bundle  0.204128   0.125403  0.548387  0.511853   272  1952   \n11            damage  0.152117   0.084478  0.763158  0.479171   203  1879   \n12               ecg  0.152499   0.141956  0.164735  0.309321   270  1074   \n13         excessive  0.138678   0.095380  0.253968  0.817031    64  3486   \n14      extrasystole  0.075738   0.045245  0.232283  0.668585    59  2846   \n15      fibrillation  0.000000   0.000000  0.000000  0.900575     0  3913   \n16              high  0.124868   0.067544  0.825175  0.238665   236   801   \n17       hypertrophy  0.145266   0.090762  0.363636  0.696663   112  2915   \n18                ii  0.055127   0.029386  0.444444  0.211047   100   817   \n19        infarction  0.254010   0.161599  0.593272  0.475489   388  1678   \n20          inferior  0.263415   0.158824  0.771429  0.443959   432  1497   \n21  intraventricular  0.086703   0.046048  0.740331  0.350288   134  1388   \n22         ischaemia  0.068564   0.036653  0.530000  0.337169   106  1359   \n23          ischemia  0.081288   0.045619  0.372694  0.474568   101  1961   \n24           lateral  0.006369   0.100000  0.003289  0.928193     1  4032   \n25              lead  0.148492   0.207792  0.115523  0.831070    64  3547   \n26              left  0.311662   0.323803  0.300398  0.539471   453  1891   \n27               low  0.045262   0.025306  0.214047  0.378596    64  1581   \n28        myocardial  0.101788   0.064311  0.243956  0.549137   111  2275   \n29               non  0.052301   0.053079  0.051546  0.791484    25  3414   \n30            normal  0.070770   0.405063  0.038772  0.419793    96  1728   \n31               old  0.074786   0.074468  0.075107  0.800690    35  3444   \n32         otherwise  0.130024   0.078125  0.387324  0.491830   165  1972   \n33          position  0.530206   0.369716  0.936904  0.479171  1277   805   \n34          possible  0.139535   0.080990  0.503497  0.386881   216  1465   \n35          probably  0.212716   0.120032  0.933610  0.233372   450   564   \n36               qrs  0.321649   0.217270  0.619048  0.545685   468  1903   \n37            report  0.010303   0.026471  0.006397  0.602071     9  2607   \n38            rhythm  0.747910   0.772059  0.725225  0.625316  2415   302   \n39             right  0.056259   0.074627  0.045147  0.845570    20  3654   \n40           segment  0.079501   0.049419  0.203187  0.728193    51  3113   \n41             sinus  0.644137   0.898144  0.502129  0.520138  1887   373   \n42          specific  0.139578   0.082087  0.465839  0.361565   225  1346   \n43                st  0.008969   0.022099  0.005626  0.796548     4  3457   \n44            strain  0.186631   0.105737  0.794366  0.434292   282  1605   \n45              type  0.659605   0.577792  0.768408  0.556272  1868   549   \n46       unconfirmed  0.277528   0.199754  0.454482  0.222325   649   317   \n47       ventricular  0.134140   0.073126  0.809942  0.176985   277   492   \n48           voltage  0.078773   0.045433  0.295950  0.488608    95  2028   \n49              wave  0.173680   0.098480  0.734694  0.290449   324   938   \n\n      FP    FN  \n0   1002   776  \n1    720   825  \n2    935   330  \n3   3280    95  \n4   1267   273  \n5    814   383  \n6   3220    99  \n7   1401    53  \n8   3386    13  \n9   3725    20  \n10  1897   224  \n11  2200    63  \n12  1632  1369  \n13   607   188  \n14  1245   195  \n15   119   313  \n16  3258    50  \n17  1122   196  \n18  3303   125  \n19  2013   266  \n20  2288   128  \n21  2776    47  \n22  2786    94  \n23  2113   170  \n24     9   303  \n25   244   490  \n26   946  1055  \n27  2465   235  \n28  1615   344  \n29   446   460  \n30   141  2380  \n31   435   431  \n32  1947   261  \n33  2177    86  \n34  2451   213  \n35  3299    32  \n36  1686   288  \n37   331  1398  \n38   713   915  \n39   248   423  \n40   981   200  \n41   214  1871  \n42  2516   258  \n43   177   707  \n44  2385    73  \n45  1365   563  \n46  2600   779  \n47  3511    65  \n48  1996   226  \n49  2966   117  ",
      "text/html": "<div>\n<style scoped>\n    .dataframe tbody tr th:only-of-type {\n        vertical-align: middle;\n    }\n\n    .dataframe tbody tr th {\n        vertical-align: top;\n    }\n\n    .dataframe thead th {\n        text-align: right;\n    }\n</style>\n<table border=\"1\" class=\"dataframe\">\n  <thead>\n    <tr style=\"text-align: right;\">\n      <th></th>\n      <th>Label</th>\n      <th>f1</th>\n      <th>precision</th>\n      <th>recall</th>\n      <th>accuracy</th>\n      <th>TP</th>\n      <th>TN</th>\n      <th>FP</th>\n      <th>FN</th>\n    </tr>\n  </thead>\n  <tbody>\n    <tr>\n      <th>0</th>\n      <td>46</td>\n      <td>0.432674</td>\n      <td>0.403571</td>\n      <td>0.466300</td>\n      <td>0.590794</td>\n      <td>678</td>\n      <td>1889</td>\n      <td>1002</td>\n      <td>776</td>\n    </tr>\n    <tr>\n      <th>1</th>\n      <td>abnormal</td>\n      <td>0.325033</td>\n      <td>0.340659</td>\n      <td>0.310777</td>\n      <td>0.644419</td>\n      <td>372</td>\n      <td>2428</td>\n      <td>720</td>\n      <td>825</td>\n    </tr>\n    <tr>\n      <th>2</th>\n      <td>anterior</td>\n      <td>0.095783</td>\n      <td>0.066866</td>\n      <td>0.168766</td>\n      <td>0.708861</td>\n      <td>67</td>\n      <td>3013</td>\n      <td>935</td>\n      <td>330</td>\n    </tr>\n    <tr>\n      <th>3</th>\n      <td>anterolateral</td>\n      <td>0.079127</td>\n      <td>0.042336</td>\n      <td>0.604167</td>\n      <td>0.223245</td>\n      <td>145</td>\n      <td>825</td>\n      <td>3280</td>\n      <td>95</td>\n    </tr>\n    <tr>\n      <th>4</th>\n      <td>anteroseptal</td>\n      <td>0.072289</td>\n      <td>0.045215</td>\n      <td>0.180180</td>\n      <td>0.645570</td>\n      <td>60</td>\n      <td>2745</td>\n      <td>1267</td>\n      <td>273</td>\n    </tr>\n    <tr>\n      <th>5</th>\n      <td>atrial</td>\n      <td>0.112676</td>\n      <td>0.085393</td>\n      <td>0.165577</td>\n      <td>0.724511</td>\n      <td>76</td>\n      <td>3072</td>\n      <td>814</td>\n      <td>383</td>\n    </tr>\n    <tr>\n      <th>6</th>\n      <td>avl</td>\n      <td>0.080864</td>\n      <td>0.043375</td>\n      <td>0.595918</td>\n      <td>0.236133</td>\n      <td>146</td>\n      <td>880</td>\n      <td>3220</td>\n      <td>99</td>\n    </tr>\n    <tr>\n      <th>7</th>\n      <td>axis</td>\n      <td>0.202851</td>\n      <td>0.116646</td>\n      <td>0.777311</td>\n      <td>0.665362</td>\n      <td>185</td>\n      <td>2706</td>\n      <td>1401</td>\n      <td>53</td>\n    </tr>\n    <tr>\n      <th>8</th>\n      <td>block</td>\n      <td>0.306185</td>\n      <td>0.181335</td>\n      <td>0.982962</td>\n      <td>0.217722</td>\n      <td>750</td>\n      <td>196</td>\n      <td>3386</td>\n      <td>13</td>\n    </tr>\n    <tr>\n      <th>9</th>\n      <td>branch</td>\n      <td>0.202683</td>\n      <td>0.113306</td>\n      <td>0.959677</td>\n      <td>0.138090</td>\n      <td>476</td>\n      <td>124</td>\n      <td>3725</td>\n      <td>20</td>\n    </tr>\n    <tr>\n      <th>10</th>\n      <td>bundle</td>\n      <td>0.204128</td>\n      <td>0.125403</td>\n      <td>0.548387</td>\n      <td>0.511853</td>\n      <td>272</td>\n      <td>1952</td>\n      <td>1897</td>\n      <td>224</td>\n    </tr>\n    <tr>\n      <th>11</th>\n      <td>damage</td>\n      <td>0.152117</td>\n      <td>0.084478</td>\n      <td>0.763158</td>\n      <td>0.479171</td>\n      <td>203</td>\n      <td>1879</td>\n      <td>2200</td>\n      <td>63</td>\n    </tr>\n    <tr>\n      <th>12</th>\n      <td>ecg</td>\n      <td>0.152499</td>\n      <td>0.141956</td>\n      <td>0.164735</td>\n      <td>0.309321</td>\n      <td>270</td>\n      <td>1074</td>\n      <td>1632</td>\n      <td>1369</td>\n    </tr>\n    <tr>\n      <th>13</th>\n      <td>excessive</td>\n      <td>0.138678</td>\n      <td>0.095380</td>\n      <td>0.253968</td>\n      <td>0.817031</td>\n      <td>64</td>\n      <td>3486</td>\n      <td>607</td>\n      <td>188</td>\n    </tr>\n    <tr>\n      <th>14</th>\n      <td>extrasystole</td>\n      <td>0.075738</td>\n      <td>0.045245</td>\n      <td>0.232283</td>\n      <td>0.668585</td>\n      <td>59</td>\n      <td>2846</td>\n      <td>1245</td>\n      <td>195</td>\n    </tr>\n    <tr>\n      <th>15</th>\n      <td>fibrillation</td>\n      <td>0.000000</td>\n      <td>0.000000</td>\n      <td>0.000000</td>\n      <td>0.900575</td>\n      <td>0</td>\n      <td>3913</td>\n      <td>119</td>\n      <td>313</td>\n    </tr>\n    <tr>\n      <th>16</th>\n      <td>high</td>\n      <td>0.124868</td>\n      <td>0.067544</td>\n      <td>0.825175</td>\n      <td>0.238665</td>\n      <td>236</td>\n      <td>801</td>\n      <td>3258</td>\n      <td>50</td>\n    </tr>\n    <tr>\n      <th>17</th>\n      <td>hypertrophy</td>\n      <td>0.145266</td>\n      <td>0.090762</td>\n      <td>0.363636</td>\n      <td>0.696663</td>\n      <td>112</td>\n      <td>2915</td>\n      <td>1122</td>\n      <td>196</td>\n    </tr>\n    <tr>\n      <th>18</th>\n      <td>ii</td>\n      <td>0.055127</td>\n      <td>0.029386</td>\n      <td>0.444444</td>\n      <td>0.211047</td>\n      <td>100</td>\n      <td>817</td>\n      <td>3303</td>\n      <td>125</td>\n    </tr>\n    <tr>\n      <th>19</th>\n      <td>infarction</td>\n      <td>0.254010</td>\n      <td>0.161599</td>\n      <td>0.593272</td>\n      <td>0.475489</td>\n      <td>388</td>\n      <td>1678</td>\n      <td>2013</td>\n      <td>266</td>\n    </tr>\n    <tr>\n      <th>20</th>\n      <td>inferior</td>\n      <td>0.263415</td>\n      <td>0.158824</td>\n      <td>0.771429</td>\n      <td>0.443959</td>\n      <td>432</td>\n      <td>1497</td>\n      <td>2288</td>\n      <td>128</td>\n    </tr>\n    <tr>\n      <th>21</th>\n      <td>intraventricular</td>\n      <td>0.086703</td>\n      <td>0.046048</td>\n      <td>0.740331</td>\n      <td>0.350288</td>\n      <td>134</td>\n      <td>1388</td>\n      <td>2776</td>\n      <td>47</td>\n    </tr>\n    <tr>\n      <th>22</th>\n      <td>ischaemia</td>\n      <td>0.068564</td>\n      <td>0.036653</td>\n      <td>0.530000</td>\n      <td>0.337169</td>\n      <td>106</td>\n      <td>1359</td>\n      <td>2786</td>\n      <td>94</td>\n    </tr>\n    <tr>\n      <th>23</th>\n      <td>ischemia</td>\n      <td>0.081288</td>\n      <td>0.045619</td>\n      <td>0.372694</td>\n      <td>0.474568</td>\n      <td>101</td>\n      <td>1961</td>\n      <td>2113</td>\n      <td>170</td>\n    </tr>\n    <tr>\n      <th>24</th>\n      <td>lateral</td>\n      <td>0.006369</td>\n      <td>0.100000</td>\n      <td>0.003289</td>\n      <td>0.928193</td>\n      <td>1</td>\n      <td>4032</td>\n      <td>9</td>\n      <td>303</td>\n    </tr>\n    <tr>\n      <th>25</th>\n      <td>lead</td>\n      <td>0.148492</td>\n      <td>0.207792</td>\n      <td>0.115523</td>\n      <td>0.831070</td>\n      <td>64</td>\n      <td>3547</td>\n      <td>244</td>\n      <td>490</td>\n    </tr>\n    <tr>\n      <th>26</th>\n      <td>left</td>\n      <td>0.311662</td>\n      <td>0.323803</td>\n      <td>0.300398</td>\n      <td>0.539471</td>\n      <td>453</td>\n      <td>1891</td>\n      <td>946</td>\n      <td>1055</td>\n    </tr>\n    <tr>\n      <th>27</th>\n      <td>low</td>\n      <td>0.045262</td>\n      <td>0.025306</td>\n      <td>0.214047</td>\n      <td>0.378596</td>\n      <td>64</td>\n      <td>1581</td>\n      <td>2465</td>\n      <td>235</td>\n    </tr>\n    <tr>\n      <th>28</th>\n      <td>myocardial</td>\n      <td>0.101788</td>\n      <td>0.064311</td>\n      <td>0.243956</td>\n      <td>0.549137</td>\n      <td>111</td>\n      <td>2275</td>\n      <td>1615</td>\n      <td>344</td>\n    </tr>\n    <tr>\n      <th>29</th>\n      <td>non</td>\n      <td>0.052301</td>\n      <td>0.053079</td>\n      <td>0.051546</td>\n      <td>0.791484</td>\n      <td>25</td>\n      <td>3414</td>\n      <td>446</td>\n      <td>460</td>\n    </tr>\n    <tr>\n      <th>30</th>\n      <td>normal</td>\n      <td>0.070770</td>\n      <td>0.405063</td>\n      <td>0.038772</td>\n      <td>0.419793</td>\n      <td>96</td>\n      <td>1728</td>\n      <td>141</td>\n      <td>2380</td>\n    </tr>\n    <tr>\n      <th>31</th>\n      <td>old</td>\n      <td>0.074786</td>\n      <td>0.074468</td>\n      <td>0.075107</td>\n      <td>0.800690</td>\n      <td>35</td>\n      <td>3444</td>\n      <td>435</td>\n      <td>431</td>\n    </tr>\n    <tr>\n      <th>32</th>\n      <td>otherwise</td>\n      <td>0.130024</td>\n      <td>0.078125</td>\n      <td>0.387324</td>\n      <td>0.491830</td>\n      <td>165</td>\n      <td>1972</td>\n      <td>1947</td>\n      <td>261</td>\n    </tr>\n    <tr>\n      <th>33</th>\n      <td>position</td>\n      <td>0.530206</td>\n      <td>0.369716</td>\n      <td>0.936904</td>\n      <td>0.479171</td>\n      <td>1277</td>\n      <td>805</td>\n      <td>2177</td>\n      <td>86</td>\n    </tr>\n    <tr>\n      <th>34</th>\n      <td>possible</td>\n      <td>0.139535</td>\n      <td>0.080990</td>\n      <td>0.503497</td>\n      <td>0.386881</td>\n      <td>216</td>\n      <td>1465</td>\n      <td>2451</td>\n      <td>213</td>\n    </tr>\n    <tr>\n      <th>35</th>\n      <td>probably</td>\n      <td>0.212716</td>\n      <td>0.120032</td>\n      <td>0.933610</td>\n      <td>0.233372</td>\n      <td>450</td>\n      <td>564</td>\n      <td>3299</td>\n      <td>32</td>\n    </tr>\n    <tr>\n      <th>36</th>\n      <td>qrs</td>\n      <td>0.321649</td>\n      <td>0.217270</td>\n      <td>0.619048</td>\n      <td>0.545685</td>\n      <td>468</td>\n      <td>1903</td>\n      <td>1686</td>\n      <td>288</td>\n    </tr>\n    <tr>\n      <th>37</th>\n      <td>report</td>\n      <td>0.010303</td>\n      <td>0.026471</td>\n      <td>0.006397</td>\n      <td>0.602071</td>\n      <td>9</td>\n      <td>2607</td>\n      <td>331</td>\n      <td>1398</td>\n    </tr>\n    <tr>\n      <th>38</th>\n      <td>rhythm</td>\n      <td>0.747910</td>\n      <td>0.772059</td>\n      <td>0.725225</td>\n      <td>0.625316</td>\n      <td>2415</td>\n      <td>302</td>\n      <td>713</td>\n      <td>915</td>\n    </tr>\n    <tr>\n      <th>39</th>\n      <td>right</td>\n      <td>0.056259</td>\n      <td>0.074627</td>\n      <td>0.045147</td>\n      <td>0.845570</td>\n      <td>20</td>\n      <td>3654</td>\n      <td>248</td>\n      <td>423</td>\n    </tr>\n    <tr>\n      <th>40</th>\n      <td>segment</td>\n      <td>0.079501</td>\n      <td>0.049419</td>\n      <td>0.203187</td>\n      <td>0.728193</td>\n      <td>51</td>\n      <td>3113</td>\n      <td>981</td>\n      <td>200</td>\n    </tr>\n    <tr>\n      <th>41</th>\n      <td>sinus</td>\n      <td>0.644137</td>\n      <td>0.898144</td>\n      <td>0.502129</td>\n      <td>0.520138</td>\n      <td>1887</td>\n      <td>373</td>\n      <td>214</td>\n      <td>1871</td>\n    </tr>\n    <tr>\n      <th>42</th>\n      <td>specific</td>\n      <td>0.139578</td>\n      <td>0.082087</td>\n      <td>0.465839</td>\n      <td>0.361565</td>\n      <td>225</td>\n      <td>1346</td>\n      <td>2516</td>\n      <td>258</td>\n    </tr>\n    <tr>\n      <th>43</th>\n      <td>st</td>\n      <td>0.008969</td>\n      <td>0.022099</td>\n      <td>0.005626</td>\n      <td>0.796548</td>\n      <td>4</td>\n      <td>3457</td>\n      <td>177</td>\n      <td>707</td>\n    </tr>\n    <tr>\n      <th>44</th>\n      <td>strain</td>\n      <td>0.186631</td>\n      <td>0.105737</td>\n      <td>0.794366</td>\n      <td>0.434292</td>\n      <td>282</td>\n      <td>1605</td>\n      <td>2385</td>\n      <td>73</td>\n    </tr>\n    <tr>\n      <th>45</th>\n      <td>type</td>\n      <td>0.659605</td>\n      <td>0.577792</td>\n      <td>0.768408</td>\n      <td>0.556272</td>\n      <td>1868</td>\n      <td>549</td>\n      <td>1365</td>\n      <td>563</td>\n    </tr>\n    <tr>\n      <th>46</th>\n      <td>unconfirmed</td>\n      <td>0.277528</td>\n      <td>0.199754</td>\n      <td>0.454482</td>\n      <td>0.222325</td>\n      <td>649</td>\n      <td>317</td>\n      <td>2600</td>\n      <td>779</td>\n    </tr>\n    <tr>\n      <th>47</th>\n      <td>ventricular</td>\n      <td>0.134140</td>\n      <td>0.073126</td>\n      <td>0.809942</td>\n      <td>0.176985</td>\n      <td>277</td>\n      <td>492</td>\n      <td>3511</td>\n      <td>65</td>\n    </tr>\n    <tr>\n      <th>48</th>\n      <td>voltage</td>\n      <td>0.078773</td>\n      <td>0.045433</td>\n      <td>0.295950</td>\n      <td>0.488608</td>\n      <td>95</td>\n      <td>2028</td>\n      <td>1996</td>\n      <td>226</td>\n    </tr>\n    <tr>\n      <th>49</th>\n      <td>wave</td>\n      <td>0.173680</td>\n      <td>0.098480</td>\n      <td>0.734694</td>\n      <td>0.290449</td>\n      <td>324</td>\n      <td>938</td>\n      <td>2966</td>\n      <td>117</td>\n    </tr>\n  </tbody>\n</table>\n</div>"
     },
     "execution_count": 7,
     "metadata": {},
     "output_type": "execute_result"
    }
   ],
   "source": [
    "performance_data = []\n",
    "\n",
    "# Iterate over each label in the DataFrame\n",
    "for label in y.columns:\n",
    "    # Compute confusion matrix for the current label\n",
    "    tn, fp, fn, tp = confusion_matrix(y[label], pred[label]).ravel()\n",
    "    f1 = f1_score(y[label], pred[label])\n",
    "    precision = precision_score(y[label], pred[label], zero_division=0)\n",
    "    recall = recall_score(y[label], pred[label])\n",
    "    accuracy = accuracy_score(y[label], pred[label])\n",
    "    \n",
    "    # Append the results to the list\n",
    "    performance_data.append({'Label': label, 'f1': f1, 'precision': precision, 'recall': recall, 'accuracy': accuracy, 'TP': tp, 'TN': tn, 'FP': fp, 'FN': fn})\n",
    "\n",
    "# Convert the list of dicts into a DataFrame\n",
    "performance_summary = pd.DataFrame(performance_data)\n",
    "\n",
    "performance_summary"
   ],
   "metadata": {
    "collapsed": false,
    "ExecuteTime": {
     "end_time": "2024-03-27T14:47:20.713009200Z",
     "start_time": "2024-03-27T14:47:20.158861900Z"
    }
   },
   "id": "7f5fdef539fd4acf",
   "execution_count": 7
  },
  {
   "cell_type": "markdown",
   "source": [
    "### Bag of Words with 20 Words"
   ],
   "metadata": {
    "collapsed": false
   },
   "id": "9398034992b157f5"
  },
  {
   "cell_type": "code",
   "outputs": [
    {
     "data": {
      "text/plain": "<All keys matched successfully>"
     },
     "execution_count": 8,
     "metadata": {},
     "output_type": "execute_result"
    }
   ],
   "source": [
    "device = 'cuda:0' if torch.cuda.is_available() else 'cpu'\n",
    "\n",
    "n_BoW = 20\n",
    "dataset = PtbXlDataset('data_ptb-xl/', 'test', n_BoW)\n",
    "dataloader = DataLoader(dataset, batch_size=64, shuffle=True)\n",
    "\n",
    "model = NN(n_BoW).to(device)\n",
    "model.load_state_dict(torch.load(f'models/m02_ISIBrnoAIMT_BagOfWords/model_{n_BoW}_BoW.pt'))"
   ],
   "metadata": {
    "collapsed": false,
    "ExecuteTime": {
     "end_time": "2024-03-27T14:47:21.035928400Z",
     "start_time": "2024-03-27T14:47:20.713009200Z"
    }
   },
   "id": "7c08469864e0ff2b",
   "execution_count": 8
  },
  {
   "cell_type": "code",
   "outputs": [],
   "source": [
    "y, pred = get_predictions(model, dataloader)\n",
    "bow_columns = pd.read_csv('data_ptb-xl/bag_of_words/train_20_BoW.csv').columns[1:]"
   ],
   "metadata": {
    "collapsed": false,
    "ExecuteTime": {
     "end_time": "2024-03-27T14:47:37.949032900Z",
     "start_time": "2024-03-27T14:47:21.036925300Z"
    }
   },
   "id": "ef97540909934669",
   "execution_count": 9
  },
  {
   "cell_type": "code",
   "outputs": [],
   "source": [
    "y = pd.DataFrame(y, columns=bow_columns)\n",
    "pred = pd.DataFrame(pred, columns=bow_columns)"
   ],
   "metadata": {
    "collapsed": false,
    "ExecuteTime": {
     "end_time": "2024-03-27T14:47:37.971956200Z",
     "start_time": "2024-03-27T14:47:37.951026400Z"
    }
   },
   "id": "a81622f659d08922",
   "execution_count": 10
  },
  {
   "cell_type": "code",
   "outputs": [
    {
     "name": "stdout",
     "output_type": "stream",
     "text": [
      "F1: 0.4084768387387923\n",
      "IOU: 0.267230091639407\n"
     ]
    }
   ],
   "source": [
    "f1 = f1_score(y, pred, average='samples')\n",
    "iou = jaccard_score(y, pred, average='samples')\n",
    "\n",
    "print(f'F1: {f1}\\nIOU: {iou}')"
   ],
   "metadata": {
    "collapsed": false,
    "ExecuteTime": {
     "end_time": "2024-03-27T14:47:38.010825900Z",
     "start_time": "2024-03-27T14:47:37.965976600Z"
    }
   },
   "id": "8054c6878410f82a",
   "execution_count": 11
  },
  {
   "cell_type": "code",
   "outputs": [
    {
     "data": {
      "text/plain": "          Label        f1  precision    recall  accuracy    TP    TN    FP  \\\n0            46  0.254772   0.185104  0.408528  0.200230   594   276  2615   \n1      abnormal  0.453608   0.447883  0.459482  0.695052   550  2470   678   \n2         block  0.236947   0.148505  0.585845  0.337399   447  1019  2563   \n3           ecg  0.482563   0.350014  0.776693  0.371692  1273   342  2364   \n4    infarction  0.268754   0.170813  0.629969  0.484005   412  1691  2000   \n5      inferior  0.025339   0.016970  0.050000  0.504258    28  2163  1622   \n6          lead  0.169222   0.101128  0.518051  0.351438   287  1240  2551   \n7          left  0.544890   0.474435  0.639920  0.628999   965  1768  1069   \n8           non  0.196532   0.120853  0.525773  0.520138   255  2005  1855   \n9        normal  0.651996   0.699861  0.610258  0.628769  1511  1221   648   \n10     position  0.501111   0.345789  0.909758  0.431761  1240   636  2346   \n11     probably  0.134824   0.080109  0.425311  0.394476   205  1509  2354   \n12          qrs  0.163655   0.131877  0.215608  0.616571   163  2516  1073   \n13       report  0.077765   0.057825  0.118692  0.088377   167   217  2721   \n14       rhythm  0.795171   0.746639  0.850450  0.664212  2832    54   961   \n15        sinus  0.814130   0.845514  0.784992  0.689988  2950    48   539   \n16     specific  0.181599   0.102753  0.780538  0.217952   377   570  3292   \n17           st  0.029304   0.111111  0.016878  0.817031    12  3538    96   \n18         type  0.721760   0.565045  0.998766  0.569160  2428    45  1869   \n19  unconfirmed  0.110087   0.088223  0.146359  0.222325   209   757  2160   \n\n      FN  \n0    860  \n1    647  \n2    316  \n3    366  \n4    242  \n5    532  \n6    267  \n7    543  \n8    230  \n9    965  \n10   123  \n11   277  \n12   593  \n13  1240  \n14   498  \n15   808  \n16   106  \n17   699  \n18     3  \n19  1219  ",
      "text/html": "<div>\n<style scoped>\n    .dataframe tbody tr th:only-of-type {\n        vertical-align: middle;\n    }\n\n    .dataframe tbody tr th {\n        vertical-align: top;\n    }\n\n    .dataframe thead th {\n        text-align: right;\n    }\n</style>\n<table border=\"1\" class=\"dataframe\">\n  <thead>\n    <tr style=\"text-align: right;\">\n      <th></th>\n      <th>Label</th>\n      <th>f1</th>\n      <th>precision</th>\n      <th>recall</th>\n      <th>accuracy</th>\n      <th>TP</th>\n      <th>TN</th>\n      <th>FP</th>\n      <th>FN</th>\n    </tr>\n  </thead>\n  <tbody>\n    <tr>\n      <th>0</th>\n      <td>46</td>\n      <td>0.254772</td>\n      <td>0.185104</td>\n      <td>0.408528</td>\n      <td>0.200230</td>\n      <td>594</td>\n      <td>276</td>\n      <td>2615</td>\n      <td>860</td>\n    </tr>\n    <tr>\n      <th>1</th>\n      <td>abnormal</td>\n      <td>0.453608</td>\n      <td>0.447883</td>\n      <td>0.459482</td>\n      <td>0.695052</td>\n      <td>550</td>\n      <td>2470</td>\n      <td>678</td>\n      <td>647</td>\n    </tr>\n    <tr>\n      <th>2</th>\n      <td>block</td>\n      <td>0.236947</td>\n      <td>0.148505</td>\n      <td>0.585845</td>\n      <td>0.337399</td>\n      <td>447</td>\n      <td>1019</td>\n      <td>2563</td>\n      <td>316</td>\n    </tr>\n    <tr>\n      <th>3</th>\n      <td>ecg</td>\n      <td>0.482563</td>\n      <td>0.350014</td>\n      <td>0.776693</td>\n      <td>0.371692</td>\n      <td>1273</td>\n      <td>342</td>\n      <td>2364</td>\n      <td>366</td>\n    </tr>\n    <tr>\n      <th>4</th>\n      <td>infarction</td>\n      <td>0.268754</td>\n      <td>0.170813</td>\n      <td>0.629969</td>\n      <td>0.484005</td>\n      <td>412</td>\n      <td>1691</td>\n      <td>2000</td>\n      <td>242</td>\n    </tr>\n    <tr>\n      <th>5</th>\n      <td>inferior</td>\n      <td>0.025339</td>\n      <td>0.016970</td>\n      <td>0.050000</td>\n      <td>0.504258</td>\n      <td>28</td>\n      <td>2163</td>\n      <td>1622</td>\n      <td>532</td>\n    </tr>\n    <tr>\n      <th>6</th>\n      <td>lead</td>\n      <td>0.169222</td>\n      <td>0.101128</td>\n      <td>0.518051</td>\n      <td>0.351438</td>\n      <td>287</td>\n      <td>1240</td>\n      <td>2551</td>\n      <td>267</td>\n    </tr>\n    <tr>\n      <th>7</th>\n      <td>left</td>\n      <td>0.544890</td>\n      <td>0.474435</td>\n      <td>0.639920</td>\n      <td>0.628999</td>\n      <td>965</td>\n      <td>1768</td>\n      <td>1069</td>\n      <td>543</td>\n    </tr>\n    <tr>\n      <th>8</th>\n      <td>non</td>\n      <td>0.196532</td>\n      <td>0.120853</td>\n      <td>0.525773</td>\n      <td>0.520138</td>\n      <td>255</td>\n      <td>2005</td>\n      <td>1855</td>\n      <td>230</td>\n    </tr>\n    <tr>\n      <th>9</th>\n      <td>normal</td>\n      <td>0.651996</td>\n      <td>0.699861</td>\n      <td>0.610258</td>\n      <td>0.628769</td>\n      <td>1511</td>\n      <td>1221</td>\n      <td>648</td>\n      <td>965</td>\n    </tr>\n    <tr>\n      <th>10</th>\n      <td>position</td>\n      <td>0.501111</td>\n      <td>0.345789</td>\n      <td>0.909758</td>\n      <td>0.431761</td>\n      <td>1240</td>\n      <td>636</td>\n      <td>2346</td>\n      <td>123</td>\n    </tr>\n    <tr>\n      <th>11</th>\n      <td>probably</td>\n      <td>0.134824</td>\n      <td>0.080109</td>\n      <td>0.425311</td>\n      <td>0.394476</td>\n      <td>205</td>\n      <td>1509</td>\n      <td>2354</td>\n      <td>277</td>\n    </tr>\n    <tr>\n      <th>12</th>\n      <td>qrs</td>\n      <td>0.163655</td>\n      <td>0.131877</td>\n      <td>0.215608</td>\n      <td>0.616571</td>\n      <td>163</td>\n      <td>2516</td>\n      <td>1073</td>\n      <td>593</td>\n    </tr>\n    <tr>\n      <th>13</th>\n      <td>report</td>\n      <td>0.077765</td>\n      <td>0.057825</td>\n      <td>0.118692</td>\n      <td>0.088377</td>\n      <td>167</td>\n      <td>217</td>\n      <td>2721</td>\n      <td>1240</td>\n    </tr>\n    <tr>\n      <th>14</th>\n      <td>rhythm</td>\n      <td>0.795171</td>\n      <td>0.746639</td>\n      <td>0.850450</td>\n      <td>0.664212</td>\n      <td>2832</td>\n      <td>54</td>\n      <td>961</td>\n      <td>498</td>\n    </tr>\n    <tr>\n      <th>15</th>\n      <td>sinus</td>\n      <td>0.814130</td>\n      <td>0.845514</td>\n      <td>0.784992</td>\n      <td>0.689988</td>\n      <td>2950</td>\n      <td>48</td>\n      <td>539</td>\n      <td>808</td>\n    </tr>\n    <tr>\n      <th>16</th>\n      <td>specific</td>\n      <td>0.181599</td>\n      <td>0.102753</td>\n      <td>0.780538</td>\n      <td>0.217952</td>\n      <td>377</td>\n      <td>570</td>\n      <td>3292</td>\n      <td>106</td>\n    </tr>\n    <tr>\n      <th>17</th>\n      <td>st</td>\n      <td>0.029304</td>\n      <td>0.111111</td>\n      <td>0.016878</td>\n      <td>0.817031</td>\n      <td>12</td>\n      <td>3538</td>\n      <td>96</td>\n      <td>699</td>\n    </tr>\n    <tr>\n      <th>18</th>\n      <td>type</td>\n      <td>0.721760</td>\n      <td>0.565045</td>\n      <td>0.998766</td>\n      <td>0.569160</td>\n      <td>2428</td>\n      <td>45</td>\n      <td>1869</td>\n      <td>3</td>\n    </tr>\n    <tr>\n      <th>19</th>\n      <td>unconfirmed</td>\n      <td>0.110087</td>\n      <td>0.088223</td>\n      <td>0.146359</td>\n      <td>0.222325</td>\n      <td>209</td>\n      <td>757</td>\n      <td>2160</td>\n      <td>1219</td>\n    </tr>\n  </tbody>\n</table>\n</div>"
     },
     "execution_count": 12,
     "metadata": {},
     "output_type": "execute_result"
    }
   ],
   "source": [
    "performance_data = []\n",
    "\n",
    "# Iterate over each label in the DataFrame\n",
    "for label in y.columns:\n",
    "    # Compute confusion matrix for the current label\n",
    "    tn, fp, fn, tp = confusion_matrix(y[label], pred[label]).ravel()\n",
    "    f1 = f1_score(y[label], pred[label])\n",
    "    precision = precision_score(y[label], pred[label], zero_division=0)\n",
    "    recall = recall_score(y[label], pred[label])\n",
    "    accuracy = accuracy_score(y[label], pred[label])\n",
    "    \n",
    "    # Append the results to the list\n",
    "    performance_data.append({'Label': label, 'f1': f1, 'precision': precision, 'recall': recall, 'accuracy': accuracy, 'TP': tp, 'TN': tn, 'FP': fp, 'FN': fn})\n",
    "\n",
    "# Convert the list of dicts into a DataFrame\n",
    "performance_summary = pd.DataFrame(performance_data)\n",
    "\n",
    "performance_summary"
   ],
   "metadata": {
    "collapsed": false,
    "ExecuteTime": {
     "end_time": "2024-03-27T14:47:38.243050Z",
     "start_time": "2024-03-27T14:47:38.012819400Z"
    }
   },
   "id": "3947abab709c38ea",
   "execution_count": 12
  },
  {
   "cell_type": "code",
   "outputs": [],
   "source": [],
   "metadata": {
    "collapsed": false,
    "ExecuteTime": {
     "end_time": "2024-03-27T14:47:38.275939500Z",
     "start_time": "2024-03-27T14:47:38.244046100Z"
    }
   },
   "id": "366d08d920317dd7",
   "execution_count": 12
  },
  {
   "cell_type": "code",
   "outputs": [],
   "source": [],
   "metadata": {
    "collapsed": false
   },
   "id": "bb61382b958638ec"
  }
 ],
 "metadata": {
  "kernelspec": {
   "display_name": "Python 3",
   "language": "python",
   "name": "python3"
  },
  "language_info": {
   "codemirror_mode": {
    "name": "ipython",
    "version": 2
   },
   "file_extension": ".py",
   "mimetype": "text/x-python",
   "name": "python",
   "nbconvert_exporter": "python",
   "pygments_lexer": "ipython2",
   "version": "2.7.6"
  }
 },
 "nbformat": 4,
 "nbformat_minor": 5
}
