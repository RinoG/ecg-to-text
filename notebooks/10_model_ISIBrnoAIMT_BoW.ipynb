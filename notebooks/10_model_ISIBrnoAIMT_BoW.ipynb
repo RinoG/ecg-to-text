{
 "cells": [
  {
   "cell_type": "markdown",
   "source": [
    "# ISIBrno-AIMT\n",
    "ISIBrno-AIMT is the winner of the [Will Two Do?](https://physionet.org/content/challenge-2021/1.0.3/sources/) challenge from [physionet.org](https://physionet.org/) \n",
    "\n",
    "[Source Code](https://physionet.org/static/published-projects/challenge-2021/1.0.3/sources/ISIBrnoAIMT.zip)\n",
    "[Paper](https://www.cinc.org/archives/2021/pdf/CinC2021-014.pdf)\n",
    "[leaderboard](https://moody-challenge.physionet.org/2021/results/)"
   ],
   "metadata": {
    "collapsed": false
   },
   "id": "a195e52a52decb2a"
  },
  {
   "cell_type": "code",
   "outputs": [],
   "source": [
    "import pickle\n",
    "import os\n",
    "import sys\n",
    "import torch\n",
    "import pandas as pd\n",
    "from torch.utils.data import DataLoader\n",
    "from sklearn.metrics import f1_score, jaccard_score, confusion_matrix\n",
    "\n",
    "from models.m02_ISIBrnoAIMT_BagOfWords.train import *\n",
    "from models.m02_ISIBrnoAIMT_BagOfWords.model import NN\n",
    "from models.m02_ISIBrnoAIMT_BagOfWords.dataset import PtbXlDataset"
   ],
   "metadata": {
    "collapsed": true,
    "ExecuteTime": {
     "end_time": "2024-03-04T16:43:31.341528500Z",
     "start_time": "2024-03-04T16:43:31.282725700Z"
    }
   },
   "id": "initial_id",
   "execution_count": 55
  },
  {
   "cell_type": "code",
   "outputs": [],
   "source": [
    "os.chdir('..')"
   ],
   "metadata": {
    "collapsed": false,
    "ExecuteTime": {
     "end_time": "2024-03-04T16:09:24.210881600Z",
     "start_time": "2024-03-04T16:09:24.195911300Z"
    }
   },
   "id": "5b78b990737513dc",
   "execution_count": 2
  },
  {
   "cell_type": "markdown",
   "source": [
    "### Bag of Words with 50 Words"
   ],
   "metadata": {
    "collapsed": false
   },
   "id": "e9d10629ccf53312"
  },
  {
   "cell_type": "code",
   "outputs": [
    {
     "data": {
      "text/plain": "<All keys matched successfully>"
     },
     "execution_count": 3,
     "metadata": {},
     "output_type": "execute_result"
    }
   ],
   "source": [
    "device = 'cuda:0' if torch.cuda.is_available() else 'cpu'\n",
    "\n",
    "n_BoW = 50\n",
    "dataset = PtbXlDataset('data_ptb-xl/', 'test', n_BoW)\n",
    "dataloader = DataLoader(dataset, batch_size=64, shuffle=True)\n",
    "\n",
    "model = NN(n_BoW).to(device)\n",
    "model.load_state_dict(torch.load(f'models/m02_ISIBrnoAIMT_BagOfWords/model_{n_BoW}_BoW.pt'))"
   ],
   "metadata": {
    "collapsed": false,
    "ExecuteTime": {
     "end_time": "2024-03-04T16:09:24.734140500Z",
     "start_time": "2024-03-04T16:09:24.211877500Z"
    }
   },
   "id": "15e41fd6e2ed0392",
   "execution_count": 3
  },
  {
   "cell_type": "code",
   "outputs": [],
   "source": [
    "y, pred = get_predictions(model, dataloader)\n",
    "bow_columns = pd.read_csv('data_ptb-xl/bag_of_words/train_50_BoW.csv').columns[1:]"
   ],
   "metadata": {
    "collapsed": false,
    "ExecuteTime": {
     "end_time": "2024-03-04T16:10:24.885023200Z",
     "start_time": "2024-03-04T16:09:53.720290100Z"
    }
   },
   "id": "e89623c903d4a552",
   "execution_count": 4
  },
  {
   "cell_type": "code",
   "outputs": [],
   "source": [
    "y = pd.DataFrame(y, columns=bow_columns)\n",
    "pred = pd.DataFrame(pred, columns=bow_columns)"
   ],
   "metadata": {
    "collapsed": false,
    "ExecuteTime": {
     "end_time": "2024-03-04T16:17:50.274426700Z",
     "start_time": "2024-03-04T16:17:50.240536400Z"
    }
   },
   "id": "71973b30baa4b452",
   "execution_count": 39
  },
  {
   "cell_type": "code",
   "outputs": [
    {
     "data": {
      "text/plain": "               Label    TP    TN    FP    FN\n0                 46     0  2891     0  1454\n1           abnormal   299  1126  2022   898\n2           anterior   397     0  3948     0\n3      anterolateral     0  4105     0   240\n4       anteroseptal     0  4012     0   333\n5             atrial    67  1628  2258   392\n6                avl    48  1825  2275   197\n7               axis     0  4107     0   238\n8              block   763     0  3582     0\n9             branch     0  3849     0   496\n10            bundle   496     0  3849     0\n11            damage     0  4079     0   266\n12               ecg   183   872  1834  1456\n13         excessive     0  4093     0   252\n14      extrasystole   254     0  4091     0\n15      fibrillation    12  1712  2320   301\n16              high   286     0  4059     0\n17       hypertrophy   242  2258  1779    66\n18                ii   174  2276  1844    51\n19        infarction     0  3691     0   654\n20          inferior   560     0  3785     0\n21  intraventricular   181     0  4164     0\n22         ischaemia   200     0  4145     0\n23          ischemia   271     0  4074     0\n24           lateral     0  4041     0   304\n25              lead   554     0  3791     0\n26              left     0  2837     0  1508\n27               low     0  4046     0   299\n28        myocardial   136  1704  2186   319\n29               non   178  1711  2149   307\n30            normal   593   439  1430  1883\n31               old     0  3879     0   466\n32         otherwise   426     0  3919     0\n33          position  1363     0  2982     0\n34          possible   429     0  3916     0\n35          probably     0  3863     0   482\n36               qrs   756     0  3589     0\n37            report  1407     0  2938     0\n38            rhythm  3330     0  1015     0\n39             right     0  3902     0   443\n40           segment     0  4094     0   251\n41             sinus  1530    93   494  2228\n42          specific   483     0  3862     0\n43                st   108  1408  2226   603\n44            strain    22  1682  2308   333\n45              type  1176   763  1151  1255\n46       unconfirmed  1428     0  2917     0\n47       ventricular     0  4003     0   342\n48           voltage   321     0  4024     0\n49              wave   119  1690  2214   322",
      "text/html": "<div>\n<style scoped>\n    .dataframe tbody tr th:only-of-type {\n        vertical-align: middle;\n    }\n\n    .dataframe tbody tr th {\n        vertical-align: top;\n    }\n\n    .dataframe thead th {\n        text-align: right;\n    }\n</style>\n<table border=\"1\" class=\"dataframe\">\n  <thead>\n    <tr style=\"text-align: right;\">\n      <th></th>\n      <th>Label</th>\n      <th>TP</th>\n      <th>TN</th>\n      <th>FP</th>\n      <th>FN</th>\n    </tr>\n  </thead>\n  <tbody>\n    <tr>\n      <th>0</th>\n      <td>46</td>\n      <td>0</td>\n      <td>2891</td>\n      <td>0</td>\n      <td>1454</td>\n    </tr>\n    <tr>\n      <th>1</th>\n      <td>abnormal</td>\n      <td>299</td>\n      <td>1126</td>\n      <td>2022</td>\n      <td>898</td>\n    </tr>\n    <tr>\n      <th>2</th>\n      <td>anterior</td>\n      <td>397</td>\n      <td>0</td>\n      <td>3948</td>\n      <td>0</td>\n    </tr>\n    <tr>\n      <th>3</th>\n      <td>anterolateral</td>\n      <td>0</td>\n      <td>4105</td>\n      <td>0</td>\n      <td>240</td>\n    </tr>\n    <tr>\n      <th>4</th>\n      <td>anteroseptal</td>\n      <td>0</td>\n      <td>4012</td>\n      <td>0</td>\n      <td>333</td>\n    </tr>\n    <tr>\n      <th>5</th>\n      <td>atrial</td>\n      <td>67</td>\n      <td>1628</td>\n      <td>2258</td>\n      <td>392</td>\n    </tr>\n    <tr>\n      <th>6</th>\n      <td>avl</td>\n      <td>48</td>\n      <td>1825</td>\n      <td>2275</td>\n      <td>197</td>\n    </tr>\n    <tr>\n      <th>7</th>\n      <td>axis</td>\n      <td>0</td>\n      <td>4107</td>\n      <td>0</td>\n      <td>238</td>\n    </tr>\n    <tr>\n      <th>8</th>\n      <td>block</td>\n      <td>763</td>\n      <td>0</td>\n      <td>3582</td>\n      <td>0</td>\n    </tr>\n    <tr>\n      <th>9</th>\n      <td>branch</td>\n      <td>0</td>\n      <td>3849</td>\n      <td>0</td>\n      <td>496</td>\n    </tr>\n    <tr>\n      <th>10</th>\n      <td>bundle</td>\n      <td>496</td>\n      <td>0</td>\n      <td>3849</td>\n      <td>0</td>\n    </tr>\n    <tr>\n      <th>11</th>\n      <td>damage</td>\n      <td>0</td>\n      <td>4079</td>\n      <td>0</td>\n      <td>266</td>\n    </tr>\n    <tr>\n      <th>12</th>\n      <td>ecg</td>\n      <td>183</td>\n      <td>872</td>\n      <td>1834</td>\n      <td>1456</td>\n    </tr>\n    <tr>\n      <th>13</th>\n      <td>excessive</td>\n      <td>0</td>\n      <td>4093</td>\n      <td>0</td>\n      <td>252</td>\n    </tr>\n    <tr>\n      <th>14</th>\n      <td>extrasystole</td>\n      <td>254</td>\n      <td>0</td>\n      <td>4091</td>\n      <td>0</td>\n    </tr>\n    <tr>\n      <th>15</th>\n      <td>fibrillation</td>\n      <td>12</td>\n      <td>1712</td>\n      <td>2320</td>\n      <td>301</td>\n    </tr>\n    <tr>\n      <th>16</th>\n      <td>high</td>\n      <td>286</td>\n      <td>0</td>\n      <td>4059</td>\n      <td>0</td>\n    </tr>\n    <tr>\n      <th>17</th>\n      <td>hypertrophy</td>\n      <td>242</td>\n      <td>2258</td>\n      <td>1779</td>\n      <td>66</td>\n    </tr>\n    <tr>\n      <th>18</th>\n      <td>ii</td>\n      <td>174</td>\n      <td>2276</td>\n      <td>1844</td>\n      <td>51</td>\n    </tr>\n    <tr>\n      <th>19</th>\n      <td>infarction</td>\n      <td>0</td>\n      <td>3691</td>\n      <td>0</td>\n      <td>654</td>\n    </tr>\n    <tr>\n      <th>20</th>\n      <td>inferior</td>\n      <td>560</td>\n      <td>0</td>\n      <td>3785</td>\n      <td>0</td>\n    </tr>\n    <tr>\n      <th>21</th>\n      <td>intraventricular</td>\n      <td>181</td>\n      <td>0</td>\n      <td>4164</td>\n      <td>0</td>\n    </tr>\n    <tr>\n      <th>22</th>\n      <td>ischaemia</td>\n      <td>200</td>\n      <td>0</td>\n      <td>4145</td>\n      <td>0</td>\n    </tr>\n    <tr>\n      <th>23</th>\n      <td>ischemia</td>\n      <td>271</td>\n      <td>0</td>\n      <td>4074</td>\n      <td>0</td>\n    </tr>\n    <tr>\n      <th>24</th>\n      <td>lateral</td>\n      <td>0</td>\n      <td>4041</td>\n      <td>0</td>\n      <td>304</td>\n    </tr>\n    <tr>\n      <th>25</th>\n      <td>lead</td>\n      <td>554</td>\n      <td>0</td>\n      <td>3791</td>\n      <td>0</td>\n    </tr>\n    <tr>\n      <th>26</th>\n      <td>left</td>\n      <td>0</td>\n      <td>2837</td>\n      <td>0</td>\n      <td>1508</td>\n    </tr>\n    <tr>\n      <th>27</th>\n      <td>low</td>\n      <td>0</td>\n      <td>4046</td>\n      <td>0</td>\n      <td>299</td>\n    </tr>\n    <tr>\n      <th>28</th>\n      <td>myocardial</td>\n      <td>136</td>\n      <td>1704</td>\n      <td>2186</td>\n      <td>319</td>\n    </tr>\n    <tr>\n      <th>29</th>\n      <td>non</td>\n      <td>178</td>\n      <td>1711</td>\n      <td>2149</td>\n      <td>307</td>\n    </tr>\n    <tr>\n      <th>30</th>\n      <td>normal</td>\n      <td>593</td>\n      <td>439</td>\n      <td>1430</td>\n      <td>1883</td>\n    </tr>\n    <tr>\n      <th>31</th>\n      <td>old</td>\n      <td>0</td>\n      <td>3879</td>\n      <td>0</td>\n      <td>466</td>\n    </tr>\n    <tr>\n      <th>32</th>\n      <td>otherwise</td>\n      <td>426</td>\n      <td>0</td>\n      <td>3919</td>\n      <td>0</td>\n    </tr>\n    <tr>\n      <th>33</th>\n      <td>position</td>\n      <td>1363</td>\n      <td>0</td>\n      <td>2982</td>\n      <td>0</td>\n    </tr>\n    <tr>\n      <th>34</th>\n      <td>possible</td>\n      <td>429</td>\n      <td>0</td>\n      <td>3916</td>\n      <td>0</td>\n    </tr>\n    <tr>\n      <th>35</th>\n      <td>probably</td>\n      <td>0</td>\n      <td>3863</td>\n      <td>0</td>\n      <td>482</td>\n    </tr>\n    <tr>\n      <th>36</th>\n      <td>qrs</td>\n      <td>756</td>\n      <td>0</td>\n      <td>3589</td>\n      <td>0</td>\n    </tr>\n    <tr>\n      <th>37</th>\n      <td>report</td>\n      <td>1407</td>\n      <td>0</td>\n      <td>2938</td>\n      <td>0</td>\n    </tr>\n    <tr>\n      <th>38</th>\n      <td>rhythm</td>\n      <td>3330</td>\n      <td>0</td>\n      <td>1015</td>\n      <td>0</td>\n    </tr>\n    <tr>\n      <th>39</th>\n      <td>right</td>\n      <td>0</td>\n      <td>3902</td>\n      <td>0</td>\n      <td>443</td>\n    </tr>\n    <tr>\n      <th>40</th>\n      <td>segment</td>\n      <td>0</td>\n      <td>4094</td>\n      <td>0</td>\n      <td>251</td>\n    </tr>\n    <tr>\n      <th>41</th>\n      <td>sinus</td>\n      <td>1530</td>\n      <td>93</td>\n      <td>494</td>\n      <td>2228</td>\n    </tr>\n    <tr>\n      <th>42</th>\n      <td>specific</td>\n      <td>483</td>\n      <td>0</td>\n      <td>3862</td>\n      <td>0</td>\n    </tr>\n    <tr>\n      <th>43</th>\n      <td>st</td>\n      <td>108</td>\n      <td>1408</td>\n      <td>2226</td>\n      <td>603</td>\n    </tr>\n    <tr>\n      <th>44</th>\n      <td>strain</td>\n      <td>22</td>\n      <td>1682</td>\n      <td>2308</td>\n      <td>333</td>\n    </tr>\n    <tr>\n      <th>45</th>\n      <td>type</td>\n      <td>1176</td>\n      <td>763</td>\n      <td>1151</td>\n      <td>1255</td>\n    </tr>\n    <tr>\n      <th>46</th>\n      <td>unconfirmed</td>\n      <td>1428</td>\n      <td>0</td>\n      <td>2917</td>\n      <td>0</td>\n    </tr>\n    <tr>\n      <th>47</th>\n      <td>ventricular</td>\n      <td>0</td>\n      <td>4003</td>\n      <td>0</td>\n      <td>342</td>\n    </tr>\n    <tr>\n      <th>48</th>\n      <td>voltage</td>\n      <td>321</td>\n      <td>0</td>\n      <td>4024</td>\n      <td>0</td>\n    </tr>\n    <tr>\n      <th>49</th>\n      <td>wave</td>\n      <td>119</td>\n      <td>1690</td>\n      <td>2214</td>\n      <td>322</td>\n    </tr>\n  </tbody>\n</table>\n</div>"
     },
     "execution_count": 57,
     "metadata": {},
     "output_type": "execute_result"
    }
   ],
   "source": [
    "performance_data = []\n",
    "\n",
    "# Iterate over each label in the DataFrame\n",
    "for label in y.columns:\n",
    "    # Compute confusion matrix for the current label\n",
    "    tn, fp, fn, tp = confusion_matrix(y[label], pred[label]).ravel()\n",
    "    \n",
    "    # Append the results to the list\n",
    "    performance_data.append({'Label': label, 'TP': tp, 'TN': tn, 'FP': fp, 'FN': fn})\n",
    "\n",
    "# Convert the list of dicts into a DataFrame\n",
    "performance_summary = pd.DataFrame(performance_data)\n",
    "\n",
    "performance_summary"
   ],
   "metadata": {
    "collapsed": false,
    "ExecuteTime": {
     "end_time": "2024-03-04T16:44:34.566193200Z",
     "start_time": "2024-03-04T16:44:34.102333100Z"
    }
   },
   "id": "7f5fdef539fd4acf",
   "execution_count": 57
  },
  {
   "cell_type": "markdown",
   "source": [
    "### Bag of Words with 20 Words"
   ],
   "metadata": {
    "collapsed": false
   },
   "id": "9398034992b157f5"
  },
  {
   "cell_type": "code",
   "outputs": [
    {
     "data": {
      "text/plain": "<All keys matched successfully>"
     },
     "execution_count": 58,
     "metadata": {},
     "output_type": "execute_result"
    }
   ],
   "source": [
    "device = 'cuda:0' if torch.cuda.is_available() else 'cpu'\n",
    "\n",
    "n_BoW = 20\n",
    "dataset = PtbXlDataset('data_ptb-xl/', 'test', n_BoW)\n",
    "dataloader = DataLoader(dataset, batch_size=64, shuffle=True)\n",
    "\n",
    "model = NN(n_BoW).to(device)\n",
    "model.load_state_dict(torch.load(f'models/m02_ISIBrnoAIMT_BagOfWords/model_{n_BoW}_BoW.pt'))"
   ],
   "metadata": {
    "collapsed": false,
    "ExecuteTime": {
     "end_time": "2024-03-04T16:47:45.316940Z",
     "start_time": "2024-03-04T16:47:44.709944300Z"
    }
   },
   "id": "7c08469864e0ff2b",
   "execution_count": 58
  },
  {
   "cell_type": "code",
   "outputs": [],
   "source": [
    "y, pred = get_predictions(model, dataloader)\n",
    "bow_columns = pd.read_csv('data_ptb-xl/bag_of_words/train_20_BoW.csv').columns[1:]"
   ],
   "metadata": {
    "collapsed": false,
    "ExecuteTime": {
     "end_time": "2024-03-04T16:48:16.781542500Z",
     "start_time": "2024-03-04T16:47:47.093032200Z"
    }
   },
   "id": "ef97540909934669",
   "execution_count": 59
  },
  {
   "cell_type": "code",
   "outputs": [],
   "source": [
    "y = pd.DataFrame(y, columns=bow_columns)\n",
    "pred = pd.DataFrame(pred, columns=bow_columns)"
   ],
   "metadata": {
    "collapsed": false,
    "ExecuteTime": {
     "end_time": "2024-03-04T16:48:16.797493100Z",
     "start_time": "2024-03-04T16:48:16.782539700Z"
    }
   },
   "id": "a81622f659d08922",
   "execution_count": 60
  },
  {
   "cell_type": "code",
   "outputs": [
    {
     "data": {
      "text/plain": "          Label    TP    TN    FP    FN\n0            46  1454     0  2891     0\n1      abnormal   971  1950  1198   226\n2         block     0  3582     0   763\n3           ecg  1639     0  2706     0\n4    infarction   471  2011  1680   183\n5      inferior     0  3785     0   560\n6          lead     0  3791     0   554\n7          left  1508     0  2837     0\n8           non   485     0  3860     0\n9        normal  2476     0  1869     0\n10     position     0  2982     0  1363\n11     probably   482     0  3863     0\n12          qrs     0  3589     0   756\n13       report     4   852  2086  1403\n14       rhythm     0  1015     0  3330\n15        sinus  3758     0   587     0\n16     specific   483     0  3862     0\n17           st     0  3634     0   711\n18         type     0  1914     0  2431\n19  unconfirmed     4   796  2121  1424",
      "text/html": "<div>\n<style scoped>\n    .dataframe tbody tr th:only-of-type {\n        vertical-align: middle;\n    }\n\n    .dataframe tbody tr th {\n        vertical-align: top;\n    }\n\n    .dataframe thead th {\n        text-align: right;\n    }\n</style>\n<table border=\"1\" class=\"dataframe\">\n  <thead>\n    <tr style=\"text-align: right;\">\n      <th></th>\n      <th>Label</th>\n      <th>TP</th>\n      <th>TN</th>\n      <th>FP</th>\n      <th>FN</th>\n    </tr>\n  </thead>\n  <tbody>\n    <tr>\n      <th>0</th>\n      <td>46</td>\n      <td>1454</td>\n      <td>0</td>\n      <td>2891</td>\n      <td>0</td>\n    </tr>\n    <tr>\n      <th>1</th>\n      <td>abnormal</td>\n      <td>971</td>\n      <td>1950</td>\n      <td>1198</td>\n      <td>226</td>\n    </tr>\n    <tr>\n      <th>2</th>\n      <td>block</td>\n      <td>0</td>\n      <td>3582</td>\n      <td>0</td>\n      <td>763</td>\n    </tr>\n    <tr>\n      <th>3</th>\n      <td>ecg</td>\n      <td>1639</td>\n      <td>0</td>\n      <td>2706</td>\n      <td>0</td>\n    </tr>\n    <tr>\n      <th>4</th>\n      <td>infarction</td>\n      <td>471</td>\n      <td>2011</td>\n      <td>1680</td>\n      <td>183</td>\n    </tr>\n    <tr>\n      <th>5</th>\n      <td>inferior</td>\n      <td>0</td>\n      <td>3785</td>\n      <td>0</td>\n      <td>560</td>\n    </tr>\n    <tr>\n      <th>6</th>\n      <td>lead</td>\n      <td>0</td>\n      <td>3791</td>\n      <td>0</td>\n      <td>554</td>\n    </tr>\n    <tr>\n      <th>7</th>\n      <td>left</td>\n      <td>1508</td>\n      <td>0</td>\n      <td>2837</td>\n      <td>0</td>\n    </tr>\n    <tr>\n      <th>8</th>\n      <td>non</td>\n      <td>485</td>\n      <td>0</td>\n      <td>3860</td>\n      <td>0</td>\n    </tr>\n    <tr>\n      <th>9</th>\n      <td>normal</td>\n      <td>2476</td>\n      <td>0</td>\n      <td>1869</td>\n      <td>0</td>\n    </tr>\n    <tr>\n      <th>10</th>\n      <td>position</td>\n      <td>0</td>\n      <td>2982</td>\n      <td>0</td>\n      <td>1363</td>\n    </tr>\n    <tr>\n      <th>11</th>\n      <td>probably</td>\n      <td>482</td>\n      <td>0</td>\n      <td>3863</td>\n      <td>0</td>\n    </tr>\n    <tr>\n      <th>12</th>\n      <td>qrs</td>\n      <td>0</td>\n      <td>3589</td>\n      <td>0</td>\n      <td>756</td>\n    </tr>\n    <tr>\n      <th>13</th>\n      <td>report</td>\n      <td>4</td>\n      <td>852</td>\n      <td>2086</td>\n      <td>1403</td>\n    </tr>\n    <tr>\n      <th>14</th>\n      <td>rhythm</td>\n      <td>0</td>\n      <td>1015</td>\n      <td>0</td>\n      <td>3330</td>\n    </tr>\n    <tr>\n      <th>15</th>\n      <td>sinus</td>\n      <td>3758</td>\n      <td>0</td>\n      <td>587</td>\n      <td>0</td>\n    </tr>\n    <tr>\n      <th>16</th>\n      <td>specific</td>\n      <td>483</td>\n      <td>0</td>\n      <td>3862</td>\n      <td>0</td>\n    </tr>\n    <tr>\n      <th>17</th>\n      <td>st</td>\n      <td>0</td>\n      <td>3634</td>\n      <td>0</td>\n      <td>711</td>\n    </tr>\n    <tr>\n      <th>18</th>\n      <td>type</td>\n      <td>0</td>\n      <td>1914</td>\n      <td>0</td>\n      <td>2431</td>\n    </tr>\n    <tr>\n      <th>19</th>\n      <td>unconfirmed</td>\n      <td>4</td>\n      <td>796</td>\n      <td>2121</td>\n      <td>1424</td>\n    </tr>\n  </tbody>\n</table>\n</div>"
     },
     "execution_count": 61,
     "metadata": {},
     "output_type": "execute_result"
    }
   ],
   "source": [
    "performance_data = []\n",
    "\n",
    "# Iterate over each label in the DataFrame\n",
    "for label in y.columns:\n",
    "    # Compute confusion matrix for the current label\n",
    "    tn, fp, fn, tp = confusion_matrix(y[label], pred[label]).ravel()\n",
    "    \n",
    "    # Append the results to the list\n",
    "    performance_data.append({'Label': label, 'TP': tp, 'TN': tn, 'FP': fp, 'FN': fn})\n",
    "\n",
    "# Convert the list of dicts into a DataFrame\n",
    "performance_summary = pd.DataFrame(performance_data)\n",
    "\n",
    "performance_summary"
   ],
   "metadata": {
    "collapsed": false,
    "ExecuteTime": {
     "end_time": "2024-03-04T16:48:16.922072400Z",
     "start_time": "2024-03-04T16:48:16.798485500Z"
    }
   },
   "id": "3947abab709c38ea",
   "execution_count": 61
  },
  {
   "cell_type": "code",
   "outputs": [],
   "source": [],
   "metadata": {
    "collapsed": false
   },
   "id": "366d08d920317dd7"
  }
 ],
 "metadata": {
  "kernelspec": {
   "display_name": "Python 3",
   "language": "python",
   "name": "python3"
  },
  "language_info": {
   "codemirror_mode": {
    "name": "ipython",
    "version": 2
   },
   "file_extension": ".py",
   "mimetype": "text/x-python",
   "name": "python",
   "nbconvert_exporter": "python",
   "pygments_lexer": "ipython2",
   "version": "2.7.6"
  }
 },
 "nbformat": 4,
 "nbformat_minor": 5
}
