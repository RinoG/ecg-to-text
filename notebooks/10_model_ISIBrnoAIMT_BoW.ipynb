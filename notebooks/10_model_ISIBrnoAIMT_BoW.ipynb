{
 "cells": [
  {
   "cell_type": "markdown",
   "source": [
    "# ISIBrno-AIMT\n",
    "ISIBrno-AIMT is the winner of the [Will Two Do?](https://physionet.org/content/challenge-2021/1.0.3/sources/) challenge from [physionet.org](https://physionet.org/) \n",
    "\n",
    "[Source Code](https://physionet.org/static/published-projects/challenge-2021/1.0.3/sources/ISIBrnoAIMT.zip)\n",
    "[Paper](https://www.cinc.org/archives/2021/pdf/CinC2021-014.pdf)\n",
    "[leaderboard](https://moody-challenge.physionet.org/2021/results/)"
   ],
   "metadata": {
    "collapsed": false
   },
   "id": "a195e52a52decb2a"
  },
  {
   "cell_type": "code",
   "outputs": [],
   "source": [
    "import pickle\n",
    "import os\n",
    "import sys\n",
    "import torch\n",
    "from torch.utils.data import DataLoader\n",
    "\n",
    "model_path = os.path.abspath(os.path.join('..', 'models', '02_ISIBrnoAIMT_BagOfWords'))\n",
    "\n",
    "if model_path not in sys.path:\n",
    "    sys.path.append(model_path)\n",
    "\n",
    "from train import *\n",
    "from model import NN\n",
    "from dataset import PtbXlDataset"
   ],
   "metadata": {
    "collapsed": true,
    "ExecuteTime": {
     "end_time": "2024-02-27T17:03:23.059552400Z",
     "start_time": "2024-02-27T17:03:19.946958Z"
    }
   },
   "id": "initial_id",
   "execution_count": 1
  },
  {
   "cell_type": "code",
   "outputs": [],
   "source": [
    "os.chdir('..')"
   ],
   "metadata": {
    "collapsed": false,
    "ExecuteTime": {
     "end_time": "2024-02-27T17:03:23.082475500Z",
     "start_time": "2024-02-27T17:03:23.060549100Z"
    }
   },
   "id": "5b78b990737513dc",
   "execution_count": 2
  },
  {
   "cell_type": "markdown",
   "source": [
    "### Bag of Words with 50 Words"
   ],
   "metadata": {
    "collapsed": false
   },
   "id": "e9d10629ccf53312"
  },
  {
   "cell_type": "code",
   "outputs": [
    {
     "data": {
      "text/plain": "<All keys matched successfully>"
     },
     "execution_count": 8,
     "metadata": {},
     "output_type": "execute_result"
    }
   ],
   "source": [
    "device = 'cuda:0' if torch.cuda.is_available() else 'cpu'\n",
    "\n",
    "n_BoW = 50\n",
    "dataset = PtbXlDataset('data_ptb-xl/', 'test', n_BoW)\n",
    "dataloader = DataLoader(dataset, batch_size=64, shuffle=True)\n",
    "\n",
    "model = NN(n_BoW).to(device)\n",
    "model.load_state_dict(torch.load(f'models/02_ISIBrnoAIMT_BagOfWords/model_{n_BoW}_BoW.pt'))"
   ],
   "metadata": {
    "collapsed": false,
    "ExecuteTime": {
     "end_time": "2024-02-27T17:06:34.657325Z",
     "start_time": "2024-02-27T17:06:34.281874900Z"
    }
   },
   "id": "15e41fd6e2ed0392",
   "execution_count": 8
  },
  {
   "cell_type": "code",
   "outputs": [
    {
     "name": "stdout",
     "output_type": "stream",
     "text": [
      "F1 score: 0.25858\n"
     ]
    }
   ],
   "source": [
    "f1_score = valid_part(model, dataloader)\n",
    "print(f'F1 score: {round(f1_score, 5)}')"
   ],
   "metadata": {
    "collapsed": false,
    "ExecuteTime": {
     "end_time": "2024-02-27T17:09:20.709697900Z",
     "start_time": "2024-02-27T17:09:04.583989Z"
    }
   },
   "id": "e89623c903d4a552",
   "execution_count": 10
  },
  {
   "cell_type": "markdown",
   "source": [
    "### Bag of Words with 20 Words"
   ],
   "metadata": {
    "collapsed": false
   },
   "id": "9398034992b157f5"
  },
  {
   "cell_type": "code",
   "outputs": [],
   "source": [
    "device = 'cuda:0' if torch.cuda.is_available() else 'cpu'\n",
    "\n",
    "n_BoW = 20\n",
    "dataset = PtbXlDataset('data_ptb-xl/', 'test', n_BoW)\n",
    "dataloader = DataLoader(dataset, batch_size=64, shuffle=True)\n",
    "\n",
    "model = NN(n_BoW).to(device)\n",
    "model.load_state_dict(torch.load(f'models/02_ISIBrnoAIMT_BagOfWords/model_{n_BoW}_BoW.pt'))"
   ],
   "metadata": {
    "collapsed": false
   },
   "id": "7c08469864e0ff2b"
  },
  {
   "cell_type": "code",
   "outputs": [],
   "source": [
    "f1_score = valid_part(model, dataloader)\n",
    "print(f'F1 score: {round(f1_score, 5)}')"
   ],
   "metadata": {
    "collapsed": false
   },
   "id": "ef97540909934669"
  }
 ],
 "metadata": {
  "kernelspec": {
   "display_name": "Python 3",
   "language": "python",
   "name": "python3"
  },
  "language_info": {
   "codemirror_mode": {
    "name": "ipython",
    "version": 2
   },
   "file_extension": ".py",
   "mimetype": "text/x-python",
   "name": "python",
   "nbconvert_exporter": "python",
   "pygments_lexer": "ipython2",
   "version": "2.7.6"
  }
 },
 "nbformat": 4,
 "nbformat_minor": 5
}
