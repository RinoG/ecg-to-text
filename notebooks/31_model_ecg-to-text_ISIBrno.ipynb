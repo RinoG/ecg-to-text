{
 "cells": [
  {
   "cell_type": "markdown",
   "source": [
    "# ISIBrnoAIMT Encoder with Attention Decoder\n",
    "\n",
    "Encoder was taken from the winner of the [Will Two Do?](https://physionet.org/content/challenge-2021/1.0.3/sources/) challenge [ISIBrnoAIMT](https://www.cinc.org/archives/2021/pdf/CinC2021-014.pdf)\n",
    "Decoder was taken from the [sequence to sequence tutorial](https://pytorch.org/tutorials/intermediate/seq2seq_translation_tutorial.html) from Pytorch."
   ],
   "metadata": {
    "collapsed": false
   },
   "id": "a195e52a52decb2a"
  },
  {
   "cell_type": "code",
   "outputs": [],
   "source": [
    "import pickle\n",
    "import os\n",
    "import sys\n",
    "import torch\n",
    "import pandas as pd\n",
    "from sklearn.metrics import f1_score, jaccard_score, confusion_matrix, precision_score, recall_score, accuracy_score\n",
    "\n",
    "from models.m04_EcgToText_ISIBrnoAIMT.dataset import *\n",
    "from models.m04_EcgToText_ISIBrnoAIMT.model import *\n",
    "from models.m04_EcgToText_ISIBrnoAIMT.train import *"
   ],
   "metadata": {
    "collapsed": true,
    "ExecuteTime": {
     "end_time": "2024-06-03T06:22:30.592123Z",
     "start_time": "2024-06-03T06:22:19.794286Z"
    }
   },
   "id": "initial_id",
   "execution_count": 1
  },
  {
   "cell_type": "code",
   "outputs": [],
   "source": [
    "os.chdir('..')"
   ],
   "metadata": {
    "collapsed": false,
    "ExecuteTime": {
     "end_time": "2024-06-03T06:22:30.608071Z",
     "start_time": "2024-06-03T06:22:30.593117Z"
    }
   },
   "id": "5b78b990737513dc",
   "execution_count": 2
  },
  {
   "cell_type": "markdown",
   "source": [
    "## Setup Model"
   ],
   "metadata": {
    "collapsed": false
   },
   "id": "e9d10629ccf53312"
  },
  {
   "cell_type": "code",
   "outputs": [],
   "source": [
    "torch.manual_seed(42)\n",
    "\n",
    "device = torch.device(\"cuda\" if torch.cuda.is_available() else \"cpu\")\n",
    "\n",
    "language, dataloader = get_dataloader(file_path='./data_ptb-xl', batch_size=64, mode='train', device=device)\n",
    "_, val_dataloader = get_dataloader(file_path='./data_ptb-xl', batch_size=64, mode='val', device=device, _lang=language)\n",
    "\n",
    "n_epochs=50\n",
    "hidden_size = 256\n",
    "criterion = nn.NLLLoss()\n",
    "\n",
    "encoder = NN(num_leads=12,\n",
    "             hidden_size=hidden_size).to(device)\n",
    "decoder = AttnDecoderRNN(hidden_size=hidden_size,\n",
    "                         encoder_hidden_size=hidden_size,\n",
    "                         output_size=language.n_words,\n",
    "                         max_len=language.max_len).to(device)"
   ],
   "metadata": {
    "collapsed": false,
    "ExecuteTime": {
     "end_time": "2024-06-03T06:25:36.060423Z",
     "start_time": "2024-06-03T06:22:30.609063Z"
    }
   },
   "id": "7b8bfda8657afe70",
   "execution_count": 3
  },
  {
   "cell_type": "code",
   "outputs": [],
   "source": [
    "def count_parameters(model):\n",
    "    return sum(p.numel() for p in model.parameters() if p.requires_grad)"
   ],
   "metadata": {
    "collapsed": false,
    "ExecuteTime": {
     "end_time": "2024-06-03T06:25:36.076381Z",
     "start_time": "2024-06-03T06:25:36.061416Z"
    }
   },
   "id": "4f33c000bc29b4fc",
   "execution_count": 4
  },
  {
   "cell_type": "code",
   "outputs": [
    {
     "name": "stdout",
     "output_type": "stream",
     "text": [
      "Number of parameters in Encoder: 6547712\n"
     ]
    },
    {
     "data": {
      "text/plain": "NN(\n  (conv): Conv2d(12, 256, kernel_size=(1, 15), stride=(1, 2), padding=(0, 7), bias=False)\n  (bn): BatchNorm2d(256, eps=1e-05, momentum=0.1, affine=True, track_running_stats=True)\n  (rb_0): MyResidualBlock(\n    (conv1): Conv2d(256, 256, kernel_size=(1, 9), stride=(1, 2), padding=(0, 4), bias=False)\n    (bn1): BatchNorm2d(256, eps=1e-05, momentum=0.1, affine=True, track_running_stats=True)\n    (conv2): Conv2d(256, 256, kernel_size=(1, 9), stride=(1, 1), padding=(0, 4), bias=False)\n    (bn2): BatchNorm2d(256, eps=1e-05, momentum=0.1, affine=True, track_running_stats=True)\n    (idfunc_0): AvgPool2d(kernel_size=(1, 2), stride=(1, 2), padding=0)\n    (idfunc_1): Conv2d(256, 256, kernel_size=(1, 1), stride=(1, 1), bias=False)\n    (idfunc_1_bn): BatchNorm2d(256, eps=1e-05, momentum=0.1, affine=True, track_running_stats=True)\n  )\n  (rb_1): MyResidualBlock(\n    (conv1): Conv2d(256, 256, kernel_size=(1, 9), stride=(1, 2), padding=(0, 4), bias=False)\n    (bn1): BatchNorm2d(256, eps=1e-05, momentum=0.1, affine=True, track_running_stats=True)\n    (conv2): Conv2d(256, 256, kernel_size=(1, 9), stride=(1, 1), padding=(0, 4), bias=False)\n    (bn2): BatchNorm2d(256, eps=1e-05, momentum=0.1, affine=True, track_running_stats=True)\n    (idfunc_0): AvgPool2d(kernel_size=(1, 2), stride=(1, 2), padding=0)\n    (idfunc_1): Conv2d(256, 256, kernel_size=(1, 1), stride=(1, 1), bias=False)\n    (idfunc_1_bn): BatchNorm2d(256, eps=1e-05, momentum=0.1, affine=True, track_running_stats=True)\n  )\n  (rb_2): MyResidualBlock(\n    (conv1): Conv2d(256, 256, kernel_size=(1, 9), stride=(1, 2), padding=(0, 4), bias=False)\n    (bn1): BatchNorm2d(256, eps=1e-05, momentum=0.1, affine=True, track_running_stats=True)\n    (conv2): Conv2d(256, 256, kernel_size=(1, 9), stride=(1, 1), padding=(0, 4), bias=False)\n    (bn2): BatchNorm2d(256, eps=1e-05, momentum=0.1, affine=True, track_running_stats=True)\n    (idfunc_0): AvgPool2d(kernel_size=(1, 2), stride=(1, 2), padding=0)\n    (idfunc_1): Conv2d(256, 256, kernel_size=(1, 1), stride=(1, 1), bias=False)\n    (idfunc_1_bn): BatchNorm2d(256, eps=1e-05, momentum=0.1, affine=True, track_running_stats=True)\n  )\n  (rb_3): MyResidualBlock(\n    (conv1): Conv2d(256, 256, kernel_size=(1, 9), stride=(1, 2), padding=(0, 4), bias=False)\n    (bn1): BatchNorm2d(256, eps=1e-05, momentum=0.1, affine=True, track_running_stats=True)\n    (conv2): Conv2d(256, 256, kernel_size=(1, 9), stride=(1, 1), padding=(0, 4), bias=False)\n    (bn2): BatchNorm2d(256, eps=1e-05, momentum=0.1, affine=True, track_running_stats=True)\n    (idfunc_0): AvgPool2d(kernel_size=(1, 2), stride=(1, 2), padding=0)\n    (idfunc_1): Conv2d(256, 256, kernel_size=(1, 1), stride=(1, 1), bias=False)\n    (idfunc_1_bn): BatchNorm2d(256, eps=1e-05, momentum=0.1, affine=True, track_running_stats=True)\n  )\n  (rb_4): MyResidualBlock(\n    (conv1): Conv2d(256, 256, kernel_size=(1, 9), stride=(1, 2), padding=(0, 4), bias=False)\n    (bn1): BatchNorm2d(256, eps=1e-05, momentum=0.1, affine=True, track_running_stats=True)\n    (conv2): Conv2d(256, 256, kernel_size=(1, 9), stride=(1, 1), padding=(0, 4), bias=False)\n    (bn2): BatchNorm2d(256, eps=1e-05, momentum=0.1, affine=True, track_running_stats=True)\n    (idfunc_0): AvgPool2d(kernel_size=(1, 2), stride=(1, 2), padding=0)\n    (idfunc_1): Conv2d(256, 256, kernel_size=(1, 1), stride=(1, 1), bias=False)\n    (idfunc_1_bn): BatchNorm2d(256, eps=1e-05, momentum=0.1, affine=True, track_running_stats=True)\n  )\n  (mha): MultiheadAttention(\n    (out_proj): NonDynamicallyQuantizableLinear(in_features=256, out_features=256, bias=True)\n  )\n  (hidden_transform): Linear(in_features=16, out_features=256, bias=True)\n)"
     },
     "execution_count": 5,
     "metadata": {},
     "output_type": "execute_result"
    }
   ],
   "source": [
    "n_param = count_parameters(encoder)\n",
    "print(f\"Number of parameters in Encoder: {n_param}\")\n",
    "encoder"
   ],
   "metadata": {
    "collapsed": false,
    "ExecuteTime": {
     "end_time": "2024-06-03T06:25:36.107278Z",
     "start_time": "2024-06-03T06:25:36.077375Z"
    }
   },
   "id": "729af8c33c9af80f",
   "execution_count": 5
  },
  {
   "cell_type": "code",
   "outputs": [
    {
     "name": "stdout",
     "output_type": "stream",
     "text": [
      "Number of parameters in Decoder: 2219237\n"
     ]
    },
    {
     "data": {
      "text/plain": "AttnDecoderRNN(\n  (hidden_transform): Linear(in_features=256, out_features=256, bias=True)\n  (embedding): Embedding(2788, 256)\n  (attention): BahdanauAttention(\n    (Wa): Linear(in_features=256, out_features=256, bias=True)\n    (Ua): Linear(in_features=256, out_features=256, bias=True)\n    (Va): Linear(in_features=256, out_features=1, bias=True)\n  )\n  (gru): GRU(512, 256, batch_first=True)\n  (out): Linear(in_features=256, out_features=2788, bias=True)\n  (dropout): Dropout(p=0.1, inplace=False)\n)"
     },
     "execution_count": 6,
     "metadata": {},
     "output_type": "execute_result"
    }
   ],
   "source": [
    "n_param = count_parameters(decoder)\n",
    "print(f\"Number of parameters in Decoder: {n_param}\")\n",
    "decoder"
   ],
   "metadata": {
    "collapsed": false,
    "ExecuteTime": {
     "end_time": "2024-06-03T06:25:36.122226Z",
     "start_time": "2024-06-03T06:25:36.110265Z"
    }
   },
   "id": "c14873bc968b3ae6",
   "execution_count": 6
  },
  {
   "cell_type": "markdown",
   "source": [
    "## Train"
   ],
   "metadata": {
    "collapsed": false
   },
   "id": "dfeb6c6b6f8b8096"
  },
  {
   "cell_type": "code",
   "outputs": [
    {
     "name": "stdout",
     "output_type": "stream",
     "text": [
      "0m 53s (- 43m 41s) (1 2.0%) | Train Loss: 0.5617 | Val METEOR: 0.3559\n",
      "1m 40s (- 40m 7s) (2 4.0%) | Train Loss: 0.2496 | Val METEOR: 0.3962\n",
      "2m 28s (- 38m 48s) (3 6.0%) | Train Loss: 0.2149 | Val METEOR: 0.391\n",
      "3m 16s (- 37m 34s) (4 8.0%) | Train Loss: 0.1946 | Val METEOR: 0.3441\n",
      "4m 3s (- 36m 30s) (5 10.0%) | Train Loss: 0.1782 | Val METEOR: 0.4015\n",
      "4m 50s (- 35m 29s) (6 12.0%) | Train Loss: 0.1864 | Val METEOR: 0.3262\n",
      "5m 37s (- 34m 33s) (7 14.0%) | Train Loss: 0.1689 | Val METEOR: 0.3689\n",
      "6m 25s (- 33m 45s) (8 16.0%) | Train Loss: 0.156 | Val METEOR: 0.3905\n",
      "7m 13s (- 32m 54s) (9 18.0%) | Train Loss: 0.1471 | Val METEOR: 0.4135\n",
      "8m 0s (- 32m 2s) (10 20.0%) | Train Loss: 0.1418 | Val METEOR: 0.4126\n",
      "8m 47s (- 31m 10s) (11 22.0%) | Train Loss: 0.1362 | Val METEOR: 0.4365\n",
      "9m 37s (- 30m 27s) (12 24.0%) | Train Loss: 0.1313 | Val METEOR: 0.4325\n",
      "10m 25s (- 29m 40s) (13 26.0%) | Train Loss: 0.1279 | Val METEOR: 0.4359\n",
      "11m 12s (- 28m 49s) (14 28.0%) | Train Loss: 0.1247 | Val METEOR: 0.4495\n",
      "11m 59s (- 27m 59s) (15 30.0%) | Train Loss: 0.1209 | Val METEOR: 0.4577\n",
      "12m 47s (- 27m 10s) (16 32.0%) | Train Loss: 0.118 | Val METEOR: 0.4181\n",
      "13m 27s (- 26m 7s) (17 34.0%) | Train Loss: 0.1155 | Val METEOR: 0.4282\n",
      "13m 57s (- 24m 48s) (18 36.0%) | Train Loss: 0.1133 | Val METEOR: 0.46\n",
      "14m 27s (- 23m 35s) (19 38.0%) | Train Loss: 0.1105 | Val METEOR: 0.45\n",
      "14m 57s (- 22m 26s) (20 40.0%) | Train Loss: 0.107 | Val METEOR: 0.4645\n",
      "15m 27s (- 21m 20s) (21 42.0%) | Train Loss: 0.1049 | Val METEOR: 0.4506\n",
      "15m 57s (- 20m 18s) (22 44.0%) | Train Loss: 0.1025 | Val METEOR: 0.454\n",
      "16m 27s (- 19m 19s) (23 46.0%) | Train Loss: 0.1013 | Val METEOR: 0.4549\n",
      "16m 57s (- 18m 21s) (24 48.0%) | Train Loss: 0.1035 | Val METEOR: 0.4519\n",
      "17m 26s (- 17m 26s) (25 50.0%) | Train Loss: 0.1012 | Val METEOR: 0.4581\n",
      "17m 56s (- 16m 33s) (26 52.0%) | Train Loss: 0.0969 | Val METEOR: 0.4645\n",
      "18m 26s (- 15m 42s) (27 54.0%) | Train Loss: 0.0952 | Val METEOR: 0.4668\n",
      "18m 56s (- 14m 52s) (28 56.0%) | Train Loss: 0.0932 | Val METEOR: 0.4739\n",
      "19m 25s (- 14m 4s) (29 58.0%) | Train Loss: 0.0914 | Val METEOR: 0.4745\n",
      "19m 55s (- 13m 17s) (30 60.0%) | Train Loss: 0.0898 | Val METEOR: 0.464\n",
      "20m 25s (- 12m 31s) (31 62.0%) | Train Loss: 0.0934 | Val METEOR: 0.4682\n",
      "20m 55s (- 11m 46s) (32 64.0%) | Train Loss: 0.0914 | Val METEOR: 0.4606\n",
      "21m 25s (- 11m 2s) (33 66.0%) | Train Loss: 0.0874 | Val METEOR: 0.4753\n",
      "21m 55s (- 10m 19s) (34 68.0%) | Train Loss: 0.0858 | Val METEOR: 0.463\n",
      "22m 26s (- 9m 36s) (35 70.0%) | Train Loss: 0.0847 | Val METEOR: 0.4801\n",
      "22m 56s (- 8m 55s) (36 72.0%) | Train Loss: 0.0876 | Val METEOR: 0.4668\n",
      "23m 25s (- 8m 13s) (37 74.0%) | Train Loss: 0.0841 | Val METEOR: 0.4674\n",
      "23m 55s (- 7m 33s) (38 76.0%) | Train Loss: 0.0823 | Val METEOR: 0.467\n",
      "24m 25s (- 6m 53s) (39 78.0%) | Train Loss: 0.0821 | Val METEOR: 0.4668\n",
      "24m 55s (- 6m 13s) (40 80.0%) | Train Loss: 0.0794 | Val METEOR: 0.4535\n",
      "25m 25s (- 5m 34s) (41 82.0%) | Train Loss: 0.0782 | Val METEOR: 0.4673\n",
      "25m 55s (- 4m 56s) (42 84.0%) | Train Loss: 0.077 | Val METEOR: 0.4611\n",
      "26m 25s (- 4m 18s) (43 86.0%) | Train Loss: 0.0766 | Val METEOR: 0.4754\n",
      "26m 55s (- 3m 40s) (44 88.0%) | Train Loss: 0.0764 | Val METEOR: 0.4831\n",
      "27m 24s (- 3m 2s) (45 90.0%) | Train Loss: 0.1918 | Val METEOR: 0.3844\n",
      "27m 54s (- 2m 25s) (46 92.0%) | Train Loss: 0.1293 | Val METEOR: 0.4309\n",
      "28m 24s (- 1m 48s) (47 94.0%) | Train Loss: 0.1127 | Val METEOR: 0.4347\n",
      "28m 53s (- 1m 12s) (48 96.0%) | Train Loss: 0.1093 | Val METEOR: 0.4358\n",
      "29m 24s (- 0m 36s) (49 98.0%) | Train Loss: 0.096 | Val METEOR: 0.4298\n",
      "29m 54s (- 0m 0s) (50 100.0%) | Train Loss: 0.088 | Val METEOR: 0.4319\n"
     ]
    }
   ],
   "source": [
    "torch.manual_seed(42)\n",
    "\n",
    "train(dataloader, val_dataloader, encoder, decoder, criterion, language, n_epochs)"
   ],
   "metadata": {
    "collapsed": false,
    "ExecuteTime": {
     "end_time": "2024-06-03T06:55:30.246228Z",
     "start_time": "2024-06-03T06:25:36.123222Z"
    }
   },
   "id": "6f2c429e46a162ef",
   "execution_count": 7
  },
  {
   "cell_type": "markdown",
   "source": [
    "## Test"
   ],
   "metadata": {
    "collapsed": false
   },
   "id": "13d46327f50a1c27"
  },
  {
   "cell_type": "code",
   "outputs": [
    {
     "data": {
      "text/plain": "<All keys matched successfully>"
     },
     "execution_count": 8,
     "metadata": {},
     "output_type": "execute_result"
    }
   ],
   "source": [
    "# load parameters\n",
    "hidden_size = 256\n",
    "\n",
    "encoder = NN(num_leads=12,\n",
    "             hidden_size=hidden_size).to(device)\n",
    "decoder = AttnDecoderRNN(hidden_size=hidden_size,\n",
    "                         encoder_hidden_size=hidden_size,\n",
    "                         output_size=language.n_words,\n",
    "                         max_len=language.max_len).to(device)\n",
    "\n",
    "encoder.load_state_dict(torch.load('./models/m04_EcgToText_ISIBrnoAIMT/saved_models/Encoder.pth'))\n",
    "decoder.load_state_dict(torch.load('./models/m04_EcgToText_ISIBrnoAIMT/saved_models/Decoder.pth'))"
   ],
   "metadata": {
    "collapsed": false,
    "ExecuteTime": {
     "end_time": "2024-06-03T06:55:30.323494Z",
     "start_time": "2024-06-03T06:55:30.247222Z"
    }
   },
   "id": "60dbbbcfc31e7246",
   "execution_count": 8
  },
  {
   "cell_type": "code",
   "outputs": [
    {
     "name": "stdout",
     "output_type": "stream",
     "text": [
      "Test Loss:    3.8455\n",
      "F1:           0.4357\n",
      "Jaccard:      0.3262\n",
      "Rouge-1 (p):  0.57\n",
      "Rouge-1 (r):  0.606\n",
      "Rouge-1 (f1): 0.562\n",
      "Rouge-2 (p):  0.428\n",
      "Rouge-2 (r):  0.449\n",
      "Rouge-2 (f1): 0.417\n",
      "Rouge-L (p):  0.566\n",
      "Rouge-L (r):  0.601\n",
      "Rouge-L (f1): 0.558\n",
      "METEOR:       0.478\n"
     ]
    }
   ],
   "source": [
    "_, test_dataloader = get_dataloader(file_path='./data_ptb-xl', batch_size=64, mode='test', device=device, _lang=language)\n",
    "\n",
    "total_loss, f1, jaccard, rouge, meteor = validate_epoch(test_dataloader, encoder, decoder, criterion, language)\n",
    "\n",
    "print(f'Test Loss:    {round(total_loss, 4)}')\n",
    "print(f'F1:           {round(f1, 4)}')\n",
    "print(f'Jaccard:      {round(jaccard, 4)}')\n",
    "print(f'Rouge-1 (p):  {round(rouge[\"rouge-1\"][\"p\"], 3)}')\n",
    "print(f'Rouge-1 (r):  {round(rouge[\"rouge-1\"][\"r\"], 3)}')\n",
    "print(f'Rouge-1 (f1): {round(rouge[\"rouge-1\"][\"f\"], 3)}')\n",
    "print(f'Rouge-2 (p):  {round(rouge[\"rouge-2\"][\"p\"], 3)}')\n",
    "print(f'Rouge-2 (r):  {round(rouge[\"rouge-2\"][\"r\"], 3)}')\n",
    "print(f'Rouge-2 (f1): {round(rouge[\"rouge-2\"][\"f\"], 3)}')\n",
    "print(f'Rouge-L (p):  {round(rouge[\"rouge-l\"][\"p\"], 3)}')\n",
    "print(f'Rouge-L (r):  {round(rouge[\"rouge-l\"][\"r\"], 3)}')\n",
    "print(f'Rouge-L (f1): {round(rouge[\"rouge-l\"][\"f\"], 3)}')\n",
    "print(f'METEOR:       {round(meteor, 3)}')"
   ],
   "metadata": {
    "collapsed": false,
    "ExecuteTime": {
     "end_time": "2024-06-03T06:55:49.386422Z",
     "start_time": "2024-06-03T06:55:30.324491Z"
    }
   },
   "id": "ed2cc96a1ba41a5",
   "execution_count": 9
  },
  {
   "cell_type": "code",
   "outputs": [
    {
     "name": "stdout",
     "output_type": "stream",
     "text": [
      "= sinus rhythm and junctional rhythm. non-specific t wave flattening in i, avl, v5,6. slightly prolonged qt, this may be due to a drug    effect or an electrolyte disturbance.\n",
      "< atrial fibrillation. voltages are high in chest leads suggesting lvh. minor non-specific t wave flattening in i, avl, v5,6.\n",
      "\n",
      "= sinus rhythm extreme left electrical axis nonspecific leg block\n",
      "< sinus rhythm extreme left electrical axis nonspecific leg block left ventricular hypertrophy !\n",
      "\n",
      "= sinus rhythm. normal ecg. edit: norm 100, <unk> bad quality\n",
      "< sinus rhythm. normal ecg.\n",
      "\n",
      "= <unk> <unk> sinus bradycardia suspected left ventricular hypertrophy pathological q-wave in v2, suggests suspicion of old anteroseptal myocardial damage t-changes anteriorly as in subendocardial myocardial affection st-t changes laterally as in ischemia,\n",
      "< sinus bradycardia position type normal left hypertrophy possible 1st degree av block\n",
      "\n",
      "= sinus rhythm. premature ventricular contraction(s). qs complexes in v2 and small r waves in v3 suggesting old anteroseptal myocardial infarction. st segments are depressed in ii, iii, avf, v5,6. non-specific but consistent with myocardial ischaemia.\n",
      "< ventricular extrasystole(s) sinus rhythm position type normal qrs(t) abnormal inferior infarction probable old\n",
      "\n",
      "= sinus rhythm position type normal normal ecg\n",
      "< sinus rhythm position type normal normal ecg\n",
      "\n",
      "= sinus rhythm. normal ecg.\n",
      "< sinus rhythm normal ecg\n",
      "\n",
      "= sinus rhythm left type st &amp; t abnormal, probably high lateral ischemia or left strain 4.46 unconfirmed report\n",
      "< sinus rhythm left type t abnormal in anterolateral leads 4.46 unconfirmed report\n",
      "\n",
      "= sinus rhythm normal ecg\n",
      "< sinus rhythm position type normal normal ecg\n",
      "\n",
      "= sinus rhythm left electrical axis qt <unk>\n",
      "< sinus rhythm position type normal normal ecg\n",
      "\n",
      "= sinus rhythm qrs(t) abnormal inferior infarction probably old\n",
      "< sinus rhythm. normal ecg.\n",
      "\n",
      "= sinus rhythm. left axis deviation. left anterior fascicular block. right bundle branch block. bifascicular block. pr interval is normal.\n",
      "< sinus rhythm. left axis deviation. left anterior fascicular block. right bundle branch block. bifascicular block. pr interval is normal.\n",
      "\n",
      "= sinus rhythm. voltages are high in limb leads suggesting lvh. q waves and t wave inversion in ii, iii, avf  consistent with inferior myocardial infarction of uncertain age. slight st segment elevation in iii, recent damage  cannot be excluded. st segments\n",
      "< sinus rhythm. prolonged pr interval. non-specific intraventricular delay. voltages are high in chest leads suggesting lvh. qs complexes in v2 and tiny r waves in v3. st segments are elevated in v2,3,4.  ii, iii, avf, v6. t waves are now and inverted in ii, iii, avf,  v4,5,6. the changed pattern suggests recent ischaemia.\n",
      "\n",
      "= premature ventricular contraction(s). atrial fibrillation with rapid ventricular response. st segments are depressed in ii, avf, v5,6. t waves are low or flat in limb leads and v5,6. non-specific but consistent with myocardial ischaemia.\n",
      "< atrial fibrillation with rapid ventricular response. non-specific st-t wave changes.\n",
      "\n",
      "= pacemaker ecg atrial flutter ventr. extrasystoles pathological\n",
      "< pacemaker spikes noted. a paced rhythm is present together with a few \"spontaneous\" beats. apparently normal pacemaker function.\n",
      "\n",
      "= sinus rhythm position type normal qrs(t) abnormal inferior myocardial damage possible 4.46 unconfirmed report\n",
      "< sinus rhythm position type normal normal ecg 4.46 unconfirmed report\n",
      "\n",
      "= sinus rhythm left position type intraventricular conduction disturbance in iii normal ecg\n",
      "< sinus rhythm position type normal normal ecg\n",
      "\n",
      "= sinus rhythm difficult to determine qrs axis peripheral low voltage qrs(t) abnormal high lateral infarction possible inferior infarction possible\n",
      "< sinus rhythm left type peripheral low voltage incomplete right bundle branch block t abnormal in anteroseptal leads\n",
      "\n",
      "= sinus rhythm. left atrial enlargement. borderline left axis, left anterior fascicular block. probable left ventricular hypertrophy. anterolateral t abnormality: lv strain is a likely cause.\n",
      "< sinus rhythm. left axis deviation. left anterior fascicular block. voltages are high in limb leads suggesting lvh. qs complexes in v2 and tiny r waves in v3 consistent    with old anteroseptal myocardial infarction. st segments are depressed and t waves inverted in i,    avl, v5,6. this may be due to lv strain or ischaemia.\n",
      "\n",
      "= sinus rhythm. incomplete right bundle branch block. non-specific t wave flattening in v3,4.\n",
      "< sinus rhythm left type qrs(t) abnormal inferior infarction probably old st &amp; t abnormal, likely high lateral ischemia or left strain\n",
      "\n",
      "= sinus rhythm. left ventricular hypertrophy. st segments are depressed in i, ii, avl, avf, v4,5,6. this may be due to lv strain or ischaemia.\n",
      "< sinus rhythm. voltages are high in chest leads suggesting lvh. st segments are depressed in i, ii, iii, avf, v4,5,6. this may be due to lv strain or ischaemia.\n",
      "\n",
      "= sinus rhythm left type left hypertrophy av-block 1st degree <unk> pathological\n",
      "< sinus rhythm. prolonged pr interval. st segments are depressed in i, ii, avl, avf, v2-6. t waves are low or flat in these leads. this may be due to lv strain or ischaemia. q waves in v2, old anteroseptal infarct cannot be    excluded.\n",
      "\n",
      "= sinus rhythm. normal ecg.\n",
      "< sinus rhythm. normal ecg.\n",
      "\n",
      "= atrial fibrillation/flutter position type normal peripheral low voltage qrs(t) abnormal anteroseptal myocardial damage cannot be excluded t abnormal in inferior leads\n",
      "< atrial fibrillation/flutter difficult to determine qrs axis peripheral low voltage t abnormal in inferior leads\n",
      "\n",
      "= sinusrhythmus tends to normal ecg\n",
      "< sinus rhythm left type otherwise normal ecg\n",
      "\n",
      "= sinus rhythm. q waves in ii, iii, avf are probably normal. no definite pathology.\n",
      "< sinus rhythm. normal ecg.\n",
      "\n",
      "= sinus rhythm steep type poor r-progression v1-3 t biphasic in iii ventricular hypertrophy lvh possible\n",
      "< sinus rhythm position type normal normal ecg\n",
      "\n",
      "= sinus rhythm left type qrs(t) abnormal inferior infarction possible 4.46 unconfirmed report\n",
      "< sinus rhythm left type otherwise normal ecg 4.46 unconfirmed report\n",
      "\n",
      "= atrial fibrillation. left axis deviation. non-specific intraventricular block of left bundle    branch block type.\n",
      "< sinus bradycardia av block i p-widening hyperrotated left type t abnormal in anterolateral leads\n",
      "\n",
      "= atrial fibrillation. premature ventricular contraction(s). non-specific intraventricular block. left ventricular hypertrophy. qs complexes in v2,3,4 consistent with old    anterior myocardial infarction. non-specific st-t wave changes.\n",
      "< atrial fibrillation. left axis deviation. non-specific intraventricular block.\n",
      "\n",
      "= trace only requested.\n",
      "< sinus rhythm. r-s transition zone in v leads displaced to the right. otherwise normal ecg.\n",
      "\n",
      "= sinus rhythm nonspecific t change\n",
      "< sinus rhythm position type normal nonspecific abnormal t\n",
      "\n",
      "= sinus rhythm av block i p-widening left type qrs(t) abnormal anteroseptal myocardial damage possible st &amp; t abnormal, probably anterior ischemia or left strain high lateral ischemia or left strain t abnormal in inferolateral able\n",
      "< sinus rhythm av block i left type qrs(t) abnormal inferior infarction probable old st &amp; t abnormal, probable high lateral ischemia or left strain 4.46 unconfirmed report\n",
      "\n",
      "= supraventricular extrasystole(s), trigeminal sinus rhythm av block i left type peripheral low voltage qrs(t) abnormal inferior infarction probable old\n",
      "< atrial fibrillation/flutter left type qt prolongation 4.46 unconfirmed report\n",
      "\n",
      "= sinus rhythm position type normal normal ecg\n",
      "< sinus rhythm position type normal normal ecg\n",
      "\n",
      "= sinus rhythm left type otherwise normal ecg\n",
      "< sinus rhythm left type otherwise normal ecg\n",
      "\n",
      "= sinus rhythm normal ecg\n",
      "< sinus rhythm position type normal normal ecg\n",
      "\n",
      "= supraventricular extrasystole(s) sinus rhythm suspected p-sinistrocardiale position type normal\n",
      "< supraventricular extrasystole(s) sinus rhythm position type normal otherwise normal ecg\n",
      "\n",
      "= sinus rhythm p-sinistrocardiale left type nonspecific abnormal t\n",
      "< sinus rhythm position type normal nonspecific abnormal t\n",
      "\n",
      "= ventricular extrasystole(s) sinus rhythm left type st &amp; t abnormal, probably high lateral ischemia or left strain\n",
      "< premature ventricular contraction(s). sinus rhythm. left axis deviation. left anterior fascicular block. non-specific t wave flattening in ii, iii,  avf.\n",
      "\n",
      "= sinus rhythm. non-specific st depression in v4,5,6.\n",
      "< sinus rhythm. normal ecg.\n",
      "\n",
      "= sinus rhythm. q waves in ii, iii, avf consistent with old inferior    myocardial infarction.\n",
      "< sinus rhythm. q waves in ii, iii, avf are probably normal. no definite pathology.\n",
      "\n",
      "= sinus rhythm av block i p-widening position type normal incomplete right bundle branch block st &amp; t abnormal, probable anterior ischemia or left strain lateral ischemia or left strain inferolateral ischemia or left strain <unk>\n",
      "< sinus rhythm av block i position type normal right bundle branch block 4.46 unconfirmed report\n",
      "\n",
      "= atrial fibrillation/flutter left type qrs(t) abnormal inferior infarction probable old 4.46 unconfirmed report\n",
      "< supraventricular extrasystole(s) sinus rhythm left type otherwise normal ecg 4.46 unconfirmed report\n",
      "\n",
      "= trace only requested.\n",
      "< premature ventricular contraction(s). sinus rhythm. otherwise normal ecg.\n",
      "\n",
      "= sinus rhythm. prolonged pr interval. r-s transition zone in v leads displaced to the left. voltages are high in limb leads suggesting lvh. st segments are depressed in i, ii, avl, v5,6. t waves are flat in these leads. non-specific but consistent with myo\n",
      "< sinus rhythm. prolonged pr interval. voltages are high in limb leads suggesting lvh. qs complexes in v2 and tiny r waves in v3 suggesting old anteroseptal myocardial infarction. st segments are depressed and t waves inverted in i,    avl, v5,6. this may be due to lv strain or ischaemia.\n",
      "\n",
      "= sinus rhythm nonspecific intraventricular conduction disturbance\n",
      "< sinus rhythm position type normal normal ecg\n",
      "\n",
      "= sinus rhythm. left bundle branch block, this is most commonly due to    ischaemic heart disease.\n",
      "< sinus rhythm. left axis deviation. non-specific intraventricular block.\n",
      "\n",
      "= sinus rhythm left type otherwise normal ecg\n",
      "< sinus rhythm. normal ecg.\n",
      "\n",
      "= sinus rhythm left type peripheral low voltage st &amp; t abnormal, possibly new anteroseptal myocardial or pericardial damage\n",
      "< sinus rhythm av block i position type normal peripheral low voltage qrs(t) abnormal anteroseptal myocardial damage cannot be excluded st &amp; t abnormal, probably anterolateral ischemia or left strain\n",
      "\n",
      "= sinus rhythm position type normal normal ecg\n",
      "< sinus rhythm position type normal normal ecg\n",
      "\n",
      "= sinus rhythm. normal ecg. edit: norm 100, (norm 100)\n",
      "< sinus rhythm. normal ecg.\n",
      "\n",
      "= sinus rhythm position type normal qrs(t) abnormal inferior myocardial damage cannot be excluded\n",
      "< sinus rhythm. normal ecg.\n",
      "\n",
      "= sinus rhythm overrotated right type incomplete right bundle branch block pathological repolarization st elevation in v2 and v3\n",
      "< sinus rhythm position type normal incomplete right bundle branch block otherwise normal ecg\n",
      "\n",
      "= sinus rhythm suspected p-sinistrocardiale right type left posterior hemiblock\n",
      "< sinus rhythm position type normal incomplete right bundle branch block otherwise normal ecg\n",
      "\n",
      "= sinus rhythm suspected p-sinistrocardiale position type normal qrs(t) abnormal inferior myocardial damage possible t abnormal in anterior leads lateral leads\n",
      "< sinus rhythm. t waves are inverted in i, avl, v4,5,6. findings are likely to be due to ischaemic heart    disease. the age of the changes is uncertain.\n",
      "\n",
      "= probable atrial fibrillation, but no <unk> evidence of p waves or fibrillation waves. non-specific st-t wave changes.\n",
      "< atrial fibrillation/flutter position type normal nonspecific abnormal st depression nonspecific abnormal t\n",
      "\n",
      "= atrial fibrillation/flutter position type normal 4.46 unconfirmed report\n",
      "< atrial fibrillation/flutter position type normal peripheral low voltage 4.46 unconfirmed report\n",
      "\n",
      "= sinus tachycardia position type normal otherwise normal ecg\n",
      "< sinus tachycardia. otherwise normal ecg.\n",
      "\n",
      "= sinus rhythm. left anterior fascicular block. t abnormality in inferior and anterolateral leads consistent with left ventricular strain or ischaemia.\n",
      "< sinus rhythm. t waves are flat in limb leads and inverted in    v4,5,6. non-specific but consistent with myocardial ischaemia.\n",
      "\n",
      "= sinus rhythm of block in layer type normal\n",
      "< sinus rhythm of block in layer type normal\n",
      "\n",
      "= trace only requested.\n",
      "< sinus rhythm position type normal nonspecific abnormal st depression\n",
      "\n",
      "= sinus rhythm p-widening left type st &amp; t abnormal, probably high lateral ischemia or left strain\n",
      "< sinus rhythm left type intraventricular conduction disturbance avf inferior infarction chronic probable alt t abnormal in high lateral leads 4.46 unconfirmed report\n",
      "\n",
      "= atrial fibrillation with controlled ventricular response rate <unk> per minute. extensive deep anterior t wave <unk> <unk>  suggestive of ischaemia or subendocardial <unk>\n",
      "< atrial fibrillation with rapid ventricular response. premature ventricular contraction(s). voltages are high in chest leads suggesting lvh. st segments are depressed and t waves inverted in i,    ii, avl, avf, v2-6. findings are likely to be due to ischaemic heart    disease. the age of the changes is uncertain.\n"
     ]
    }
   ],
   "source": [
    "encoder.eval()\n",
    "decoder.eval()\n",
    "print_first_n_target_prediction(test_dataloader, encoder, decoder, language)"
   ],
   "metadata": {
    "collapsed": false,
    "ExecuteTime": {
     "end_time": "2024-06-03T06:55:49.494103Z",
     "start_time": "2024-06-03T06:55:49.387419Z"
    }
   },
   "id": "c750b26df2dcd005",
   "execution_count": 10
  },
  {
   "cell_type": "code",
   "outputs": [],
   "source": [],
   "metadata": {
    "collapsed": false,
    "ExecuteTime": {
     "end_time": "2024-06-03T06:55:49.510049Z",
     "start_time": "2024-06-03T06:55:49.495102Z"
    }
   },
   "id": "db8d0fe68802ee3c",
   "execution_count": 10
  }
 ],
 "metadata": {
  "kernelspec": {
   "display_name": "Python 3",
   "language": "python",
   "name": "python3"
  },
  "language_info": {
   "codemirror_mode": {
    "name": "ipython",
    "version": 2
   },
   "file_extension": ".py",
   "mimetype": "text/x-python",
   "name": "python",
   "nbconvert_exporter": "python",
   "pygments_lexer": "ipython2",
   "version": "2.7.6"
  }
 },
 "nbformat": 4,
 "nbformat_minor": 5
}
