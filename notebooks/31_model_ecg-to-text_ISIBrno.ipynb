{
 "cells": [
  {
   "cell_type": "markdown",
   "source": [
    "# ISIBrnoAIMT Encoder with Attention Decoder\n",
    "\n",
    "Encoder was taken from the winner of the [Will Two Do?](https://physionet.org/content/challenge-2021/1.0.3/sources/) challenge [ISIBrnoAIMT](https://www.cinc.org/archives/2021/pdf/CinC2021-014.pdf)\n",
    "Decoder was taken from the [sequence to sequence tutorial](https://pytorch.org/tutorials/intermediate/seq2seq_translation_tutorial.html) from Pytorch."
   ],
   "metadata": {
    "collapsed": false
   },
   "id": "a195e52a52decb2a"
  },
  {
   "cell_type": "code",
   "outputs": [],
   "source": [
    "import pickle\n",
    "import os\n",
    "import sys\n",
    "import torch\n",
    "import pandas as pd\n",
    "from sklearn.metrics import f1_score, jaccard_score, confusion_matrix, precision_score, recall_score, accuracy_score\n",
    "\n",
    "from models.m04_EcgToText_ISIBrnoAIMT.dataset import *\n",
    "from models.m04_EcgToText_ISIBrnoAIMT.model import *\n",
    "from models.m04_EcgToText_ISIBrnoAIMT.train import *"
   ],
   "metadata": {
    "collapsed": true,
    "ExecuteTime": {
     "end_time": "2024-05-23T12:29:52.083455Z",
     "start_time": "2024-05-23T12:29:48.662329Z"
    }
   },
   "id": "initial_id",
   "execution_count": 1
  },
  {
   "cell_type": "code",
   "outputs": [],
   "source": [
    "os.chdir('..')"
   ],
   "metadata": {
    "collapsed": false,
    "ExecuteTime": {
     "end_time": "2024-05-23T12:29:52.099422Z",
     "start_time": "2024-05-23T12:29:52.084450Z"
    }
   },
   "id": "5b78b990737513dc",
   "execution_count": 2
  },
  {
   "cell_type": "markdown",
   "source": [
    "## Setup Model"
   ],
   "metadata": {
    "collapsed": false
   },
   "id": "e9d10629ccf53312"
  },
  {
   "cell_type": "code",
   "outputs": [],
   "source": [
    "torch.manual_seed(42)\n",
    "\n",
    "device = torch.device(\"cuda\" if torch.cuda.is_available() else \"cpu\")\n",
    "\n",
    "language, dataloader = get_dataloader(file_path='./data_ptb-xl', batch_size=64, mode='train', device=device)\n",
    "_, val_dataloader = get_dataloader(file_path='./data_ptb-xl', batch_size=64, mode='val', device=device, _lang=language)\n",
    "\n",
    "n_epochs=50\n",
    "hidden_size = 256\n",
    "criterion = nn.NLLLoss()\n",
    "\n",
    "encoder = NN(num_leads=12,\n",
    "             hidden_size=hidden_size).to(device)\n",
    "decoder = AttnDecoderRNN(hidden_size=hidden_size,\n",
    "                         encoder_hidden_size=hidden_size,\n",
    "                         output_size=language.n_words,\n",
    "                         max_len=language.max_len).to(device)"
   ],
   "metadata": {
    "collapsed": false,
    "ExecuteTime": {
     "end_time": "2024-05-23T12:30:54.562034Z",
     "start_time": "2024-05-23T12:29:52.100417Z"
    }
   },
   "id": "7b8bfda8657afe70",
   "execution_count": 3
  },
  {
   "cell_type": "code",
   "outputs": [],
   "source": [
    "def count_parameters(model):\n",
    "    return sum(p.numel() for p in model.parameters() if p.requires_grad)"
   ],
   "metadata": {
    "collapsed": false,
    "ExecuteTime": {
     "end_time": "2024-05-23T12:30:54.577006Z",
     "start_time": "2024-05-23T12:30:54.563033Z"
    }
   },
   "id": "4f33c000bc29b4fc",
   "execution_count": 4
  },
  {
   "cell_type": "code",
   "outputs": [
    {
     "name": "stdout",
     "output_type": "stream",
     "text": [
      "Number of parameters in Encoder: 6545152\n"
     ]
    },
    {
     "data": {
      "text/plain": "NN(\n  (conv): Conv2d(12, 256, kernel_size=(1, 15), stride=(1, 2), padding=(0, 7), bias=False)\n  (bn): BatchNorm2d(256, eps=1e-05, momentum=0.1, affine=True, track_running_stats=True)\n  (rb_0): MyResidualBlock(\n    (conv1): Conv2d(256, 256, kernel_size=(1, 9), stride=(1, 2), padding=(0, 4), bias=False)\n    (bn1): BatchNorm2d(256, eps=1e-05, momentum=0.1, affine=True, track_running_stats=True)\n    (conv2): Conv2d(256, 256, kernel_size=(1, 9), stride=(1, 1), padding=(0, 4), bias=False)\n    (bn2): BatchNorm2d(256, eps=1e-05, momentum=0.1, affine=True, track_running_stats=True)\n    (idfunc_0): AvgPool2d(kernel_size=(1, 2), stride=(1, 2), padding=0)\n    (idfunc_1): Conv2d(256, 256, kernel_size=(1, 1), stride=(1, 1), bias=False)\n  )\n  (rb_1): MyResidualBlock(\n    (conv1): Conv2d(256, 256, kernel_size=(1, 9), stride=(1, 2), padding=(0, 4), bias=False)\n    (bn1): BatchNorm2d(256, eps=1e-05, momentum=0.1, affine=True, track_running_stats=True)\n    (conv2): Conv2d(256, 256, kernel_size=(1, 9), stride=(1, 1), padding=(0, 4), bias=False)\n    (bn2): BatchNorm2d(256, eps=1e-05, momentum=0.1, affine=True, track_running_stats=True)\n    (idfunc_0): AvgPool2d(kernel_size=(1, 2), stride=(1, 2), padding=0)\n    (idfunc_1): Conv2d(256, 256, kernel_size=(1, 1), stride=(1, 1), bias=False)\n  )\n  (rb_2): MyResidualBlock(\n    (conv1): Conv2d(256, 256, kernel_size=(1, 9), stride=(1, 2), padding=(0, 4), bias=False)\n    (bn1): BatchNorm2d(256, eps=1e-05, momentum=0.1, affine=True, track_running_stats=True)\n    (conv2): Conv2d(256, 256, kernel_size=(1, 9), stride=(1, 1), padding=(0, 4), bias=False)\n    (bn2): BatchNorm2d(256, eps=1e-05, momentum=0.1, affine=True, track_running_stats=True)\n    (idfunc_0): AvgPool2d(kernel_size=(1, 2), stride=(1, 2), padding=0)\n    (idfunc_1): Conv2d(256, 256, kernel_size=(1, 1), stride=(1, 1), bias=False)\n  )\n  (rb_3): MyResidualBlock(\n    (conv1): Conv2d(256, 256, kernel_size=(1, 9), stride=(1, 2), padding=(0, 4), bias=False)\n    (bn1): BatchNorm2d(256, eps=1e-05, momentum=0.1, affine=True, track_running_stats=True)\n    (conv2): Conv2d(256, 256, kernel_size=(1, 9), stride=(1, 1), padding=(0, 4), bias=False)\n    (bn2): BatchNorm2d(256, eps=1e-05, momentum=0.1, affine=True, track_running_stats=True)\n    (idfunc_0): AvgPool2d(kernel_size=(1, 2), stride=(1, 2), padding=0)\n    (idfunc_1): Conv2d(256, 256, kernel_size=(1, 1), stride=(1, 1), bias=False)\n  )\n  (rb_4): MyResidualBlock(\n    (conv1): Conv2d(256, 256, kernel_size=(1, 9), stride=(1, 2), padding=(0, 4), bias=False)\n    (bn1): BatchNorm2d(256, eps=1e-05, momentum=0.1, affine=True, track_running_stats=True)\n    (conv2): Conv2d(256, 256, kernel_size=(1, 9), stride=(1, 1), padding=(0, 4), bias=False)\n    (bn2): BatchNorm2d(256, eps=1e-05, momentum=0.1, affine=True, track_running_stats=True)\n    (idfunc_0): AvgPool2d(kernel_size=(1, 2), stride=(1, 2), padding=0)\n    (idfunc_1): Conv2d(256, 256, kernel_size=(1, 1), stride=(1, 1), bias=False)\n  )\n  (mha): MultiheadAttention(\n    (out_proj): NonDynamicallyQuantizableLinear(in_features=256, out_features=256, bias=True)\n  )\n  (hidden_transform): Linear(in_features=16, out_features=256, bias=True)\n)"
     },
     "execution_count": 5,
     "metadata": {},
     "output_type": "execute_result"
    }
   ],
   "source": [
    "n_param = count_parameters(encoder)\n",
    "print(f\"Number of parameters in Encoder: {n_param}\")\n",
    "encoder"
   ],
   "metadata": {
    "collapsed": false,
    "ExecuteTime": {
     "end_time": "2024-05-23T12:30:54.592971Z",
     "start_time": "2024-05-23T12:30:54.578002Z"
    }
   },
   "id": "729af8c33c9af80f",
   "execution_count": 5
  },
  {
   "cell_type": "code",
   "outputs": [
    {
     "name": "stdout",
     "output_type": "stream",
     "text": [
      "Number of parameters in Decoder: 2219237\n"
     ]
    },
    {
     "data": {
      "text/plain": "AttnDecoderRNN(\n  (hidden_transform): Linear(in_features=256, out_features=256, bias=True)\n  (embedding): Embedding(2788, 256)\n  (attention): BahdanauAttention(\n    (Wa): Linear(in_features=256, out_features=256, bias=True)\n    (Ua): Linear(in_features=256, out_features=256, bias=True)\n    (Va): Linear(in_features=256, out_features=1, bias=True)\n  )\n  (gru): GRU(512, 256, batch_first=True)\n  (out): Linear(in_features=256, out_features=2788, bias=True)\n  (dropout): Dropout(p=0.1, inplace=False)\n)"
     },
     "execution_count": 6,
     "metadata": {},
     "output_type": "execute_result"
    }
   ],
   "source": [
    "n_param = count_parameters(decoder)\n",
    "print(f\"Number of parameters in Decoder: {n_param}\")\n",
    "decoder"
   ],
   "metadata": {
    "collapsed": false,
    "ExecuteTime": {
     "end_time": "2024-05-23T12:30:54.607941Z",
     "start_time": "2024-05-23T12:30:54.595965Z"
    }
   },
   "id": "c14873bc968b3ae6",
   "execution_count": 6
  },
  {
   "cell_type": "markdown",
   "source": [
    "## Train"
   ],
   "metadata": {
    "collapsed": false
   },
   "id": "dfeb6c6b6f8b8096"
  },
  {
   "cell_type": "code",
   "outputs": [
    {
     "name": "stdout",
     "output_type": "stream",
     "text": [
      "0m 50s (- 41m 22s) (1 2.0%) | Train Loss: 0.5817 | Val METEOR: 0.3364\n",
      "1m 34s (- 37m 56s) (2 4.0%) | Train Loss: 0.2498 | Val METEOR: 0.3847\n",
      "2m 20s (- 36m 33s) (3 6.0%) | Train Loss: 0.2119 | Val METEOR: 0.4025\n",
      "3m 5s (- 35m 37s) (4 8.0%) | Train Loss: 0.1894 | Val METEOR: 0.4157\n",
      "3m 51s (- 34m 47s) (5 10.0%) | Train Loss: 0.1756 | Val METEOR: 0.4164\n",
      "4m 39s (- 34m 10s) (6 12.0%) | Train Loss: 0.1639 | Val METEOR: 0.4284\n",
      "5m 26s (- 33m 22s) (7 14.0%) | Train Loss: 0.1537 | Val METEOR: 0.4231\n",
      "6m 12s (- 32m 35s) (8 16.0%) | Train Loss: 0.1462 | Val METEOR: 0.4361\n",
      "6m 58s (- 31m 47s) (9 18.0%) | Train Loss: 0.1396 | Val METEOR: 0.4311\n",
      "7m 44s (- 30m 58s) (10 20.0%) | Train Loss: 0.136 | Val METEOR: 0.4577\n",
      "8m 30s (- 30m 8s) (11 22.0%) | Train Loss: 0.1291 | Val METEOR: 0.4563\n",
      "9m 16s (- 29m 22s) (12 24.0%) | Train Loss: 0.1244 | Val METEOR: 0.4563\n",
      "10m 3s (- 28m 36s) (13 26.0%) | Train Loss: 0.1214 | Val METEOR: 0.4492\n",
      "10m 48s (- 27m 48s) (14 28.0%) | Train Loss: 0.1175 | Val METEOR: 0.4537\n",
      "11m 34s (- 26m 59s) (15 30.0%) | Train Loss: 0.1138 | Val METEOR: 0.477\n",
      "12m 20s (- 26m 13s) (16 32.0%) | Train Loss: 0.1111 | Val METEOR: 0.4537\n",
      "13m 6s (- 25m 26s) (17 34.0%) | Train Loss: 0.1088 | Val METEOR: 0.4741\n",
      "13m 52s (- 24m 39s) (18 36.0%) | Train Loss: 0.1063 | Val METEOR: 0.4747\n",
      "14m 37s (- 23m 51s) (19 38.0%) | Train Loss: 0.1039 | Val METEOR: 0.4783\n",
      "15m 24s (- 23m 6s) (20 40.0%) | Train Loss: 0.1009 | Val METEOR: 0.4676\n",
      "16m 9s (- 22m 18s) (21 42.0%) | Train Loss: 0.0985 | Val METEOR: 0.4655\n",
      "16m 55s (- 21m 32s) (22 44.0%) | Train Loss: 0.0974 | Val METEOR: 0.4688\n",
      "17m 40s (- 20m 45s) (23 46.0%) | Train Loss: 0.0944 | Val METEOR: 0.4818\n",
      "18m 27s (- 19m 59s) (24 48.0%) | Train Loss: 0.0923 | Val METEOR: 0.4828\n",
      "19m 12s (- 19m 12s) (25 50.0%) | Train Loss: 0.0907 | Val METEOR: 0.4437\n",
      "19m 58s (- 18m 26s) (26 52.0%) | Train Loss: 0.0889 | Val METEOR: 0.4443\n",
      "20m 44s (- 17m 40s) (27 54.0%) | Train Loss: 0.0875 | Val METEOR: 0.4899\n",
      "21m 31s (- 16m 54s) (28 56.0%) | Train Loss: 0.0862 | Val METEOR: 0.4952\n",
      "22m 16s (- 16m 7s) (29 58.0%) | Train Loss: 0.0846 | Val METEOR: 0.4816\n",
      "23m 2s (- 15m 21s) (30 60.0%) | Train Loss: 0.0834 | Val METEOR: 0.4867\n",
      "23m 48s (- 14m 35s) (31 62.0%) | Train Loss: 0.0813 | Val METEOR: 0.4793\n",
      "24m 34s (- 13m 49s) (32 64.0%) | Train Loss: 0.0798 | Val METEOR: 0.469\n",
      "25m 20s (- 13m 3s) (33 66.0%) | Train Loss: 0.0786 | Val METEOR: 0.4924\n",
      "26m 5s (- 12m 16s) (34 68.0%) | Train Loss: 0.0772 | Val METEOR: 0.4793\n",
      "26m 52s (- 11m 30s) (35 70.0%) | Train Loss: 0.0759 | Val METEOR: 0.472\n",
      "27m 37s (- 10m 44s) (36 72.0%) | Train Loss: 0.0753 | Val METEOR: 0.4839\n",
      "28m 23s (- 9m 58s) (37 74.0%) | Train Loss: 0.0738 | Val METEOR: 0.4972\n",
      "29m 9s (- 9m 12s) (38 76.0%) | Train Loss: 0.0721 | Val METEOR: 0.4621\n",
      "29m 56s (- 8m 26s) (39 78.0%) | Train Loss: 0.0729 | Val METEOR: 0.4895\n",
      "30m 41s (- 7m 40s) (40 80.0%) | Train Loss: 0.0707 | Val METEOR: 0.4869\n",
      "31m 18s (- 6m 52s) (41 82.0%) | Train Loss: 0.0692 | Val METEOR: 0.4883\n",
      "31m 47s (- 6m 3s) (42 84.0%) | Train Loss: 0.0686 | Val METEOR: 0.4742\n",
      "32m 14s (- 5m 14s) (43 86.0%) | Train Loss: 0.0671 | Val METEOR: 0.4984\n",
      "32m 42s (- 4m 27s) (44 88.0%) | Train Loss: 0.0655 | Val METEOR: 0.4844\n",
      "33m 9s (- 3m 41s) (45 90.0%) | Train Loss: 0.065 | Val METEOR: 0.4683\n",
      "33m 37s (- 2m 55s) (46 92.0%) | Train Loss: 0.0656 | Val METEOR: 0.4923\n",
      "34m 5s (- 2m 10s) (47 94.0%) | Train Loss: 0.0648 | Val METEOR: 0.4838\n",
      "34m 32s (- 1m 26s) (48 96.0%) | Train Loss: 0.0622 | Val METEOR: 0.4955\n",
      "35m 0s (- 0m 42s) (49 98.0%) | Train Loss: 0.0617 | Val METEOR: 0.4686\n",
      "35m 27s (- 0m 0s) (50 100.0%) | Train Loss: 0.0601 | Val METEOR: 0.4417\n"
     ]
    }
   ],
   "source": [
    "torch.manual_seed(42)\n",
    "\n",
    "train(dataloader, val_dataloader, encoder, decoder, criterion, language, n_epochs)"
   ],
   "metadata": {
    "collapsed": false,
    "ExecuteTime": {
     "end_time": "2024-05-23T13:06:22.156422Z",
     "start_time": "2024-05-23T12:30:54.608939Z"
    }
   },
   "id": "6f2c429e46a162ef",
   "execution_count": 7
  },
  {
   "cell_type": "markdown",
   "source": [
    "## Test"
   ],
   "metadata": {
    "collapsed": false
   },
   "id": "13d46327f50a1c27"
  },
  {
   "cell_type": "code",
   "outputs": [
    {
     "data": {
      "text/plain": "<All keys matched successfully>"
     },
     "execution_count": 8,
     "metadata": {},
     "output_type": "execute_result"
    }
   ],
   "source": [
    "# load parameters\n",
    "hidden_size = 256\n",
    "\n",
    "encoder = NN(num_leads=12,\n",
    "             hidden_size=hidden_size).to(device)\n",
    "decoder = AttnDecoderRNN(hidden_size=hidden_size,\n",
    "                         encoder_hidden_size=hidden_size,\n",
    "                         output_size=language.n_words,\n",
    "                         max_len=language.max_len).to(device)\n",
    "\n",
    "encoder.load_state_dict(torch.load('./models/m04_EcgToText_ISIBrnoAIMT/saved_models/Encoder.pth'))\n",
    "decoder.load_state_dict(torch.load('./models/m04_EcgToText_ISIBrnoAIMT/saved_models/Decoder.pth'))"
   ],
   "metadata": {
    "collapsed": false,
    "ExecuteTime": {
     "end_time": "2024-05-23T13:06:22.232917Z",
     "start_time": "2024-05-23T13:06:22.157416Z"
    }
   },
   "id": "60dbbbcfc31e7246",
   "execution_count": 8
  },
  {
   "cell_type": "code",
   "outputs": [
    {
     "name": "stdout",
     "output_type": "stream",
     "text": [
      "Test Loss:    3.8925\n",
      "F1:           0.0245\n",
      "Jaccard:      0.0159\n",
      "Rouge-1 (p):  0.582\n",
      "Rouge-1 (r):  0.622\n",
      "Rouge-1 (f1): 0.577\n",
      "Rouge-2 (p):  0.445\n",
      "Rouge-2 (r):  0.472\n",
      "Rouge-2 (f1): 0.439\n",
      "Rouge-L (p):  0.578\n",
      "Rouge-L (r):  0.618\n",
      "Rouge-L (f1): 0.574\n",
      "METEOR:       0.495\n"
     ]
    }
   ],
   "source": [
    "_, test_dataloader = get_dataloader(file_path='./data_ptb-xl', batch_size=64, mode='test', device=device, _lang=language)\n",
    "\n",
    "total_loss, f1, jaccard, rouge, meteor = validate_epoch(test_dataloader, encoder, decoder, criterion, language)\n",
    "\n",
    "print(f'Test Loss:    {round(total_loss, 4)}')\n",
    "print(f'F1:           {round(f1, 4)}')\n",
    "print(f'Jaccard:      {round(jaccard, 4)}')\n",
    "print(f'Rouge-1 (p):  {round(rouge[\"rouge-1\"][\"p\"], 3)}')\n",
    "print(f'Rouge-1 (r):  {round(rouge[\"rouge-1\"][\"r\"], 3)}')\n",
    "print(f'Rouge-1 (f1): {round(rouge[\"rouge-1\"][\"f\"], 3)}')\n",
    "print(f'Rouge-2 (p):  {round(rouge[\"rouge-2\"][\"p\"], 3)}')\n",
    "print(f'Rouge-2 (r):  {round(rouge[\"rouge-2\"][\"r\"], 3)}')\n",
    "print(f'Rouge-2 (f1): {round(rouge[\"rouge-2\"][\"f\"], 3)}')\n",
    "print(f'Rouge-L (p):  {round(rouge[\"rouge-l\"][\"p\"], 3)}')\n",
    "print(f'Rouge-L (r):  {round(rouge[\"rouge-l\"][\"r\"], 3)}')\n",
    "print(f'Rouge-L (f1): {round(rouge[\"rouge-l\"][\"f\"], 3)}')\n",
    "print(f'METEOR:       {round(meteor, 3)}')"
   ],
   "metadata": {
    "collapsed": false,
    "ExecuteTime": {
     "end_time": "2024-05-23T13:06:28.985901Z",
     "start_time": "2024-05-23T13:06:22.233910Z"
    }
   },
   "id": "ed2cc96a1ba41a5",
   "execution_count": 9
  },
  {
   "cell_type": "code",
   "outputs": [
    {
     "name": "stdout",
     "output_type": "stream",
     "text": [
      "= sinus rhythm and junctional rhythm. non-specific t wave flattening in i, avl, v5,6. slightly prolonged qt, this may be due to a drug    effect or an electrolyte disturbance.\n",
      "< atrial fibrillation. st segments are depressed in i, ii, v5,6. t waves are low in i, v6 and inverted in avl. this may be due to lv strain or ischaemia.\n",
      "\n",
      "= sinus rhythm extreme left electrical axis nonspecific leg block\n",
      "< sinus rhythm. left axis deviation. left anterior fascicular block. voltages are high in limb leads suggesting lvh. qs complexes in v2 suggesting old anteroseptal infarct. st segments are depressed in i, avl, v5,6. t waves are inverted in avl, v5,6. this may be due to lv strain or ischaemia.\n",
      "\n",
      "= sinus rhythm. normal ecg. edit: norm 100, <unk> bad quality\n",
      "< sinus rhythm. normal ecg.\n",
      "\n",
      "= <unk> <unk> sinus bradycardia suspected left ventricular hypertrophy pathological q-wave in v2, suggests suspicion of old anteroseptal myocardial damage t-changes anteriorly as in subendocardial myocardial affection st-t changes laterally as in ischemia,\n",
      "< sinus bradycardia st-t lowering, such as in anterolateral ischemia or left-sided load inferolateral ischemia or left-sided load t-change, as in anterior myocardial affection\n",
      "\n",
      "= sinus rhythm. premature ventricular contraction(s). qs complexes in v2 and small r waves in v3 suggesting old anteroseptal myocardial infarction. st segments are depressed in ii, iii, avf, v5,6. non-specific but consistent with myocardial ischaemia.\n",
      "< ventricular extrasystole(s) sinus rhythm position type normal peripheral low voltage\n",
      "\n",
      "= sinus rhythm position type normal normal ecg\n",
      "< sinus rhythm. normal ecg.\n",
      "\n",
      "= sinus rhythm. normal ecg.\n",
      "< sinus rhythm normal ecg\n",
      "\n",
      "= sinus rhythm left type st &amp; t abnormal, probably high lateral ischemia or left strain 4.46 unconfirmed report\n",
      "< sinus rhythm left type nonspecific abnormal t 4.46 unconfirmed report\n",
      "\n",
      "= sinus rhythm normal ecg\n",
      "< sinus rhythm normal ecg\n",
      "\n",
      "= sinus rhythm left electrical axis qt <unk>\n",
      "< sinus rhythm position type normal normal ecg\n",
      "\n",
      "= sinus rhythm qrs(t) abnormal inferior infarction probably old\n",
      "< sinus rhythm. normal ecg.\n",
      "\n",
      "= sinus rhythm. left axis deviation. left anterior fascicular block. right bundle branch block. bifascicular block. pr interval is normal.\n",
      "< sinus rhythm. left axis deviation. left anterior fascicular block. right bundle branch block. bifascicular block. pr interval is normal.\n",
      "\n",
      "= sinus rhythm. voltages are high in limb leads suggesting lvh. q waves and t wave inversion in ii, iii, avf  consistent with inferior myocardial infarction of uncertain age. slight st segment elevation in iii, recent damage  cannot be excluded. st segments\n",
      "< sinus rhythm. prolonged pr interval. non-specific intraventricular delay. st segments are depressed in v4,5,6. t waves are inverted in ii, iii, avf, v4,5,6. this may be due to lv strain or ischaemia.\n",
      "\n",
      "= premature ventricular contraction(s). atrial fibrillation with rapid ventricular response. st segments are depressed in ii, avf, v5,6. t waves are low or flat in limb leads and v5,6. non-specific but consistent with myocardial ischaemia.\n",
      "< atrial fibrillation with rapid ventricular response. st segments are depressed in ii, iii, avf, v4,5,6. non-specific but consistent with myocardial ischaemia.\n",
      "\n",
      "= pacemaker ecg atrial flutter ventr. extrasystoles pathological\n",
      "< atrial fibrillation/flutter difficult to determine qrs axis peripheral low voltage incomplete right bundle branch block qrs(t) abnormal inferior infarction probable old\n",
      "\n",
      "= sinus rhythm position type normal qrs(t) abnormal inferior myocardial damage possible 4.46 unconfirmed report\n",
      "< sinus rhythm position type normal normal ecg 4.46 unconfirmed report\n",
      "\n",
      "= sinus rhythm left position type intraventricular conduction disturbance in iii normal ecg\n",
      "< sinus rhythm position type normal normal ecg\n",
      "\n",
      "= sinus rhythm difficult to determine qrs axis peripheral low voltage qrs(t) abnormal high lateral infarction possible inferior infarction possible\n",
      "< sinus rhythm. incomplete right bundle branch block. non-specific t wave flattening in v2,3.\n",
      "\n",
      "= sinus rhythm. left atrial enlargement. borderline left axis, left anterior fascicular block. probable left ventricular hypertrophy. anterolateral t abnormality: lv strain is a likely cause.\n",
      "< sinus rhythm. left axis deviation. left ventricular hypertrophy. st segments are depressed in i, avl, v5,6. t waves are inverted in i, avl and low in v5,6. this may be due to lv strain or ischaemia.\n",
      "\n",
      "= sinus rhythm. incomplete right bundle branch block. non-specific t wave flattening in v3,4.\n",
      "< sinus rhythm left type incomplete right bundle branch block qrs(t) abnormal inferior infarction age undetermined\n",
      "\n",
      "= sinus rhythm. left ventricular hypertrophy. st segments are depressed in i, ii, avl, avf, v4,5,6. this may be due to lv strain or ischaemia.\n",
      "< sinus rhythm. voltages are high in chest leads suggesting lvh. st segments are depressed in v4,5,6. t waves are slightly inverted in i, avl, v4,5,6. this may be due to lv strain or ischaemia.\n",
      "\n",
      "= sinus rhythm left type left hypertrophy av-block 1st degree <unk> pathological\n",
      "< sinus rhythm. prolonged pr interval. voltages are high in chest leads suggesting lvh. st segments are depressed in i, ii, avl, v4,5,6. t waves are low or flat in these leads. this may be due to lv strain or ischaemia.\n",
      "\n",
      "= sinus rhythm. normal ecg.\n",
      "< sinus rhythm. normal ecg.\n",
      "\n",
      "= atrial fibrillation/flutter position type normal peripheral low voltage qrs(t) abnormal anteroseptal myocardial damage cannot be excluded t abnormal in inferior leads\n",
      "< atrial fibrillation with rapid ventricular response. low limb lead voltage. non-specific t wave flattening in limb leads.\n",
      "\n",
      "= sinusrhythmus tends to normal ecg\n",
      "< sinus rhythm left type otherwise normal ecg\n",
      "\n",
      "= sinus rhythm. q waves in ii, iii, avf are probably normal. no definite pathology.\n",
      "< sinus rhythm position type normal normal ecg\n",
      "\n",
      "= sinus rhythm steep type poor r-progression v1-3 t biphasic in iii ventricular hypertrophy lvh possible\n",
      "< sinus rhythm normal ecg\n",
      "\n",
      "= sinus rhythm left type qrs(t) abnormal inferior infarction possible 4.46 unconfirmed report\n",
      "< sinus rhythm left type otherwise normal ecg 4.46 unconfirmed report\n",
      "\n",
      "= atrial fibrillation. left axis deviation. non-specific intraventricular block of left bundle    branch block type.\n",
      "< atrial fibrillation/flutter hyperexcited left type left anterior hemiblock qrs(t) abnormal anteroseptal infarction age undetermined st &amp; t abnormal, probably high lateral ischemia or left strain t abnormal in anterior leads\n",
      "\n",
      "= atrial fibrillation. premature ventricular contraction(s). non-specific intraventricular block. left ventricular hypertrophy. qs complexes in v2,3,4 consistent with old    anterior myocardial infarction. non-specific st-t wave changes.\n",
      "< atrial fibrillation. premature ventricular contraction(s). qs complexes in v2 and tiny r waves in v3 consistent  with old anteroseptal myocardial infarction. st segments are depressed and t waves inverted in i,    avl, v5,6. this\n",
      "\n",
      "= trace only requested.\n",
      "< sinus rhythm. r-s transition zone in v leads displaced to the right. otherwise normal ecg.\n",
      "\n",
      "= sinus rhythm nonspecific t change\n",
      "< sinus rhythm position type normal nonspecific abnormal t\n",
      "\n",
      "= sinus rhythm av block i p-widening left type qrs(t) abnormal anteroseptal myocardial damage possible st &amp; t abnormal, probably anterior ischemia or left strain high lateral ischemia or left strain t abnormal in inferolateral able\n",
      "< sinus rhythm av block i overrotated left type st &amp; t abnormal, probably anterolateral ischemia or left strain 4.46 unconfirmed report\n",
      "\n",
      "= supraventricular extrasystole(s), trigeminal sinus rhythm av block i left type peripheral low voltage qrs(t) abnormal inferior infarction probable old\n",
      "< supraventricular extrasystole(s) sinus rhythm av block i left type peripheral low voltage qrs(t) abnormal inferior infarction probable old 4.46 unconfirmed report\n",
      "\n",
      "= sinus rhythm position type normal normal ecg\n",
      "< sinus rhythm position type normal normal ecg\n",
      "\n",
      "= sinus rhythm left type otherwise normal ecg\n",
      "< sinus rhythm left type otherwise normal ecg\n",
      "\n",
      "= sinus rhythm normal ecg\n",
      "< sinus rhythm normal ecg\n",
      "\n",
      "= supraventricular extrasystole(s) sinus rhythm suspected p-sinistrocardiale position type normal\n",
      "< supraventricular extrasystole(s) sinus rhythm position type normal otherwise normal ecg\n",
      "\n",
      "= sinus rhythm p-sinistrocardiale left type nonspecific abnormal t\n",
      "< sinus rhythm position type normal normal ecg\n",
      "\n",
      "= ventricular extrasystole(s) sinus rhythm left type st &amp; t abnormal, probably high lateral ischemia or left strain\n",
      "< sinus rhythm hyperexcited left type left anterior hemiblock qrs(t) abnormal inferior infarction probably old\n",
      "\n",
      "= sinus rhythm. non-specific st depression in v4,5,6.\n",
      "< sinus rhythm. normal ecg.\n",
      "\n",
      "= sinus rhythm. q waves in ii, iii, avf consistent with old inferior    myocardial infarction.\n",
      "< sinus rhythm. q waves in ii, iii, avf suggesting old inferior    myocardial infarction.\n",
      "\n",
      "= sinus rhythm av block i p-widening position type normal incomplete right bundle branch block st &amp; t abnormal, probable anterior ischemia or left strain lateral ischemia or left strain inferolateral ischemia or left strain <unk>\n",
      "< supraventricular arrhythmia av block i position type normal incomplete right bundle branch block qrs(t) abnormal inferior myocardial damage possible st &amp; t abnormal, probably anterolateral ischemia or left strain t abnormal in anterior leads 4.4\n",
      "\n",
      "= atrial fibrillation/flutter left type qrs(t) abnormal inferior infarction probable old 4.46 unconfirmed report\n",
      "< supraventricular extrasystole(s) interposed supraventricular extrasystole(s) sinus rhythm left type otherwise normal ecg 4.46 unconfirmed report\n",
      "\n",
      "= trace only requested.\n",
      "< premature ventricular contraction(s). sinus rhythm. incomplete right bundle branch block. non-specific t wave flattening in i and inversion in    avl.\n",
      "\n",
      "= sinus rhythm. prolonged pr interval. r-s transition zone in v leads displaced to the left. voltages are high in limb leads suggesting lvh. st segments are depressed in i, ii, avl, v5,6. t waves are flat in these leads. non-specific but consistent with myo\n",
      "< sinus rhythm. prolonged pr interval. left axis deviation. left anterior fascicular block. voltages are high in limb leads suggesting lvh. qs complexes in v2 and tiny r waves in v3 suggesting old anteroseptal myocardial infarction. st segments are depressed in v5,6. t waves are low or flat in these leads. this may be due to lv strain or ischaemia.\n",
      "\n",
      "= sinus rhythm nonspecific intraventricular conduction disturbance\n",
      "< sinus rhythm normal ecg\n",
      "\n",
      "= sinus rhythm. left bundle branch block, this is most commonly due to    ischaemic heart disease.\n",
      "< sinus rhythm left type left bundle branch block\n",
      "\n",
      "= sinus rhythm left type otherwise normal ecg\n",
      "< sinus rhythm position type normal normal ecg\n",
      "\n",
      "= sinus rhythm left type peripheral low voltage st &amp; t abnormal, possibly new anteroseptal myocardial or pericardial damage\n",
      "< sinus rhythm av block i position type normal peripheral low voltage left bundle branch block 4.46 unconfirmed report\n",
      "\n",
      "= sinus rhythm position type normal normal ecg\n",
      "< sinus rhythm position type normal normal ecg\n",
      "\n",
      "= sinus rhythm. normal ecg. edit: norm 100, (norm 100)\n",
      "< sinus rhythm. normal ecg.\n",
      "\n",
      "= sinus rhythm position type normal qrs(t) abnormal inferior myocardial damage cannot be excluded\n",
      "< sinus rhythm position type normal normal ecg\n",
      "\n",
      "= sinus rhythm overrotated right type incomplete right bundle branch block pathological repolarization st elevation in v2 and v3\n",
      "< sinus rhythm position type normal incomplete right bundle branch block otherwise normal ecg\n",
      "\n",
      "= sinus rhythm suspected p-sinistrocardiale right type left posterior hemiblock\n",
      "< sinus rhythm normal ecg\n",
      "\n",
      "= sinus rhythm suspected p-sinistrocardiale position type normal qrs(t) abnormal inferior myocardial damage possible t abnormal in anterior leads lateral leads\n",
      "< sinus rhythm. st segments are depressed in i, ii, avl, v4,5,6. t waves are inverted in i, avl, v4,5,6. this may be due to lv strain or ischaemia.\n",
      "\n",
      "= probable atrial fibrillation, but no <unk> evidence of p waves or fibrillation waves. non-specific st-t wave changes.\n",
      "< sinus rhythm position type normal peripheral low voltage st &amp; t abnormal, probably inferior ischemia or left strain\n",
      "\n",
      "= atrial fibrillation/flutter position type normal 4.46 unconfirmed report\n",
      "< atrial fibrillation/flutter position type normal 4.46 unconfirmed report\n",
      "\n",
      "= sinus tachycardia position type normal otherwise normal ecg\n",
      "< sinus tachycardia position type normal otherwise normal ecg\n",
      "\n",
      "= sinus rhythm. left anterior fascicular block. t abnormality in inferior and anterolateral leads consistent with left ventricular strain or ischaemia.\n",
      "< sinus rhythm. st segments are depressed in i, avl, v4,5,6. t waves are inverted in v2-5 and flat in ii, v6. findings are likely to be due to ischaemic heart    disease. the age of the changes is uncertain.\n",
      "\n",
      "= sinus rhythm of block in layer type normal\n",
      "< sinus rhythm av block i position type normal qrs(t) abnormal inferior infarction probable old\n",
      "\n",
      "= trace only requested.\n",
      "< sinus rhythm position type normal normal ecg\n",
      "\n",
      "= sinus rhythm p-widening left type st &amp; t abnormal, probably high lateral ischemia or left strain\n",
      "< sinus rhythm left type nonspecific abnormal t\n",
      "\n",
      "= atrial fibrillation with controlled ventricular response rate <unk> per minute. extensive deep anterior t wave <unk> <unk>  suggestive of ischaemia or subendocardial <unk>\n",
      "< atrial fibrillation. qs complexes in v2 suggesting old anteroseptal  myocardial infarction. st segments are depressed and t waves inverted in i,    ii, avl, v4,5,6. this may be due to lv strain or ischaemia.\n"
     ]
    }
   ],
   "source": [
    "encoder.eval()\n",
    "decoder.eval()\n",
    "print_first_n_target_prediction(test_dataloader, encoder, decoder, language)"
   ],
   "metadata": {
    "collapsed": false,
    "ExecuteTime": {
     "end_time": "2024-05-23T13:06:29.079109Z",
     "start_time": "2024-05-23T13:06:28.986898Z"
    }
   },
   "id": "c750b26df2dcd005",
   "execution_count": 10
  },
  {
   "cell_type": "code",
   "outputs": [],
   "source": [],
   "metadata": {
    "collapsed": false,
    "ExecuteTime": {
     "end_time": "2024-05-23T13:06:29.094059Z",
     "start_time": "2024-05-23T13:06:29.080103Z"
    }
   },
   "id": "db8d0fe68802ee3c",
   "execution_count": 10
  }
 ],
 "metadata": {
  "kernelspec": {
   "display_name": "Python 3",
   "language": "python",
   "name": "python3"
  },
  "language_info": {
   "codemirror_mode": {
    "name": "ipython",
    "version": 2
   },
   "file_extension": ".py",
   "mimetype": "text/x-python",
   "name": "python",
   "nbconvert_exporter": "python",
   "pygments_lexer": "ipython2",
   "version": "2.7.6"
  }
 },
 "nbformat": 4,
 "nbformat_minor": 5
}
