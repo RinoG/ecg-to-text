{
 "cells": [
  {
   "cell_type": "code",
   "execution_count": 1,
   "id": "initial_id",
   "metadata": {
    "collapsed": true,
    "ExecuteTime": {
     "end_time": "2023-12-29T14:43:26.651789394Z",
     "start_time": "2023-12-29T14:43:26.359261900Z"
    }
   },
   "outputs": [],
   "source": [
    "import os\n",
    "import wfdb\n",
    "import pandas as pd\n",
    "from concurrent.futures import ThreadPoolExecutor\n"
   ]
  },
  {
   "cell_type": "code",
   "execution_count": 2,
   "outputs": [],
   "source": [
    "os.chdir('..')"
   ],
   "metadata": {
    "collapsed": false,
    "ExecuteTime": {
     "end_time": "2023-12-29T14:43:27.620184893Z",
     "start_time": "2023-12-29T14:43:27.609767623Z"
    }
   },
   "id": "19e200aa9eae299e"
  },
  {
   "cell_type": "code",
   "execution_count": 3,
   "outputs": [],
   "source": [
    "records_file_path = 'cinc-2021_data/RECORDS'\n",
    "\n",
    "with open(records_file_path, 'r') as file:\n",
    "    record_paths = file.read().splitlines()\n",
    "    \n",
    "def get_files(directory):\n",
    "    for f in os.listdir(directory):\n",
    "        if f.endswith('.hea'):\n",
    "            yield directory + f[:-4]\n",
    "\n",
    "all_files = list()\n",
    "for path in record_paths:\n",
    "    all_files.extend(list(get_files('cinc-2021_data/' + path)))"
   ],
   "metadata": {
    "collapsed": false,
    "ExecuteTime": {
     "end_time": "2023-12-29T14:43:28.935218012Z",
     "start_time": "2023-12-29T14:43:28.774096652Z"
    }
   },
   "id": "ebabd4672f9d9983"
  },
  {
   "cell_type": "markdown",
   "source": [
    "# Display recording dict"
   ],
   "metadata": {
    "collapsed": false
   },
   "id": "da92a738ba4e1c98"
  },
  {
   "cell_type": "code",
   "execution_count": 4,
   "outputs": [
    {
     "data": {
      "text/plain": "{'record_name': 'I0007',\n 'n_sig': 12,\n 'fs': 257,\n 'counter_freq': None,\n 'base_counter': None,\n 'sig_len': 462600,\n 'base_time': None,\n 'base_date': None,\n 'comments': ['Age: 80',\n  'Sex: Male',\n  'Dx: 426761007,266257000,164884008',\n  'Rx: Unknown',\n  'Hx: Unknown',\n  'Sx: Unknown'],\n 'sig_name': ['I',\n  'II',\n  'III',\n  'aVR',\n  'aVL',\n  'aVF',\n  'V1',\n  'V2',\n  'V3',\n  'V4',\n  'V5',\n  'V6'],\n 'p_signal': array([[ 1.896, 13.083, 11.758, ..., -2.725,  0.583,  3.729],\n        [ 1.892, 13.083, 11.763, ..., -2.725,  0.583,  3.729],\n        [ 1.888, 13.083, 11.767, ..., -2.725,  0.583,  3.729],\n        ...,\n        [ 4.283,  6.133,  2.421, ...,  4.371,  2.733,  4.375],\n        [ 4.304,  6.15 ,  2.417, ...,  4.375,  2.742,  4.379],\n        [ 4.317,  6.158,  2.413, ...,  4.379,  2.738,  4.379]]),\n 'd_signal': None,\n 'e_p_signal': None,\n 'e_d_signal': None,\n 'file_name': ['I0007.mat',\n  'I0007.mat',\n  'I0007.mat',\n  'I0007.mat',\n  'I0007.mat',\n  'I0007.mat',\n  'I0007.mat',\n  'I0007.mat',\n  'I0007.mat',\n  'I0007.mat',\n  'I0007.mat',\n  'I0007.mat'],\n 'fmt': ['16',\n  '16',\n  '16',\n  '16',\n  '16',\n  '16',\n  '16',\n  '16',\n  '16',\n  '16',\n  '16',\n  '16'],\n 'samps_per_frame': [1, 1, 1, 1, 1, 1, 1, 1, 1, 1, 1, 1],\n 'skew': [None,\n  None,\n  None,\n  None,\n  None,\n  None,\n  None,\n  None,\n  None,\n  None,\n  None,\n  None],\n 'byte_offset': [24, 24, 24, 24, 24, 24, 24, 24, 24, 24, 24, 24],\n 'adc_gain': [1000.0,\n  1000.0,\n  1000.0,\n  1000.0,\n  1000.0,\n  1000.0,\n  1000.0,\n  1000.0,\n  1000.0,\n  1000.0,\n  1000.0,\n  1000.0],\n 'baseline': [0, 0, 0, 0, 0, 0, 0, 0, 0, 0, 0, 0],\n 'units': ['mv',\n  'mv',\n  'mv',\n  'mv',\n  'mv',\n  'mv',\n  'mv',\n  'mv',\n  'mv',\n  'mv',\n  'mv',\n  'mv'],\n 'adc_res': [16, 16, 16, 16, 16, 16, 16, 16, 16, 16, 16, 16],\n 'adc_zero': [0, 0, 0, 0, 0, 0, 0, 0, 0, 0, 0, 0],\n 'init_value': [1896,\n  13083,\n  11758,\n  -8046,\n  -5288,\n  11579,\n  2304,\n  2658,\n  7738,\n  -2725,\n  583,\n  3729],\n 'checksum': [23012,\n  -1833,\n  23109,\n  -21375,\n  -25992,\n  4124,\n  -8579,\n  -11591,\n  28350,\n  -5149,\n  -4271,\n  13824],\n 'block_size': [0, 0, 0, 0, 0, 0, 0, 0, 0, 0, 0, 0]}"
     },
     "execution_count": 4,
     "metadata": {},
     "output_type": "execute_result"
    }
   ],
   "source": [
    "record = wfdb.rdrecord('cinc-2021_data/training/st_petersburg_incart/g1/I0007')\n",
    "record.__dict__"
   ],
   "metadata": {
    "collapsed": false,
    "ExecuteTime": {
     "end_time": "2023-12-29T14:43:30.874469806Z",
     "start_time": "2023-12-29T14:43:30.243703446Z"
    }
   },
   "id": "33a52f5c0599f290"
  },
  {
   "cell_type": "markdown",
   "source": [
    "# Check values in dict"
   ],
   "metadata": {
    "collapsed": false
   },
   "id": "931eece163dd92e2"
  },
  {
   "cell_type": "code",
   "execution_count": 5,
   "outputs": [],
   "source": [
    "def extract_values(record_path):\n",
    "    try:\n",
    "        r = wfdb.rdrecord(record_path)\n",
    "        source = record_path.split('/')[2]\n",
    "        \n",
    "        return r.n_sig, len(r.p_signal[0]), r.fs, r.counter_freq, r.base_counter, r.sig_len, r.base_time,\\\n",
    "               r.base_date, r.d_signal, r.e_p_signal, r.e_d_signal, source\n",
    "    except Exception as e:\n",
    "        print(f\"Error processing {record_path}: {e}\")\n",
    "        return None, None, None, None, None, None, None, None, None, None, None, None"
   ],
   "metadata": {
    "collapsed": false,
    "ExecuteTime": {
     "end_time": "2023-12-29T14:43:32.188454406Z",
     "start_time": "2023-12-29T14:43:32.098646693Z"
    }
   },
   "id": "9bced07c858a14a4"
  },
  {
   "cell_type": "code",
   "execution_count": 6,
   "outputs": [],
   "source": [
    "def process_values_in_records(record_paths, num_threads=10):\n",
    "    with ThreadPoolExecutor(max_workers=num_threads) as executor:\n",
    "        results = list(executor.map(extract_values, record_paths))\n",
    "\n",
    "    # Convert to DataFrame\n",
    "    return pd.DataFrame(results, columns=['n_sig', 'n_p_sig', 'fs', 'counter_freq', 'base_counter', 'sig_len', 'base_time',\n",
    "                                          'base_date', 'd_signal', 'e_p_signal', 'e_d_signal', 'source'])\n",
    "\n",
    "values = process_values_in_records(all_files)"
   ],
   "metadata": {
    "collapsed": false,
    "ExecuteTime": {
     "end_time": "2023-12-29T14:48:05.310200068Z",
     "start_time": "2023-12-29T14:43:32.863893984Z"
    }
   },
   "id": "6a72f8e303161bc9"
  },
  {
   "cell_type": "code",
   "execution_count": 7,
   "outputs": [
    {
     "name": "stdout",
     "output_type": "stream",
     "text": [
      "n_sig unique values:\t\t{12}\n",
      "fs unique values:\t\t\t{1000, 257, 500}\n",
      "counter_freq unique values:\t{None}\n",
      "base_counter unique values:\t{None}\n",
      "base_time unique values:\t{None}\n",
      "base_date unique values:\t{None}\n",
      "d_signal unique values:\t\t{None}\n",
      "e_p_signal unique values:\t{None}\n",
      "e_d_signal unique values:\t{None}\n",
      "\n",
      "sig_len unique value count:\t1969\n"
     ]
    }
   ],
   "source": [
    "print(f\"n_sig unique values:\\t\\t{set(values['n_sig'])}\")\n",
    "print(f\"fs unique values:\\t\\t\\t{set(values['fs'])}\")\n",
    "print(f\"counter_freq unique values:\\t{set(values['counter_freq'])}\")\n",
    "print(f\"base_counter unique values:\\t{set(values['base_counter'])}\")\n",
    "print(f\"base_time unique values:\\t{set(values['base_time'])}\")\n",
    "print(f\"base_date unique values:\\t{set(values['base_date'])}\")\n",
    "print(f\"d_signal unique values:\\t\\t{set(values['d_signal'])}\")\n",
    "print(f\"e_p_signal unique values:\\t{set(values['e_p_signal'])}\")\n",
    "print(f\"e_d_signal unique values:\\t{set(values['e_d_signal'])}\\n\")\n",
    "\n",
    "print(f\"sig_len unique value count:\\t{len(set(values['sig_len']))}\")"
   ],
   "metadata": {
    "collapsed": false,
    "ExecuteTime": {
     "end_time": "2023-12-29T14:48:05.401154231Z",
     "start_time": "2023-12-29T14:48:05.351267429Z"
    }
   },
   "id": "48d19604ba2348b4"
  },
  {
   "cell_type": "markdown",
   "source": [
    "# Check comments"
   ],
   "metadata": {
    "collapsed": false
   },
   "id": "c30b6d404156ddd5"
  },
  {
   "cell_type": "code",
   "execution_count": 8,
   "outputs": [],
   "source": [
    "def extract_comments(record_path):\n",
    "    try:\n",
    "        r = wfdb.rdrecord(record_path)\n",
    "        age, sex, dx, rx, hx, sx = None, None, None, None, None, None\n",
    "        for comment in r.comments:\n",
    "            if comment.startswith('Age'):\n",
    "                age = comment.split(': ')[1]\n",
    "            elif comment.startswith('Sex'):\n",
    "                sex = comment.split(': ')[1]\n",
    "            elif comment.startswith('Dx'):\n",
    "                dx = comment.split(': ')[1]\n",
    "            elif comment.startswith('Rx'):\n",
    "                rx = comment.split(': ')[1]\n",
    "            elif comment.startswith('Hx'):\n",
    "                hx = comment.split(': ')[1]\n",
    "            elif comment.startswith('Sx'):\n",
    "                sx = comment.split(': ')[1]\n",
    "        return age, sex, dx, rx, hx, sx\n",
    "    except Exception as e:\n",
    "        print(f\"Error processing {record_path}: {e}\")\n",
    "        return None, None, None, None, None, None"
   ],
   "metadata": {
    "collapsed": false,
    "ExecuteTime": {
     "end_time": "2023-12-29T14:48:05.402551325Z",
     "start_time": "2023-12-29T14:48:05.399750668Z"
    }
   },
   "id": "c40fbdd3ebb8e5f4"
  },
  {
   "cell_type": "code",
   "execution_count": 9,
   "outputs": [],
   "source": [
    "def process_records(record_paths, num_threads=10):\n",
    "    with ThreadPoolExecutor(max_workers=num_threads) as executor:\n",
    "        results = list(executor.map(extract_comments, record_paths))\n",
    "\n",
    "    # Convert to DataFrame\n",
    "    return pd.DataFrame(results, columns=['age', 'sex', 'dx', 'rx', 'hx', 'sx'])\n",
    "\n",
    "data = process_records(all_files)"
   ],
   "metadata": {
    "collapsed": false,
    "ExecuteTime": {
     "end_time": "2023-12-29T14:52:30.347548908Z",
     "start_time": "2023-12-29T14:48:05.402196930Z"
    }
   },
   "id": "1ec61c83644c16fe"
  },
  {
   "cell_type": "code",
   "execution_count": 10,
   "outputs": [
    {
     "name": "stdout",
     "output_type": "stream",
     "text": [
      "age unique values:\t{'300', '81', '75', '53', '27', '19', '92', '51', '1', '21', '40', '50', '82', '26', '77', '-1', '58', '49', '52', '45', '9', '17', '76', '10', '13', '42', '32', '68', '66', '44', '47', '14', '80', '12', '78', '57', '64', '23', '4', '31', '71', '36', '5', '86', '8', '25', '11', '34', '22', '30', '72', '65', '55', '18', '3', '24', '48', '63', '85', '2', '84', '6', '16', '41', '0', '35', '56', '73', '15', '61', '46', '20', '79', '33', '83', '29', '54', '70', '28', '62', '38', 'NaN', '39', '88', '37', '69', '74', '87', '67', '43', '7', '60', '89', '59'}\n",
      "sex unique values:\t{'Male', 'NaN', 'Female', 'Unknown'}\n",
      "dx unique values:\t{'Male', 'NaN', 'Female', 'Unknown'}\n",
      "rx unique values:\t{'Unknown'}\n",
      "hx unique values:\t{'Unknown', None}\n",
      "sx unique values:\t{'Unknown', None}\n"
     ]
    }
   ],
   "source": [
    "print(f\"age unique values:\\t{set(data['age'])}\")\n",
    "print(f\"sex unique values:\\t{set(data['sex'])}\")\n",
    "print(f\"dx unique values:\\t{set(data['sex'])}\")\n",
    "print(f\"rx unique values:\\t{set(data['rx'])}\")\n",
    "print(f\"hx unique values:\\t{set(data['hx'])}\")\n",
    "print(f\"sx unique values:\\t{set(data['sx'])}\")"
   ],
   "metadata": {
    "collapsed": false,
    "ExecuteTime": {
     "end_time": "2023-12-29T14:52:30.428651839Z",
     "start_time": "2023-12-29T14:52:30.382822418Z"
    }
   },
   "id": "61445726aa5e96e3"
  },
  {
   "cell_type": "markdown",
   "source": [
    "# Check array"
   ],
   "metadata": {
    "collapsed": false
   },
   "id": "d2dbf7854ca76acd"
  },
  {
   "cell_type": "code",
   "execution_count": 11,
   "outputs": [],
   "source": [
    "def extract_array(record_path):\n",
    "    try:\n",
    "        r = wfdb.rdrecord(record_path)\n",
    "        sig_name = set(r.sig_name)\n",
    "        file_name = set(r.file_name)\n",
    "        fmt = set(r.fmt)\n",
    "        samps_per_frame = set(r.samps_per_frame)\n",
    "        skew = set(r.skew)\n",
    "        byte_offset = set(r.byte_offset)\n",
    "        adc_gain = set(r.adc_gain)\n",
    "        baseline = set(r.baseline)\n",
    "        units = set(r.units)\n",
    "        adc_res = set(r.adc_res)\n",
    "        adc_zero = set(r.adc_zero)\n",
    "        block_size = set(r.block_size)\n",
    "        return sig_name, file_name, fmt, samps_per_frame, skew, byte_offset, adc_gain, baseline, units, adc_res, adc_zero, block_size\n",
    "    except Exception as e:\n",
    "        print(f\"Error processing {record_path}: {e}\")\n",
    "        return None, None, None, None, None, None, None, None, None, None, None, None"
   ],
   "metadata": {
    "collapsed": false,
    "ExecuteTime": {
     "end_time": "2023-12-29T14:52:30.429815889Z",
     "start_time": "2023-12-29T14:52:30.419271718Z"
    }
   },
   "id": "fa17c1f0e10de1cd"
  },
  {
   "cell_type": "code",
   "execution_count": 12,
   "outputs": [],
   "source": [
    "def process_arrays_in_records(record_paths, num_threads=10):\n",
    "    with ThreadPoolExecutor(max_workers=num_threads) as executor:\n",
    "        results = list(executor.map(extract_array, record_paths))\n",
    "\n",
    "    # Convert to DataFrame\n",
    "    return pd.DataFrame(results,\n",
    "                        columns=['sig_name', 'file_name', 'fmt', 'samps_per_frame', 'skew', 'byte_offset', 'adc_gain', 'baseline', 'units', 'adc_res', 'adc_zero', 'block_size'])\n",
    "\n",
    "\n",
    "arr = process_arrays_in_records(all_files)\n"
   ],
   "metadata": {
    "collapsed": false,
    "ExecuteTime": {
     "end_time": "2023-12-29T14:56:47.320849807Z",
     "start_time": "2023-12-29T14:52:30.428627190Z"
    }
   },
   "id": "3183f7a769d65be5"
  },
  {
   "cell_type": "code",
   "execution_count": 13,
   "outputs": [
    {
     "name": "stdout",
     "output_type": "stream",
     "text": [
      "sig_name unique values:\t{'III, V2, V1, V4, aVF, V3, aVR, I, V5, II, V6, aVL'}\n",
      "file_name unique values:\t88252\n",
      "fmt unique values:\t{'16'}\n",
      "samps_per_frame unique values:\t{'1'}\n",
      "skew unique values:\t{'None'}\n",
      "byte_offset unique values:\t{'24'}\n",
      "adc_gain unique values:\t{'1000.0'}\n",
      "baseline unique values:\t{'0'}\n",
      "units unique values:\t{'mV', 'mv'}\n",
      "adc_res unique values:\t{'16'}\n",
      "adc_zero unique values:\t{'0'}\n",
      "block_size unique values:\t{'0'}\n"
     ]
    }
   ],
   "source": [
    "print(f\"sig_name unique values:\\t{set(arr['sig_name'].apply(lambda x: ', '.join(map(str, x))))}\")\n",
    "print(f\"file_name unique values:\\t{len(set(arr['file_name'].apply(lambda x: ', '.join(map(str, x)))))}\")\n",
    "print(f\"fmt unique values:\\t{set(arr['fmt'].apply(lambda x: ', '.join(map(str, x))))}\")\n",
    "print(f\"samps_per_frame unique values:\\t{set(arr['samps_per_frame'].apply(lambda x: ', '.join(map(str, x))))}\")\n",
    "print(f\"skew unique values:\\t{set(arr['skew'].apply(lambda x: ', '.join(map(str, x))))}\")\n",
    "print(f\"byte_offset unique values:\\t{set(arr['byte_offset'].apply(lambda x: ', '.join(map(str, x))))}\")\n",
    "print(f\"adc_gain unique values:\\t{set(arr['adc_gain'].apply(lambda x: ', '.join(map(str, x))))}\")\n",
    "print(f\"baseline unique values:\\t{set(arr['baseline'].apply(lambda x: ', '.join(map(str, x))))}\")\n",
    "print(f\"units unique values:\\t{set(arr['units'].apply(lambda x: ', '.join(map(str, x))))}\")\n",
    "print(f\"adc_res unique values:\\t{set(arr['adc_res'].apply(lambda x: ', '.join(map(str, x))))}\")\n",
    "print(f\"adc_zero unique values:\\t{set(arr['adc_zero'].apply(lambda x: ', '.join(map(str, x))))}\")\n",
    "print(f\"block_size unique values:\\t{set(arr['block_size'].apply(lambda x: ', '.join(map(str, x))))}\")"
   ],
   "metadata": {
    "collapsed": false,
    "ExecuteTime": {
     "end_time": "2023-12-29T14:56:48.359441819Z",
     "start_time": "2023-12-29T14:56:47.532620954Z"
    }
   },
   "id": "15e2d4406f8ee283"
  },
  {
   "cell_type": "markdown",
   "source": [
    "# Data Source distribution"
   ],
   "metadata": {
    "collapsed": false
   },
   "id": "7578f08fbda66531"
  },
  {
   "cell_type": "code",
   "outputs": [],
   "source": [
    "import matplotlib.pyplot as plt\n",
    "import numpy as np"
   ],
   "metadata": {
    "collapsed": false,
    "ExecuteTime": {
     "end_time": "2023-12-29T14:56:49.154640756Z",
     "start_time": "2023-12-29T14:56:48.355475374Z"
    }
   },
   "id": "64338aac7d2be1c1",
   "execution_count": 14
  },
  {
   "cell_type": "code",
   "outputs": [],
   "source": [
    "data = process_values_in_records(all_files)"
   ],
   "metadata": {
    "collapsed": false,
    "ExecuteTime": {
     "end_time": "2023-12-29T15:01:04.258011582Z",
     "start_time": "2023-12-29T14:56:49.156520540Z"
    }
   },
   "id": "1e61b192c7b90a55",
   "execution_count": 15
  },
  {
   "cell_type": "code",
   "outputs": [
    {
     "name": "stdout",
     "output_type": "stream",
     "text": [
      "total data: 88252\n"
     ]
    },
    {
     "data": {
      "text/plain": "source                fs  \nchapman_shaoxing      500     10247\ncpsc_2018             500      6877\ncpsc_2018_extra       500      3453\ngeorgia               500     10344\nningbo                500     34904\nptb                   1000      516\nptb-xl                500     21837\nst_petersburg_incart  257        74\nName: count, dtype: int64"
     },
     "execution_count": 16,
     "metadata": {},
     "output_type": "execute_result"
    }
   ],
   "source": [
    "print(f\"total data: {len(data)}\")\n",
    "data.groupby('source')['fs'].value_counts()"
   ],
   "metadata": {
    "collapsed": false,
    "ExecuteTime": {
     "end_time": "2023-12-29T15:01:04.300566676Z",
     "start_time": "2023-12-29T15:01:04.299323489Z"
    }
   },
   "id": "a915fae2e83be908",
   "execution_count": 16
  },
  {
   "cell_type": "code",
   "outputs": [
    {
     "data": {
      "text/plain": "<Figure size 640x480 with 1 Axes>",
      "image/png": "[encoded data removed]"
     },
     "metadata": {},
     "output_type": "display_data"
    }
   ],
   "source": [
    "new_data = data.loc[data['source'] != 'ptb']\n",
    "new_data = new_data.loc[data['source'] != 'st_petersburg_incart']\n",
    "def categorize_sig_len(x):\n",
    "    if x < 5000:\n",
    "        return 'below 5000'\n",
    "    elif x == 5000:\n",
    "        return '5000'\n",
    "    else:\n",
    "        return 'above 5000'\n",
    "\n",
    "new_data['sig_len_category'] = data['sig_len'].apply(categorize_sig_len)\n",
    "\n",
    "value_counts_per_source = new_data.groupby(['source', 'sig_len_category']).size().unstack().fillna(0)\n",
    "\n",
    "# Plotting\n",
    "value_counts_per_source.plot(kind='bar', stacked=False)\n",
    "plt.legend(title='sig_len_category', bbox_to_anchor=(1.05, 1), loc='upper left')\n",
    "\n",
    "plt.title('Signal length per Source')\n",
    "plt.xlabel('Source')\n",
    "plt.ylabel('Count')\n",
    "plt.yscale('log')\n",
    "\n",
    "plt.xticks(rotation=45, ha='right')\n",
    "plt.show()"
   ],
   "metadata": {
    "collapsed": false,
    "ExecuteTime": {
     "end_time": "2023-12-29T15:01:04.836241129Z",
     "start_time": "2023-12-29T15:01:04.299532828Z"
    }
   },
   "id": "8c6d5b1e0b93046",
   "execution_count": 17
  },
  {
   "cell_type": "code",
   "outputs": [
    {
     "data": {
      "text/plain": "sig_len_category     5000  above 5000  below 5000\nsource                                           \nchapman_shaoxing  10247.0         0.0         0.0\ncpsc_2018          2416.0      4451.0        10.0\ncpsc_2018_extra    1403.0      2038.0        12.0\ngeorgia           10292.0         0.0        52.0\nningbo            34904.0         0.0         0.0\nptb-xl            21837.0         0.0         0.0",
      "text/html": "<div>\n<style scoped>\n    .dataframe tbody tr th:only-of-type {\n        vertical-align: middle;\n    }\n\n    .dataframe tbody tr th {\n        vertical-align: top;\n    }\n\n    .dataframe thead th {\n        text-align: right;\n    }\n</style>\n<table border=\"1\" class=\"dataframe\">\n  <thead>\n    <tr style=\"text-align: right;\">\n      <th>sig_len_category</th>\n      <th>5000</th>\n      <th>above 5000</th>\n      <th>below 5000</th>\n    </tr>\n    <tr>\n      <th>source</th>\n      <th></th>\n      <th></th>\n      <th></th>\n    </tr>\n  </thead>\n  <tbody>\n    <tr>\n      <th>chapman_shaoxing</th>\n      <td>10247.0</td>\n      <td>0.0</td>\n      <td>0.0</td>\n    </tr>\n    <tr>\n      <th>cpsc_2018</th>\n      <td>2416.0</td>\n      <td>4451.0</td>\n      <td>10.0</td>\n    </tr>\n    <tr>\n      <th>cpsc_2018_extra</th>\n      <td>1403.0</td>\n      <td>2038.0</td>\n      <td>12.0</td>\n    </tr>\n    <tr>\n      <th>georgia</th>\n      <td>10292.0</td>\n      <td>0.0</td>\n      <td>52.0</td>\n    </tr>\n    <tr>\n      <th>ningbo</th>\n      <td>34904.0</td>\n      <td>0.0</td>\n      <td>0.0</td>\n    </tr>\n    <tr>\n      <th>ptb-xl</th>\n      <td>21837.0</td>\n      <td>0.0</td>\n      <td>0.0</td>\n    </tr>\n  </tbody>\n</table>\n</div>"
     },
     "execution_count": 18,
     "metadata": {},
     "output_type": "execute_result"
    }
   ],
   "source": [
    "value_counts_per_source"
   ],
   "metadata": {
    "collapsed": false,
    "ExecuteTime": {
     "end_time": "2023-12-29T15:01:04.847610068Z",
     "start_time": "2023-12-29T15:01:04.837944195Z"
    }
   },
   "id": "94a92d9ee9c68121",
   "execution_count": 18
  },
  {
   "cell_type": "code",
   "outputs": [
    {
     "data": {
      "text/plain": "<Figure size 1000x600 with 1 Axes>",
      "image/png": "[encoded data removed]"
     },
     "metadata": {},
     "output_type": "display_data"
    }
   ],
   "source": [
    "# Filter the DataFrame to include only the specified sources\n",
    "filtered_df = data[data['source'].isin(['cpsc_2018', 'cpsc_2018_extra', 'georgia'])]\n",
    "\n",
    "# Plotting a histogram for the specified sources\n",
    "plt.figure(figsize=(10, 6))\n",
    "for source in filtered_df['source'].unique():\n",
    "    # Select the sig_len for the current source\n",
    "    subset = filtered_df[filtered_df['source'] == source]['sig_len']\n",
    "    plt.hist(subset, bins=15, alpha=0.5, label=source)\n",
    "\n",
    "plt.title('Histogram of sig_len for Selected Sources')\n",
    "plt.xlabel('sig_len')\n",
    "plt.ylabel('Count')\n",
    "plt.yscale('log')\n",
    "plt.legend()\n",
    "plt.show()"
   ],
   "metadata": {
    "collapsed": false,
    "ExecuteTime": {
     "end_time": "2023-12-29T15:01:05.339727463Z",
     "start_time": "2023-12-29T15:01:04.857161212Z"
    }
   },
   "id": "665b8a6491ee9435",
   "execution_count": 19
  },
  {
   "cell_type": "code",
   "outputs": [],
   "source": [],
   "metadata": {
    "collapsed": false,
    "ExecuteTime": {
     "end_time": "2023-12-29T15:01:05.340543897Z",
     "start_time": "2023-12-29T15:01:05.308677200Z"
    }
   },
   "id": "bfdb84d7f78adad3",
   "execution_count": 19
  }
 ],
 "metadata": {
  "kernelspec": {
   "display_name": "Python 3",
   "language": "python",
   "name": "python3"
  },
  "language_info": {
   "codemirror_mode": {
    "name": "ipython",
    "version": 2
   },
   "file_extension": ".py",
   "mimetype": "text/x-python",
   "name": "python",
   "nbconvert_exporter": "python",
   "pygments_lexer": "ipython2",
   "version": "2.7.6"
  }
 },
 "nbformat": 4,
 "nbformat_minor": 5
}
