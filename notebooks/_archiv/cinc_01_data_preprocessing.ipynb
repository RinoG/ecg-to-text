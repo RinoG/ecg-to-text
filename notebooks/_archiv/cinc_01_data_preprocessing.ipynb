{
 "cells": [
  {
   "cell_type": "markdown",
   "source": [
    "# CinC-2021 \n",
    "## Train - Val - Test Split\n"
   ],
   "metadata": {
    "collapsed": false
   },
   "id": "138ef81cd8c952bc"
  },
  {
   "cell_type": "code",
   "execution_count": 1,
   "outputs": [],
   "source": [
    "import os\n",
    "import random\n",
    "\n",
    "import numpy as np\n",
    "import wfdb\n",
    "import pandas as pd"
   ],
   "metadata": {
    "collapsed": false,
    "ExecuteTime": {
     "end_time": "2023-12-29T09:04:51.525042445Z",
     "start_time": "2023-12-29T09:04:51.505706075Z"
    }
   },
   "id": "dbbb7250d6c60f6d"
  },
  {
   "cell_type": "code",
   "execution_count": 2,
   "outputs": [],
   "source": [
    "os.chdir('..')"
   ],
   "metadata": {
    "collapsed": false,
    "ExecuteTime": {
     "end_time": "2023-12-29T09:04:51.531238169Z",
     "start_time": "2023-12-29T09:04:51.525678638Z"
    }
   },
   "id": "9b964d55f650b393"
  },
  {
   "cell_type": "code",
   "execution_count": 3,
   "outputs": [],
   "source": [
    "records_file_path = 'cinc-2021_data/RECORDS'\n",
    "\n",
    "with open(records_file_path, 'r') as file:\n",
    "    record_paths = file.read().splitlines()"
   ],
   "metadata": {
    "collapsed": false,
    "ExecuteTime": {
     "end_time": "2023-12-29T09:04:51.961813334Z",
     "start_time": "2023-12-29T09:04:51.902455205Z"
    }
   },
   "id": "729ee533c85ec971"
  },
  {
   "cell_type": "code",
   "execution_count": 4,
   "outputs": [],
   "source": [
    "def get_files(directory):\n",
    "    for f in os.listdir(directory):\n",
    "        if f.endswith('.hea'):\n",
    "            yield directory + f[:-4]"
   ],
   "metadata": {
    "collapsed": false,
    "ExecuteTime": {
     "end_time": "2023-12-29T09:04:52.493301009Z",
     "start_time": "2023-12-29T09:04:52.489125535Z"
    }
   },
   "id": "6e15789fc7660993"
  },
  {
   "cell_type": "code",
   "execution_count": 5,
   "outputs": [],
   "source": [
    "not_used_sources = {'ptb', 'st_petersburg_incart'}\n",
    "all_files = list()\n",
    "for path in record_paths:\n",
    "    path_components = set(path.split('/'))\n",
    "    if not not_used_sources & path_components:\n",
    "        all_files.extend(list(get_files('cinc-2021_data/' + path)))"
   ],
   "metadata": {
    "collapsed": false,
    "ExecuteTime": {
     "end_time": "2023-12-29T09:04:56.486878977Z",
     "start_time": "2023-12-29T09:04:56.371769363Z"
    }
   },
   "id": "d7c2bed68127aa2e"
  },
  {
   "cell_type": "code",
   "execution_count": 6,
   "outputs": [],
   "source": [
    "random.seed(42)\n",
    "random.shuffle(all_files)\n",
    "\n",
    "# Split into train, val, test\n",
    "train_split = int(0.6 * len(all_files))\n",
    "val_split = int(0.8 * len(all_files))\n",
    "\n",
    "train_files = all_files[:train_split]\n",
    "val_files = all_files[train_split:val_split]\n",
    "test_files = all_files[val_split:]"
   ],
   "metadata": {
    "collapsed": false,
    "ExecuteTime": {
     "end_time": "2023-12-29T09:04:57.009173385Z",
     "start_time": "2023-12-29T09:04:56.973116294Z"
    }
   },
   "id": "ae51cfc50193f9ad"
  },
  {
   "cell_type": "markdown",
   "source": [
    "## Extract data for data visualization\n",
    "todo: check dx mapping"
   ],
   "metadata": {
    "collapsed": false
   },
   "id": "9f8840a5ac356a83"
  },
  {
   "cell_type": "code",
   "execution_count": 7,
   "outputs": [],
   "source": [
    "# Dx mapping\n",
    "# https://www.kaggle.com/datasets/bjoernjostein/physionet-snomed-mappings\n",
    "dx_mapping_df = pd.read_csv('cinc-2021_data/dx_mapping.csv')\n",
    "dx_mapping_dict = (pd.Series(\n",
    "    dx_mapping_df['Abbreviation'].values, \n",
    "    index=dx_mapping_df['SNOMED CT Code'].astype(str)).to_dict())"
   ],
   "metadata": {
    "collapsed": false,
    "ExecuteTime": {
     "end_time": "2023-12-29T09:04:59.202072449Z",
     "start_time": "2023-12-29T09:04:59.191952243Z"
    }
   },
   "id": "3b3f79f690f3dee"
  },
  {
   "cell_type": "code",
   "execution_count": 8,
   "outputs": [],
   "source": [
    "def extract_record_data_to_csv(record_path, filename):\n",
    "    try:\n",
    "        record = wfdb.rdrecord(record_path)\n",
    "\n",
    "        # Extract Comment\n",
    "        age, sex, dx = None, None, None\n",
    "        for comment in record.comments:\n",
    "            if comment.startswith('Age'):\n",
    "                age = comment.split(': ')[1]\n",
    "            elif comment.startswith('Sex'):\n",
    "                sex = comment.split(': ')[1]\n",
    "                if pd.isna(sex):\n",
    "                    sex = 'Unknown'\n",
    "            elif comment.startswith('Dx'):\n",
    "                dx_code = comment.split(': ')[1].split(',')\n",
    "                dx = [dx_mapping_dict[code] for code in dx_code\n",
    "                      if code in dx_mapping_dict]\n",
    "        \n",
    "        \n",
    "        record_name = record.record_name\n",
    "        source = record_path.split('/')[2]\n",
    "        fs = record.fs\n",
    "        sig_len = record.sig_len\n",
    "        \n",
    "        with open(f'cinc-2021_data/preprocessed/{filename}', 'a') as f:\n",
    "            f.write(f'{record_name},{source},{age},{sex},\"{dx}\",{sig_len},{fs}\\n')\n",
    "\n",
    "    except Exception as e:\n",
    "        print(f\"Error processing {record_path}: {e}\")"
   ],
   "metadata": {
    "collapsed": false,
    "ExecuteTime": {
     "end_time": "2023-12-29T09:05:04.650784616Z",
     "start_time": "2023-12-29T09:05:04.624791954Z"
    }
   },
   "id": "68f2294c5470a73a"
  },
  {
   "cell_type": "code",
   "execution_count": 9,
   "outputs": [],
   "source": [
    "# save data to csv\n",
    "filename = 'patient_data.csv'\n",
    "with open(f'cinc-2021_data/preprocessed/{filename}', 'w') as f:\n",
    "    f.write(f'Record,Source,Age,Sex,Diagnoses,Signal Length,Sample Frequency\\n')\n",
    "\n",
    "for f in train_files + val_files:\n",
    "    extract_record_data_to_csv(f, filename)"
   ],
   "metadata": {
    "collapsed": false,
    "ExecuteTime": {
     "end_time": "2023-12-29T09:08:56.367411346Z",
     "start_time": "2023-12-29T09:05:19.232914149Z"
    }
   },
   "id": "38d46bac16ff4129"
  },
  {
   "cell_type": "markdown",
   "source": [
    "## Extract ecg signal (X)\n",
    "Maybe also apply signal preprocessing here "
   ],
   "metadata": {
    "collapsed": false
   },
   "id": "3c9fd8606c6ae6c"
  },
  {
   "cell_type": "code",
   "execution_count": 25,
   "outputs": [],
   "source": [
    "def extract_signal_to_csv(record_path, filename):\n",
    "    try:\n",
    "        record = wfdb.rdrecord(record_path)\n",
    "\n",
    "        record_name = record.record_name\n",
    "        fs = record.fs\n",
    "        ecg_signal = '|'.join([';'.join([str(i) for i in j]) for j in record.p_signal])\n",
    "        \n",
    "        with open(f'cinc-2021_data/preprocessed/{filename}', 'a') as f:\n",
    "            f.write(f\"{record_name},{fs},{ecg_signal}\\n\")\n",
    "\n",
    "    except Exception as e:\n",
    "        print(f\"Error processing {record_path}: {e}\")"
   ],
   "metadata": {
    "collapsed": false,
    "ExecuteTime": {
     "end_time": "2023-12-27T10:37:51.237895624Z",
     "start_time": "2023-12-27T10:37:51.234962854Z"
    }
   },
   "id": "b19708e27033fca6"
  },
  {
   "cell_type": "code",
   "execution_count": 26,
   "outputs": [],
   "source": [
    "# save train data to csv\n",
    "filename = 'X_train.csv'\n",
    "with open(f'cinc-2021_data/preprocessed/{filename}', 'w') as f:\n",
    "    f.write(f'Record,Sample Frequency,ECG Signal\\n')\n",
    "\n",
    "for f in train_files:\n",
    "    extract_signal_to_csv(f, filename)"
   ],
   "metadata": {
    "collapsed": false,
    "ExecuteTime": {
     "end_time": "2023-12-27T11:01:17.030448882Z",
     "start_time": "2023-12-27T10:37:51.235111225Z"
    }
   },
   "id": "284f0c97944049b0"
  },
  {
   "cell_type": "code",
   "execution_count": 27,
   "outputs": [],
   "source": [
    "# save val data to csv\n",
    "filename = 'X_val.csv'\n",
    "with open(f'cinc-2021_data/preprocessed/{filename}', 'w') as f:\n",
    "    f.write(f'Record,Sample Frequency,ECG Signal\\n')\n",
    "\n",
    "for f in val_files:\n",
    "    extract_signal_to_csv(f, filename)"
   ],
   "metadata": {
    "collapsed": false,
    "ExecuteTime": {
     "end_time": "2023-12-27T11:09:00.730933426Z",
     "start_time": "2023-12-27T11:01:17.030230860Z"
    }
   },
   "id": "ade7bf855555745e"
  },
  {
   "cell_type": "code",
   "execution_count": 28,
   "outputs": [],
   "source": [
    "# save test data to csv\n",
    "filename = 'X_test.csv'\n",
    "with open(f'cinc-2021_data/preprocessed/{filename}', 'w') as f:\n",
    "    f.write(f'Record,Sample Frequency,ECG Signal\\n')\n",
    "\n",
    "for f in test_files:\n",
    "    extract_signal_to_csv(f, filename)"
   ],
   "metadata": {
    "collapsed": false,
    "ExecuteTime": {
     "end_time": "2023-12-27T11:16:50.467547323Z",
     "start_time": "2023-12-27T11:09:00.730801371Z"
    }
   },
   "id": "70ea3f1f1e9e9089"
  },
  {
   "cell_type": "markdown",
   "source": [
    "## Extract diagnose (y)"
   ],
   "metadata": {
    "collapsed": false
   },
   "id": "bdb00e0b6c2b990a"
  },
  {
   "cell_type": "code",
   "execution_count": 29,
   "outputs": [],
   "source": [
    "def extract_diagnose_to_csv(record_path, filename):\n",
    "    try:\n",
    "        record = wfdb.rdrecord(record_path)\n",
    "\n",
    "        # Extract Comment\n",
    "        diagnoses = None\n",
    "        for comment in record.comments:\n",
    "            if comment.startswith('Dx'):\n",
    "                diagnoses = comment.split(': ')[1].split(',')\n",
    "        \n",
    "        \n",
    "        record_name = record.record_name\n",
    "        \n",
    "        with open(f'cinc-2021_data/preprocessed/{filename}', 'a') as f:\n",
    "            f.write(f\"{record_name},{diagnoses}\\n\")\n",
    "\n",
    "    except Exception as e:\n",
    "        print(f\"Error processing {record_path}: {e}\")"
   ],
   "metadata": {
    "collapsed": false,
    "ExecuteTime": {
     "end_time": "2023-12-27T11:16:50.511597593Z",
     "start_time": "2023-12-27T11:16:50.510759215Z"
    }
   },
   "id": "284cbcfda42a2251"
  },
  {
   "cell_type": "code",
   "execution_count": 30,
   "outputs": [],
   "source": [
    "# save train data to csv\n",
    "filename = 'Y_train.csv'\n",
    "with open(f'cinc-2021_data/preprocessed/{filename}', 'w') as f:\n",
    "    f.write(f'Record,Diagnoses\\n')\n",
    "\n",
    "for f in train_files:\n",
    "    extract_diagnose_to_csv(f, filename)"
   ],
   "metadata": {
    "collapsed": false,
    "ExecuteTime": {
     "end_time": "2023-12-27T11:19:37.918324421Z",
     "start_time": "2023-12-27T11:16:50.510957064Z"
    }
   },
   "id": "17530cf1b85c6e6a"
  },
  {
   "cell_type": "code",
   "execution_count": 31,
   "outputs": [],
   "source": [
    "# save val data to csv\n",
    "filename = 'Y_val.csv'\n",
    "with open(f'cinc-2021_data/preprocessed/{filename}', 'w') as f:\n",
    "    f.write(f'Record,Diagnoses\\n')\n",
    "\n",
    "for f in val_files:\n",
    "    extract_diagnose_to_csv(f, filename)"
   ],
   "metadata": {
    "collapsed": false,
    "ExecuteTime": {
     "end_time": "2023-12-27T11:20:33.347140688Z",
     "start_time": "2023-12-27T11:19:37.920051063Z"
    }
   },
   "id": "6d2e719fbe1c66c0"
  },
  {
   "cell_type": "code",
   "execution_count": 32,
   "outputs": [],
   "source": [
    "# save test data to csv\n",
    "filename = 'Y_test.csv'\n",
    "with open(f'cinc-2021_data/preprocessed/{filename}', 'w') as f:\n",
    "    f.write(f'Record,Diagnoses\\n')\n",
    "\n",
    "for f in test_files:\n",
    "    extract_diagnose_to_csv(f, filename)"
   ],
   "metadata": {
    "collapsed": false,
    "ExecuteTime": {
     "end_time": "2023-12-27T11:21:29.204456932Z",
     "start_time": "2023-12-27T11:20:33.349234909Z"
    }
   },
   "id": "e1e80e28f0d893ab"
  },
  {
   "cell_type": "code",
   "execution_count": 32,
   "outputs": [],
   "source": [],
   "metadata": {
    "collapsed": false,
    "ExecuteTime": {
     "end_time": "2023-12-27T11:21:29.255296048Z",
     "start_time": "2023-12-27T11:21:29.247177454Z"
    }
   },
   "id": "1d12782f1dcd370e"
  },
  {
   "cell_type": "code",
   "execution_count": 32,
   "outputs": [],
   "source": [],
   "metadata": {
    "collapsed": false,
    "ExecuteTime": {
     "end_time": "2023-12-27T11:21:29.256052649Z",
     "start_time": "2023-12-27T11:21:29.247775874Z"
    }
   },
   "id": "c5883e34fb607de4"
  },
  {
   "cell_type": "code",
   "execution_count": null,
   "outputs": [],
   "source": [],
   "metadata": {
    "collapsed": false
   },
   "id": "be8712bbcf942d0"
  },
  {
   "cell_type": "code",
   "execution_count": 68,
   "outputs": [],
   "source": [
    "# convert array to string\n",
    "a = '|'.join([';'.join([str(i) for i in j]) for j in record.p_signal])"
   ],
   "metadata": {
    "collapsed": false,
    "ExecuteTime": {
     "end_time": "2023-12-19T22:38:10.601793892Z",
     "start_time": "2023-12-19T22:38:10.549518402Z"
    }
   },
   "id": "fb1f132dc8b87d41"
  },
  {
   "cell_type": "code",
   "execution_count": null,
   "outputs": [],
   "source": [
    "# convert string to array\n",
    "np.array([x.split(';') for x in a.split('|')]).shape"
   ],
   "metadata": {
    "collapsed": false
   },
   "id": "60fd25bf25c8ea88"
  },
  {
   "cell_type": "code",
   "execution_count": null,
   "outputs": [],
   "source": [],
   "metadata": {
    "collapsed": false
   },
   "id": "592fd2b4cdd4c5ad"
  }
 ],
 "metadata": {
  "kernelspec": {
   "display_name": "Python 3",
   "language": "python",
   "name": "python3"
  },
  "language_info": {
   "codemirror_mode": {
    "name": "ipython",
    "version": 2
   },
   "file_extension": ".py",
   "mimetype": "text/x-python",
   "name": "python",
   "nbconvert_exporter": "python",
   "pygments_lexer": "ipython2",
   "version": "2.7.6"
  }
 },
 "nbformat": 4,
 "nbformat_minor": 5
}
