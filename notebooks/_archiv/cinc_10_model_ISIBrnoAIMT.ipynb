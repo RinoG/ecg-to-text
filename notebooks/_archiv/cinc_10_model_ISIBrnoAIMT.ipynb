{
 "cells": [
  {
   "cell_type": "markdown",
   "source": [
    "# ISIBrno-AIMT\n",
    "ISIBrno-AIMT is the winner of the [Will Two Do?](https://physionet.org/content/challenge-2021/1.0.3/sources/) challenge from [physionet.org](https://physionet.org/) \n",
    "\n",
    "[Source Code](https://physionet.org/static/published-projects/challenge-2021/1.0.3/sources/ISIBrnoAIMT.zip)\n",
    "[Paper](https://www.cinc.org/archives/2021/pdf/CinC2021-014.pdf)\n",
    "[leaderboard](https://moody-challenge.physionet.org/2021/results/)"
   ],
   "metadata": {
    "collapsed": false
   },
   "id": "a195e52a52decb2a"
  },
  {
   "cell_type": "markdown",
   "source": [
    "## training metrics"
   ],
   "metadata": {
    "collapsed": false
   },
   "id": "482c853e9bb0bfb4"
  },
  {
   "cell_type": "code",
   "outputs": [],
   "source": [
    "import pickle\n",
    "import os\n",
    "import pandas as pd\n",
    "from sklearn.metrics import f1_score, jaccard_score"
   ],
   "metadata": {
    "collapsed": true,
    "ExecuteTime": {
     "end_time": "2024-04-02T15:31:46.131105Z",
     "start_time": "2024-04-02T15:31:41.260525Z"
    }
   },
   "id": "initial_id",
   "execution_count": 1
  },
  {
   "cell_type": "code",
   "outputs": [],
   "source": [
    "os.chdir('../../models/m01_ISIBrnoAIMT')"
   ],
   "metadata": {
    "collapsed": false,
    "ExecuteTime": {
     "end_time": "2024-04-02T15:31:46.146282Z",
     "start_time": "2024-04-02T15:31:46.132165Z"
    }
   },
   "id": "5b78b990737513dc",
   "execution_count": 2
  },
  {
   "cell_type": "code",
   "outputs": [
    {
     "name": "stdout",
     "output_type": "stream",
     "text": [
      "Train AUPRC: 0.5255549373636326\n",
      "Valid AUPRC: 0.4905013668902438\n"
     ]
    }
   ],
   "source": [
    "with open('model_output/PROGRESS_0.pickle', 'rb') as file:\n",
    "    model_data = pickle.load(file)   \n",
    "print(f\"Train AUPRC: {model_data[-1]['train_auprc']}\")\n",
    "print(f\"Valid AUPRC: {model_data[-1]['valid_auprc']}\")"
   ],
   "metadata": {
    "collapsed": false,
    "ExecuteTime": {
     "end_time": "2024-04-02T15:31:52.634533Z",
     "start_time": "2024-04-02T15:31:46.147279Z"
    }
   },
   "id": "fc8b855ec2004446",
   "execution_count": 3
  },
  {
   "cell_type": "code",
   "outputs": [
    {
     "name": "stdout",
     "output_type": "stream",
     "text": [
      "F1: 0.693\n",
      "IOU: 0.57\n"
     ]
    }
   ],
   "source": [
    "pred = (model_data[-1]['valid_outputs'] >= 0.5).astype(int)\n",
    "y = model_data[-1]['valid_targets']\n",
    "\n",
    "f1 = f1_score(y, pred, average='weighted')\n",
    "iou = jaccard_score(y, pred, average='weighted')\n",
    "\n",
    "print(f'F1: {round(f1, 3)}\\nIOU: {round(iou, 3)}')"
   ],
   "metadata": {
    "collapsed": false,
    "ExecuteTime": {
     "end_time": "2024-04-02T15:31:52.695368Z",
     "start_time": "2024-04-02T15:31:52.635531Z"
    }
   },
   "id": "d33f89aa3f2bdcd",
   "execution_count": 4
  },
  {
   "cell_type": "code",
   "outputs": [
    {
     "data": {
      "text/plain": "                                                  Dx        f1\n0                                atrial fibrillation  0.510420\n1                                     atrial flutter  0.719806\n2                                bundle branch block  0.000000\n3                                        bradycardia  0.000000\n4                  complete left bundle branch block  0.560920\n5                 complete right bundle branch block  0.727837\n6                                1st degree av block  0.598214\n7               incomplete right bundle branch block  0.429167\n8                                left axis deviation  0.716233\n9                     left anterior fascicular block  0.554600\n10                             prolonged pr interval  0.000000\n11                                  low qrs voltages  0.196413\n12                             prolonged qt interval  0.336071\n13  nonspecific intraventricular conduction disorder  0.308621\n14                                      sinus rhythm  0.861461\n15                      premature atrial contraction  0.576107\n16                                     pacing rhythm  0.784024\n17                           poor R wave Progression  0.159705\n18                premature ventricular contractions  0.500426\n19                                    qwave abnormal  0.000000\n20                              right axis deviation  0.475664\n21                                  sinus arrhythmia  0.641073\n22                                 sinus bradycardia  0.941908\n23                                 sinus tachycardia  0.853173\n24                                   t wave abnormal  0.513121\n25                                  t wave inversion  0.326597",
      "text/html": "<div>\n<style scoped>\n    .dataframe tbody tr th:only-of-type {\n        vertical-align: middle;\n    }\n\n    .dataframe tbody tr th {\n        vertical-align: top;\n    }\n\n    .dataframe thead th {\n        text-align: right;\n    }\n</style>\n<table border=\"1\" class=\"dataframe\">\n  <thead>\n    <tr style=\"text-align: right;\">\n      <th></th>\n      <th>Dx</th>\n      <th>f1</th>\n    </tr>\n  </thead>\n  <tbody>\n    <tr>\n      <th>0</th>\n      <td>atrial fibrillation</td>\n      <td>0.510420</td>\n    </tr>\n    <tr>\n      <th>1</th>\n      <td>atrial flutter</td>\n      <td>0.719806</td>\n    </tr>\n    <tr>\n      <th>2</th>\n      <td>bundle branch block</td>\n      <td>0.000000</td>\n    </tr>\n    <tr>\n      <th>3</th>\n      <td>bradycardia</td>\n      <td>0.000000</td>\n    </tr>\n    <tr>\n      <th>4</th>\n      <td>complete left bundle branch block</td>\n      <td>0.560920</td>\n    </tr>\n    <tr>\n      <th>5</th>\n      <td>complete right bundle branch block</td>\n      <td>0.727837</td>\n    </tr>\n    <tr>\n      <th>6</th>\n      <td>1st degree av block</td>\n      <td>0.598214</td>\n    </tr>\n    <tr>\n      <th>7</th>\n      <td>incomplete right bundle branch block</td>\n      <td>0.429167</td>\n    </tr>\n    <tr>\n      <th>8</th>\n      <td>left axis deviation</td>\n      <td>0.716233</td>\n    </tr>\n    <tr>\n      <th>9</th>\n      <td>left anterior fascicular block</td>\n      <td>0.554600</td>\n    </tr>\n    <tr>\n      <th>10</th>\n      <td>prolonged pr interval</td>\n      <td>0.000000</td>\n    </tr>\n    <tr>\n      <th>11</th>\n      <td>low qrs voltages</td>\n      <td>0.196413</td>\n    </tr>\n    <tr>\n      <th>12</th>\n      <td>prolonged qt interval</td>\n      <td>0.336071</td>\n    </tr>\n    <tr>\n      <th>13</th>\n      <td>nonspecific intraventricular conduction disorder</td>\n      <td>0.308621</td>\n    </tr>\n    <tr>\n      <th>14</th>\n      <td>sinus rhythm</td>\n      <td>0.861461</td>\n    </tr>\n    <tr>\n      <th>15</th>\n      <td>premature atrial contraction</td>\n      <td>0.576107</td>\n    </tr>\n    <tr>\n      <th>16</th>\n      <td>pacing rhythm</td>\n      <td>0.784024</td>\n    </tr>\n    <tr>\n      <th>17</th>\n      <td>poor R wave Progression</td>\n      <td>0.159705</td>\n    </tr>\n    <tr>\n      <th>18</th>\n      <td>premature ventricular contractions</td>\n      <td>0.500426</td>\n    </tr>\n    <tr>\n      <th>19</th>\n      <td>qwave abnormal</td>\n      <td>0.000000</td>\n    </tr>\n    <tr>\n      <th>20</th>\n      <td>right axis deviation</td>\n      <td>0.475664</td>\n    </tr>\n    <tr>\n      <th>21</th>\n      <td>sinus arrhythmia</td>\n      <td>0.641073</td>\n    </tr>\n    <tr>\n      <th>22</th>\n      <td>sinus bradycardia</td>\n      <td>0.941908</td>\n    </tr>\n    <tr>\n      <th>23</th>\n      <td>sinus tachycardia</td>\n      <td>0.853173</td>\n    </tr>\n    <tr>\n      <th>24</th>\n      <td>t wave abnormal</td>\n      <td>0.513121</td>\n    </tr>\n    <tr>\n      <th>25</th>\n      <td>t wave inversion</td>\n      <td>0.326597</td>\n    </tr>\n  </tbody>\n</table>\n</div>"
     },
     "execution_count": 5,
     "metadata": {},
     "output_type": "execute_result"
    }
   ],
   "source": [
    "f1_scores_per_label = [f1_score(y[:, i], pred[:, i]) for i in range(y.shape[1])]\n",
    "\n",
    "classes = ['164889003','164890007','6374002','426627000','733534002',\n",
    "               '713427006','270492004','713426002','39732003','445118002',\n",
    "               '164947007','251146004','111975006','698252002','426783006',\n",
    "               '284470004','10370003','365413008','427172004','164917005',\n",
    "               '47665007','427393009','426177001','427084000','164934002',\n",
    "               '59931005']\n",
    "\n",
    "dx_mapping_df = pd.read_csv('dx_mapping_scored.csv')\n",
    "class_to_dx_mapping = dict(zip(dx_mapping_df['SNOMEDCTCode'], dx_mapping_df['Dx']))\n",
    "dx_names_ordered = [class_to_dx_mapping[int(cls)] for cls in classes if int(cls) in class_to_dx_mapping]\n",
    "\n",
    "    \n",
    "metrics_df = pd.DataFrame({\n",
    "    'Dx': dx_names_ordered,\n",
    "    'f1': f1_scores_per_label\n",
    "})\n",
    "\n",
    "metrics_df"
   ],
   "metadata": {
    "collapsed": false,
    "ExecuteTime": {
     "end_time": "2024-04-02T15:31:52.818954Z",
     "start_time": "2024-04-02T15:31:52.696361Z"
    }
   },
   "id": "1486e539de9a65a9",
   "execution_count": 5
  },
  {
   "cell_type": "code",
   "outputs": [
    {
     "name": "stdout",
     "output_type": "stream",
     "text": [
      "Train AUPRC: 0.5264895208165657\n",
      "Valid AUPRC: 0.4876242386757076\n"
     ]
    }
   ],
   "source": [
    "with open('model_output/PROGRESS_1.pickle', 'rb') as file:\n",
    "    model_data = pickle.load(file)\n",
    "\n",
    "print(f\"Train AUPRC: {model_data[-1]['train_auprc']}\")\n",
    "print(f\"Valid AUPRC: {model_data[-1]['valid_auprc']}\")"
   ],
   "metadata": {
    "collapsed": false,
    "ExecuteTime": {
     "end_time": "2024-04-02T15:31:53.826272Z",
     "start_time": "2024-04-02T15:31:52.819947Z"
    }
   },
   "id": "3811e3f57bfd7152",
   "execution_count": 6
  },
  {
   "cell_type": "code",
   "outputs": [
    {
     "name": "stdout",
     "output_type": "stream",
     "text": [
      "Train AUPRC: 0.5211336385361489\n",
      "Valid AUPRC: 0.48489778804205924\n"
     ]
    }
   ],
   "source": [
    "with open('model_output/PROGRESS_2.pickle', 'rb') as file:\n",
    "    model_data = pickle.load(file)\n",
    "\n",
    "print(f\"Train AUPRC: {model_data[-1]['train_auprc']}\")\n",
    "print(f\"Valid AUPRC: {model_data[-1]['valid_auprc']}\")"
   ],
   "metadata": {
    "collapsed": false,
    "ExecuteTime": {
     "end_time": "2024-04-02T15:31:54.520855Z",
     "start_time": "2024-04-02T15:31:53.829258Z"
    }
   },
   "id": "5e5ceaf3c7ae5d2a",
   "execution_count": 7
  },
  {
   "cell_type": "code",
   "outputs": [],
   "source": [],
   "metadata": {
    "collapsed": false,
    "ExecuteTime": {
     "end_time": "2024-04-02T15:31:54.536802Z",
     "start_time": "2024-04-02T15:31:54.521852Z"
    }
   },
   "id": "d82951a8a7ac403b",
   "execution_count": 7
  },
  {
   "cell_type": "code",
   "outputs": [],
   "source": [],
   "metadata": {
    "collapsed": false,
    "ExecuteTime": {
     "end_time": "2024-04-02T15:31:54.551751Z",
     "start_time": "2024-04-02T15:31:54.537799Z"
    }
   },
   "id": "5ae67691b1ac0f42",
   "execution_count": 7
  }
 ],
 "metadata": {
  "kernelspec": {
   "display_name": "Python 3",
   "language": "python",
   "name": "python3"
  },
  "language_info": {
   "codemirror_mode": {
    "name": "ipython",
    "version": 2
   },
   "file_extension": ".py",
   "mimetype": "text/x-python",
   "name": "python",
   "nbconvert_exporter": "python",
   "pygments_lexer": "ipython2",
   "version": "2.7.6"
  }
 },
 "nbformat": 4,
 "nbformat_minor": 5
}
