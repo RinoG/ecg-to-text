{
 "cells": [
  {
   "cell_type": "markdown",
   "source": [
    "# ISIBrno-AIMT\n",
    "ISIBrno-AIMT is the winner of the [Will Two Do?](https://physionet.org/content/challenge-2021/1.0.3/sources/) challenge from [physionet.org](https://physionet.org/) \n",
    "\n",
    "[Source Code](https://physionet.org/static/published-projects/challenge-2021/1.0.3/sources/ISIBrnoAIMT.zip)\n",
    "[Paper](https://www.cinc.org/archives/2021/pdf/CinC2021-014.pdf)\n",
    "[leaderboard](https://moody-challenge.physionet.org/2021/results/)"
   ],
   "metadata": {
    "collapsed": false
   },
   "id": "a195e52a52decb2a"
  },
  {
   "cell_type": "code",
   "outputs": [],
   "source": [
    "import pickle\n",
    "import os"
   ],
   "metadata": {
    "collapsed": true,
    "ExecuteTime": {
     "end_time": "2024-01-08T06:54:18.172670700Z",
     "start_time": "2024-01-08T06:54:18.141447800Z"
    }
   },
   "id": "initial_id",
   "execution_count": 1
  },
  {
   "cell_type": "code",
   "outputs": [],
   "source": [
    "os.chdir('../models/ISIBrnoAIMT')"
   ],
   "metadata": {
    "collapsed": false,
    "ExecuteTime": {
     "end_time": "2024-01-08T06:54:18.188294600Z",
     "start_time": "2024-01-08T06:54:18.172670700Z"
    }
   },
   "id": "5b78b990737513dc",
   "execution_count": 2
  },
  {
   "cell_type": "code",
   "outputs": [
    {
     "name": "stdout",
     "output_type": "stream",
     "text": [
      "Train AUPRC: 0.5255549373636326\n",
      "Valid AUPRC: 0.4905013668902438\n"
     ]
    }
   ],
   "source": [
    "with open('model_output/PROGRESS_0.pickle', 'rb') as file:\n",
    "    model_data = pickle.load(file)   \n",
    "print(f\"Train AUPRC: {model_data[-1]['train_auprc']}\")\n",
    "print(f\"Valid AUPRC: {model_data[-1]['valid_auprc']}\")"
   ],
   "metadata": {
    "collapsed": false,
    "ExecuteTime": {
     "end_time": "2024-01-08T06:55:33.502765800Z",
     "start_time": "2024-01-08T06:55:32.785276700Z"
    }
   },
   "id": "fc8b855ec2004446",
   "execution_count": 9
  },
  {
   "cell_type": "code",
   "outputs": [
    {
     "name": "stdout",
     "output_type": "stream",
     "text": [
      "Train AUPRC: 0.5264895208165657\n",
      "Valid AUPRC: 0.4876242386757076\n"
     ]
    }
   ],
   "source": [
    "with open('model_output/PROGRESS_1.pickle', 'rb') as file:\n",
    "    model_data = pickle.load(file)\n",
    "\n",
    "print(f\"Train AUPRC: {model_data[-1]['train_auprc']}\")\n",
    "print(f\"Valid AUPRC: {model_data[-1]['valid_auprc']}\")"
   ],
   "metadata": {
    "collapsed": false,
    "ExecuteTime": {
     "end_time": "2024-01-08T06:55:34.318415400Z",
     "start_time": "2024-01-08T06:55:33.504522400Z"
    }
   },
   "id": "3811e3f57bfd7152",
   "execution_count": 10
  },
  {
   "cell_type": "code",
   "outputs": [
    {
     "name": "stdout",
     "output_type": "stream",
     "text": [
      "Train AUPRC: 0.5211336385361489\n",
      "Valid AUPRC: 0.48489778804205924\n"
     ]
    }
   ],
   "source": [
    "with open('model_output/PROGRESS_2.pickle', 'rb') as file:\n",
    "    model_data = pickle.load(file)\n",
    "\n",
    "print(f\"Train AUPRC: {model_data[-1]['train_auprc']}\")\n",
    "print(f\"Valid AUPRC: {model_data[-1]['valid_auprc']}\")"
   ],
   "metadata": {
    "collapsed": false,
    "ExecuteTime": {
     "end_time": "2024-01-08T06:55:35.032981800Z",
     "start_time": "2024-01-08T06:55:34.321481100Z"
    }
   },
   "id": "5e5ceaf3c7ae5d2a",
   "execution_count": 11
  },
  {
   "cell_type": "code",
   "outputs": [],
   "source": [],
   "metadata": {
    "collapsed": false
   },
   "id": "15e41fd6e2ed0392"
  }
 ],
 "metadata": {
  "kernelspec": {
   "display_name": "Python 3",
   "language": "python",
   "name": "python3"
  },
  "language_info": {
   "codemirror_mode": {
    "name": "ipython",
    "version": 2
   },
   "file_extension": ".py",
   "mimetype": "text/x-python",
   "name": "python",
   "nbconvert_exporter": "python",
   "pygments_lexer": "ipython2",
   "version": "2.7.6"
  }
 },
 "nbformat": 4,
 "nbformat_minor": 5
}
