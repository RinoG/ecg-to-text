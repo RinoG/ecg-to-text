{
 "cells": [
  {
   "cell_type": "markdown",
   "source": [
    "# ISIBrno-AIMT\n",
    "ISIBrno-AIMT is the winner of the [Will Two Do?](https://physionet.org/content/challenge-2021/1.0.3/sources/) challenge from [physionet.org](https://physionet.org/) \n",
    "\n",
    "[Source Code](https://physionet.org/static/published-projects/challenge-2021/1.0.3/sources/ISIBrnoAIMT.zip)\n",
    "[Paper](https://www.cinc.org/archives/2021/pdf/CinC2021-014.pdf)\n",
    "[leaderboard](https://moody-challenge.physionet.org/2021/results/)"
   ],
   "metadata": {
    "collapsed": false
   },
   "id": "a195e52a52decb2a"
  },
  {
   "cell_type": "code",
   "outputs": [],
   "source": [
    "import pickle\n",
    "import os\n",
    "import sys\n",
    "import torch\n",
    "import pandas as pd\n",
    "from torch.utils.data import DataLoader\n",
    "from sklearn.metrics import f1_score, jaccard_score, confusion_matrix, precision_score, recall_score, accuracy_score\n",
    "\n",
    "from models.m02_ISIBrnoAIMT_BagOfWords.train import *\n",
    "from models.m02_ISIBrnoAIMT_BagOfWords.model import NN\n",
    "from models.m02_ISIBrnoAIMT_BagOfWords.dataset import PtbXlDataset"
   ],
   "metadata": {
    "collapsed": true,
    "ExecuteTime": {
     "end_time": "2024-04-10T15:51:01.500873Z",
     "start_time": "2024-04-10T15:50:50.141406Z"
    }
   },
   "id": "initial_id",
   "execution_count": 1
  },
  {
   "cell_type": "code",
   "outputs": [],
   "source": [
    "os.chdir('..')"
   ],
   "metadata": {
    "collapsed": false,
    "ExecuteTime": {
     "end_time": "2024-04-10T15:51:01.516874Z",
     "start_time": "2024-04-10T15:51:01.501870Z"
    }
   },
   "id": "5b78b990737513dc",
   "execution_count": 2
  },
  {
   "cell_type": "markdown",
   "source": [
    "### Bag of Words with 50 Words"
   ],
   "metadata": {
    "collapsed": false
   },
   "id": "e9d10629ccf53312"
  },
  {
   "cell_type": "code",
   "outputs": [
    {
     "data": {
      "text/plain": "<All keys matched successfully>"
     },
     "execution_count": 3,
     "metadata": {},
     "output_type": "execute_result"
    }
   ],
   "source": [
    "device = 'cuda:0' if torch.cuda.is_available() else 'cpu'\n",
    "\n",
    "n_BoW = 50\n",
    "dataset = PtbXlDataset('data_ptb-xl/', 'test', n_BoW)\n",
    "dataloader = DataLoader(dataset, batch_size=64, shuffle=True)\n",
    "\n",
    "model = NN(n_BoW).to(device)\n",
    "model.load_state_dict(torch.load(f'models/m02_ISIBrnoAIMT_BagOfWords/model_{n_BoW}_BoW.pt'))"
   ],
   "metadata": {
    "collapsed": false,
    "ExecuteTime": {
     "end_time": "2024-04-02T15:32:28.192718Z",
     "start_time": "2024-04-02T15:32:27.699355Z"
    }
   },
   "id": "15e41fd6e2ed0392",
   "execution_count": 3
  },
  {
   "cell_type": "code",
   "outputs": [],
   "source": [
    "y, pred = get_predictions(model, dataloader)\n",
    "bow_columns = pd.read_csv('data_ptb-xl/bag_of_words/train_50_BoW.csv').columns[1:]"
   ],
   "metadata": {
    "collapsed": false,
    "ExecuteTime": {
     "end_time": "2024-04-02T15:32:57.871085Z",
     "start_time": "2024-04-02T15:32:28.193711Z"
    }
   },
   "id": "e89623c903d4a552",
   "execution_count": 4
  },
  {
   "cell_type": "code",
   "outputs": [],
   "source": [
    "y = pd.DataFrame(y, columns=bow_columns)\n",
    "pred = pd.DataFrame(pred, columns=bow_columns)"
   ],
   "metadata": {
    "collapsed": false,
    "ExecuteTime": {
     "end_time": "2024-04-02T15:32:57.886033Z",
     "start_time": "2024-04-02T15:32:57.872080Z"
    }
   },
   "id": "71973b30baa4b452",
   "execution_count": 5
  },
  {
   "cell_type": "code",
   "outputs": [
    {
     "name": "stdout",
     "output_type": "stream",
     "text": [
      "F1: 0.314\n",
      "IOU: 0.215\n"
     ]
    }
   ],
   "source": [
    "f1 = f1_score(y, pred, average='weighted')\n",
    "iou = jaccard_score(y, pred, average='weighted')\n",
    "\n",
    "print(f'F1: {round(f1, 3)}\\nIOU: {round(iou, 3)}')"
   ],
   "metadata": {
    "collapsed": false,
    "ExecuteTime": {
     "end_time": "2024-04-02T15:32:57.947826Z",
     "start_time": "2024-04-02T15:32:57.887030Z"
    }
   },
   "id": "3f688d204ac688cb",
   "execution_count": 6
  },
  {
   "cell_type": "code",
   "outputs": [
    {
     "data": {
      "text/plain": "          Label        f1  precision    recall  accuracy\n0            46  0.954214   0.921795  0.988996  0.968239\n1      abnormal  0.431974   0.275489  1.000000  0.275489\n2         block  0.298747   0.175604  1.000000  0.175604\n3           ecg  0.547794   0.377215  1.000000  0.377215\n4    infarction  0.261652   0.150518  1.000000  0.150518\n5      inferior  0.228338   0.128884  1.000000  0.128884\n6          lead  0.226169   0.127503  1.000000  0.127503\n7          left  0.515291   0.347066  1.000000  0.347066\n8           non  0.200828   0.111623  1.000000  0.111623\n9        normal  0.725993   0.569850  1.000000  0.569850\n10     position  0.477575   0.313694  1.000000  0.313694\n11     probably  0.199710   0.110932  1.000000  0.110932\n12          qrs  0.296412   0.173993  1.000000  0.173993\n13       report  0.935082   0.887612  0.987918  0.955581\n14       rhythm  0.867752   0.766398  1.000000  0.766398\n15        sinus  0.927558   0.864902  1.000000  0.864902\n16     specific  0.200083   0.111162  1.000000  0.111162\n17           st  0.281250   0.163636  1.000000  0.163636\n18         type  0.717532   0.559494  1.000000  0.559494\n19  unconfirmed  0.943813   0.903329  0.988095  0.961335",
      "text/html": "<div>\n<style scoped>\n    .dataframe tbody tr th:only-of-type {\n        vertical-align: middle;\n    }\n\n    .dataframe tbody tr th {\n        vertical-align: top;\n    }\n\n    .dataframe thead th {\n        text-align: right;\n    }\n</style>\n<table border=\"1\" class=\"dataframe\">\n  <thead>\n    <tr style=\"text-align: right;\">\n      <th></th>\n      <th>Label</th>\n      <th>f1</th>\n      <th>precision</th>\n      <th>recall</th>\n      <th>accuracy</th>\n    </tr>\n  </thead>\n  <tbody>\n    <tr>\n      <th>0</th>\n      <td>46</td>\n      <td>0.954214</td>\n      <td>0.921795</td>\n      <td>0.988996</td>\n      <td>0.968239</td>\n    </tr>\n    <tr>\n      <th>1</th>\n      <td>abnormal</td>\n      <td>0.431974</td>\n      <td>0.275489</td>\n      <td>1.000000</td>\n      <td>0.275489</td>\n    </tr>\n    <tr>\n      <th>2</th>\n      <td>block</td>\n      <td>0.298747</td>\n      <td>0.175604</td>\n      <td>1.000000</td>\n      <td>0.175604</td>\n    </tr>\n    <tr>\n      <th>3</th>\n      <td>ecg</td>\n      <td>0.547794</td>\n      <td>0.377215</td>\n      <td>1.000000</td>\n      <td>0.377215</td>\n    </tr>\n    <tr>\n      <th>4</th>\n      <td>infarction</td>\n      <td>0.261652</td>\n      <td>0.150518</td>\n      <td>1.000000</td>\n      <td>0.150518</td>\n    </tr>\n    <tr>\n      <th>5</th>\n      <td>inferior</td>\n      <td>0.228338</td>\n      <td>0.128884</td>\n      <td>1.000000</td>\n      <td>0.128884</td>\n    </tr>\n    <tr>\n      <th>6</th>\n      <td>lead</td>\n      <td>0.226169</td>\n      <td>0.127503</td>\n      <td>1.000000</td>\n      <td>0.127503</td>\n    </tr>\n    <tr>\n      <th>7</th>\n      <td>left</td>\n      <td>0.515291</td>\n      <td>0.347066</td>\n      <td>1.000000</td>\n      <td>0.347066</td>\n    </tr>\n    <tr>\n      <th>8</th>\n      <td>non</td>\n      <td>0.200828</td>\n      <td>0.111623</td>\n      <td>1.000000</td>\n      <td>0.111623</td>\n    </tr>\n    <tr>\n      <th>9</th>\n      <td>normal</td>\n      <td>0.725993</td>\n      <td>0.569850</td>\n      <td>1.000000</td>\n      <td>0.569850</td>\n    </tr>\n    <tr>\n      <th>10</th>\n      <td>position</td>\n      <td>0.477575</td>\n      <td>0.313694</td>\n      <td>1.000000</td>\n      <td>0.313694</td>\n    </tr>\n    <tr>\n      <th>11</th>\n      <td>probably</td>\n      <td>0.199710</td>\n      <td>0.110932</td>\n      <td>1.000000</td>\n      <td>0.110932</td>\n    </tr>\n    <tr>\n      <th>12</th>\n      <td>qrs</td>\n      <td>0.296412</td>\n      <td>0.173993</td>\n      <td>1.000000</td>\n      <td>0.173993</td>\n    </tr>\n    <tr>\n      <th>13</th>\n      <td>report</td>\n      <td>0.935082</td>\n      <td>0.887612</td>\n      <td>0.987918</td>\n      <td>0.955581</td>\n    </tr>\n    <tr>\n      <th>14</th>\n      <td>rhythm</td>\n      <td>0.867752</td>\n      <td>0.766398</td>\n      <td>1.000000</td>\n      <td>0.766398</td>\n    </tr>\n    <tr>\n      <th>15</th>\n      <td>sinus</td>\n      <td>0.927558</td>\n      <td>0.864902</td>\n      <td>1.000000</td>\n      <td>0.864902</td>\n    </tr>\n    <tr>\n      <th>16</th>\n      <td>specific</td>\n      <td>0.200083</td>\n      <td>0.111162</td>\n      <td>1.000000</td>\n      <td>0.111162</td>\n    </tr>\n    <tr>\n      <th>17</th>\n      <td>st</td>\n      <td>0.281250</td>\n      <td>0.163636</td>\n      <td>1.000000</td>\n      <td>0.163636</td>\n    </tr>\n    <tr>\n      <th>18</th>\n      <td>type</td>\n      <td>0.717532</td>\n      <td>0.559494</td>\n      <td>1.000000</td>\n      <td>0.559494</td>\n    </tr>\n    <tr>\n      <th>19</th>\n      <td>unconfirmed</td>\n      <td>0.943813</td>\n      <td>0.903329</td>\n      <td>0.988095</td>\n      <td>0.961335</td>\n    </tr>\n  </tbody>\n</table>\n</div>"
     },
     "execution_count": 57,
     "metadata": {},
     "output_type": "execute_result"
    }
   ],
   "source": [
    "performance_data = []\n",
    "\n",
    "for label in y.columns:\n",
    "    f1 = f1_score(y[label], pred[label])\n",
    "    precision = precision_score(y[label], pred[label], zero_division=0)\n",
    "    recall = recall_score(y[label], pred[label])\n",
    "    accuracy = accuracy_score(y[label], pred[label])\n",
    "    \n",
    "    performance_data.append({'Label': label, 'f1': f1, 'precision': precision, 'recall': recall, 'accuracy': accuracy})\n",
    "\n",
    "performance_summary = pd.DataFrame(performance_data)\n",
    "\n",
    "performance_summary"
   ],
   "metadata": {
    "collapsed": false,
    "ExecuteTime": {
     "end_time": "2024-04-12T09:29:47.551337Z",
     "start_time": "2024-04-12T09:29:47.445335Z"
    }
   },
   "id": "7f5fdef539fd4acf",
   "execution_count": 57
  },
  {
   "cell_type": "markdown",
   "source": [
    "### Bag of Words with 20 Words"
   ],
   "metadata": {
    "collapsed": false
   },
   "id": "9398034992b157f5"
  },
  {
   "cell_type": "code",
   "outputs": [
    {
     "data": {
      "text/plain": "<All keys matched successfully>"
     },
     "execution_count": 52,
     "metadata": {},
     "output_type": "execute_result"
    }
   ],
   "source": [
    "device = 'cuda:0' if torch.cuda.is_available() else 'cpu'\n",
    "\n",
    "n_BoW = 20\n",
    "dataset = PtbXlDataset('data_ptb-xl/', 'test', n_BoW)\n",
    "dataloader = DataLoader(dataset, batch_size=64, shuffle=True)\n",
    "\n",
    "model = NN(n_BoW).to(device)\n",
    "model.load_state_dict(torch.load(f'models/m02_ISIBrnoAIMT_BagOfWords/model_{n_BoW}_BoW.pt'))"
   ],
   "metadata": {
    "collapsed": false,
    "ExecuteTime": {
     "end_time": "2024-04-12T08:48:44.179208Z",
     "start_time": "2024-04-12T08:48:43.636119Z"
    }
   },
   "id": "7c08469864e0ff2b",
   "execution_count": 52
  },
  {
   "cell_type": "code",
   "outputs": [],
   "source": [
    "y, pred = get_predictions(model, dataloader)\n",
    "bow_columns = pd.read_csv('data_ptb-xl/bag_of_words/train_20_BoW.csv').columns[1:]"
   ],
   "metadata": {
    "collapsed": false,
    "ExecuteTime": {
     "end_time": "2024-04-12T08:49:14.731004Z",
     "start_time": "2024-04-12T08:48:44.180210Z"
    }
   },
   "id": "ef97540909934669",
   "execution_count": 53
  },
  {
   "cell_type": "code",
   "outputs": [],
   "source": [
    "y = pd.DataFrame(y, columns=bow_columns)\n",
    "pred = pd.DataFrame(pred, columns=bow_columns)"
   ],
   "metadata": {
    "collapsed": false,
    "ExecuteTime": {
     "end_time": "2024-04-12T08:49:14.747008Z",
     "start_time": "2024-04-12T08:49:14.732006Z"
    }
   },
   "id": "a81622f659d08922",
   "execution_count": 54
  },
  {
   "cell_type": "code",
   "outputs": [
    {
     "name": "stdout",
     "output_type": "stream",
     "text": [
      "F1: 0.662\n",
      "IOU: 0.55\n"
     ]
    }
   ],
   "source": [
    "f1 = f1_score(y, pred, average='weighted')\n",
    "iou = jaccard_score(y, pred, average='weighted')\n",
    "\n",
    "print(f'F1: {round(f1, 3)}\\nIOU: {round(iou, 3)}')"
   ],
   "metadata": {
    "collapsed": false,
    "ExecuteTime": {
     "end_time": "2024-04-12T08:49:14.794008Z",
     "start_time": "2024-04-12T08:49:14.748009Z"
    }
   },
   "id": "8054c6878410f82a",
   "execution_count": 55
  },
  {
   "cell_type": "code",
   "outputs": [
    {
     "data": {
      "text/plain": "          Label        f1  precision    recall  accuracy\n0            46  0.954214   0.921795  0.988996  0.968239\n1      abnormal  0.431974   0.275489  1.000000  0.275489\n2         block  0.298747   0.175604  1.000000  0.175604\n3           ecg  0.547794   0.377215  1.000000  0.377215\n4    infarction  0.261652   0.150518  1.000000  0.150518\n5      inferior  0.228338   0.128884  1.000000  0.128884\n6          lead  0.226169   0.127503  1.000000  0.127503\n7          left  0.515291   0.347066  1.000000  0.347066\n8           non  0.200828   0.111623  1.000000  0.111623\n9        normal  0.725993   0.569850  1.000000  0.569850\n10     position  0.477575   0.313694  1.000000  0.313694\n11     probably  0.199710   0.110932  1.000000  0.110932\n12          qrs  0.296412   0.173993  1.000000  0.173993\n13       report  0.935082   0.887612  0.987918  0.955581\n14       rhythm  0.867752   0.766398  1.000000  0.766398\n15        sinus  0.927558   0.864902  1.000000  0.864902\n16     specific  0.200083   0.111162  1.000000  0.111162\n17           st  0.281250   0.163636  1.000000  0.163636\n18         type  0.717532   0.559494  1.000000  0.559494\n19  unconfirmed  0.943813   0.903329  0.988095  0.961335",
      "text/html": "<div>\n<style scoped>\n    .dataframe tbody tr th:only-of-type {\n        vertical-align: middle;\n    }\n\n    .dataframe tbody tr th {\n        vertical-align: top;\n    }\n\n    .dataframe thead th {\n        text-align: right;\n    }\n</style>\n<table border=\"1\" class=\"dataframe\">\n  <thead>\n    <tr style=\"text-align: right;\">\n      <th></th>\n      <th>Label</th>\n      <th>f1</th>\n      <th>precision</th>\n      <th>recall</th>\n      <th>accuracy</th>\n    </tr>\n  </thead>\n  <tbody>\n    <tr>\n      <th>0</th>\n      <td>46</td>\n      <td>0.954214</td>\n      <td>0.921795</td>\n      <td>0.988996</td>\n      <td>0.968239</td>\n    </tr>\n    <tr>\n      <th>1</th>\n      <td>abnormal</td>\n      <td>0.431974</td>\n      <td>0.275489</td>\n      <td>1.000000</td>\n      <td>0.275489</td>\n    </tr>\n    <tr>\n      <th>2</th>\n      <td>block</td>\n      <td>0.298747</td>\n      <td>0.175604</td>\n      <td>1.000000</td>\n      <td>0.175604</td>\n    </tr>\n    <tr>\n      <th>3</th>\n      <td>ecg</td>\n      <td>0.547794</td>\n      <td>0.377215</td>\n      <td>1.000000</td>\n      <td>0.377215</td>\n    </tr>\n    <tr>\n      <th>4</th>\n      <td>infarction</td>\n      <td>0.261652</td>\n      <td>0.150518</td>\n      <td>1.000000</td>\n      <td>0.150518</td>\n    </tr>\n    <tr>\n      <th>5</th>\n      <td>inferior</td>\n      <td>0.228338</td>\n      <td>0.128884</td>\n      <td>1.000000</td>\n      <td>0.128884</td>\n    </tr>\n    <tr>\n      <th>6</th>\n      <td>lead</td>\n      <td>0.226169</td>\n      <td>0.127503</td>\n      <td>1.000000</td>\n      <td>0.127503</td>\n    </tr>\n    <tr>\n      <th>7</th>\n      <td>left</td>\n      <td>0.515291</td>\n      <td>0.347066</td>\n      <td>1.000000</td>\n      <td>0.347066</td>\n    </tr>\n    <tr>\n      <th>8</th>\n      <td>non</td>\n      <td>0.200828</td>\n      <td>0.111623</td>\n      <td>1.000000</td>\n      <td>0.111623</td>\n    </tr>\n    <tr>\n      <th>9</th>\n      <td>normal</td>\n      <td>0.725993</td>\n      <td>0.569850</td>\n      <td>1.000000</td>\n      <td>0.569850</td>\n    </tr>\n    <tr>\n      <th>10</th>\n      <td>position</td>\n      <td>0.477575</td>\n      <td>0.313694</td>\n      <td>1.000000</td>\n      <td>0.313694</td>\n    </tr>\n    <tr>\n      <th>11</th>\n      <td>probably</td>\n      <td>0.199710</td>\n      <td>0.110932</td>\n      <td>1.000000</td>\n      <td>0.110932</td>\n    </tr>\n    <tr>\n      <th>12</th>\n      <td>qrs</td>\n      <td>0.296412</td>\n      <td>0.173993</td>\n      <td>1.000000</td>\n      <td>0.173993</td>\n    </tr>\n    <tr>\n      <th>13</th>\n      <td>report</td>\n      <td>0.935082</td>\n      <td>0.887612</td>\n      <td>0.987918</td>\n      <td>0.955581</td>\n    </tr>\n    <tr>\n      <th>14</th>\n      <td>rhythm</td>\n      <td>0.867752</td>\n      <td>0.766398</td>\n      <td>1.000000</td>\n      <td>0.766398</td>\n    </tr>\n    <tr>\n      <th>15</th>\n      <td>sinus</td>\n      <td>0.927558</td>\n      <td>0.864902</td>\n      <td>1.000000</td>\n      <td>0.864902</td>\n    </tr>\n    <tr>\n      <th>16</th>\n      <td>specific</td>\n      <td>0.200083</td>\n      <td>0.111162</td>\n      <td>1.000000</td>\n      <td>0.111162</td>\n    </tr>\n    <tr>\n      <th>17</th>\n      <td>st</td>\n      <td>0.281250</td>\n      <td>0.163636</td>\n      <td>1.000000</td>\n      <td>0.163636</td>\n    </tr>\n    <tr>\n      <th>18</th>\n      <td>type</td>\n      <td>0.717532</td>\n      <td>0.559494</td>\n      <td>1.000000</td>\n      <td>0.559494</td>\n    </tr>\n    <tr>\n      <th>19</th>\n      <td>unconfirmed</td>\n      <td>0.943813</td>\n      <td>0.903329</td>\n      <td>0.988095</td>\n      <td>0.961335</td>\n    </tr>\n  </tbody>\n</table>\n</div>"
     },
     "execution_count": 58,
     "metadata": {},
     "output_type": "execute_result"
    }
   ],
   "source": [
    "performance_data = []\n",
    "\n",
    "for label in y.columns:\n",
    "    f1 = f1_score(y[label], pred[label])\n",
    "    precision = precision_score(y[label], pred[label], zero_division=0)\n",
    "    recall = recall_score(y[label], pred[label])\n",
    "    accuracy = accuracy_score(y[label], pred[label])\n",
    "    \n",
    "    performance_data.append({'Label': label, 'f1': f1, 'precision': precision, 'recall': recall, 'accuracy': accuracy})\n",
    "\n",
    "performance_summary = pd.DataFrame(performance_data)\n",
    "\n",
    "performance_summary"
   ],
   "metadata": {
    "collapsed": false,
    "ExecuteTime": {
     "end_time": "2024-04-12T09:30:31.682724Z",
     "start_time": "2024-04-12T09:30:31.567137Z"
    }
   },
   "id": "3947abab709c38ea",
   "execution_count": 58
  },
  {
   "cell_type": "code",
   "outputs": [],
   "source": [],
   "metadata": {
    "collapsed": false,
    "ExecuteTime": {
     "end_time": "2024-04-02T15:33:15.123087Z",
     "start_time": "2024-04-02T15:33:15.108137Z"
    }
   },
   "id": "3e014e24b0476607",
   "execution_count": 12
  }
 ],
 "metadata": {
  "kernelspec": {
   "display_name": "Python 3",
   "language": "python",
   "name": "python3"
  },
  "language_info": {
   "codemirror_mode": {
    "name": "ipython",
    "version": 2
   },
   "file_extension": ".py",
   "mimetype": "text/x-python",
   "name": "python",
   "nbconvert_exporter": "python",
   "pygments_lexer": "ipython2",
   "version": "2.7.6"
  }
 },
 "nbformat": 4,
 "nbformat_minor": 5
}
