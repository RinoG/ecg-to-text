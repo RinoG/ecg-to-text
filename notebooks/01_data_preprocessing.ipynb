{
 "cells": [
  {
   "cell_type": "code",
   "execution_count": 40,
   "outputs": [],
   "source": [
    "import os\n",
    "import random\n",
    "\n",
    "import numpy as np\n",
    "import wfdb\n",
    "import pandas as pd\n",
    "from sklearn.feature_extraction.text import CountVectorizer"
   ],
   "metadata": {
    "collapsed": false,
    "ExecuteTime": {
     "end_time": "2024-05-07T16:40:49.010664Z",
     "start_time": "2024-05-07T16:40:46.109447Z"
    }
   },
   "id": "dbbb7250d6c60f6d"
  },
  {
   "cell_type": "code",
   "execution_count": 2,
   "outputs": [],
   "source": [
    "os.chdir('..')"
   ],
   "metadata": {
    "collapsed": false,
    "ExecuteTime": {
     "end_time": "2024-05-07T15:48:46.558998Z",
     "start_time": "2024-05-07T15:48:46.544538Z"
    }
   },
   "id": "9b964d55f650b393"
  },
  {
   "cell_type": "code",
   "execution_count": 28,
   "outputs": [
    {
     "data": {
      "text/plain": "   ecg_id  patient_id   age  sex  height  weight  nurse  site     device  \\\n0       1     15709.0  56.0    1     NaN    63.0    2.0   0.0  CS-12   E   \n1       2     13243.0  19.0    0     NaN    70.0    2.0   0.0  CS-12   E   \n2       3     20372.0  37.0    1     NaN    69.0    2.0   0.0  CS-12   E   \n3       4     17014.0  24.0    0     NaN    82.0    2.0   0.0  CS-12   E   \n4       5     17448.0  19.0    1     NaN    70.0    2.0   0.0  CS-12   E   \n\n        recording_date  ... validated_by_human  baseline_drift static_noise  \\\n0  1984-11-09 09:17:34  ...               True             NaN    , I-V1,     \n1  1984-11-14 12:55:37  ...               True             NaN          NaN   \n2  1984-11-15 12:49:10  ...               True             NaN          NaN   \n3  1984-11-15 13:44:57  ...               True    , II,III,AVF          NaN   \n4  1984-11-17 10:43:15  ...               True   , III,AVR,AVF          NaN   \n\n  burst_noise electrodes_problems  extra_beats  pacemaker  strat_fold  \\\n0         NaN                 NaN          NaN        NaN           3   \n1         NaN                 NaN          NaN        NaN           2   \n2         NaN                 NaN          NaN        NaN           5   \n3         NaN                 NaN          NaN        NaN           3   \n4         NaN                 NaN          NaN        NaN           4   \n\n                 filename_lr                filename_hr  \n0  records100/00000/00001_lr  records500/00000/00001_hr  \n1  records100/00000/00002_lr  records500/00000/00002_hr  \n2  records100/00000/00003_lr  records500/00000/00003_hr  \n3  records100/00000/00004_lr  records500/00000/00004_hr  \n4  records100/00000/00005_lr  records500/00000/00005_hr  \n\n[5 rows x 28 columns]",
      "text/html": "<div>\n<style scoped>\n    .dataframe tbody tr th:only-of-type {\n        vertical-align: middle;\n    }\n\n    .dataframe tbody tr th {\n        vertical-align: top;\n    }\n\n    .dataframe thead th {\n        text-align: right;\n    }\n</style>\n<table border=\"1\" class=\"dataframe\">\n  <thead>\n    <tr style=\"text-align: right;\">\n      <th></th>\n      <th>ecg_id</th>\n      <th>patient_id</th>\n      <th>age</th>\n      <th>sex</th>\n      <th>height</th>\n      <th>weight</th>\n      <th>nurse</th>\n      <th>site</th>\n      <th>device</th>\n      <th>recording_date</th>\n      <th>...</th>\n      <th>validated_by_human</th>\n      <th>baseline_drift</th>\n      <th>static_noise</th>\n      <th>burst_noise</th>\n      <th>electrodes_problems</th>\n      <th>extra_beats</th>\n      <th>pacemaker</th>\n      <th>strat_fold</th>\n      <th>filename_lr</th>\n      <th>filename_hr</th>\n    </tr>\n  </thead>\n  <tbody>\n    <tr>\n      <th>0</th>\n      <td>1</td>\n      <td>15709.0</td>\n      <td>56.0</td>\n      <td>1</td>\n      <td>NaN</td>\n      <td>63.0</td>\n      <td>2.0</td>\n      <td>0.0</td>\n      <td>CS-12   E</td>\n      <td>1984-11-09 09:17:34</td>\n      <td>...</td>\n      <td>True</td>\n      <td>NaN</td>\n      <td>, I-V1,</td>\n      <td>NaN</td>\n      <td>NaN</td>\n      <td>NaN</td>\n      <td>NaN</td>\n      <td>3</td>\n      <td>records100/00000/00001_lr</td>\n      <td>records500/00000/00001_hr</td>\n    </tr>\n    <tr>\n      <th>1</th>\n      <td>2</td>\n      <td>13243.0</td>\n      <td>19.0</td>\n      <td>0</td>\n      <td>NaN</td>\n      <td>70.0</td>\n      <td>2.0</td>\n      <td>0.0</td>\n      <td>CS-12   E</td>\n      <td>1984-11-14 12:55:37</td>\n      <td>...</td>\n      <td>True</td>\n      <td>NaN</td>\n      <td>NaN</td>\n      <td>NaN</td>\n      <td>NaN</td>\n      <td>NaN</td>\n      <td>NaN</td>\n      <td>2</td>\n      <td>records100/00000/00002_lr</td>\n      <td>records500/00000/00002_hr</td>\n    </tr>\n    <tr>\n      <th>2</th>\n      <td>3</td>\n      <td>20372.0</td>\n      <td>37.0</td>\n      <td>1</td>\n      <td>NaN</td>\n      <td>69.0</td>\n      <td>2.0</td>\n      <td>0.0</td>\n      <td>CS-12   E</td>\n      <td>1984-11-15 12:49:10</td>\n      <td>...</td>\n      <td>True</td>\n      <td>NaN</td>\n      <td>NaN</td>\n      <td>NaN</td>\n      <td>NaN</td>\n      <td>NaN</td>\n      <td>NaN</td>\n      <td>5</td>\n      <td>records100/00000/00003_lr</td>\n      <td>records500/00000/00003_hr</td>\n    </tr>\n    <tr>\n      <th>3</th>\n      <td>4</td>\n      <td>17014.0</td>\n      <td>24.0</td>\n      <td>0</td>\n      <td>NaN</td>\n      <td>82.0</td>\n      <td>2.0</td>\n      <td>0.0</td>\n      <td>CS-12   E</td>\n      <td>1984-11-15 13:44:57</td>\n      <td>...</td>\n      <td>True</td>\n      <td>, II,III,AVF</td>\n      <td>NaN</td>\n      <td>NaN</td>\n      <td>NaN</td>\n      <td>NaN</td>\n      <td>NaN</td>\n      <td>3</td>\n      <td>records100/00000/00004_lr</td>\n      <td>records500/00000/00004_hr</td>\n    </tr>\n    <tr>\n      <th>4</th>\n      <td>5</td>\n      <td>17448.0</td>\n      <td>19.0</td>\n      <td>1</td>\n      <td>NaN</td>\n      <td>70.0</td>\n      <td>2.0</td>\n      <td>0.0</td>\n      <td>CS-12   E</td>\n      <td>1984-11-17 10:43:15</td>\n      <td>...</td>\n      <td>True</td>\n      <td>, III,AVR,AVF</td>\n      <td>NaN</td>\n      <td>NaN</td>\n      <td>NaN</td>\n      <td>NaN</td>\n      <td>NaN</td>\n      <td>4</td>\n      <td>records100/00000/00005_lr</td>\n      <td>records500/00000/00005_hr</td>\n    </tr>\n  </tbody>\n</table>\n<p>5 rows × 28 columns</p>\n</div>"
     },
     "execution_count": 28,
     "metadata": {},
     "output_type": "execute_result"
    }
   ],
   "source": [
    "data = pd.read_csv('data_ptb-xl/ptbxl_database.csv')\n",
    "data = data.loc[data['report'] != ' '] # remove 2 rows without a report\n",
    "data.head()"
   ],
   "metadata": {
    "collapsed": false,
    "ExecuteTime": {
     "end_time": "2024-05-07T16:40:03.884132Z",
     "start_time": "2024-05-07T16:40:03.790443Z"
    }
   },
   "id": "729ee533c85ec971"
  },
  {
   "cell_type": "markdown",
   "source": [
    "## Train - Val - Test Split"
   ],
   "metadata": {
    "collapsed": false
   },
   "id": "95cf90d7506ee6ef"
  },
  {
   "cell_type": "code",
   "outputs": [
    {
     "name": "stdout",
     "output_type": "stream",
     "text": [
      "train: 79.91 %\n",
      "val:   10.02 %\n",
      "test:  10.08 %\n"
     ]
    }
   ],
   "source": [
    "# Split the data as suggested in https://physionet.org/content/ptb-xl/1.0.3/\n",
    "train = data[~data['strat_fold'].isin([9, 10])].copy()\n",
    "val = data[data['strat_fold'] == 9].copy()\n",
    "test = data[data['strat_fold'] == 10].copy()\n",
    "\n",
    "print(f\"train: {round(len(train) / len(data) * 100, 2)} %\")\n",
    "print(f\"val:   {round(len(val) / len(data) * 100, 2)} %\")\n",
    "print(f\"test:  {round(len(test) / len(data) * 100, 2)} %\")"
   ],
   "metadata": {
    "collapsed": false,
    "ExecuteTime": {
     "end_time": "2024-05-07T16:58:25.889008Z",
     "start_time": "2024-05-07T16:58:25.863730Z"
    }
   },
   "id": "5c003d6a1b82a1b0",
   "execution_count": 60
  },
  {
   "cell_type": "code",
   "outputs": [
    {
     "name": "stdout",
     "output_type": "stream",
     "text": [
      "Train-Validation Overlap: 0\n",
      "Train-Test Overlap: 0\n",
      "Validation-Test Overlap: 0\n"
     ]
    }
   ],
   "source": [
    "# Check for patient_id intersections\n",
    "train_patients = set(train['patient_id'])\n",
    "val_patients = set(val['patient_id'])\n",
    "test_patients = set(test['patient_id'])\n",
    "\n",
    "train_val_overlap = train_patients & val_patients\n",
    "train_test_overlap = train_patients & test_patients\n",
    "val_test_overlap = val_patients & test_patients\n",
    "\n",
    "print(\"Train-Validation Overlap:\", len(train_val_overlap))\n",
    "print(\"Train-Test Overlap:\", len(train_test_overlap))\n",
    "print(\"Validation-Test Overlap:\", len(val_test_overlap))"
   ],
   "metadata": {
    "collapsed": false,
    "ExecuteTime": {
     "end_time": "2024-05-07T16:58:26.736431Z",
     "start_time": "2024-05-07T16:58:26.715498Z"
    }
   },
   "id": "c8f780c9adde2d72",
   "execution_count": 61
  },
  {
   "cell_type": "markdown",
   "source": [
    "# Report Translation\n",
    "\n",
    "This [paper](https://arxiv.org/pdf/2103.11011) has already translated the PTB-XL dataset into their [github](https://github.com/danikiyasseh/RTLP/tree/main/translations) repository. They are using the older version 1.0.1 of PTB-XL. In the newer versions of PTB-XL, they removed duplicates and changed the ages above 89 years to 300 for privacy reasons. So the changes shouldn't affect the reports itself. We are using PTB-XL 1.0.3.\n",
    "So we can concatenate the translated reports with our new data depending on the `ecg_id`.\n",
    "\n",
    "There are alot missing `ecg_id`'s in the version 1.0.1, so we took translation from google api."
   ],
   "metadata": {
    "collapsed": false
   },
   "id": "83272a6da4d2b767"
  },
  {
   "cell_type": "code",
   "execution_count": 62,
   "outputs": [
    {
     "data": {
      "text/plain": "   ecg_id                             translation\n0       1     sinus rhythm peripheral low voltage\n1       2  sinus bradycardia otherwise normal ecg\n2       3                 sinus rhythm normal ecg\n3       4                 sinus rhythm normal ecg\n4       5                 sinus rhythm normal ecg",
      "text/html": "<div>\n<style scoped>\n    .dataframe tbody tr th:only-of-type {\n        vertical-align: middle;\n    }\n\n    .dataframe tbody tr th {\n        vertical-align: top;\n    }\n\n    .dataframe thead th {\n        text-align: right;\n    }\n</style>\n<table border=\"1\" class=\"dataframe\">\n  <thead>\n    <tr style=\"text-align: right;\">\n      <th></th>\n      <th>ecg_id</th>\n      <th>translation</th>\n    </tr>\n  </thead>\n  <tbody>\n    <tr>\n      <th>0</th>\n      <td>1</td>\n      <td>sinus rhythm peripheral low voltage</td>\n    </tr>\n    <tr>\n      <th>1</th>\n      <td>2</td>\n      <td>sinus bradycardia otherwise normal ecg</td>\n    </tr>\n    <tr>\n      <th>2</th>\n      <td>3</td>\n      <td>sinus rhythm normal ecg</td>\n    </tr>\n    <tr>\n      <th>3</th>\n      <td>4</td>\n      <td>sinus rhythm normal ecg</td>\n    </tr>\n    <tr>\n      <th>4</th>\n      <td>5</td>\n      <td>sinus rhythm normal ecg</td>\n    </tr>\n  </tbody>\n</table>\n</div>"
     },
     "execution_count": 62,
     "metadata": {},
     "output_type": "execute_result"
    }
   ],
   "source": [
    "translated_df = pd.read_csv('data_ptb-xl/translated_report/report_translated_by_google.csv')\n",
    "translated_df.head()"
   ],
   "metadata": {
    "collapsed": false,
    "ExecuteTime": {
     "end_time": "2024-05-07T16:58:27.883465Z",
     "start_time": "2024-05-07T16:58:27.854893Z"
    }
   },
   "id": "4b341dd9946eecfc"
  },
  {
   "cell_type": "code",
   "outputs": [],
   "source": [
    "def concatenate_dataframes(df, df_translation):\n",
    "    merged_df = df.merge(df_translation[['ecg_id', 'translation']], on='ecg_id', how='left')\n",
    "    merged_df.rename(columns={'translation': 'preprocessed_report'}, inplace=True)\n",
    "    return merged_df"
   ],
   "metadata": {
    "collapsed": false,
    "ExecuteTime": {
     "end_time": "2024-05-07T16:58:28.685059Z",
     "start_time": "2024-05-07T16:58:28.671082Z"
    }
   },
   "id": "77bd97b878584fef",
   "execution_count": 63
  },
  {
   "cell_type": "code",
   "outputs": [],
   "source": [
    "train = concatenate_dataframes(train, translated_df)\n",
    "train.to_csv('data_ptb-xl/train.csv', index=False)"
   ],
   "metadata": {
    "collapsed": false,
    "ExecuteTime": {
     "end_time": "2024-05-07T16:58:29.334350Z",
     "start_time": "2024-05-07T16:58:29.205781Z"
    }
   },
   "id": "a3e86cb45369afb6",
   "execution_count": 64
  },
  {
   "cell_type": "code",
   "outputs": [],
   "source": [
    "val = concatenate_dataframes(val, translated_df)\n",
    "val.to_csv('data_ptb-xl/val.csv', index=False)"
   ],
   "metadata": {
    "collapsed": false,
    "ExecuteTime": {
     "end_time": "2024-05-07T16:58:29.732629Z",
     "start_time": "2024-05-07T16:58:29.706712Z"
    }
   },
   "id": "708e92a9e36f893c",
   "execution_count": 65
  },
  {
   "cell_type": "code",
   "outputs": [],
   "source": [
    "test = concatenate_dataframes(test, translated_df)\n",
    "test.to_csv('data_ptb-xl/test.csv', index=False)"
   ],
   "metadata": {
    "collapsed": false,
    "ExecuteTime": {
     "end_time": "2024-05-07T16:58:30.255912Z",
     "start_time": "2024-05-07T16:58:30.228005Z"
    }
   },
   "id": "4f423c5ba4a5f37e",
   "execution_count": 66
  },
  {
   "cell_type": "code",
   "outputs": [
    {
     "name": "stdout",
     "output_type": "stream",
     "text": [
      "Number of unique words in report: 3159\n"
     ]
    }
   ],
   "source": [
    "all_words = train['report'].str.split().explode()\n",
    "unique_words = set(all_words)\n",
    "print(f\"Number of unique words in report: {len(unique_words)}\")"
   ],
   "metadata": {
    "collapsed": false,
    "ExecuteTime": {
     "end_time": "2024-05-07T16:58:30.949042Z",
     "start_time": "2024-05-07T16:58:30.905186Z"
    }
   },
   "id": "29bb38b1200b4a4f",
   "execution_count": 67
  },
  {
   "cell_type": "code",
   "outputs": [
    {
     "name": "stdout",
     "output_type": "stream",
     "text": [
      "Number of unique words in preprocessed report: 2954\n"
     ]
    }
   ],
   "source": [
    "all_words = train['preprocessed_report'].str.split().explode()\n",
    "unique_words = set(all_words)\n",
    "print(f\"Number of unique words in preprocessed report: {len(unique_words)}\")"
   ],
   "metadata": {
    "collapsed": false,
    "ExecuteTime": {
     "end_time": "2024-05-07T16:58:31.594344Z",
     "start_time": "2024-05-07T16:58:31.500651Z"
    }
   },
   "id": "4ed2947ac156a87f",
   "execution_count": 68
  },
  {
   "cell_type": "markdown",
   "source": [
    "# Bag of Words"
   ],
   "metadata": {
    "collapsed": false
   },
   "id": "d0d8543137c29ffd"
  },
  {
   "cell_type": "code",
   "outputs": [],
   "source": [
    "n_words = 50"
   ],
   "metadata": {
    "collapsed": false,
    "ExecuteTime": {
     "end_time": "2024-05-07T16:58:33.352490Z",
     "start_time": "2024-05-07T16:58:33.345501Z"
    }
   },
   "id": "45ee13a845950287",
   "execution_count": 69
  },
  {
   "cell_type": "code",
   "outputs": [],
   "source": [
    "train = pd.read_csv('data_ptb-xl/train.csv')\n",
    "\n",
    "vectorizer = CountVectorizer(max_features=n_words, binary=True)\n",
    "train_BoW = vectorizer.fit_transform(train['preprocessed_report'])\n",
    "\n",
    "train_BoW = pd.DataFrame(train_BoW.toarray(), columns=vectorizer.get_feature_names_out())\n",
    "train_BoW = pd.concat([train['ecg_id'].reset_index(drop=True), train_BoW], axis=1)\n",
    "train_BoW['ecg_id'] = train_BoW['ecg_id'].astype(int)\n",
    "\n",
    "train_BoW.to_csv(f'data_ptb-xl/bag_of_words/train_{n_words}_BoW.csv', index=False)"
   ],
   "metadata": {
    "collapsed": false,
    "ExecuteTime": {
     "end_time": "2024-05-07T16:59:34.638183Z",
     "start_time": "2024-05-07T16:59:34.417915Z"
    }
   },
   "id": "d4192ec31b4de919",
   "execution_count": 77
  },
  {
   "cell_type": "code",
   "outputs": [],
   "source": [
    "val = pd.read_csv('data_ptb-xl/val.csv')\n",
    "\n",
    "val_BoW = vectorizer.transform(val['preprocessed_report'])\n",
    "\n",
    "val_BoW = pd.DataFrame(val_BoW.toarray(), columns=vectorizer.get_feature_names_out())\n",
    "val_BoW = pd.concat([val['ecg_id'].reset_index(drop=True), val_BoW], axis=1)\n",
    "val_BoW['ecg_id'] = val_BoW['ecg_id'].astype(int)\n",
    "\n",
    "val_BoW.to_csv(f'data_ptb-xl/bag_of_words/val_{n_words}_BoW.csv', index=False)"
   ],
   "metadata": {
    "collapsed": false,
    "ExecuteTime": {
     "end_time": "2024-05-07T16:59:37.998843Z",
     "start_time": "2024-05-07T16:59:37.948013Z"
    }
   },
   "id": "aabd0c1e95a55b58",
   "execution_count": 78
  },
  {
   "cell_type": "code",
   "outputs": [],
   "source": [
    "test = pd.read_csv('data_ptb-xl/test.csv')\n",
    "\n",
    "test_BoW = vectorizer.transform(test['preprocessed_report'])\n",
    "\n",
    "test_BoW = pd.DataFrame(test_BoW.toarray(), columns=vectorizer.get_feature_names_out())\n",
    "test_BoW = pd.concat([test['ecg_id'].reset_index(drop=True), test_BoW], axis=1)\n",
    "test_BoW['ecg_id'] = test_BoW['ecg_id'].astype(int)\n",
    "\n",
    "test_BoW.to_csv(f'data_ptb-xl/bag_of_words/test_{n_words}_BoW.csv', index=False)"
   ],
   "metadata": {
    "collapsed": false,
    "ExecuteTime": {
     "end_time": "2024-05-07T16:59:39.574126Z",
     "start_time": "2024-05-07T16:59:39.516752Z"
    }
   },
   "id": "4dffca67d98c5b3",
   "execution_count": 79
  },
  {
   "cell_type": "code",
   "outputs": [],
   "source": [],
   "metadata": {
    "collapsed": false,
    "ExecuteTime": {
     "end_time": "2024-05-07T16:59:40.370805Z",
     "start_time": "2024-05-07T16:59:40.363828Z"
    }
   },
   "id": "57f995c6b2e607b0",
   "execution_count": 79
  },
  {
   "cell_type": "code",
   "outputs": [],
   "source": [],
   "metadata": {
    "collapsed": false,
    "ExecuteTime": {
     "end_time": "2024-05-07T16:59:40.895177Z",
     "start_time": "2024-05-07T16:59:40.889248Z"
    }
   },
   "id": "8f4f0a67793f747c",
   "execution_count": 79
  },
  {
   "cell_type": "code",
   "outputs": [
    {
     "name": "stdout",
     "output_type": "stream",
     "text": [
      "ecg_id, 46, abnormal, age, amp, anterior, anteroseptal, are, atrial, axis, be, block, branch, bundle, ecg, fibrillation, high, hypertrophy, in, infarction, inferior, ischemia, lateral, leads, left, low, myocardial, non, nonspecific, normal, old, or, otherwise, position, possible, probable, probably, qrs, report, rhythm, right, sinistrocardiale, sinus, specific, st, strain, to, type, unconfirmed, ventricular, waves, "
     ]
    }
   ],
   "source": [
    "for word in train_BoW.columns:\n",
    "    print(word, end=', ')"
   ],
   "metadata": {
    "collapsed": false,
    "ExecuteTime": {
     "end_time": "2024-05-07T16:59:41.967627Z",
     "start_time": "2024-05-07T16:59:41.951680Z"
    }
   },
   "id": "95c749e72100d97",
   "execution_count": 80
  },
  {
   "cell_type": "code",
   "outputs": [
    {
     "data": {
      "text/plain": "<Figure size 2000x800 with 1 Axes>",
      "image/png": "[encoded data removed]"
     },
     "metadata": {},
     "output_type": "display_data"
    }
   ],
   "source": [
    "import matplotlib.pyplot as plt\n",
    "\n",
    "# train_BoW.set_index('ecg_id', inplace=True)\n",
    "word_counts = train_BoW.sum(axis=0).sort_values(ascending=False)\n",
    "top_20_words = word_counts.head(40)\n",
    "\n",
    "plt.figure(figsize=(20, 8))\n",
    "top_20_words.plot(kind='bar')\n",
    "plt.title('Top 40 Most Frequent Words')\n",
    "plt.xlabel('Words')\n",
    "plt.ylabel('Frequency')\n",
    "plt.xticks(rotation=90)\n",
    "plt.show()"
   ],
   "metadata": {
    "collapsed": false,
    "ExecuteTime": {
     "end_time": "2024-05-07T17:06:50.509811Z",
     "start_time": "2024-05-07T17:06:50.345656Z"
    }
   },
   "id": "2f8994d4709b9ffd",
   "execution_count": 89
  },
  {
   "cell_type": "code",
   "outputs": [
    {
     "data": {
      "text/plain": "       ecg_id  patient_id    age  sex  height  weight  nurse  site  \\\n3054     3069     10781.0   55.0    0     NaN     NaN    1.0   2.0   \n3194     3209      9254.0   73.0    1     NaN     NaN    1.0   2.0   \n3215     3230     18090.0  300.0    1     NaN     NaN    1.0   2.0   \n4303     4323     18026.0   60.0    1     NaN     NaN    0.0   0.0   \n4306     4326      9390.0   48.0    0     NaN     NaN    0.0   0.0   \n...       ...         ...    ...  ...     ...     ...    ...   ...   \n21794   21833     17180.0   67.0    1     NaN     NaN    1.0   2.0   \n21795   21834     20703.0  300.0    0     NaN     NaN    1.0   2.0   \n21796   21835     19311.0   59.0    1     NaN     NaN    1.0   2.0   \n21797   21836      8873.0   64.0    1     NaN     NaN    1.0   2.0   \n21798   21837     11744.0   68.0    0     NaN     NaN    1.0   2.0   \n\n           device       recording_date  ... validated_by_human baseline_drift  \\\n3054   AT-60    3  1989-07-09 15:01:09  ...               True            NaN   \n3194   AT-60    3  1989-07-27 16:43:23  ...               True            NaN   \n3215   AT-60    3  1989-07-29 17:13:38  ...               True            NaN   \n4303   CS100    3  1990-07-01 06:08:44  ...              False            NaN   \n4306   CS100    3  1990-07-01 09:00:37  ...              False            NaN   \n...           ...                  ...  ...                ...            ...   \n21794  AT-60    3  2001-05-31 09:14:35  ...               True            NaN   \n21795  AT-60    3  2001-06-05 11:33:39  ...               True            NaN   \n21796  AT-60    3  2001-06-08 10:30:27  ...               True            NaN   \n21797  AT-60    3  2001-06-09 18:21:49  ...               True            NaN   \n21798  AT-60    3  2001-06-11 16:43:01  ...               True            NaN   \n\n      static_noise burst_noise electrodes_problems  extra_beats  pacemaker  \\\n3054           NaN         NaN                 NaN          NaN        NaN   \n3194           NaN         NaN                 NaN          NaN        NaN   \n3215    , alles,           NaN                 NaN          NaN        NaN   \n4303           NaN         NaN                 NaN          NaN        NaN   \n4306           NaN       alles                 NaN          NaN        NaN   \n...            ...         ...                 ...          ...        ...   \n21794   , alles,           NaN                 NaN          1ES        NaN   \n21795          NaN         NaN                 NaN          NaN        NaN   \n21796   , I-AVR,           NaN                 NaN          NaN        NaN   \n21797          NaN         NaN                 NaN         SVES        NaN   \n21798   , I-AVL,           NaN                 NaN          NaN        NaN   \n\n       strat_fold                filename_lr                filename_hr  \n3054            1  records100/03000/03069_lr  records500/03000/03069_hr  \n3194            4  records100/03000/03209_lr  records500/03000/03209_hr  \n3215            7  records100/03000/03230_lr  records500/03000/03230_hr  \n4303            2  records100/04000/04323_lr  records500/04000/04323_hr  \n4306            4  records100/04000/04326_lr  records500/04000/04326_hr  \n...           ...                        ...                        ...  \n21794           7  records100/21000/21833_lr  records500/21000/21833_hr  \n21795           4  records100/21000/21834_lr  records500/21000/21834_hr  \n21796           2  records100/21000/21835_lr  records500/21000/21835_hr  \n21797           8  records100/21000/21836_lr  records500/21000/21836_hr  \n21798           9  records100/21000/21837_lr  records500/21000/21837_hr  \n\n[7038 rows x 28 columns]",
      "text/html": "<div>\n<style scoped>\n    .dataframe tbody tr th:only-of-type {\n        vertical-align: middle;\n    }\n\n    .dataframe tbody tr th {\n        vertical-align: top;\n    }\n\n    .dataframe thead th {\n        text-align: right;\n    }\n</style>\n<table border=\"1\" class=\"dataframe\">\n  <thead>\n    <tr style=\"text-align: right;\">\n      <th></th>\n      <th>ecg_id</th>\n      <th>patient_id</th>\n      <th>age</th>\n      <th>sex</th>\n      <th>height</th>\n      <th>weight</th>\n      <th>nurse</th>\n      <th>site</th>\n      <th>device</th>\n      <th>recording_date</th>\n      <th>...</th>\n      <th>validated_by_human</th>\n      <th>baseline_drift</th>\n      <th>static_noise</th>\n      <th>burst_noise</th>\n      <th>electrodes_problems</th>\n      <th>extra_beats</th>\n      <th>pacemaker</th>\n      <th>strat_fold</th>\n      <th>filename_lr</th>\n      <th>filename_hr</th>\n    </tr>\n  </thead>\n  <tbody>\n    <tr>\n      <th>3054</th>\n      <td>3069</td>\n      <td>10781.0</td>\n      <td>55.0</td>\n      <td>0</td>\n      <td>NaN</td>\n      <td>NaN</td>\n      <td>1.0</td>\n      <td>2.0</td>\n      <td>AT-60    3</td>\n      <td>1989-07-09 15:01:09</td>\n      <td>...</td>\n      <td>True</td>\n      <td>NaN</td>\n      <td>NaN</td>\n      <td>NaN</td>\n      <td>NaN</td>\n      <td>NaN</td>\n      <td>NaN</td>\n      <td>1</td>\n      <td>records100/03000/03069_lr</td>\n      <td>records500/03000/03069_hr</td>\n    </tr>\n    <tr>\n      <th>3194</th>\n      <td>3209</td>\n      <td>9254.0</td>\n      <td>73.0</td>\n      <td>1</td>\n      <td>NaN</td>\n      <td>NaN</td>\n      <td>1.0</td>\n      <td>2.0</td>\n      <td>AT-60    3</td>\n      <td>1989-07-27 16:43:23</td>\n      <td>...</td>\n      <td>True</td>\n      <td>NaN</td>\n      <td>NaN</td>\n      <td>NaN</td>\n      <td>NaN</td>\n      <td>NaN</td>\n      <td>NaN</td>\n      <td>4</td>\n      <td>records100/03000/03209_lr</td>\n      <td>records500/03000/03209_hr</td>\n    </tr>\n    <tr>\n      <th>3215</th>\n      <td>3230</td>\n      <td>18090.0</td>\n      <td>300.0</td>\n      <td>1</td>\n      <td>NaN</td>\n      <td>NaN</td>\n      <td>1.0</td>\n      <td>2.0</td>\n      <td>AT-60    3</td>\n      <td>1989-07-29 17:13:38</td>\n      <td>...</td>\n      <td>True</td>\n      <td>NaN</td>\n      <td>, alles,</td>\n      <td>NaN</td>\n      <td>NaN</td>\n      <td>NaN</td>\n      <td>NaN</td>\n      <td>7</td>\n      <td>records100/03000/03230_lr</td>\n      <td>records500/03000/03230_hr</td>\n    </tr>\n    <tr>\n      <th>4303</th>\n      <td>4323</td>\n      <td>18026.0</td>\n      <td>60.0</td>\n      <td>1</td>\n      <td>NaN</td>\n      <td>NaN</td>\n      <td>0.0</td>\n      <td>0.0</td>\n      <td>CS100    3</td>\n      <td>1990-07-01 06:08:44</td>\n      <td>...</td>\n      <td>False</td>\n      <td>NaN</td>\n      <td>NaN</td>\n      <td>NaN</td>\n      <td>NaN</td>\n      <td>NaN</td>\n      <td>NaN</td>\n      <td>2</td>\n      <td>records100/04000/04323_lr</td>\n      <td>records500/04000/04323_hr</td>\n    </tr>\n    <tr>\n      <th>4306</th>\n      <td>4326</td>\n      <td>9390.0</td>\n      <td>48.0</td>\n      <td>0</td>\n      <td>NaN</td>\n      <td>NaN</td>\n      <td>0.0</td>\n      <td>0.0</td>\n      <td>CS100    3</td>\n      <td>1990-07-01 09:00:37</td>\n      <td>...</td>\n      <td>False</td>\n      <td>NaN</td>\n      <td>NaN</td>\n      <td>alles</td>\n      <td>NaN</td>\n      <td>NaN</td>\n      <td>NaN</td>\n      <td>4</td>\n      <td>records100/04000/04326_lr</td>\n      <td>records500/04000/04326_hr</td>\n    </tr>\n    <tr>\n      <th>...</th>\n      <td>...</td>\n      <td>...</td>\n      <td>...</td>\n      <td>...</td>\n      <td>...</td>\n      <td>...</td>\n      <td>...</td>\n      <td>...</td>\n      <td>...</td>\n      <td>...</td>\n      <td>...</td>\n      <td>...</td>\n      <td>...</td>\n      <td>...</td>\n      <td>...</td>\n      <td>...</td>\n      <td>...</td>\n      <td>...</td>\n      <td>...</td>\n      <td>...</td>\n      <td>...</td>\n    </tr>\n    <tr>\n      <th>21794</th>\n      <td>21833</td>\n      <td>17180.0</td>\n      <td>67.0</td>\n      <td>1</td>\n      <td>NaN</td>\n      <td>NaN</td>\n      <td>1.0</td>\n      <td>2.0</td>\n      <td>AT-60    3</td>\n      <td>2001-05-31 09:14:35</td>\n      <td>...</td>\n      <td>True</td>\n      <td>NaN</td>\n      <td>, alles,</td>\n      <td>NaN</td>\n      <td>NaN</td>\n      <td>1ES</td>\n      <td>NaN</td>\n      <td>7</td>\n      <td>records100/21000/21833_lr</td>\n      <td>records500/21000/21833_hr</td>\n    </tr>\n    <tr>\n      <th>21795</th>\n      <td>21834</td>\n      <td>20703.0</td>\n      <td>300.0</td>\n      <td>0</td>\n      <td>NaN</td>\n      <td>NaN</td>\n      <td>1.0</td>\n      <td>2.0</td>\n      <td>AT-60    3</td>\n      <td>2001-06-05 11:33:39</td>\n      <td>...</td>\n      <td>True</td>\n      <td>NaN</td>\n      <td>NaN</td>\n      <td>NaN</td>\n      <td>NaN</td>\n      <td>NaN</td>\n      <td>NaN</td>\n      <td>4</td>\n      <td>records100/21000/21834_lr</td>\n      <td>records500/21000/21834_hr</td>\n    </tr>\n    <tr>\n      <th>21796</th>\n      <td>21835</td>\n      <td>19311.0</td>\n      <td>59.0</td>\n      <td>1</td>\n      <td>NaN</td>\n      <td>NaN</td>\n      <td>1.0</td>\n      <td>2.0</td>\n      <td>AT-60    3</td>\n      <td>2001-06-08 10:30:27</td>\n      <td>...</td>\n      <td>True</td>\n      <td>NaN</td>\n      <td>, I-AVR,</td>\n      <td>NaN</td>\n      <td>NaN</td>\n      <td>NaN</td>\n      <td>NaN</td>\n      <td>2</td>\n      <td>records100/21000/21835_lr</td>\n      <td>records500/21000/21835_hr</td>\n    </tr>\n    <tr>\n      <th>21797</th>\n      <td>21836</td>\n      <td>8873.0</td>\n      <td>64.0</td>\n      <td>1</td>\n      <td>NaN</td>\n      <td>NaN</td>\n      <td>1.0</td>\n      <td>2.0</td>\n      <td>AT-60    3</td>\n      <td>2001-06-09 18:21:49</td>\n      <td>...</td>\n      <td>True</td>\n      <td>NaN</td>\n      <td>NaN</td>\n      <td>NaN</td>\n      <td>NaN</td>\n      <td>SVES</td>\n      <td>NaN</td>\n      <td>8</td>\n      <td>records100/21000/21836_lr</td>\n      <td>records500/21000/21836_hr</td>\n    </tr>\n    <tr>\n      <th>21798</th>\n      <td>21837</td>\n      <td>11744.0</td>\n      <td>68.0</td>\n      <td>0</td>\n      <td>NaN</td>\n      <td>NaN</td>\n      <td>1.0</td>\n      <td>2.0</td>\n      <td>AT-60    3</td>\n      <td>2001-06-11 16:43:01</td>\n      <td>...</td>\n      <td>True</td>\n      <td>NaN</td>\n      <td>, I-AVL,</td>\n      <td>NaN</td>\n      <td>NaN</td>\n      <td>NaN</td>\n      <td>NaN</td>\n      <td>9</td>\n      <td>records100/21000/21837_lr</td>\n      <td>records500/21000/21837_hr</td>\n    </tr>\n  </tbody>\n</table>\n<p>7038 rows × 28 columns</p>\n</div>"
     },
     "execution_count": 82,
     "metadata": {},
     "output_type": "execute_result"
    }
   ],
   "source": [
    "data.loc[data['report'].str.contains('46')]"
   ],
   "metadata": {
    "collapsed": false,
    "ExecuteTime": {
     "end_time": "2024-05-07T16:59:44.871669Z",
     "start_time": "2024-05-07T16:59:44.846753Z"
    }
   },
   "id": "405d460e12045593",
   "execution_count": 82
  },
  {
   "cell_type": "code",
   "outputs": [
    {
     "data": {
      "text/plain": "6813"
     },
     "execution_count": 83,
     "metadata": {},
     "output_type": "execute_result"
    }
   ],
   "source": [
    "# unconfirmed report\n",
    "len(data.loc[data['report'].str.contains('unbestÄtigter bericht') & data['report'].str.contains('46')])"
   ],
   "metadata": {
    "collapsed": false,
    "ExecuteTime": {
     "end_time": "2024-05-07T16:59:45.998767Z",
     "start_time": "2024-05-07T16:59:45.969860Z"
    }
   },
   "id": "73b08ba57be6a938",
   "execution_count": 83
  },
  {
   "cell_type": "code",
   "outputs": [],
   "source": [],
   "metadata": {
    "collapsed": false,
    "ExecuteTime": {
     "end_time": "2024-05-07T16:59:47.886458Z",
     "start_time": "2024-05-07T16:59:47.883468Z"
    }
   },
   "id": "879213ea973c7a9a",
   "execution_count": 83
  }
 ],
 "metadata": {
  "kernelspec": {
   "display_name": "Python 3",
   "language": "python",
   "name": "python3"
  },
  "language_info": {
   "codemirror_mode": {
    "name": "ipython",
    "version": 2
   },
   "file_extension": ".py",
   "mimetype": "text/x-python",
   "name": "python",
   "nbconvert_exporter": "python",
   "pygments_lexer": "ipython2",
   "version": "2.7.6"
  }
 },
 "nbformat": 4,
 "nbformat_minor": 5
}
