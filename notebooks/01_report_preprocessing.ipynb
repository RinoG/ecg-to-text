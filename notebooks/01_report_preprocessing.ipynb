{
 "cells": [
  {
   "cell_type": "code",
   "execution_count": 3,
   "id": "initial_id",
   "metadata": {
    "collapsed": true,
    "ExecuteTime": {
     "end_time": "2024-03-07T14:06:27.402824100Z",
     "start_time": "2024-03-07T14:06:26.402987300Z"
    }
   },
   "outputs": [],
   "source": [
    "import pandas as pd\n",
    "from textblob import TextBlob\n",
    "from wordcloud import WordCloud\n",
    "import matplotlib.pyplot as plt"
   ]
  },
  {
   "cell_type": "markdown",
   "source": [
    "# Language Detection"
   ],
   "metadata": {
    "collapsed": false
   },
   "id": "a0608b5b60d191e9"
  },
  {
   "cell_type": "code",
   "outputs": [],
   "source": [
    "# !pip install langdetect\n",
    "# !pip install langid"
   ],
   "metadata": {
    "collapsed": false,
    "ExecuteTime": {
     "end_time": "2024-02-29T15:31:40.179366800Z",
     "start_time": "2024-02-29T15:31:40.165412300Z"
    }
   },
   "id": "881f1fdd14f3888f",
   "execution_count": 13
  },
  {
   "cell_type": "code",
   "outputs": [],
   "source": [
    "ptbxl_103 = pd.read_csv('../data_ptb-xl/train.csv')\n",
    "ptbxl_101 = pd.read_csv('../data_ptb-xl_1.0.1/en_df_round4.csv')"
   ],
   "metadata": {
    "collapsed": false,
    "ExecuteTime": {
     "end_time": "2024-03-07T14:06:35.243397600Z",
     "start_time": "2024-03-07T14:06:35.153698700Z"
    }
   },
   "id": "2c069a8e3b0b1695",
   "execution_count": 4
  },
  {
   "cell_type": "code",
   "outputs": [
    {
     "data": {
      "text/plain": "(13095, 16272)"
     },
     "execution_count": 5,
     "metadata": {},
     "output_type": "execute_result"
    }
   ],
   "source": [
    "len(ptbxl_103) , len(ptbxl_101)"
   ],
   "metadata": {
    "collapsed": false,
    "ExecuteTime": {
     "end_time": "2024-03-07T14:06:38.422006400Z",
     "start_time": "2024-03-07T14:06:38.404066700Z"
    }
   },
   "id": "1cdb45ee6752507e",
   "execution_count": 5
  },
  {
   "cell_type": "code",
   "outputs": [
    {
     "data": {
      "text/plain": "   ecg_id                                  report\n0       1      sinusrhythm peripheral low voltage\n1       2  sinus bradycardia otherwise normal ekg\n2       3                 sinus rhythm normal ekg\n3       4                 sinus rhythm normal ekg\n4       5                 sinus rhythm normal ekg",
      "text/html": "<div>\n<style scoped>\n    .dataframe tbody tr th:only-of-type {\n        vertical-align: middle;\n    }\n\n    .dataframe tbody tr th {\n        vertical-align: top;\n    }\n\n    .dataframe thead th {\n        text-align: right;\n    }\n</style>\n<table border=\"1\" class=\"dataframe\">\n  <thead>\n    <tr style=\"text-align: right;\">\n      <th></th>\n      <th>ecg_id</th>\n      <th>report</th>\n    </tr>\n  </thead>\n  <tbody>\n    <tr>\n      <th>0</th>\n      <td>1</td>\n      <td>sinusrhythm peripheral low voltage</td>\n    </tr>\n    <tr>\n      <th>1</th>\n      <td>2</td>\n      <td>sinus bradycardia otherwise normal ekg</td>\n    </tr>\n    <tr>\n      <th>2</th>\n      <td>3</td>\n      <td>sinus rhythm normal ekg</td>\n    </tr>\n    <tr>\n      <th>3</th>\n      <td>4</td>\n      <td>sinus rhythm normal ekg</td>\n    </tr>\n    <tr>\n      <th>4</th>\n      <td>5</td>\n      <td>sinus rhythm normal ekg</td>\n    </tr>\n  </tbody>\n</table>\n</div>"
     },
     "execution_count": 6,
     "metadata": {},
     "output_type": "execute_result"
    }
   ],
   "source": [
    "ptbxl_101.head()"
   ],
   "metadata": {
    "collapsed": false,
    "ExecuteTime": {
     "end_time": "2024-03-07T14:06:38.837682100Z",
     "start_time": "2024-03-07T14:06:38.806785100Z"
    }
   },
   "id": "c58189fafd5d01b3",
   "execution_count": 6
  },
  {
   "cell_type": "markdown",
   "source": [],
   "metadata": {
    "collapsed": false
   },
   "id": "6a8ca76d1e648b4b"
  },
  {
   "cell_type": "markdown",
   "source": [
    "## langdetect"
   ],
   "metadata": {
    "collapsed": false
   },
   "id": "1edd6c5ecc3db92"
  },
  {
   "cell_type": "code",
   "outputs": [],
   "source": [
    "from langdetect import detect\n",
    "from langdetect.lang_detect_exception import LangDetectException\n",
    "\n",
    "def detect_language_langdetect(text):\n",
    "    try:\n",
    "        return detect(text)\n",
    "    except LangDetectException:\n",
    "        return \"unknown\""
   ],
   "metadata": {
    "collapsed": false,
    "ExecuteTime": {
     "end_time": "2024-03-07T14:06:50.002483900Z",
     "start_time": "2024-03-07T14:06:49.937701Z"
    }
   },
   "id": "c085545a8ef35eee",
   "execution_count": 7
  },
  {
   "cell_type": "code",
   "outputs": [],
   "source": [
    "ptbxl_103['langdetect'] = ptbxl_103['preprocessed_report'].apply(detect_language_langdetect)\n",
    "ptbxl_101['langdetect'] = ptbxl_101['report'].astype(str).apply(detect_language_langdetect)"
   ],
   "metadata": {
    "collapsed": false,
    "ExecuteTime": {
     "end_time": "2024-03-07T14:08:17.020739900Z",
     "start_time": "2024-03-07T14:06:50.220753200Z"
    }
   },
   "id": "14904762bc58ceb3",
   "execution_count": 8
  },
  {
   "cell_type": "code",
   "outputs": [
    {
     "name": "stdout",
     "output_type": "stream",
     "text": [
      "  langdetect  ptbxl_101_count  ptbxl_103_count\n",
      "0         en            14003            11654\n",
      "1     non-en             2269             1441\n"
     ]
    }
   ],
   "source": [
    "ptbxl_101['langdetect_modified'] = ptbxl_101['langdetect'].apply(lambda x: 'en' if x == 'en' else 'non-en')\n",
    "ptbxl_103['langdetect_modified'] = ptbxl_103['langdetect'].apply(lambda x: 'en' if x == 'en' else 'non-en')\n",
    "\n",
    "\n",
    "ptbxl_101_counts = ptbxl_101['langdetect_modified'].value_counts().reset_index()\n",
    "ptbxl_103_counts = ptbxl_103['langdetect_modified'].value_counts().reset_index()\n",
    "\n",
    "ptbxl_101_counts.columns = ['langdetect', 'ptbxl_101_count']\n",
    "ptbxl_103_counts.columns = ['langdetect', 'ptbxl_103_count']\n",
    "\n",
    "merged_counts = pd.merge(ptbxl_101_counts, ptbxl_103_counts, on='langdetect', how='outer')\n",
    "\n",
    "merged_counts.fillna(0, inplace=True)\n",
    "\n",
    "merged_counts['ptbxl_101_count'] = merged_counts['ptbxl_101_count'].astype(int)\n",
    "merged_counts['ptbxl_103_count'] = merged_counts['ptbxl_103_count'].astype(int)\n",
    "\n",
    "print(merged_counts)"
   ],
   "metadata": {
    "collapsed": false,
    "ExecuteTime": {
     "end_time": "2024-03-07T14:20:09.101477700Z",
     "start_time": "2024-03-07T14:20:09.061608600Z"
    }
   },
   "id": "2e59ff87f609cf75",
   "execution_count": 22
  },
  {
   "cell_type": "markdown",
   "source": [
    "## langid"
   ],
   "metadata": {
    "collapsed": false
   },
   "id": "cc045fd4b4e80588"
  },
  {
   "cell_type": "code",
   "outputs": [],
   "source": [
    "import langid\n",
    "\n",
    "def detect_language_langid(text):\n",
    "    try:\n",
    "        language, _ = langid.classify(text)\n",
    "        return language\n",
    "    except LangDetectException:\n",
    "        return \"unknown\""
   ],
   "metadata": {
    "collapsed": false,
    "ExecuteTime": {
     "end_time": "2024-03-07T14:08:17.079543Z",
     "start_time": "2024-03-07T14:08:17.037683Z"
    }
   },
   "id": "1ca88851afd94650",
   "execution_count": 10
  },
  {
   "cell_type": "code",
   "outputs": [],
   "source": [
    "ptbxl_103['langid'] = ptbxl_103['preprocessed_report'].apply(detect_language_langid)\n",
    "ptbxl_101['langid'] = ptbxl_101['report'].astype(str).apply(detect_language_langid)"
   ],
   "metadata": {
    "collapsed": false,
    "ExecuteTime": {
     "end_time": "2024-03-07T14:09:12.372769300Z",
     "start_time": "2024-03-07T14:08:17.071569700Z"
    }
   },
   "id": "7758ce91412b5fda",
   "execution_count": 11
  },
  {
   "cell_type": "code",
   "outputs": [
    {
     "name": "stdout",
     "output_type": "stream",
     "text": [
      "   langid  ptbxl_101_count  ptbxl_103_count\n",
      "0      en            12381            10337\n",
      "1  non-en             3891             2758\n"
     ]
    }
   ],
   "source": [
    "ptbxl_101['langid_modified'] = ptbxl_101['langid'].apply(lambda x: 'en' if x == 'en' else 'non-en')\n",
    "ptbxl_103['langid_modified'] = ptbxl_103['langid'].apply(lambda x: 'en' if x == 'en' else 'non-en')\n",
    "\n",
    "ptbxl_101_counts = ptbxl_101['langid_modified'].value_counts().reset_index()\n",
    "ptbxl_103_counts = ptbxl_103['langid_modified'].value_counts().reset_index()\n",
    "\n",
    "ptbxl_101_counts.columns = ['langid', 'ptbxl_101_count']\n",
    "ptbxl_103_counts.columns = ['langid', 'ptbxl_103_count']\n",
    "\n",
    "merged_counts = pd.merge(ptbxl_101_counts, ptbxl_103_counts, on='langid', how='outer')\n",
    "\n",
    "merged_counts.fillna(0, inplace=True)\n",
    "\n",
    "merged_counts['ptbxl_101_count'] = merged_counts['ptbxl_101_count'].astype(int)\n",
    "merged_counts['ptbxl_103_count'] = merged_counts['ptbxl_103_count'].astype(int)\n",
    "\n",
    "print(merged_counts)"
   ],
   "metadata": {
    "collapsed": false,
    "ExecuteTime": {
     "end_time": "2024-03-07T14:21:03.298205300Z",
     "start_time": "2024-03-07T14:21:03.251358100Z"
    }
   },
   "id": "5aa15ad011abdccd",
   "execution_count": 23
  },
  {
   "cell_type": "markdown",
   "source": [
    "## Compare Language Detection"
   ],
   "metadata": {
    "collapsed": false
   },
   "id": "3fa0da5d189a8e84"
  },
  {
   "cell_type": "code",
   "outputs": [
    {
     "data": {
      "text/plain": "comparison\nsame     10074\nlt-cy      920\nlt-en      660\nfr-en      433\nen-es      211\n         ...  \nro-it        1\nda-ca        1\naf-en        1\nfr-sv        1\nla-sv        1\nName: count, Length: 101, dtype: int64"
     },
     "execution_count": 24,
     "metadata": {},
     "output_type": "execute_result"
    }
   ],
   "source": [
    "ptbxl_103['comparison'] = ptbxl_103.apply(lambda row: 'same' if row['langid'] == row['langdetect'] else f\"{row['langid']}-{row['langdetect']}\", axis=1)\n",
    "ptbxl_103['comparison'].value_counts()"
   ],
   "metadata": {
    "collapsed": false,
    "ExecuteTime": {
     "end_time": "2024-03-07T14:21:35.251541100Z",
     "start_time": "2024-03-07T14:21:35.163830Z"
    }
   },
   "id": "94cd544f1b82d0de",
   "execution_count": 24
  },
  {
   "cell_type": "code",
   "outputs": [
    {
     "data": {
      "text/plain": "comparison\nsame     12258\nlt-cy     1281\nlt-en     1091\nes-en      232\nfr-en      208\n         ...  \nde-fi        1\nfo-sv        1\nnn-ca        1\ncs-en        1\nsv-it        1\nName: count, Length: 95, dtype: int64"
     },
     "execution_count": 25,
     "metadata": {},
     "output_type": "execute_result"
    }
   ],
   "source": [
    "ptbxl_101['comparison'] = ptbxl_101.apply(lambda row: 'same' if row['langid'] == row['langdetect'] else f\"{row['langid']}-{row['langdetect']}\", axis=1)\n",
    "ptbxl_101['comparison'].value_counts()"
   ],
   "metadata": {
    "collapsed": false,
    "ExecuteTime": {
     "end_time": "2024-03-07T14:21:39.378633Z",
     "start_time": "2024-03-07T14:21:39.300847100Z"
    }
   },
   "id": "adf4d1bb5f086a6c",
   "execution_count": 25
  },
  {
   "cell_type": "markdown",
   "source": [
    "## Look at non-english words"
   ],
   "metadata": {
    "collapsed": false
   },
   "id": "77c3207ce96f2d30"
  },
  {
   "cell_type": "code",
   "outputs": [
    {
     "data": {
      "text/plain": "report\nsinusrhythm position type normal normal ecg                                                                                                                                                               1195\nsinusrhythm location type normal normal ekg 4.46 unconfirmed report                                                                                                                                       1036\nsinus rhythm. normal ecg.                                                                                                                                                                                  628\nsinus rhythm normal ekg                                                                                                                                                                                    253\nsinusrhythm left type otherwise normal ekg 4.46 unconfirmed report                                                                                                                                         246\n                                                                                                                                                                                                          ... \nsinus rhythm position type normal t abnormal in highly lateral leads qt extension                                                                                                                            1\nsinus rhythm left type qrs (t) abnormal high lateral infarction possible                                                                                                                                     1\natrial fibrillation / flutter left type st & t abnormal, probably anterior ischemia or left exposure lateral ischemia or left exposure inferolateral ischemia or left exposure 4.46 unconfirmed report       1\nsinus rhythm suspected p-sinistrocardiale overturned left type right bundle branch block qrs (t) abnormal inferior infarct possible. acute 4.46 unconfirmed report                                           1\nsinus rhythm position type normal t abnormal in anterior leads 4.46 unconfirmed report Edit: INJAS 50, (ISCAS)                                                                                               1\nName: count, Length: 5710, dtype: int64"
     },
     "execution_count": 35,
     "metadata": {},
     "output_type": "execute_result"
    }
   ],
   "source": [
    "df = ptbxl_101.loc[ptbxl_101['langdetect'] == 'en']\n",
    "\n",
    "df['report'].value_counts()"
   ],
   "metadata": {
    "collapsed": false,
    "ExecuteTime": {
     "end_time": "2024-03-07T14:40:39.315044Z",
     "start_time": "2024-03-07T14:40:39.279147500Z"
    }
   },
   "id": "8a0b87a790b6bd20",
   "execution_count": 35
  },
  {
   "cell_type": "code",
   "outputs": [
    {
     "data": {
      "text/plain": "preprocessed_report\nsinus rhythm normal ecg                                                                                                                                                                     910\ntrace requested                                                                                                                                                                             207\nsinus rhythm definite pathology                                                                                                                                                              52\npacemaker ecg                                                                                                                                                                                19\nsinusrhythmus ueberdrehter linkstyp                                                                                                                                                          14\n                                                                                                                                                                                           ... \nsinus rhythm mlt llt neg v1 normal ecg                                                                                                                                                        1\nsinus rhythm left type intraventricular conduction disturbance iii avf neg p iii avf ecg probably normal                                                                                      1\nventricular extrasystole supraventricular extrasystole bigeminus supraventricular replacement systole sinus rhythm excessive left type left hypertrophy possible 4 46 unconfirmed report      1\nsinusrhythmus lagetyp normal term neg v2 3 flach v4 6                                                                                                                                         1\nventricular tachycardia 4 46 unconfirmed report                                                                                                                                               1\nName: count, Length: 206, dtype: int64"
     },
     "execution_count": 36,
     "metadata": {},
     "output_type": "execute_result"
    }
   ],
   "source": [
    "df = ptbxl_103.loc[ptbxl_103['langdetect'] != 'en']\n",
    "\n",
    "df['preprocessed_report'].value_counts()"
   ],
   "metadata": {
    "collapsed": false,
    "ExecuteTime": {
     "end_time": "2024-03-07T14:44:10.207005700Z",
     "start_time": "2024-03-07T14:44:10.143219400Z"
    }
   },
   "id": "6fa9dd0709ab6639",
   "execution_count": 36
  },
  {
   "cell_type": "code",
   "outputs": [
    {
     "data": {
      "text/plain": "report\nsinus rhythm. normal ecg.                                                                                                                           1732\nsinus rhythm normal ekg                                                                                                                              646\nsinus rhythm. no definite pathology.                                                                                                                 217\nsinus rhythm normal ecg                                                                                                                               59\nsinus arrhythmia. normal ecg.                                                                                                                         52\n                                                                                                                                                    ... \nsinusrytm inget secures pathologisct                                                                                                                   1\nsinusrytm extremely vÄnster el-axel ospecifikt skänkelblock                                                                                            1\nsupraventricular (a) extrasystoli (er) sinusrytm extremely vÄnster el-axel vÄnstersidigt skänkelblock                                                  1\nsinusrytm avvikande qrs (t) fÖrlopp hÖg lateral infarct bÖr ÖvervÄgas st-t sÄnkning, sÅsom vid anterior ischemical eller vÄnsterladen                  1\nventricular extrasystole (n) sinus rhythm p-sinistrocardiale left type qrs (t) abnormal inferior infarct age unconfirmed 4.46 unconfirmed report       1\nName: count, Length: 691, dtype: int64"
     },
     "execution_count": 37,
     "metadata": {},
     "output_type": "execute_result"
    }
   ],
   "source": [
    "df = ptbxl_101.loc[ptbxl_101['langid'] != 'en']\n",
    "\n",
    "df['report'].value_counts()"
   ],
   "metadata": {
    "collapsed": false,
    "ExecuteTime": {
     "end_time": "2024-03-07T14:44:37.674038600Z",
     "start_time": "2024-03-07T14:44:37.646132800Z"
    }
   },
   "id": "1b9e3d3d3bab1308",
   "execution_count": 37
  },
  {
   "cell_type": "code",
   "outputs": [
    {
     "data": {
      "text/plain": "preprocessed_report\nsinus rhythm position type normal normal ecg                                                                                                                                                           773\nsinus rhythm position type normal normal ecg 4 46 unconfirmed report                                                                                                                                   637\ntrace requested                                                                                                                                                                                        207\nsinus rhythm left type otherwise normal ecg 4 46 unconfirmed report                                                                                                                                    149\nsinus rhythm left type otherwise normal ecg                                                                                                                                                            140\n                                                                                                                                                                                                      ... \nventricular extrasystole atrial fibrillation flutter excessive left type peripheral low voltage qrs abnormal anteroseptal myocardial damage ruled 4 46 unconfirmed report                                1\nventricular extrasystole supraventricular extrasystole sinus rhythm v block p widening left type right bundle branch block qrs abnormal inferior infarction age unconfirmed 4 46 unconfirmed report      1\nsinus rhythm position type normal qrs abnormal anterolateral infarction possible inferior infarction age undetermined 4 46 unconfirmed report                                                            1\nsinus rhythm position type normal qrs abnormal anterior infarction possible high lateral infarction possible                                                                                             1\nsinus rhythm position type normal abnormal anterior lead 4 46 unconfirmed report edit injas 50 iscas                                                                                                     1\nName: count, Length: 5592, dtype: int64"
     },
     "execution_count": 39,
     "metadata": {},
     "output_type": "execute_result"
    }
   ],
   "source": [
    "df = ptbxl_103.loc[ptbxl_103['langid'] == 'en']\n",
    "\n",
    "df['preprocessed_report'].value_counts()"
   ],
   "metadata": {
    "collapsed": false,
    "ExecuteTime": {
     "end_time": "2024-03-07T14:44:50.444607200Z",
     "start_time": "2024-03-07T14:44:50.412713400Z"
    }
   },
   "id": "fac36765b47b1634",
   "execution_count": 39
  },
  {
   "cell_type": "code",
   "outputs": [],
   "source": [],
   "metadata": {
    "collapsed": false
   },
   "id": "9cef79166b14026b"
  },
  {
   "cell_type": "code",
   "outputs": [],
   "source": [],
   "metadata": {
    "collapsed": false
   },
   "id": "a247246c3c66829a"
  },
  {
   "cell_type": "code",
   "outputs": [],
   "source": [],
   "metadata": {
    "collapsed": false
   },
   "id": "6672cda3e6edb9dc"
  },
  {
   "cell_type": "code",
   "outputs": [],
   "source": [],
   "metadata": {
    "collapsed": false
   },
   "id": "4e5f32dbac262071"
  },
  {
   "cell_type": "code",
   "outputs": [],
   "source": [],
   "metadata": {
    "collapsed": false
   },
   "id": "d211547240cd74a3"
  },
  {
   "cell_type": "code",
   "outputs": [],
   "source": [],
   "metadata": {
    "collapsed": false
   },
   "id": "5b07723b24f0c5a"
  },
  {
   "cell_type": "code",
   "outputs": [],
   "source": [],
   "metadata": {
    "collapsed": false
   },
   "id": "3a1512dbadd37512"
  },
  {
   "cell_type": "markdown",
   "source": [
    "todo:\n",
    "https://aws.amazon.com/blogs/industries/how-to-process-medical-text-in-multiple-languages-using-amazon-translate-and-amazon-comprehend-medical/\n",
    "https://arxiv.org/pdf/2311.16588.pdf"
   ],
   "metadata": {
    "collapsed": false
   },
   "id": "6a6427cda8c8d2ba"
  },
  {
   "cell_type": "code",
   "outputs": [],
   "source": [],
   "metadata": {
    "collapsed": false
   },
   "id": "8c310b2114df5631"
  }
 ],
 "metadata": {
  "kernelspec": {
   "display_name": "Python 3",
   "language": "python",
   "name": "python3"
  },
  "language_info": {
   "codemirror_mode": {
    "name": "ipython",
    "version": 2
   },
   "file_extension": ".py",
   "mimetype": "text/x-python",
   "name": "python",
   "nbconvert_exporter": "python",
   "pygments_lexer": "ipython2",
   "version": "2.7.6"
  }
 },
 "nbformat": 4,
 "nbformat_minor": 5
}
