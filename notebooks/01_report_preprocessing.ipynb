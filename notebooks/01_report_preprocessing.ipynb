{
 "cells": [
  {
   "cell_type": "code",
   "execution_count": 2,
   "id": "initial_id",
   "metadata": {
    "collapsed": true,
    "ExecuteTime": {
     "end_time": "2024-02-29T06:33:08.554700200Z",
     "start_time": "2024-02-29T06:33:02.350157100Z"
    }
   },
   "outputs": [],
   "source": [
    "import pandas as pd\n",
    "from textblob import TextBlob"
   ]
  },
  {
   "cell_type": "markdown",
   "source": [
    "# Language Detection"
   ],
   "metadata": {
    "collapsed": false
   },
   "id": "a0608b5b60d191e9"
  },
  {
   "cell_type": "code",
   "outputs": [],
   "source": [
    "# !pip install langdetect\n",
    "# !pip install langid"
   ],
   "metadata": {
    "collapsed": false,
    "ExecuteTime": {
     "end_time": "2024-02-28T15:19:42.101435400Z",
     "start_time": "2024-02-28T15:19:42.082492900Z"
    }
   },
   "id": "881f1fdd14f3888f",
   "execution_count": 5
  },
  {
   "cell_type": "markdown",
   "source": [
    "## TextBlob\n",
    "https://towardsdatascience.com/4-python-libraries-to-detect-english-and-non-english-language-c82ad3efd430"
   ],
   "metadata": {
    "collapsed": false
   },
   "id": "85008c3f7ee02737"
  },
  {
   "cell_type": "code",
   "outputs": [],
   "source": [
    "reports = pd.read_csv('../data_ptb-xl/train.csv')"
   ],
   "metadata": {
    "collapsed": false,
    "ExecuteTime": {
     "end_time": "2024-02-29T06:33:08.726147700Z",
     "start_time": "2024-02-29T06:33:08.660368Z"
    }
   },
   "id": "2c069a8e3b0b1695",
   "execution_count": 3
  },
  {
   "cell_type": "code",
   "outputs": [
    {
     "ename": "AttributeError",
     "evalue": "'TextBlob' object has no attribute 'detect_language'",
     "output_type": "error",
     "traceback": [
      "\u001B[1;31m---------------------------------------------------------------------------\u001B[0m",
      "\u001B[1;31mAttributeError\u001B[0m                            Traceback (most recent call last)",
      "Cell \u001B[1;32mIn[3], line 2\u001B[0m\n\u001B[0;32m      1\u001B[0m lang \u001B[38;5;241m=\u001B[39m TextBlob(reports[\u001B[38;5;124m'\u001B[39m\u001B[38;5;124mpreprocessed_report\u001B[39m\u001B[38;5;124m'\u001B[39m][\u001B[38;5;241m0\u001B[39m])\n\u001B[1;32m----> 2\u001B[0m language \u001B[38;5;241m=\u001B[39m \u001B[43mlang\u001B[49m\u001B[38;5;241;43m.\u001B[39;49m\u001B[43mdetect_language\u001B[49m()\n",
      "\u001B[1;31mAttributeError\u001B[0m: 'TextBlob' object has no attribute 'detect_language'"
     ]
    }
   ],
   "source": [
    "lang = TextBlob(reports['preprocessed_report'][0])\n",
    "language = lang.detect_language()"
   ],
   "metadata": {
    "collapsed": false,
    "ExecuteTime": {
     "end_time": "2024-02-28T15:18:02.381730700Z",
     "start_time": "2024-02-28T15:18:01.858301200Z"
    }
   },
   "id": "3846c097bf4564c8",
   "execution_count": 3
  },
  {
   "cell_type": "markdown",
   "source": [],
   "metadata": {
    "collapsed": false
   },
   "id": "6a8ca76d1e648b4b"
  },
  {
   "cell_type": "markdown",
   "source": [
    "## langdetect"
   ],
   "metadata": {
    "collapsed": false
   },
   "id": "1edd6c5ecc3db92"
  },
  {
   "cell_type": "code",
   "outputs": [],
   "source": [
    "from langdetect import detect\n",
    "from langdetect.lang_detect_exception import LangDetectException\n",
    "\n",
    "def detect_language_langdetect(text):\n",
    "    try:\n",
    "        return detect(text)\n",
    "    except LangDetectException:\n",
    "        return \"unknown\""
   ],
   "metadata": {
    "collapsed": false,
    "ExecuteTime": {
     "end_time": "2024-02-29T06:33:38.199926500Z",
     "start_time": "2024-02-29T06:33:38.140897900Z"
    }
   },
   "id": "c085545a8ef35eee",
   "execution_count": 6
  },
  {
   "cell_type": "code",
   "outputs": [],
   "source": [
    "reports['langdetect'] = reports['preprocessed_report'].apply(detect_language_langdetect)"
   ],
   "metadata": {
    "collapsed": false,
    "ExecuteTime": {
     "end_time": "2024-02-29T06:34:15.286969600Z",
     "start_time": "2024-02-29T06:33:38.199926500Z"
    }
   },
   "id": "14904762bc58ceb3",
   "execution_count": 7
  },
  {
   "cell_type": "code",
   "outputs": [
    {
     "data": {
      "text/plain": "langdetect\nen    11691\ncy      931\nes      212\nro       51\nsv       41\nca       28\nda       24\nnl       18\nno       17\nfr       17\nit       16\nfi       15\nde       15\net        6\nlt        5\nsq        3\ncs        2\npt        1\nsl        1\nid        1\nName: count, dtype: int64"
     },
     "execution_count": 8,
     "metadata": {},
     "output_type": "execute_result"
    }
   ],
   "source": [
    "reports['langdetect'].value_counts()"
   ],
   "metadata": {
    "collapsed": false,
    "ExecuteTime": {
     "end_time": "2024-02-29T06:34:15.301919800Z",
     "start_time": "2024-02-29T06:34:15.286969600Z"
    }
   },
   "id": "2e59ff87f609cf75",
   "execution_count": 8
  },
  {
   "cell_type": "markdown",
   "source": [
    "## langid"
   ],
   "metadata": {
    "collapsed": false
   },
   "id": "cc045fd4b4e80588"
  },
  {
   "cell_type": "code",
   "outputs": [],
   "source": [
    "import langid\n",
    "\n",
    "def detect_language_langid(text):\n",
    "    try:\n",
    "        language, _ = langid.classify(text)\n",
    "        return language\n",
    "    except LangDetectException:\n",
    "        return \"unknown\""
   ],
   "metadata": {
    "collapsed": false,
    "ExecuteTime": {
     "end_time": "2024-02-29T06:33:14.156029400Z",
     "start_time": "2024-02-29T06:33:14.130920100Z"
    }
   },
   "id": "1ca88851afd94650",
   "execution_count": 4
  },
  {
   "cell_type": "code",
   "outputs": [],
   "source": [
    "reports['langid'] = reports['preprocessed_report'].apply(detect_language_langid)"
   ],
   "metadata": {
    "collapsed": false,
    "ExecuteTime": {
     "end_time": "2024-02-29T06:33:38.138903800Z",
     "start_time": "2024-02-29T06:33:14.601509500Z"
    }
   },
   "id": "7758ce91412b5fda",
   "execution_count": 5
  },
  {
   "cell_type": "code",
   "outputs": [
    {
     "data": {
      "text/plain": "langid\nen    10337\nlt     1581\nfr      515\nda      158\nno       94\nes       64\net       42\nde       37\nit       34\nsl       28\nla       22\ncy       22\nnl       21\noc       19\nca       18\nro       17\nsv       13\neo       12\nbr       12\nsk       11\nid        9\naf        5\nse        5\nlb        4\nqu        3\npl        2\nwa        2\nnb        2\nnn        2\nfi        1\ntl        1\nht        1\ncs        1\nName: count, dtype: int64"
     },
     "execution_count": 9,
     "metadata": {},
     "output_type": "execute_result"
    }
   ],
   "source": [
    "reports['langid'].value_counts()"
   ],
   "metadata": {
    "collapsed": false,
    "ExecuteTime": {
     "end_time": "2024-02-29T07:08:08.266049Z",
     "start_time": "2024-02-29T07:08:08.247111600Z"
    }
   },
   "id": "5aa15ad011abdccd",
   "execution_count": 9
  },
  {
   "cell_type": "code",
   "outputs": [],
   "source": [
    "reports[['ecg_id', 'report']].to_csv('ptb-xl_report.csv', index=False)"
   ],
   "metadata": {
    "collapsed": false,
    "ExecuteTime": {
     "end_time": "2024-02-29T07:09:19.763941800Z",
     "start_time": "2024-02-29T07:09:19.709125700Z"
    }
   },
   "id": "e05998c3fbe834a3",
   "execution_count": 13
  },
  {
   "cell_type": "code",
   "outputs": [],
   "source": [],
   "metadata": {
    "collapsed": false
   },
   "id": "206f299ebf9e6d29"
  },
  {
   "cell_type": "code",
   "outputs": [],
   "source": [],
   "metadata": {
    "collapsed": false
   },
   "id": "fae4e60a309db451"
  },
  {
   "cell_type": "markdown",
   "source": [
    "todo:\n",
    "https://aws.amazon.com/blogs/industries/how-to-process-medical-text-in-multiple-languages-using-amazon-translate-and-amazon-comprehend-medical/\n",
    "https://arxiv.org/pdf/2311.16588.pdf"
   ],
   "metadata": {
    "collapsed": false
   },
   "id": "6a6427cda8c8d2ba"
  },
  {
   "cell_type": "code",
   "outputs": [],
   "source": [],
   "metadata": {
    "collapsed": false
   },
   "id": "8c310b2114df5631"
  }
 ],
 "metadata": {
  "kernelspec": {
   "display_name": "Python 3",
   "language": "python",
   "name": "python3"
  },
  "language_info": {
   "codemirror_mode": {
    "name": "ipython",
    "version": 2
   },
   "file_extension": ".py",
   "mimetype": "text/x-python",
   "name": "python",
   "nbconvert_exporter": "python",
   "pygments_lexer": "ipython2",
   "version": "2.7.6"
  }
 },
 "nbformat": 4,
 "nbformat_minor": 5
}
