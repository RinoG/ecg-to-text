{
 "cells": [
  {
   "cell_type": "code",
   "execution_count": 12,
   "id": "initial_id",
   "metadata": {
    "collapsed": true,
    "ExecuteTime": {
     "end_time": "2024-02-29T15:31:40.163425300Z",
     "start_time": "2024-02-29T15:31:31.937489900Z"
    }
   },
   "outputs": [],
   "source": [
    "import pandas as pd\n",
    "from textblob import TextBlob"
   ]
  },
  {
   "cell_type": "markdown",
   "source": [
    "# Language Detection"
   ],
   "metadata": {
    "collapsed": false
   },
   "id": "a0608b5b60d191e9"
  },
  {
   "cell_type": "code",
   "outputs": [],
   "source": [
    "# !pip install langdetect\n",
    "# !pip install langid"
   ],
   "metadata": {
    "collapsed": false,
    "ExecuteTime": {
     "end_time": "2024-02-29T15:31:40.179366800Z",
     "start_time": "2024-02-29T15:31:40.165412300Z"
    }
   },
   "id": "881f1fdd14f3888f",
   "execution_count": 13
  },
  {
   "cell_type": "code",
   "outputs": [],
   "source": [
    "ptbxl_103 = pd.read_csv('../data_ptb-xl/train.csv')\n",
    "ptbxl_101 = pd.read_csv('../data_ptb-xl_1.0.1/en_df_round4.csv')"
   ],
   "metadata": {
    "collapsed": false,
    "ExecuteTime": {
     "end_time": "2024-02-29T15:53:34.086908700Z",
     "start_time": "2024-02-29T15:53:34.002195800Z"
    }
   },
   "id": "2c069a8e3b0b1695",
   "execution_count": 25
  },
  {
   "cell_type": "code",
   "outputs": [
    {
     "data": {
      "text/plain": "(13095, 16272)"
     },
     "execution_count": 26,
     "metadata": {},
     "output_type": "execute_result"
    }
   ],
   "source": [
    "len(ptbxl_103) , len(ptbxl_101)"
   ],
   "metadata": {
    "collapsed": false,
    "ExecuteTime": {
     "end_time": "2024-02-29T15:53:50.760256400Z",
     "start_time": "2024-02-29T15:53:50.727363200Z"
    }
   },
   "id": "1cdb45ee6752507e",
   "execution_count": 26
  },
  {
   "cell_type": "code",
   "outputs": [
    {
     "data": {
      "text/plain": "   ecg_id                                  report\n0       1      sinusrhythm peripheral low voltage\n1       2  sinus bradycardia otherwise normal ekg\n2       3                 sinus rhythm normal ekg\n3       4                 sinus rhythm normal ekg\n4       5                 sinus rhythm normal ekg",
      "text/html": "<div>\n<style scoped>\n    .dataframe tbody tr th:only-of-type {\n        vertical-align: middle;\n    }\n\n    .dataframe tbody tr th {\n        vertical-align: top;\n    }\n\n    .dataframe thead th {\n        text-align: right;\n    }\n</style>\n<table border=\"1\" class=\"dataframe\">\n  <thead>\n    <tr style=\"text-align: right;\">\n      <th></th>\n      <th>ecg_id</th>\n      <th>report</th>\n    </tr>\n  </thead>\n  <tbody>\n    <tr>\n      <th>0</th>\n      <td>1</td>\n      <td>sinusrhythm peripheral low voltage</td>\n    </tr>\n    <tr>\n      <th>1</th>\n      <td>2</td>\n      <td>sinus bradycardia otherwise normal ekg</td>\n    </tr>\n    <tr>\n      <th>2</th>\n      <td>3</td>\n      <td>sinus rhythm normal ekg</td>\n    </tr>\n    <tr>\n      <th>3</th>\n      <td>4</td>\n      <td>sinus rhythm normal ekg</td>\n    </tr>\n    <tr>\n      <th>4</th>\n      <td>5</td>\n      <td>sinus rhythm normal ekg</td>\n    </tr>\n  </tbody>\n</table>\n</div>"
     },
     "execution_count": 29,
     "metadata": {},
     "output_type": "execute_result"
    }
   ],
   "source": [
    "ptbxl_101.head()"
   ],
   "metadata": {
    "collapsed": false,
    "ExecuteTime": {
     "end_time": "2024-02-29T15:56:41.009044300Z",
     "start_time": "2024-02-29T15:56:40.986121500Z"
    }
   },
   "id": "c58189fafd5d01b3",
   "execution_count": 29
  },
  {
   "cell_type": "markdown",
   "source": [
    "## TextBlob\n",
    "https://towardsdatascience.com/4-python-libraries-to-detect-english-and-non-english-language-c82ad3efd430"
   ],
   "metadata": {
    "collapsed": false
   },
   "id": "85008c3f7ee02737"
  },
  {
   "cell_type": "code",
   "outputs": [
    {
     "ename": "AttributeError",
     "evalue": "'TextBlob' object has no attribute 'detect_language'",
     "output_type": "error",
     "traceback": [
      "\u001B[1;31m---------------------------------------------------------------------------\u001B[0m",
      "\u001B[1;31mAttributeError\u001B[0m                            Traceback (most recent call last)",
      "Cell \u001B[1;32mIn[15], line 2\u001B[0m\n\u001B[0;32m      1\u001B[0m lang \u001B[38;5;241m=\u001B[39m TextBlob(reports[\u001B[38;5;124m'\u001B[39m\u001B[38;5;124mpreprocessed_report\u001B[39m\u001B[38;5;124m'\u001B[39m][\u001B[38;5;241m0\u001B[39m])\n\u001B[1;32m----> 2\u001B[0m language \u001B[38;5;241m=\u001B[39m \u001B[43mlang\u001B[49m\u001B[38;5;241;43m.\u001B[39;49m\u001B[43mdetect_language\u001B[49m()\n",
      "\u001B[1;31mAttributeError\u001B[0m: 'TextBlob' object has no attribute 'detect_language'"
     ]
    }
   ],
   "source": [
    "lang = TextBlob(ptbxl_103['preprocessed_report'][0])\n",
    "language = lang.detect_language()"
   ],
   "metadata": {
    "collapsed": false,
    "ExecuteTime": {
     "end_time": "2024-02-29T15:31:41.236925100Z",
     "start_time": "2024-02-29T15:31:40.987755100Z"
    }
   },
   "id": "3846c097bf4564c8",
   "execution_count": 15
  },
  {
   "cell_type": "markdown",
   "source": [],
   "metadata": {
    "collapsed": false
   },
   "id": "6a8ca76d1e648b4b"
  },
  {
   "cell_type": "markdown",
   "source": [
    "## langdetect"
   ],
   "metadata": {
    "collapsed": false
   },
   "id": "1edd6c5ecc3db92"
  },
  {
   "cell_type": "code",
   "outputs": [],
   "source": [
    "from langdetect import detect\n",
    "from langdetect.lang_detect_exception import LangDetectException\n",
    "\n",
    "def detect_language_langdetect(text):\n",
    "    try:\n",
    "        return detect(text)\n",
    "    except LangDetectException:\n",
    "        return \"unknown\""
   ],
   "metadata": {
    "collapsed": false,
    "ExecuteTime": {
     "end_time": "2024-03-01T07:45:30.838585Z",
     "start_time": "2024-03-01T07:45:30.815727900Z"
    }
   },
   "id": "c085545a8ef35eee",
   "execution_count": 38
  },
  {
   "cell_type": "code",
   "outputs": [],
   "source": [
    "ptbxl_103['langdetect'] = ptbxl_103['preprocessed_report'].apply(detect_language_langdetect)\n",
    "ptbxl_101['langdetect'] = ptbxl_101['report'].astype(str).apply(detect_language_langdetect)"
   ],
   "metadata": {
    "collapsed": false,
    "ExecuteTime": {
     "end_time": "2024-03-01T07:45:02.531228300Z",
     "start_time": "2024-03-01T07:44:17.265745900Z"
    }
   },
   "id": "14904762bc58ceb3",
   "execution_count": 35
  },
  {
   "cell_type": "code",
   "outputs": [
    {
     "name": "stdout",
     "output_type": "stream",
     "text": [
      "   langdetect  ptbxl_101_count  ptbxl_103_count\n",
      "0          en            14004            11665\n",
      "1          cy             1415              970\n",
      "2          et              188                7\n",
      "3          sq              155                2\n",
      "4          no              146               18\n",
      "5          sv               87               33\n",
      "6          de               85               15\n",
      "7          da               77               19\n",
      "8          ro               34               55\n",
      "9          ca               23               20\n",
      "10         lt               18                4\n",
      "11         fi               10               15\n",
      "12         it               10               23\n",
      "13         af                9                0\n",
      "14         fr                6               17\n",
      "15         tl                2                0\n",
      "16         hr                2                0\n",
      "17         nl                1               18\n",
      "18         es                0              209\n",
      "19         cs                0                2\n",
      "20         id                0                1\n",
      "21         sk                0                1\n",
      "22         sl                0                1\n"
     ]
    }
   ],
   "source": [
    "ptbxl_101_counts = ptbxl_101['langdetect'].value_counts().reset_index()\n",
    "ptbxl_103_counts = ptbxl_103['langdetect'].value_counts().reset_index()\n",
    "\n",
    "ptbxl_101_counts.columns = ['langdetect', 'ptbxl_101_count']\n",
    "ptbxl_103_counts.columns = ['langdetect', 'ptbxl_103_count']\n",
    "\n",
    "merged_counts = pd.merge(ptbxl_101_counts, ptbxl_103_counts, on='langdetect', how='outer')\n",
    "\n",
    "merged_counts.fillna(0, inplace=True)\n",
    "\n",
    "merged_counts['ptbxl_101_count'] = merged_counts['ptbxl_101_count'].astype(int)\n",
    "merged_counts['ptbxl_103_count'] = merged_counts['ptbxl_103_count'].astype(int)\n",
    "\n",
    "print(merged_counts)"
   ],
   "metadata": {
    "collapsed": false,
    "ExecuteTime": {
     "end_time": "2024-03-01T07:45:36.972378200Z",
     "start_time": "2024-03-01T07:45:36.942477100Z"
    }
   },
   "id": "2e59ff87f609cf75",
   "execution_count": 39
  },
  {
   "cell_type": "markdown",
   "source": [
    "## langid"
   ],
   "metadata": {
    "collapsed": false
   },
   "id": "cc045fd4b4e80588"
  },
  {
   "cell_type": "code",
   "outputs": [],
   "source": [
    "import langid\n",
    "\n",
    "def detect_language_langid(text):\n",
    "    try:\n",
    "        language, _ = langid.classify(text)\n",
    "        return language\n",
    "    except LangDetectException:\n",
    "        return \"unknown\""
   ],
   "metadata": {
    "collapsed": false,
    "ExecuteTime": {
     "end_time": "2024-03-01T07:47:19.608409600Z",
     "start_time": "2024-03-01T07:47:19.592456300Z"
    }
   },
   "id": "1ca88851afd94650",
   "execution_count": 42
  },
  {
   "cell_type": "code",
   "outputs": [],
   "source": [
    "ptbxl_103['langid'] = ptbxl_103['preprocessed_report'].apply(detect_language_langid)\n",
    "ptbxl_101['langid'] = ptbxl_101['report'].astype(str).apply(detect_language_langid)"
   ],
   "metadata": {
    "collapsed": false,
    "ExecuteTime": {
     "end_time": "2024-03-01T07:48:00.528528300Z",
     "start_time": "2024-03-01T07:47:19.915029400Z"
    }
   },
   "id": "7758ce91412b5fda",
   "execution_count": 43
  },
  {
   "cell_type": "code",
   "outputs": [
    {
     "name": "stdout",
     "output_type": "stream",
     "text": [
      "   langid  ptbxl_101_count  ptbxl_103_count\n",
      "0      en            12381            10337\n",
      "1      lt             2670             1581\n",
      "2      es              342               64\n",
      "3      de              280               37\n",
      "4      fr              235              515\n",
      "5      sv               76               13\n",
      "6      it               62               34\n",
      "7      ca               51               18\n",
      "8      no               44               94\n",
      "9      cy               35               22\n",
      "10     pt               14                0\n",
      "11     sk               11               11\n",
      "12     af               10                5\n",
      "13     nn               10                2\n",
      "14     da                9              158\n",
      "15     la                8               22\n",
      "16     et                7               42\n",
      "17     sl                7               28\n",
      "18     hr                4                0\n",
      "19     nl                2               21\n",
      "20     oc                2               19\n",
      "21     mt                2                0\n",
      "22     id                1                9\n",
      "23     fo                1                0\n",
      "24     cs                1                1\n",
      "25     an                1                0\n",
      "26     lb                1                4\n",
      "27     sq                1                0\n",
      "28     tl                1                1\n",
      "29     wa                1                2\n",
      "30     ht                1                1\n",
      "31     nb                1                2\n",
      "32     ro                0               17\n",
      "33     eo                0               12\n",
      "34     br                0               12\n",
      "35     se                0                5\n",
      "36     qu                0                3\n",
      "37     pl                0                2\n",
      "38     fi                0                1\n"
     ]
    }
   ],
   "source": [
    "ptbxl_101_counts = ptbxl_101['langid'].value_counts().reset_index()\n",
    "ptbxl_103_counts = ptbxl_103['langid'].value_counts().reset_index()\n",
    "\n",
    "ptbxl_101_counts.columns = ['langid', 'ptbxl_101_count']\n",
    "ptbxl_103_counts.columns = ['langid', 'ptbxl_103_count']\n",
    "\n",
    "merged_counts = pd.merge(ptbxl_101_counts, ptbxl_103_counts, on='langid', how='outer')\n",
    "\n",
    "merged_counts.fillna(0, inplace=True)\n",
    "\n",
    "merged_counts['ptbxl_101_count'] = merged_counts['ptbxl_101_count'].astype(int)\n",
    "merged_counts['ptbxl_103_count'] = merged_counts['ptbxl_103_count'].astype(int)\n",
    "\n",
    "print(merged_counts)"
   ],
   "metadata": {
    "collapsed": false,
    "ExecuteTime": {
     "end_time": "2024-03-01T07:48:26.639936800Z",
     "start_time": "2024-03-01T07:48:26.603059900Z"
    }
   },
   "id": "5aa15ad011abdccd",
   "execution_count": 45
  },
  {
   "cell_type": "markdown",
   "source": [
    "## Compare Language Detection"
   ],
   "metadata": {
    "collapsed": false
   },
   "id": "3fa0da5d189a8e84"
  },
  {
   "cell_type": "code",
   "outputs": [
    {
     "data": {
      "text/plain": "comparison\nsame     10081\nlt-cy      909\nlt-en      671\nfr-en      431\nen-es      209\n         ...  \noc-ro        1\nro-it        1\nfr-sk        1\nes-it        1\nla-sv        1\nName: count, Length: 107, dtype: int64"
     },
     "execution_count": 46,
     "metadata": {},
     "output_type": "execute_result"
    }
   ],
   "source": [
    "ptbxl_103['comparison'] = ptbxl_103.apply(lambda row: 'same' if row['langid'] == row['langdetect'] else f\"{row['langid']}-{row['langdetect']}\", axis=1)\n",
    "ptbxl_103['comparison'].value_counts()"
   ],
   "metadata": {
    "collapsed": false,
    "ExecuteTime": {
     "end_time": "2024-03-01T07:49:01.593566300Z",
     "start_time": "2024-03-01T07:49:01.507853400Z"
    }
   },
   "id": "94cd544f1b82d0de",
   "execution_count": 46
  },
  {
   "cell_type": "code",
   "outputs": [
    {
     "data": {
      "text/plain": "comparison\nsame     12277\nlt-cy     1274\nlt-en     1084\nes-en      236\nfr-en      208\n         ...  \nde-fi        1\nes-fr        1\nhr-et        1\nfo-sv        1\ncy-fi        1\nName: count, Length: 95, dtype: int64"
     },
     "execution_count": 47,
     "metadata": {},
     "output_type": "execute_result"
    }
   ],
   "source": [
    "ptbxl_101['comparison'] = ptbxl_101.apply(lambda row: 'same' if row['langid'] == row['langdetect'] else f\"{row['langid']}-{row['langdetect']}\", axis=1)\n",
    "ptbxl_101['comparison'].value_counts()"
   ],
   "metadata": {
    "collapsed": false,
    "ExecuteTime": {
     "end_time": "2024-03-01T07:49:03.130144800Z",
     "start_time": "2024-03-01T07:49:03.038451Z"
    }
   },
   "id": "adf4d1bb5f086a6c",
   "execution_count": 47
  },
  {
   "cell_type": "code",
   "outputs": [],
   "source": [],
   "metadata": {
    "collapsed": false
   },
   "id": "fae4e60a309db451"
  },
  {
   "cell_type": "code",
   "outputs": [],
   "source": [],
   "metadata": {
    "collapsed": false
   },
   "id": "8a0b87a790b6bd20"
  },
  {
   "cell_type": "code",
   "outputs": [],
   "source": [],
   "metadata": {
    "collapsed": false
   },
   "id": "1b9e3d3d3bab1308"
  },
  {
   "cell_type": "code",
   "outputs": [],
   "source": [],
   "metadata": {
    "collapsed": false
   },
   "id": "fac36765b47b1634"
  },
  {
   "cell_type": "code",
   "outputs": [],
   "source": [],
   "metadata": {
    "collapsed": false
   },
   "id": "9cef79166b14026b"
  },
  {
   "cell_type": "code",
   "outputs": [],
   "source": [],
   "metadata": {
    "collapsed": false
   },
   "id": "a247246c3c66829a"
  },
  {
   "cell_type": "code",
   "outputs": [],
   "source": [],
   "metadata": {
    "collapsed": false
   },
   "id": "6672cda3e6edb9dc"
  },
  {
   "cell_type": "code",
   "outputs": [],
   "source": [],
   "metadata": {
    "collapsed": false
   },
   "id": "4e5f32dbac262071"
  },
  {
   "cell_type": "code",
   "outputs": [],
   "source": [],
   "metadata": {
    "collapsed": false
   },
   "id": "d211547240cd74a3"
  },
  {
   "cell_type": "code",
   "outputs": [],
   "source": [],
   "metadata": {
    "collapsed": false
   },
   "id": "5b07723b24f0c5a"
  },
  {
   "cell_type": "code",
   "outputs": [],
   "source": [],
   "metadata": {
    "collapsed": false
   },
   "id": "3a1512dbadd37512"
  },
  {
   "cell_type": "markdown",
   "source": [
    "todo:\n",
    "https://aws.amazon.com/blogs/industries/how-to-process-medical-text-in-multiple-languages-using-amazon-translate-and-amazon-comprehend-medical/\n",
    "https://arxiv.org/pdf/2311.16588.pdf"
   ],
   "metadata": {
    "collapsed": false
   },
   "id": "6a6427cda8c8d2ba"
  },
  {
   "cell_type": "code",
   "outputs": [],
   "source": [],
   "metadata": {
    "collapsed": false
   },
   "id": "8c310b2114df5631"
  }
 ],
 "metadata": {
  "kernelspec": {
   "display_name": "Python 3",
   "language": "python",
   "name": "python3"
  },
  "language_info": {
   "codemirror_mode": {
    "name": "ipython",
    "version": 2
   },
   "file_extension": ".py",
   "mimetype": "text/x-python",
   "name": "python",
   "nbconvert_exporter": "python",
   "pygments_lexer": "ipython2",
   "version": "2.7.6"
  }
 },
 "nbformat": 4,
 "nbformat_minor": 5
}
